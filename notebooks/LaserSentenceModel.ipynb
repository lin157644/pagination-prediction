{
 "cells": [
  {
   "cell_type": "code",
   "execution_count": 47,
   "metadata": {},
   "outputs": [],
   "source": [
    "from laserembeddings import Laser\n",
    "\n",
    "class LaserSentenceModel:\n",
    "    def __init__(self, lang = 'en'):\n",
    "        try:\n",
    "            self.laser = Laser()\n",
    "            self.lang = lang\n",
    "        except Exception as e:\n",
    "            raise Exception(f\"{e}\")\n",
    "    \n",
    "    def getModel(self):\n",
    "        return self.laser\n",
    "    \n",
    "    def getSentenceVector(self, sents):\n",
    "        if type(sents) == type([]):\n",
    "            return self.laser.embed_sentences(sents, lang=self.lang)\n",
    "        else:\n",
    "            return self.laser.embed_sentences(sents, lang=self.lang)[0]"
   ]
  },
  {
   "cell_type": "code",
   "execution_count": 48,
   "metadata": {},
   "outputs": [
    {
     "name": "stdout",
     "output_type": "stream",
     "text": [
      "[NbConvertApp] Converting notebook LaserSentenceModel.ipynb to script\n",
      "[NbConvertApp] Writing 702 bytes to LaserSentenceModel.py\n"
     ]
    }
   ],
   "source": [
    "if __name__ == '__main__':\n",
    "    !jupyter nbconvert --to script LaserSentenceModel.ipynb"
   ]
  }
 ],
 "metadata": {
  "kernelspec": {
   "display_name": "Python 3",
   "language": "python",
   "name": "python3"
  },
  "language_info": {
   "codemirror_mode": {
    "name": "ipython",
    "version": 3
   },
   "file_extension": ".py",
   "mimetype": "text/x-python",
   "name": "python",
   "nbconvert_exporter": "python",
   "pygments_lexer": "ipython3",
   "version": "3.6.9"
  }
 },
 "nbformat": 4,
 "nbformat_minor": 4
}
