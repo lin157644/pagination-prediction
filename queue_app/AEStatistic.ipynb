{
 "cells": [
  {
   "cell_type": "code",
   "execution_count": 38,
   "metadata": {},
   "outputs": [],
   "source": [
    "import pprint\n",
    "from pymongo import MongoClient\n",
    "from bson.objectid import ObjectId"
   ]
  },
  {
   "cell_type": "code",
   "execution_count": 39,
   "metadata": {},
   "outputs": [],
   "source": [
    "import numpy as np"
   ]
  },
  {
   "cell_type": "code",
   "execution_count": 40,
   "metadata": {},
   "outputs": [],
   "source": [
    "from datetime import timedelta"
   ]
  },
  {
   "cell_type": "code",
   "execution_count": 41,
   "metadata": {},
   "outputs": [],
   "source": [
    "import matplotlib.pyplot as plt"
   ]
  },
  {
   "cell_type": "code",
   "execution_count": 42,
   "metadata": {},
   "outputs": [],
   "source": [
    "import pandas as pd"
   ]
  },
  {
   "cell_type": "code",
   "execution_count": 147,
   "metadata": {},
   "outputs": [],
   "source": [
    "event_df = pd.read_csv('event_test.csv')"
   ]
  },
  {
   "cell_type": "code",
   "execution_count": 150,
   "metadata": {},
   "outputs": [],
   "source": [
    "ans_list = event_df['pageType'].values"
   ]
  },
  {
   "cell_type": "code",
   "execution_count": 22,
   "metadata": {},
   "outputs": [
    {
     "data": {
      "text/plain": [
       "'2021-07-09T14:24:21.318568+00:00'"
      ]
     },
     "execution_count": 22,
     "metadata": {},
     "output_type": "execute_result"
    }
   ],
   "source": [
    "from datetime import datetime, tzinfo, timedelta\n",
    "class simple_utc(tzinfo):\n",
    "    def tzname(self,**kwargs):\n",
    "        return \"UTC\"\n",
    "    def utcoffset(self, dt):\n",
    "        return timedelta(0)\n",
    "datetime.utcnow().replace(tzinfo=simple_utc()).isoformat()"
   ]
  },
  {
   "cell_type": "code",
   "execution_count": 43,
   "metadata": {},
   "outputs": [],
   "source": [
    "MONGO_USER = 'admin'\n",
    "MONGO_PASSWORD = 'widmwidm9527'\n",
    "MONGO_PORT = '27000'\n",
    "HOST = 'localhost'\n",
    "DATABASE = 'pageDB'\n",
    "COLLECTION = 'queueResult'\n",
    "# print(f\"Loading settings, user:{MONGO_USER}, passwd:{MONGO_PASSWORD}\")\n",
    "\n",
    "MONGO_DETAILS = f\"mongodb://{MONGO_USER}:{MONGO_PASSWORD}@{HOST}:{MONGO_PORT}\"\n",
    "\n",
    "client = MongoClient(MONGO_DETAILS)\n",
    "\n",
    "database = client[DATABASE]\n",
    "\n",
    "queue_collection = database.get_collection(COLLECTION)"
   ]
  },
  {
   "cell_type": "code",
   "execution_count": 24,
   "metadata": {},
   "outputs": [
    {
     "data": {
      "text/plain": [
       "{'_id': ObjectId('605969092f4eb5c53cefc879'),\n",
       " 'tid': ObjectId('605969012f4eb5c53cefc878'),\n",
       " 'url': 'http://www.tcsac.gov.tw/Activity/',\n",
       " 'urls': [],\n",
       " 'created_time': datetime.datetime(2021, 3, 23, 12, 5, 29, 603000)}"
      ]
     },
     "execution_count": 24,
     "metadata": {},
     "output_type": "execute_result"
    }
   ],
   "source": [
    "queue_collection.find_one({})"
   ]
  },
  {
   "cell_type": "code",
   "execution_count": 44,
   "metadata": {},
   "outputs": [],
   "source": [
    "MONGO_USER = 'admin'\n",
    "MONGO_PASSWORD = 'widmwidm9527'\n",
    "MONGO_PORT = '27000'\n",
    "HOST = 'localhost'\n",
    "DATABASE = 'pageDB'\n",
    "COLLECTION = 'autoExtractionResult'\n",
    "# print(f\"Loading settings, user:{MONGO_USER}, passwd:{MONGO_PASSWORD}\")\n",
    "\n",
    "MONGO_DETAILS = f\"mongodb://{MONGO_USER}:{MONGO_PASSWORD}@{HOST}:{MONGO_PORT}\"\n",
    "\n",
    "client = MongoClient(MONGO_DETAILS)\n",
    "\n",
    "database = client[DATABASE]\n",
    "\n",
    "page_collection = database.get_collection(COLLECTION)"
   ]
  },
  {
   "cell_type": "code",
   "execution_count": 45,
   "metadata": {},
   "outputs": [],
   "source": [
    "MONGO_USER = 'admin'\n",
    "MONGO_PASSWORD = 'widmwidm9527'\n",
    "MONGO_PORT = '27017'\n",
    "HOST = '140.115.54.44'\n",
    "DATABASE = 'ETL-api-creator'\n",
    "COLLECTION_urls = 'autoExtractionUrls'\n",
    "COLLECTION_extractors = 'extractors'\n",
    "\n",
    "MONGO_DETAILS_ETL = f\"mongodb://{MONGO_USER}:{MONGO_PASSWORD}@{HOST}:{MONGO_PORT}\"\n",
    "\n",
    "client_ETL = MongoClient(MONGO_DETAILS_ETL)\n",
    "\n",
    "database_ETL = client_ETL[DATABASE]\n",
    "\n",
    "etl_extractors_collection = database_ETL.get_collection(COLLECTION_extractors)\n",
    "etl_aeUrls_collection = database_ETL.get_collection(COLLECTION_urls)"
   ]
  },
  {
   "cell_type": "raw",
   "metadata": {},
   "source": [
    "for post in etl_extractors_collection.find({ \"$and\": [{\"createdBy\": \"etl_auto_extraction_service@gmail.com\"},{\"$where\": \"this.setsColumns.length > 1\"}] }):\n",
    "    pprint.pprint(post)\n",
    "    print(len(post['setsColumns']))\n",
    "    break"
   ]
  },
  {
   "cell_type": "raw",
   "metadata": {},
   "source": [
    "Most Recently Start Time\n",
    "datetime.datetime(2021, 4, 20, 17, 40, 41, 130132)"
   ]
  },
  {
   "cell_type": "raw",
   "metadata": {},
   "source": [
    "'2021-06-24T06:17:13.933020+00:00'"
   ]
  },
  {
   "cell_type": "code",
   "execution_count": 51,
   "metadata": {},
   "outputs": [],
   "source": [
    "#large scale\n",
    "start_day = datetime.strptime('2021-06-24 06:17','%Y-%m-%d %H:%M')\n",
    "end_day = datetime.strptime('2021-06-24 23:11','%Y-%m-%d %H:%M')"
   ]
  },
  {
   "cell_type": "code",
   "execution_count": 47,
   "metadata": {},
   "outputs": [],
   "source": [
    "#labeled data\n",
    "'datetime.datetime(2021, 6, 16, 1, 53, 57, 950000)'\n",
    "'datetime.datetime(2021, 6, 16, 2, 11, 00, 907000)'\n",
    "start_day = datetime.strptime('2021-06-15 17:53:57','%Y-%m-%d %H:%M:%S')\n",
    "end_day = datetime.strptime('2021-06-15 18:11:00','%Y-%m-%d %H:%M:%S')"
   ]
  },
  {
   "cell_type": "code",
   "execution_count": 48,
   "metadata": {},
   "outputs": [],
   "source": [
    "#test\n",
    "'2021-07-09T14:29:48.903329+00:00'\n",
    "start_day = datetime.strptime('2021-07-09 14:29:45','%Y-%m-%d %H:%M:%S')\n",
    "end_day = datetime.strptime('2021-07-09 14:35:09','%Y-%m-%d %H:%M:%S')"
   ]
  },
  {
   "cell_type": "code",
   "execution_count": 52,
   "metadata": {},
   "outputs": [
    {
     "name": "stdout",
     "output_type": "stream",
     "text": [
      "{'$gte': datetime.datetime(2021, 6, 24, 6, 17), '$lt': datetime.datetime(2021, 6, 24, 23, 11)}\n"
     ]
    }
   ],
   "source": [
    "day_range = {\n",
    "        \"$gte\": start_day,\n",
    "        \"$lt\": end_day\n",
    "}\n",
    "print(day_range)"
   ]
  },
  {
   "cell_type": "code",
   "execution_count": 58,
   "metadata": {},
   "outputs": [
    {
     "name": "stdout",
     "output_type": "stream",
     "text": [
      "Predicted:  402\n",
      "Success:  136\n",
      "Pass:  216\n",
      "Failed:  50\n",
      "===========================\n",
      "predict multi:  196\n",
      "predict single:  206\n"
     ]
    }
   ],
   "source": [
    "Success_count = 0\n",
    "Pass_count = 0\n",
    "Failed_count = 0\n",
    "created_extractors_sns = []\n",
    "created_time_accm = []\n",
    "predict_record = []\n",
    "build_failed = []\n",
    "predict_single = 0\n",
    "predict_multi = 0\n",
    "first = start_day\n",
    "for post in page_collection.find({\"createdDateTime\": day_range}):\n",
    "    queue_post = queue_collection.find_one({'tid': post['tid']})\n",
    "    pageType = None\n",
    "    if queue_post:\n",
    "#         pprint.pprint(queue_post)\n",
    "        if len(queue_post['urls']) == 0:\n",
    "            predict_single+=1\n",
    "            predict_record.append(1)\n",
    "            pageType = \"singleListPage\"\n",
    "        else:\n",
    "            predict_multi+=1\n",
    "            predict_record.append(0)\n",
    "            pageType = \"detailPage\"\n",
    "    if post['status'] != 'Failed':\n",
    "        if post['status'] == 'Success':\n",
    "            Success_count+=1\n",
    "        else:\n",
    "            Pass_count+=1\n",
    "        etl_post = etl_extractors_collection.find_one({'serialNumber': post['serialNumber']})\n",
    "        if etl_post:\n",
    "            if pageType == 'detailPage' and len(etl_post['setsColumns']) < 2:\n",
    "                build_failed.append(post['serialNumber'])\n",
    "        created_extractors_sns.append(post['serialNumber'])\n",
    "        created_time_accm.append({\"time\": (post['createdDateTime'] - first).total_seconds()/60,\"accm\": Success_count})\n",
    "    else:\n",
    "#         pprint.pprint(post)\n",
    "        Failed_count+=1\n",
    "print(\"Predicted: \", Success_count+Failed_count+Pass_count)\n",
    "print(\"Success: \", Success_count)\n",
    "print(\"Pass: \", Pass_count)\n",
    "print(\"Failed: \", Failed_count)\n",
    "print(\"===========================\")\n",
    "print(\"predict multi: \", predict_multi)\n",
    "print(\"predict single: \", predict_single)"
   ]
  },
  {
   "cell_type": "code",
   "execution_count": 59,
   "metadata": {
    "scrolled": true
   },
   "outputs": [
    {
     "data": {
      "text/plain": [
       "['3cvrjwh3ckqaimhkq',\n",
       " '3cvrjwh22kqaimoiv',\n",
       " '3cvrjwh3jkqain453',\n",
       " '3cvrjwh2hkqainpw2',\n",
       " '3cvrjwh2hkqainier',\n",
       " '3cvrjwh3jkqaio75k',\n",
       " '3cvrjwh22kqainzso',\n",
       " '3cvrjwh2akqaisrl9',\n",
       " '3cvrjwh1wkqaisybk',\n",
       " '3cvrjwh3jkqaiv6ur',\n",
       " '3cvrjwh1wkqaiuzt9',\n",
       " '3cvrjwh22kqaivnj6',\n",
       " '3cvrjwh22kqaivvxc',\n",
       " '3cvrjwh1wkqaixl2k',\n",
       " '3cvrjwh2pkqaiy6ot',\n",
       " '3cvrjwh3ckqaiydce',\n",
       " '3cvrjwh1wkqaiytnw',\n",
       " '3cvrjwh2wkqaj5u6e',\n",
       " '3cvrjwh3ckqaj6117',\n",
       " '3cvrjwh3jkqaj6ujt',\n",
       " '3cvrjwh2hkqaj7rt1',\n",
       " '3cvrjwh3ckqaj80m3',\n",
       " '3cvrjwh2hkqaj89zr',\n",
       " '3cvrjwh3jkqaj96rr',\n",
       " '3cvrjwh1wkqaj9fpi',\n",
       " '3cvrjwh22kqajat2p',\n",
       " '3cvrjwh1wkqajazlc',\n",
       " '3cvrjwh2pkqajb6ex',\n",
       " '3cvrjwh2wkqajbob0',\n",
       " '3cvrjwh22kqajbvhe',\n",
       " '3cvrjwh1wkqajcjv6',\n",
       " '3cvrjwh22kqajcwp5',\n",
       " '3cvrjwh2akqajd39l',\n",
       " '3cvrjwh2hkqaje4ml',\n",
       " '3cvrjwh22kqajfpz4',\n",
       " '3cvrjwh3jkqajguy2',\n",
       " '3cvrjwh2hkqajh3u2',\n",
       " '3cvrjwh2akqaji5wp',\n",
       " '3cvrjwh1wkqajicnk',\n",
       " '3cvrjwh2pkqajijei',\n",
       " '3cvrjwh3ckqajixd3',\n",
       " '3cvrjwh3ckqajjhvw',\n",
       " '3cvrjwh3ckqajjvdj',\n",
       " '3cvrjwh2pkqajl6ri',\n",
       " '3cvrjwh1wkqajler0',\n",
       " '3cvrjwh3jkqajlmb4',\n",
       " '3cvrjwh3jkqajn3ac',\n",
       " '3cvrjwh1wkqajokz7',\n",
       " '3cvrjwh2wkqajp1y9',\n",
       " '3cvrjwh2hkqajsu5l',\n",
       " '3cvrjwh2wkqajt0vz',\n",
       " '3cvrjwh22kqajt7fk',\n",
       " '3cvrjwh3jkqajte5m',\n",
       " '3cvrjwh22kqajtkpl',\n",
       " '3cvrjwh1wkqajtr7w',\n",
       " '3cvrjwh2wkqaju6ec',\n",
       " '3cvrjwh2akqajudwg',\n",
       " '3cvrjwh3jkqajuljf',\n",
       " '3cvrjwh2wkqajutav',\n",
       " '3cvrjwh2hkqajvmjz',\n",
       " '3cvrjwh3ckqajvwnb',\n",
       " '3cvrjwh3jkqajvdvs',\n",
       " '3cvrjwh2hkqajvva6',\n",
       " '3cvrjwh2wkqajy6xx',\n",
       " '3cvrjwh1wkqajyu4q',\n",
       " '3cvrjwh2hkqajz26k',\n",
       " '3cvrjwh2wkqajz8sm',\n",
       " '3cvrjwh22kqajzfgg',\n",
       " '3cvrjwh3jkqajzmfd',\n",
       " '3cvrjwh1wkqak00qe',\n",
       " '3cvrjwh3ckqak0s02',\n",
       " '3cvrjwh1wkqak1tai',\n",
       " '3cvrjwh3ckqak4hss',\n",
       " '3cvrjwh2wkqak4yqm',\n",
       " '3cvrjwh3ckqak5v5r',\n",
       " '3cvrjwh2hkqak61wf',\n",
       " '3cvrjwh2pkqak7oxw',\n",
       " '3cvrjwh2hkqak83t4',\n",
       " '3cvrjwh2wkqakaamx',\n",
       " '3cvrjwh2akqakbs64',\n",
       " '3cvrjwh1wkqakbyu6',\n",
       " '3cvrjwh3jkqakbkqw',\n",
       " '3cvrjwh2akqakcehr',\n",
       " '3cvrjwh2hkqakcsfd',\n",
       " '3cvrjwh1wkqaker6j',\n",
       " '3cvrjwh3jkqakh8w7',\n",
       " '3cvrjwh1wkqakhoe8',\n",
       " '3cvrjwh1wkqakhvmy',\n",
       " '3cvrjwh3ckqakkaib',\n",
       " '3cvrjwh2akqakkh7q',\n",
       " '3cvrjwh3jkqakls19',\n",
       " '3cvrjwh3jkqakmsxx',\n",
       " '3cvrjwh22kqakpbh2',\n",
       " '3cvrjwh2hkqaks0na',\n",
       " '3cvrjwh2wkqaktirj',\n",
       " '3cvrjwh1wkqaktshb',\n",
       " '3cvrjwh3jkqakubjr',\n",
       " '3cvrjwh22kqakxn3h',\n",
       " '3cvrjwh3ckqakz2x5',\n",
       " '3cvrjwh2hkqakzpc5',\n",
       " '3cvrjwh2pkqakzvs1',\n",
       " '3cvrjwh1wkqal0ifc',\n",
       " '3cvrjwh2pkqal037o',\n",
       " '3cvrjwh2pkqal1sry',\n",
       " '3cvrjwh2akqal4ghs']"
      ]
     },
     "execution_count": 59,
     "metadata": {},
     "output_type": "execute_result"
    }
   ],
   "source": [
    "build_failed"
   ]
  },
  {
   "cell_type": "raw",
   "metadata": {},
   "source": [
    "for sns in created_extractors_sns:\n",
    "    api_origin = 'http://140.115.54.44:8001/extractors'\n",
    "    print(f\"{api_origin}/{sns}\")"
   ]
  },
  {
   "cell_type": "code",
   "execution_count": 60,
   "metadata": {},
   "outputs": [
    {
     "name": "stdout",
     "output_type": "stream",
     "text": [
      "http://140.115.54.44:8001/extractors/3cvrjwh3ckqaimhkq\n",
      "http://140.115.54.44:8001/extractors/3cvrjwh22kqaimoiv\n",
      "http://140.115.54.44:8001/extractors/3cvrjwh3jkqain453\n",
      "http://140.115.54.44:8001/extractors/3cvrjwh2hkqainpw2\n",
      "http://140.115.54.44:8001/extractors/3cvrjwh2hkqainier\n",
      "http://140.115.54.44:8001/extractors/3cvrjwh3jkqaio75k\n",
      "http://140.115.54.44:8001/extractors/3cvrjwh22kqainzso\n",
      "http://140.115.54.44:8001/extractors/3cvrjwh2akqaisrl9\n",
      "http://140.115.54.44:8001/extractors/3cvrjwh1wkqaisybk\n",
      "http://140.115.54.44:8001/extractors/3cvrjwh3jkqaiv6ur\n",
      "http://140.115.54.44:8001/extractors/3cvrjwh1wkqaiuzt9\n",
      "http://140.115.54.44:8001/extractors/3cvrjwh22kqaivnj6\n",
      "http://140.115.54.44:8001/extractors/3cvrjwh22kqaivvxc\n",
      "http://140.115.54.44:8001/extractors/3cvrjwh1wkqaixl2k\n",
      "http://140.115.54.44:8001/extractors/3cvrjwh2pkqaiy6ot\n",
      "http://140.115.54.44:8001/extractors/3cvrjwh3ckqaiydce\n",
      "http://140.115.54.44:8001/extractors/3cvrjwh1wkqaiytnw\n",
      "http://140.115.54.44:8001/extractors/3cvrjwh2wkqaj5u6e\n",
      "http://140.115.54.44:8001/extractors/3cvrjwh3ckqaj6117\n",
      "http://140.115.54.44:8001/extractors/3cvrjwh3jkqaj6ujt\n",
      "http://140.115.54.44:8001/extractors/3cvrjwh2hkqaj7rt1\n",
      "http://140.115.54.44:8001/extractors/3cvrjwh3ckqaj80m3\n",
      "http://140.115.54.44:8001/extractors/3cvrjwh2hkqaj89zr\n",
      "http://140.115.54.44:8001/extractors/3cvrjwh3jkqaj96rr\n",
      "http://140.115.54.44:8001/extractors/3cvrjwh1wkqaj9fpi\n",
      "http://140.115.54.44:8001/extractors/3cvrjwh22kqajat2p\n",
      "http://140.115.54.44:8001/extractors/3cvrjwh1wkqajazlc\n",
      "http://140.115.54.44:8001/extractors/3cvrjwh2pkqajb6ex\n",
      "http://140.115.54.44:8001/extractors/3cvrjwh2wkqajbob0\n",
      "http://140.115.54.44:8001/extractors/3cvrjwh22kqajbvhe\n",
      "http://140.115.54.44:8001/extractors/3cvrjwh1wkqajcjv6\n",
      "http://140.115.54.44:8001/extractors/3cvrjwh22kqajcwp5\n",
      "http://140.115.54.44:8001/extractors/3cvrjwh2akqajd39l\n",
      "http://140.115.54.44:8001/extractors/3cvrjwh2hkqaje4ml\n",
      "http://140.115.54.44:8001/extractors/3cvrjwh22kqajfpz4\n",
      "http://140.115.54.44:8001/extractors/3cvrjwh3jkqajguy2\n",
      "http://140.115.54.44:8001/extractors/3cvrjwh2hkqajh3u2\n",
      "http://140.115.54.44:8001/extractors/3cvrjwh2akqaji5wp\n",
      "http://140.115.54.44:8001/extractors/3cvrjwh1wkqajicnk\n",
      "http://140.115.54.44:8001/extractors/3cvrjwh2pkqajijei\n",
      "http://140.115.54.44:8001/extractors/3cvrjwh3ckqajixd3\n",
      "http://140.115.54.44:8001/extractors/3cvrjwh3ckqajjhvw\n",
      "http://140.115.54.44:8001/extractors/3cvrjwh3ckqajjvdj\n",
      "http://140.115.54.44:8001/extractors/3cvrjwh2pkqajl6ri\n",
      "http://140.115.54.44:8001/extractors/3cvrjwh1wkqajler0\n",
      "http://140.115.54.44:8001/extractors/3cvrjwh3jkqajlmb4\n",
      "http://140.115.54.44:8001/extractors/3cvrjwh3jkqajn3ac\n",
      "http://140.115.54.44:8001/extractors/3cvrjwh1wkqajokz7\n",
      "http://140.115.54.44:8001/extractors/3cvrjwh2wkqajp1y9\n",
      "http://140.115.54.44:8001/extractors/3cvrjwh2hkqajsu5l\n",
      "http://140.115.54.44:8001/extractors/3cvrjwh2wkqajt0vz\n",
      "http://140.115.54.44:8001/extractors/3cvrjwh22kqajt7fk\n",
      "http://140.115.54.44:8001/extractors/3cvrjwh3jkqajte5m\n",
      "http://140.115.54.44:8001/extractors/3cvrjwh22kqajtkpl\n",
      "http://140.115.54.44:8001/extractors/3cvrjwh1wkqajtr7w\n",
      "http://140.115.54.44:8001/extractors/3cvrjwh2wkqaju6ec\n",
      "http://140.115.54.44:8001/extractors/3cvrjwh2akqajudwg\n",
      "http://140.115.54.44:8001/extractors/3cvrjwh3jkqajuljf\n",
      "http://140.115.54.44:8001/extractors/3cvrjwh2wkqajutav\n",
      "http://140.115.54.44:8001/extractors/3cvrjwh2hkqajvmjz\n",
      "http://140.115.54.44:8001/extractors/3cvrjwh3ckqajvwnb\n",
      "http://140.115.54.44:8001/extractors/3cvrjwh3jkqajvdvs\n",
      "http://140.115.54.44:8001/extractors/3cvrjwh2hkqajvva6\n",
      "http://140.115.54.44:8001/extractors/3cvrjwh2wkqajy6xx\n",
      "http://140.115.54.44:8001/extractors/3cvrjwh1wkqajyu4q\n",
      "http://140.115.54.44:8001/extractors/3cvrjwh2hkqajz26k\n",
      "http://140.115.54.44:8001/extractors/3cvrjwh2wkqajz8sm\n",
      "http://140.115.54.44:8001/extractors/3cvrjwh22kqajzfgg\n",
      "http://140.115.54.44:8001/extractors/3cvrjwh3jkqajzmfd\n",
      "http://140.115.54.44:8001/extractors/3cvrjwh1wkqak00qe\n",
      "http://140.115.54.44:8001/extractors/3cvrjwh3ckqak0s02\n",
      "http://140.115.54.44:8001/extractors/3cvrjwh1wkqak1tai\n",
      "http://140.115.54.44:8001/extractors/3cvrjwh3ckqak4hss\n",
      "http://140.115.54.44:8001/extractors/3cvrjwh2wkqak4yqm\n",
      "http://140.115.54.44:8001/extractors/3cvrjwh3ckqak5v5r\n",
      "http://140.115.54.44:8001/extractors/3cvrjwh2hkqak61wf\n",
      "http://140.115.54.44:8001/extractors/3cvrjwh2pkqak7oxw\n",
      "http://140.115.54.44:8001/extractors/3cvrjwh2hkqak83t4\n",
      "http://140.115.54.44:8001/extractors/3cvrjwh2wkqakaamx\n",
      "http://140.115.54.44:8001/extractors/3cvrjwh2akqakbs64\n",
      "http://140.115.54.44:8001/extractors/3cvrjwh1wkqakbyu6\n",
      "http://140.115.54.44:8001/extractors/3cvrjwh3jkqakbkqw\n",
      "http://140.115.54.44:8001/extractors/3cvrjwh2akqakcehr\n",
      "http://140.115.54.44:8001/extractors/3cvrjwh2hkqakcsfd\n",
      "http://140.115.54.44:8001/extractors/3cvrjwh1wkqaker6j\n",
      "http://140.115.54.44:8001/extractors/3cvrjwh3jkqakh8w7\n",
      "http://140.115.54.44:8001/extractors/3cvrjwh1wkqakhoe8\n",
      "http://140.115.54.44:8001/extractors/3cvrjwh1wkqakhvmy\n",
      "http://140.115.54.44:8001/extractors/3cvrjwh3ckqakkaib\n",
      "http://140.115.54.44:8001/extractors/3cvrjwh2akqakkh7q\n",
      "http://140.115.54.44:8001/extractors/3cvrjwh3jkqakls19\n",
      "http://140.115.54.44:8001/extractors/3cvrjwh3jkqakmsxx\n",
      "http://140.115.54.44:8001/extractors/3cvrjwh22kqakpbh2\n",
      "http://140.115.54.44:8001/extractors/3cvrjwh2hkqaks0na\n",
      "http://140.115.54.44:8001/extractors/3cvrjwh2wkqaktirj\n",
      "http://140.115.54.44:8001/extractors/3cvrjwh1wkqaktshb\n",
      "http://140.115.54.44:8001/extractors/3cvrjwh3jkqakubjr\n",
      "http://140.115.54.44:8001/extractors/3cvrjwh22kqakxn3h\n",
      "http://140.115.54.44:8001/extractors/3cvrjwh3ckqakz2x5\n",
      "http://140.115.54.44:8001/extractors/3cvrjwh2hkqakzpc5\n",
      "http://140.115.54.44:8001/extractors/3cvrjwh2pkqakzvs1\n",
      "http://140.115.54.44:8001/extractors/3cvrjwh1wkqal0ifc\n",
      "http://140.115.54.44:8001/extractors/3cvrjwh2pkqal037o\n",
      "http://140.115.54.44:8001/extractors/3cvrjwh2pkqal1sry\n",
      "http://140.115.54.44:8001/extractors/3cvrjwh2akqal4ghs\n"
     ]
    }
   ],
   "source": [
    "for sns in build_failed:\n",
    "    api_origin = 'http://140.115.54.44:8001/extractors'\n",
    "    print(f\"{api_origin}/{sns}\")"
   ]
  },
  {
   "cell_type": "code",
   "execution_count": 154,
   "metadata": {},
   "outputs": [
    {
     "data": {
      "text/plain": [
       "100"
      ]
     },
     "execution_count": 154,
     "metadata": {},
     "output_type": "execute_result"
    }
   ],
   "source": [
    "len(predict_record)"
   ]
  },
  {
   "cell_type": "code",
   "execution_count": 159,
   "metadata": {},
   "outputs": [],
   "source": [
    "predict_record = np.array(predict_record)"
   ]
  },
  {
   "cell_type": "code",
   "execution_count": 155,
   "metadata": {},
   "outputs": [
    {
     "data": {
      "text/plain": [
       "100"
      ]
     },
     "execution_count": 155,
     "metadata": {},
     "output_type": "execute_result"
    }
   ],
   "source": [
    "len(ans_list)"
   ]
  },
  {
   "cell_type": "code",
   "execution_count": 156,
   "metadata": {},
   "outputs": [],
   "source": [
    "from sklearn.metrics import precision_recall_fscore_support"
   ]
  },
  {
   "cell_type": "code",
   "execution_count": 161,
   "metadata": {},
   "outputs": [
    {
     "data": {
      "text/plain": [
       "(0.7980769230769231, 0.801948051948052, 0.7987117552334944, None)"
      ]
     },
     "execution_count": 161,
     "metadata": {},
     "output_type": "execute_result"
    }
   ],
   "source": [
    "precision_recall_fscore_support(ans_list, predict_record, average='macro')"
   ]
  },
  {
   "cell_type": "code",
   "execution_count": 76,
   "metadata": {},
   "outputs": [
    {
     "data": {
      "text/plain": [
       "[{'time': 2.4610666666666665, 'accm': 1},\n",
       " {'time': 2.4929833333333336, 'accm': 2},\n",
       " {'time': 2.5814666666666666, 'accm': 3},\n",
       " {'time': 2.7253499999999997, 'accm': 4},\n",
       " {'time': 3.0531833333333336, 'accm': 5},\n",
       " {'time': 3.1956166666666665, 'accm': 6},\n",
       " {'time': 3.696833333333333, 'accm': 7},\n",
       " {'time': 3.823, 'accm': 8},\n",
       " {'time': 4.042583333333334, 'accm': 9},\n",
       " {'time': 4.06835, 'accm': 10},\n",
       " {'time': 4.172583333333333, 'accm': 11},\n",
       " {'time': 4.1939166666666665, 'accm': 12},\n",
       " {'time': 4.404183333333333, 'accm': 13},\n",
       " {'time': 4.621700000000001, 'accm': 14},\n",
       " {'time': 4.798216666666666, 'accm': 15},\n",
       " {'time': 4.985566666666667, 'accm': 16},\n",
       " {'time': 5.165633333333333, 'accm': 17},\n",
       " {'time': 5.356066666666666, 'accm': 18},\n",
       " {'time': 5.538216666666667, 'accm': 19},\n",
       " {'time': 6.053333333333333, 'accm': 20},\n",
       " {'time': 6.336883333333334, 'accm': 21},\n",
       " {'time': 6.383516666666667, 'accm': 22},\n",
       " {'time': 6.503933333333333, 'accm': 23},\n",
       " {'time': 6.711016666666667, 'accm': 24},\n",
       " {'time': 7.149016666666666, 'accm': 25},\n",
       " {'time': 7.294866666666667, 'accm': 26},\n",
       " {'time': 7.452666666666667, 'accm': 27},\n",
       " {'time': 7.74315, 'accm': 28},\n",
       " {'time': 8.018933333333333, 'accm': 29},\n",
       " {'time': 8.104049999999999, 'accm': 30},\n",
       " {'time': 8.24545, 'accm': 31},\n",
       " {'time': 8.2493, 'accm': 32},\n",
       " {'time': 8.39265, 'accm': 33},\n",
       " {'time': 8.51215, 'accm': 34},\n",
       " {'time': 8.688350000000002, 'accm': 35},\n",
       " {'time': 8.792283333333334, 'accm': 36},\n",
       " {'time': 9.064699999999998, 'accm': 37},\n",
       " {'time': 9.498, 'accm': 38},\n",
       " {'time': 9.64375, 'accm': 39},\n",
       " {'time': 10.24015, 'accm': 40},\n",
       " {'time': 10.280066666666666, 'accm': 41},\n",
       " {'time': 10.339016666666668, 'accm': 42},\n",
       " {'time': 10.56275, 'accm': 43},\n",
       " {'time': 10.698333333333332, 'accm': 44},\n",
       " {'time': 10.851149999999999, 'accm': 45},\n",
       " {'time': 11.664433333333333, 'accm': 46},\n",
       " {'time': 11.755583333333334, 'accm': 47},\n",
       " {'time': 11.816183333333333, 'accm': 48},\n",
       " {'time': 12.62645, 'accm': 49},\n",
       " {'time': 12.668266666666666, 'accm': 50},\n",
       " {'time': 12.782549999999999, 'accm': 51},\n",
       " {'time': 13.0713, 'accm': 52},\n",
       " {'time': 13.257066666666667, 'accm': 53},\n",
       " {'time': 13.260083333333334, 'accm': 54},\n",
       " {'time': 13.445116666666667, 'accm': 55},\n",
       " {'time': 14.040816666666666, 'accm': 56},\n",
       " {'time': 14.817516666666668, 'accm': 57},\n",
       " {'time': 14.84815, 'accm': 58},\n",
       " {'time': 15.037883333333333, 'accm': 59},\n",
       " {'time': 15.233583333333334, 'accm': 60},\n",
       " {'time': 15.389083333333334, 'accm': 61},\n",
       " {'time': 15.616733333333334, 'accm': 62},\n",
       " {'time': 15.904233333333334, 'accm': 63},\n",
       " {'time': 15.920533333333333, 'accm': 64},\n",
       " {'time': 16.27705, 'accm': 65},\n",
       " {'time': 16.641366666666666, 'accm': 66},\n",
       " {'time': 16.824, 'accm': 67},\n",
       " {'time': 16.9791, 'accm': 68},\n",
       " {'time': 17.120283333333337, 'accm': 69},\n",
       " {'time': 17.291099999999997, 'accm': 70},\n",
       " {'time': 17.481516666666668, 'accm': 71},\n",
       " {'time': 17.603516666666668, 'accm': 72},\n",
       " {'time': 17.748316666666664, 'accm': 73},\n",
       " {'time': 17.926783333333333, 'accm': 74},\n",
       " {'time': 18.276366666666668, 'accm': 75},\n",
       " {'time': 18.325499999999998, 'accm': 76},\n",
       " {'time': 18.422616666666666, 'accm': 77},\n",
       " {'time': 18.546316666666666, 'accm': 78},\n",
       " {'time': 18.7053, 'accm': 79},\n",
       " {'time': 18.838900000000002, 'accm': 80},\n",
       " {'time': 19.179483333333334, 'accm': 81},\n",
       " {'time': 19.435033333333333, 'accm': 82},\n",
       " {'time': 19.558600000000002, 'accm': 83},\n",
       " {'time': 19.7351, 'accm': 84},\n",
       " {'time': 19.8484, 'accm': 85},\n",
       " {'time': 20.044183333333333, 'accm': 86},\n",
       " {'time': 20.295416666666664, 'accm': 87},\n",
       " {'time': 20.490133333333333, 'accm': 88},\n",
       " {'time': 21.34401666666667, 'accm': 89},\n",
       " {'time': 21.419916666666666, 'accm': 90},\n",
       " {'time': 21.497433333333333, 'accm': 91},\n",
       " {'time': 21.604983333333333, 'accm': 92},\n",
       " {'time': 21.782883333333334, 'accm': 93},\n",
       " {'time': 21.9234, 'accm': 94},\n",
       " {'time': 22.169916666666666, 'accm': 95},\n",
       " {'time': 22.318116666666665, 'accm': 96},\n",
       " {'time': 22.511983333333333, 'accm': 97},\n",
       " {'time': 22.653266666666664, 'accm': 98},\n",
       " {'time': 22.943883333333336, 'accm': 99},\n",
       " {'time': 23.0136, 'accm': 100},\n",
       " {'time': 23.099016666666667, 'accm': 101},\n",
       " {'time': 23.24096666666667, 'accm': 102},\n",
       " {'time': 23.36028333333333, 'accm': 103},\n",
       " {'time': 23.614683333333335, 'accm': 104},\n",
       " {'time': 23.744866666666667, 'accm': 105},\n",
       " {'time': 23.886066666666668, 'accm': 106},\n",
       " {'time': 24.198449999999998, 'accm': 107},\n",
       " {'time': 24.368366666666667, 'accm': 108},\n",
       " {'time': 24.390033333333335, 'accm': 109},\n",
       " {'time': 24.578183333333335, 'accm': 110},\n",
       " {'time': 24.79165, 'accm': 111},\n",
       " {'time': 24.94585, 'accm': 112},\n",
       " {'time': 25.293866666666666, 'accm': 113},\n",
       " {'time': 25.361916666666666, 'accm': 114},\n",
       " {'time': 25.47695, 'accm': 115},\n",
       " {'time': 25.904833333333332, 'accm': 116},\n",
       " {'time': 25.9663, 'accm': 117},\n",
       " {'time': 26.258583333333334, 'accm': 118},\n",
       " {'time': 26.443733333333334, 'accm': 119},\n",
       " {'time': 26.580233333333336, 'accm': 120},\n",
       " {'time': 26.7638, 'accm': 121},\n",
       " {'time': 27.05163333333333, 'accm': 122},\n",
       " {'time': 27.209866666666667, 'accm': 123},\n",
       " {'time': 27.358583333333335, 'accm': 124},\n",
       " {'time': 27.498716666666667, 'accm': 125},\n",
       " {'time': 27.68453333333333, 'accm': 126},\n",
       " {'time': 27.794916666666666, 'accm': 127},\n",
       " {'time': 27.935799999999997, 'accm': 128},\n",
       " {'time': 28.08646666666667, 'accm': 129},\n",
       " {'time': 28.242849999999997, 'accm': 130},\n",
       " {'time': 28.3696, 'accm': 131},\n",
       " {'time': 28.51285, 'accm': 132},\n",
       " {'time': 28.703466666666667, 'accm': 133},\n",
       " {'time': 28.89905, 'accm': 134},\n",
       " {'time': 29.026433333333333, 'accm': 135},\n",
       " {'time': 29.201083333333333, 'accm': 136},\n",
       " {'time': 29.375533333333333, 'accm': 137},\n",
       " {'time': 29.549, 'accm': 138},\n",
       " {'time': 29.777566666666665, 'accm': 139},\n",
       " {'time': 29.880783333333333, 'accm': 140},\n",
       " {'time': 30.162483333333334, 'accm': 141},\n",
       " {'time': 30.217216666666666, 'accm': 142},\n",
       " {'time': 30.372683333333335, 'accm': 143},\n",
       " {'time': 30.55495, 'accm': 144},\n",
       " {'time': 30.722266666666666, 'accm': 145},\n",
       " {'time': 31.029183333333332, 'accm': 146},\n",
       " {'time': 31.15191666666667, 'accm': 147},\n",
       " {'time': 31.473200000000002, 'accm': 148},\n",
       " {'time': 31.691933333333335, 'accm': 149},\n",
       " {'time': 31.872566666666668, 'accm': 150},\n",
       " {'time': 32.0145, 'accm': 151},\n",
       " {'time': 32.23773333333333, 'accm': 152},\n",
       " {'time': 32.49823333333333, 'accm': 153},\n",
       " {'time': 32.57055, 'accm': 154},\n",
       " {'time': 32.71321666666667, 'accm': 155},\n",
       " {'time': 32.871, 'accm': 156},\n",
       " {'time': 33.03313333333333, 'accm': 157},\n",
       " {'time': 33.198816666666666, 'accm': 158},\n",
       " {'time': 33.2958, 'accm': 159},\n",
       " {'time': 33.64893333333333, 'accm': 160},\n",
       " {'time': 33.81536666666667, 'accm': 161},\n",
       " {'time': 34.05768333333334, 'accm': 162},\n",
       " {'time': 34.332, 'accm': 163},\n",
       " {'time': 34.35433333333334, 'accm': 164},\n",
       " {'time': 34.54241666666667, 'accm': 165},\n",
       " {'time': 35.042833333333334, 'accm': 166},\n",
       " {'time': 35.33481666666667, 'accm': 167},\n",
       " {'time': 35.49381666666667, 'accm': 168},\n",
       " {'time': 35.644999999999996, 'accm': 169},\n",
       " {'time': 35.92078333333333, 'accm': 170},\n",
       " {'time': 35.9484, 'accm': 171},\n",
       " {'time': 36.075316666666666, 'accm': 172},\n",
       " {'time': 36.20158333333333, 'accm': 173},\n",
       " {'time': 36.377449999999996, 'accm': 174},\n",
       " {'time': 36.7539, 'accm': 175},\n",
       " {'time': 37.3573, 'accm': 176},\n",
       " {'time': 37.544599999999996, 'accm': 177},\n",
       " {'time': 37.73311666666667, 'accm': 178},\n",
       " {'time': 37.76258333333333, 'accm': 179},\n",
       " {'time': 37.98968333333333, 'accm': 180},\n",
       " {'time': 38.120250000000006, 'accm': 181},\n",
       " {'time': 38.12753333333333, 'accm': 182},\n",
       " {'time': 38.24191666666666, 'accm': 183},\n",
       " {'time': 38.369800000000005, 'accm': 184},\n",
       " {'time': 38.4864, 'accm': 185},\n",
       " {'time': 38.50995, 'accm': 186},\n",
       " {'time': 38.71091666666667, 'accm': 187},\n",
       " {'time': 38.86078333333333, 'accm': 188},\n",
       " {'time': 39.04761666666666, 'accm': 189},\n",
       " {'time': 39.17550000000001, 'accm': 190},\n",
       " {'time': 39.363550000000004, 'accm': 191},\n",
       " {'time': 39.71105, 'accm': 192},\n",
       " {'time': 39.72865, 'accm': 193},\n",
       " {'time': 39.828716666666665, 'accm': 194},\n",
       " {'time': 39.98093333333334, 'accm': 195},\n",
       " {'time': 40.21751666666667, 'accm': 196},\n",
       " {'time': 40.394549999999995, 'accm': 197},\n",
       " {'time': 40.4887, 'accm': 198},\n",
       " {'time': 40.63196666666667, 'accm': 199},\n",
       " {'time': 40.88485, 'accm': 200},\n",
       " {'time': 40.95405, 'accm': 201},\n",
       " {'time': 41.09755, 'accm': 202},\n",
       " {'time': 41.25943333333333, 'accm': 203},\n",
       " {'time': 41.3968, 'accm': 204},\n",
       " {'time': 41.5403, 'accm': 205},\n",
       " {'time': 41.69376666666667, 'accm': 206},\n",
       " {'time': 41.84845, 'accm': 207},\n",
       " {'time': 42.15228333333334, 'accm': 208},\n",
       " {'time': 42.32691666666666, 'accm': 209},\n",
       " {'time': 42.469883333333335, 'accm': 210},\n",
       " {'time': 42.608666666666664, 'accm': 211},\n",
       " {'time': 42.77621666666666, 'accm': 212},\n",
       " {'time': 42.92558333333333, 'accm': 213},\n",
       " {'time': 43.11763333333333, 'accm': 214},\n",
       " {'time': 43.25291666666667, 'accm': 215},\n",
       " {'time': 43.41558333333333, 'accm': 216},\n",
       " {'time': 43.71325, 'accm': 217},\n",
       " {'time': 43.9117, 'accm': 218},\n",
       " {'time': 44.2998, 'accm': 219},\n",
       " {'time': 44.31165, 'accm': 220},\n",
       " {'time': 44.71553333333333, 'accm': 221},\n",
       " {'time': 44.77818333333333, 'accm': 222},\n",
       " {'time': 44.940916666666666, 'accm': 223},\n",
       " {'time': 45.237833333333334, 'accm': 224},\n",
       " {'time': 45.48651666666667, 'accm': 225},\n",
       " {'time': 45.643699999999995, 'accm': 226},\n",
       " {'time': 45.783233333333335, 'accm': 227},\n",
       " {'time': 45.97593333333334, 'accm': 228},\n",
       " {'time': 46.126200000000004, 'accm': 229},\n",
       " {'time': 46.22548333333334, 'accm': 230},\n",
       " {'time': 46.45766666666667, 'accm': 231},\n",
       " {'time': 46.58155, 'accm': 232},\n",
       " {'time': 46.6956, 'accm': 233},\n",
       " {'time': 46.916716666666666, 'accm': 234},\n",
       " {'time': 47.062983333333335, 'accm': 235},\n",
       " {'time': 47.22015, 'accm': 236},\n",
       " {'time': 47.3949, 'accm': 237},\n",
       " {'time': 47.52826666666667, 'accm': 238},\n",
       " {'time': 47.821616666666664, 'accm': 239},\n",
       " {'time': 47.853316666666665, 'accm': 240},\n",
       " {'time': 48.198499999999996, 'accm': 241},\n",
       " {'time': 48.27258333333334, 'accm': 242},\n",
       " {'time': 48.43521666666666, 'accm': 243},\n",
       " {'time': 48.57905, 'accm': 244},\n",
       " {'time': 48.73746666666667, 'accm': 245},\n",
       " {'time': 48.93555, 'accm': 246},\n",
       " {'time': 49.086983333333336, 'accm': 247},\n",
       " {'time': 49.26476666666667, 'accm': 248},\n",
       " {'time': 49.46085, 'accm': 249},\n",
       " {'time': 49.594699999999996, 'accm': 250},\n",
       " {'time': 49.7438, 'accm': 251},\n",
       " {'time': 49.88695, 'accm': 252},\n",
       " {'time': 50.41251666666667, 'accm': 253},\n",
       " {'time': 50.55871666666667, 'accm': 254},\n",
       " {'time': 50.59418333333333, 'accm': 255},\n",
       " {'time': 50.62175, 'accm': 256},\n",
       " {'time': 50.70068333333334, 'accm': 257},\n",
       " {'time': 50.833, 'accm': 258},\n",
       " {'time': 50.9927, 'accm': 259},\n",
       " {'time': 51.20385, 'accm': 260},\n",
       " {'time': 51.309266666666666, 'accm': 261},\n",
       " {'time': 51.45405, 'accm': 262},\n",
       " {'time': 51.83088333333333, 'accm': 263},\n",
       " {'time': 52.05428333333334, 'accm': 264},\n",
       " {'time': 52.213499999999996, 'accm': 265},\n",
       " {'time': 52.42075, 'accm': 266},\n",
       " {'time': 52.549949999999995, 'accm': 267},\n",
       " {'time': 52.65298333333333, 'accm': 268},\n",
       " {'time': 54.48806666666667, 'accm': 269},\n",
       " {'time': 54.68141666666667, 'accm': 270},\n",
       " {'time': 55.01978333333333, 'accm': 271},\n",
       " {'time': 55.0266, 'accm': 272},\n",
       " {'time': 55.10901666666667, 'accm': 273},\n",
       " {'time': 55.32736666666666, 'accm': 274},\n",
       " {'time': 55.43085, 'accm': 275},\n",
       " {'time': 55.60288333333333, 'accm': 276},\n",
       " {'time': 55.760666666666665, 'accm': 277},\n",
       " {'time': 55.89866666666667, 'accm': 278},\n",
       " {'time': 56.04175, 'accm': 279},\n",
       " {'time': 56.200316666666666, 'accm': 280},\n",
       " {'time': 56.37845, 'accm': 281},\n",
       " {'time': 56.6471, 'accm': 282},\n",
       " {'time': 56.798033333333336, 'accm': 283},\n",
       " {'time': 56.873783333333336, 'accm': 284},\n",
       " {'time': 57.000099999999996, 'accm': 285},\n",
       " {'time': 57.19263333333333, 'accm': 286},\n",
       " {'time': 57.34056666666667, 'accm': 287},\n",
       " {'time': 57.47431666666667, 'accm': 288},\n",
       " {'time': 57.66166666666666, 'accm': 289},\n",
       " {'time': 57.97176666666667, 'accm': 290},\n",
       " {'time': 58.08268333333333, 'accm': 291},\n",
       " {'time': 58.243950000000005, 'accm': 292},\n",
       " {'time': 58.48891666666667, 'accm': 293},\n",
       " {'time': 58.64113333333333, 'accm': 294},\n",
       " {'time': 58.78346666666666, 'accm': 295},\n",
       " {'time': 58.93693333333333, 'accm': 296},\n",
       " {'time': 59.9914, 'accm': 297},\n",
       " {'time': 60.0447, 'accm': 298},\n",
       " {'time': 60.26076666666667, 'accm': 299},\n",
       " {'time': 60.38343333333333, 'accm': 300},\n",
       " {'time': 60.61016666666667, 'accm': 301},\n",
       " {'time': 60.77735, 'accm': 302},\n",
       " {'time': 60.940466666666666, 'accm': 303},\n",
       " {'time': 61.054183333333334, 'accm': 304},\n",
       " {'time': 61.21446666666667, 'accm': 305},\n",
       " {'time': 61.32758333333334, 'accm': 306},\n",
       " {'time': 61.69956666666667, 'accm': 307},\n",
       " {'time': 62.70088333333333, 'accm': 308},\n",
       " {'time': 62.790016666666666, 'accm': 309},\n",
       " {'time': 62.85291666666667, 'accm': 310},\n",
       " {'time': 63.039633333333335, 'accm': 311},\n",
       " {'time': 63.22278333333334, 'accm': 312},\n",
       " {'time': 63.3857, 'accm': 313},\n",
       " {'time': 63.877399999999994, 'accm': 314},\n",
       " {'time': 63.97226666666666, 'accm': 315},\n",
       " {'time': 64.11658333333334, 'accm': 316},\n",
       " {'time': 64.44051666666667, 'accm': 317},\n",
       " {'time': 64.64526666666667, 'accm': 318},\n",
       " {'time': 65.50045, 'accm': 319},\n",
       " {'time': 65.62546666666667, 'accm': 320},\n",
       " {'time': 65.78235, 'accm': 321},\n",
       " {'time': 65.93761666666667, 'accm': 322},\n",
       " {'time': 66.10226666666667, 'accm': 323},\n",
       " {'time': 66.27156666666666, 'accm': 324},\n",
       " {'time': 66.43796666666667, 'accm': 325},\n",
       " {'time': 66.57853333333334, 'accm': 326},\n",
       " {'time': 66.69726666666666, 'accm': 327},\n",
       " {'time': 66.85426666666666, 'accm': 328},\n",
       " {'time': 67.05498333333334, 'accm': 329},\n",
       " {'time': 67.22846666666666, 'accm': 330},\n",
       " {'time': 67.75489999999999, 'accm': 331},\n",
       " {'time': 68.00676666666666, 'accm': 332},\n",
       " {'time': 68.22286666666666, 'accm': 333},\n",
       " {'time': 68.39078333333333, 'accm': 334},\n",
       " {'time': 68.84485, 'accm': 335},\n",
       " {'time': 68.84806666666667, 'accm': 336},\n",
       " {'time': 68.97588333333333, 'accm': 337},\n",
       " {'time': 69.48859999999999, 'accm': 338},\n",
       " {'time': 69.57796666666667, 'accm': 339},\n",
       " {'time': 69.66553333333333, 'accm': 340},\n",
       " {'time': 69.79578333333333, 'accm': 341},\n",
       " {'time': 69.98758333333333, 'accm': 342},\n",
       " {'time': 70.32621666666667, 'accm': 343},\n",
       " {'time': 70.69665, 'accm': 344},\n",
       " {'time': 71.66963333333334, 'accm': 345},\n",
       " {'time': 71.78178333333334, 'accm': 346},\n",
       " {'time': 71.99493333333334, 'accm': 347},\n",
       " {'time': 72.16136666666667, 'accm': 348},\n",
       " {'time': 72.54276666666667, 'accm': 349},\n",
       " {'time': 72.80146666666666, 'accm': 350},\n",
       " {'time': 73.04341666666666, 'accm': 351},\n",
       " {'time': 73.1992, 'accm': 352}]"
      ]
     },
     "execution_count": 76,
     "metadata": {},
     "output_type": "execute_result"
    }
   ],
   "source": [
    "created_time_accm"
   ]
  },
  {
   "cell_type": "code",
   "execution_count": 80,
   "metadata": {},
   "outputs": [
    {
     "data": {
      "text/plain": [
       "12.477136363636363"
      ]
     },
     "execution_count": 80,
     "metadata": {},
     "output_type": "execute_result"
    }
   ],
   "source": [
    "73.1992*60 / 352"
   ]
  },
  {
   "cell_type": "code",
   "execution_count": 78,
   "metadata": {},
   "outputs": [
    {
     "data": {
      "text/plain": [
       "Text(0, 0.5, 'Created Extractors')"
      ]
     },
     "execution_count": 78,
     "metadata": {},
     "output_type": "execute_result"
    },
    {
     "data": {
      "image/png": "[encoded data removed]",
      "text/plain": [
       "<Figure size 432x288 with 1 Axes>"
      ]
     },
     "metadata": {
      "needs_background": "light"
     },
     "output_type": "display_data"
    }
   ],
   "source": [
    "plt.plot([data['time'] for data in created_time_accm], [data['accm'] for data in created_time_accm])\n",
    "plt.xlabel('Time (Minutes)')\n",
    "plt.ylabel('Created Extractors')"
   ]
  },
  {
   "cell_type": "code",
   "execution_count": 58,
   "metadata": {},
   "outputs": [
    {
     "name": "stdout",
     "output_type": "stream",
     "text": [
      "Summary stats:  {'detailPage_count': 150, 'detailPage_success': 45, 'detailPage_failed': 105, 'singlePage_count': 202, 'singlePage_success': 202, 'singlePage_failed': 0}\n"
     ]
    }
   ],
   "source": [
    "extractors_stat = {\n",
    "    \"detailPage_count\": 0,\n",
    "    \"detailPage_success\": 0,\n",
    "    \"detailPage_failed\": 0,\n",
    "    \"singlePage_count\": 0,\n",
    "    \"singlePage_success\": 0,\n",
    "    \"singlePage_failed\": 0,\n",
    "}\n",
    "all_succ_ext = []\n",
    "for _serialNumber in created_extractors_sns:\n",
    "    post = etl_extractors_collection.find_one({\"serialNumber\":_serialNumber})\n",
    "    if post['pageType'] == 'detailPage':\n",
    "        extractors_stat['detailPage_count'] +=1\n",
    "        if len(post['setsColumns']) > 1:\n",
    "            extractors_stat['detailPage_success'] +=1\n",
    "            all_succ_ext.append(_serialNumber)\n",
    "        else:\n",
    "            extractors_stat['detailPage_failed'] +=1\n",
    "    elif post['pageType'] == 'singleListPage':\n",
    "        extractors_stat['singlePage_count'] +=1\n",
    "        if len(post['setsColumns']) > 0:\n",
    "            extractors_stat['singlePage_success'] +=1\n",
    "            all_succ_ext.append(_serialNumber)\n",
    "        else:\n",
    "            extractors_stat['singlePage_failed'] +=1\n",
    "            \n",
    "print(\"Summary stats: \", extractors_stat)"
   ]
  },
  {
   "cell_type": "code",
   "execution_count": 59,
   "metadata": {},
   "outputs": [
    {
     "name": "stdout",
     "output_type": "stream",
     "text": [
      "Single need crawled:  156\n",
      "Detail need crawled:  40\n",
      "Urls generated: 4774, Single: 2616, Multi: 2158\n"
     ]
    }
   ],
   "source": [
    "single_need_crawled = 0\n",
    "detailPage_need_crawled = 0\n",
    "single_urls = 0\n",
    "multi_urls = 0\n",
    "urls_count = 0\n",
    "detail_succ=  set()\n",
    "single_succ = set()\n",
    "for _serialNumber in all_succ_ext:\n",
    "    post = etl_aeUrls_collection.find_one({\"serialNumber\":_serialNumber})\n",
    "    extractor = etl_extractors_collection.find_one({\"serialNumber\":_serialNumber})\n",
    "    if post:\n",
    "        if extractor['pageType'] == 'singleListPage':\n",
    "            single_need_crawled+=1\n",
    "            single_urls += len(post['urls'])\n",
    "            single_succ.add(_serialNumber)\n",
    "        else:\n",
    "            detailPage_need_crawled+=1\n",
    "            multi_urls += len(post['urls'])\n",
    "            detail_succ.add(_serialNumber)\n",
    "        urls_count += len(post['urls'])\n",
    "    else:\n",
    "        pass\n",
    "print(\"Single need crawled: \", single_need_crawled)\n",
    "print(\"Detail need crawled: \", detailPage_need_crawled)\n",
    "print(f\"Urls generated: {urls_count}, Single: {single_urls}, Multi: {multi_urls}\")"
   ]
  },
  {
   "cell_type": "code",
   "execution_count": 10,
   "metadata": {},
   "outputs": [],
   "source": [
    "post = etl_extractors_collection.find_one({\"serialNumber\":\"3cvrjweyiko6tb52k\"})"
   ]
  },
  {
   "cell_type": "code",
   "execution_count": 11,
   "metadata": {},
   "outputs": [
    {
     "data": {
      "text/plain": [
       "[None]"
      ]
     },
     "execution_count": 11,
     "metadata": {},
     "output_type": "execute_result"
    }
   ],
   "source": [
    "post['setsColumns']"
   ]
  },
  {
   "cell_type": "code",
   "execution_count": 12,
   "metadata": {},
   "outputs": [
    {
     "data": {
      "text/plain": [
       "1"
      ]
     },
     "execution_count": 12,
     "metadata": {},
     "output_type": "execute_result"
    }
   ],
   "source": [
    "len(post['setsColumns'])"
   ]
  },
  {
   "cell_type": "code",
   "execution_count": 151,
   "metadata": {},
   "outputs": [
    {
     "data": {
      "text/plain": [
       "4"
      ]
     },
     "execution_count": 151,
     "metadata": {},
     "output_type": "execute_result"
    }
   ],
   "source": [
    "len(post['setsColumns'][4])"
   ]
  },
  {
   "cell_type": "code",
   "execution_count": null,
   "metadata": {},
   "outputs": [],
   "source": []
  }
 ],
 "metadata": {
  "kernelspec": {
   "display_name": "Python 3",
   "language": "python",
   "name": "python3"
  },
  "language_info": {
   "codemirror_mode": {
    "name": "ipython",
    "version": 3
   },
   "file_extension": ".py",
   "mimetype": "text/x-python",
   "name": "python",
   "nbconvert_exporter": "python",
   "pygments_lexer": "ipython3",
   "version": "3.6.9"
  }
 },
 "nbformat": 4,
 "nbformat_minor": 4
}
