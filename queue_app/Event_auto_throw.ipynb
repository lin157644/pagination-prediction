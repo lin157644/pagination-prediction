{
 "cells": [
  {
   "cell_type": "code",
   "execution_count": 1,
   "metadata": {},
   "outputs": [],
   "source": [
    "from settings import RABBIT_ACCOUNT, RABBIT_PASSWORD, RABBIT_HOST, RABBIT_PORT, EVENT_QUEUE"
   ]
  },
  {
   "cell_type": "code",
   "execution_count": 2,
   "metadata": {},
   "outputs": [],
   "source": [
    "import pandas as pd"
   ]
  },
  {
   "cell_type": "code",
   "execution_count": 3,
   "metadata": {},
   "outputs": [],
   "source": [
    "from datetime import datetime"
   ]
  },
  {
   "cell_type": "code",
   "execution_count": 4,
   "metadata": {},
   "outputs": [
    {
     "name": "stdout",
     "output_type": "stream",
     "text": [
      "AEStatistic.ipynb\tevent_test.csv\t      positivepage.csv\r\n",
      "Event_auto_throw.ipynb\teventsourcepage.csv   publisher.py\r\n",
      "__init__.py\t\tfileDownloader.ipynb  settings.py\r\n",
      "__pycache__\t\tneedCrawl.csv\t      test_queue.ipynb\r\n",
      "database.py\t\tpika_queue.py\t      worker.py\r\n",
      "download\t\tpika_queue.pyc\r\n"
     ]
    }
   ],
   "source": [
    "!ls"
   ]
  },
  {
   "cell_type": "code",
   "execution_count": 5,
   "metadata": {},
   "outputs": [],
   "source": [
    "import pika\n",
    "import json\n",
    "class Queue():\n",
    "    def __init__(self, host, port, username, password):\n",
    "        self.connection = pika.BlockingConnection(pika.ConnectionParameters(host,port=port,credentials=pika.PlainCredentials(username=username,password=password), heartbeat=0))\n",
    "        self.channel = self.connection.channel()\n",
    "        self.channel.basic_qos(prefetch_count=1)\n",
    "    def DeclareQueue(self, queuename):\n",
    "        self.channel.queue_declare(queue = queuename)\n",
    "    def AddToQueue(self, queuename, data):\n",
    "        self.channel.basic_publish(exchange = '', routing_key = queuename, body = json.dumps(data), properties = pika.BasicProperties(delivery_mode=2))\n",
    "    def GetFromQueue(self, queuename, callback, auto_ack):\n",
    "        self.channel.basic_consume(queue = queuename, on_message_callback = callback,auto_ack= auto_ack)\n",
    "        self.channel.start_consuming()\n",
    "    def Close(self):\n",
    "        self.connection.close()"
   ]
  },
  {
   "cell_type": "code",
   "execution_count": 6,
   "metadata": {},
   "outputs": [],
   "source": [
    "event_queue = Queue(RABBIT_HOST, RABBIT_PORT, RABBIT_ACCOUNT, RABBIT_PASSWORD)"
   ]
  },
  {
   "cell_type": "code",
   "execution_count": 7,
   "metadata": {},
   "outputs": [
    {
     "data": {
      "text/plain": [
       "'EventSourceURL'"
      ]
     },
     "execution_count": 7,
     "metadata": {},
     "output_type": "execute_result"
    }
   ],
   "source": [
    "EVENT_QUEUE"
   ]
  },
  {
   "cell_type": "code",
   "execution_count": 27,
   "metadata": {},
   "outputs": [],
   "source": [
    "import csv"
   ]
  },
  {
   "cell_type": "code",
   "execution_count": 35,
   "metadata": {},
   "outputs": [],
   "source": [
    "event_df = pd.read_csv('event_test.csv')"
   ]
  },
  {
   "cell_type": "code",
   "execution_count": 36,
   "metadata": {},
   "outputs": [
    {
     "data": {
      "text/html": [
       "<div>\n",
       "<style scoped>\n",
       "    .dataframe tbody tr th:only-of-type {\n",
       "        vertical-align: middle;\n",
       "    }\n",
       "\n",
       "    .dataframe tbody tr th {\n",
       "        vertical-align: top;\n",
       "    }\n",
       "\n",
       "    .dataframe thead th {\n",
       "        text-align: right;\n",
       "    }\n",
       "</style>\n",
       "<table border=\"1\" class=\"dataframe\">\n",
       "  <thead>\n",
       "    <tr style=\"text-align: right;\">\n",
       "      <th></th>\n",
       "      <th>File Name</th>\n",
       "      <th>Page URL</th>\n",
       "    </tr>\n",
       "  </thead>\n",
       "  <tbody>\n",
       "    <tr>\n",
       "      <th>0</th>\n",
       "      <td>1</td>\n",
       "      <td>https://ysmb.wda.gov.tw/</td>\n",
       "    </tr>\n",
       "    <tr>\n",
       "      <th>1</th>\n",
       "      <td>2</td>\n",
       "      <td>https://ysmb.wda.gov.tw/about.php</td>\n",
       "    </tr>\n",
       "    <tr>\n",
       "      <th>2</th>\n",
       "      <td>3</td>\n",
       "      <td>https://ysmb.wda.gov.tw/news.php</td>\n",
       "    </tr>\n",
       "    <tr>\n",
       "      <th>3</th>\n",
       "      <td>4</td>\n",
       "      <td>https://ysmb.wda.gov.tw/news.php?page=4&amp;id=1</td>\n",
       "    </tr>\n",
       "    <tr>\n",
       "      <th>4</th>\n",
       "      <td>5</td>\n",
       "      <td>https://ysmb.wda.gov.tw/activity_all.php</td>\n",
       "    </tr>\n",
       "    <tr>\n",
       "      <th>...</th>\n",
       "      <td>...</td>\n",
       "      <td>...</td>\n",
       "    </tr>\n",
       "    <tr>\n",
       "      <th>95</th>\n",
       "      <td>96</td>\n",
       "      <td>https://tydep-eew.com.tw/news.php</td>\n",
       "    </tr>\n",
       "    <tr>\n",
       "      <th>96</th>\n",
       "      <td>97</td>\n",
       "      <td>https://dac.tw/currentcoming/</td>\n",
       "    </tr>\n",
       "    <tr>\n",
       "      <th>97</th>\n",
       "      <td>98</td>\n",
       "      <td>https://www.chcsec.gov.tw/informationlist?uid=...</td>\n",
       "    </tr>\n",
       "    <tr>\n",
       "      <th>98</th>\n",
       "      <td>99</td>\n",
       "      <td>https://event.culture.tw/CHCSEC/portal/Index/I...</td>\n",
       "    </tr>\n",
       "    <tr>\n",
       "      <th>99</th>\n",
       "      <td>100</td>\n",
       "      <td>https://www.ntso.gov.tw/informationlist?uid=22</td>\n",
       "    </tr>\n",
       "  </tbody>\n",
       "</table>\n",
       "<p>100 rows × 2 columns</p>\n",
       "</div>"
      ],
      "text/plain": [
       "    File Name                                           Page URL\n",
       "0           1                           https://ysmb.wda.gov.tw/\n",
       "1           2                  https://ysmb.wda.gov.tw/about.php\n",
       "2           3                   https://ysmb.wda.gov.tw/news.php\n",
       "3           4       https://ysmb.wda.gov.tw/news.php?page=4&id=1\n",
       "4           5           https://ysmb.wda.gov.tw/activity_all.php\n",
       "..        ...                                                ...\n",
       "95         96                  https://tydep-eew.com.tw/news.php\n",
       "96         97                      https://dac.tw/currentcoming/\n",
       "97         98  https://www.chcsec.gov.tw/informationlist?uid=...\n",
       "98         99  https://event.culture.tw/CHCSEC/portal/Index/I...\n",
       "99        100     https://www.ntso.gov.tw/informationlist?uid=22\n",
       "\n",
       "[100 rows x 2 columns]"
      ]
     },
     "execution_count": 36,
     "metadata": {},
     "output_type": "execute_result"
    }
   ],
   "source": [
    "event_df"
   ]
  },
  {
   "cell_type": "code",
   "execution_count": 29,
   "metadata": {},
   "outputs": [],
   "source": [
    "# event_df = pd.read_csv('eventsourcepage.csv')\n",
    "event_df = pd.read_csv('event_test.csv')\n",
    "# event_df = pd.read_csv('positivepage.csv')\n",
    "positivepage = []\n",
    "with open('positivepage.csv', newline='') as f:\n",
    "    reader = csv.reader(f) \n",
    "    tmp = list(reader)\n",
    "    #print(p)\n",
    "    positivepage += [','.join(p[0:-1]) for p in tmp if ':' in ','.join(p[0:-1])]"
   ]
  },
  {
   "cell_type": "raw",
   "metadata": {},
   "source": [
    "col = 'EventSourcePage'\n",
    "col = 'Page URL'"
   ]
  },
  {
   "cell_type": "raw",
   "metadata": {},
   "source": [
    "len(event_df)"
   ]
  },
  {
   "cell_type": "raw",
   "metadata": {},
   "source": [
    "event_df.head()"
   ]
  },
  {
   "cell_type": "raw",
   "metadata": {},
   "source": [
    "#Check if there is duplicated url\n",
    "sum(event_df[col].duplicated())"
   ]
  },
  {
   "cell_type": "code",
   "execution_count": 8,
   "metadata": {},
   "outputs": [],
   "source": [
    "import validators"
   ]
  },
  {
   "cell_type": "code",
   "execution_count": 13,
   "metadata": {},
   "outputs": [],
   "source": [
    "test_pages = [\n",
    "    'https://www.city.hachioji.tokyo.jp/kurashi/shimin/004/003/001/p000099.html',\n",
    "    'https://aia.kcg.gov.tw/siscity-1126-sistercitytw',\n",
    "    'https://khh.travel/ja/event/calendar/2020',\n",
    "    'https://www.hkc.or.jp/saijiki/index.html',\n",
    "    'https://hachi-navi.com/event_detail/396',\n",
    "    'https://www.pref.chiba.lg.jp/kokusai/kokusaikouryuu/exchange/taoyuan/index.html',\n",
    "    'https://www.tycg.gov.tw/eng/home.jsp?id=17&parentpath=0,1,16',\n",
    "    'https://maruchiba.jp/sys/search/jp/list?sid=10&sort=2&limit=20',\n",
    "    'https://travel.tycg.gov.tw/ja/travel/season'\n",
    "]"
   ]
  },
  {
   "cell_type": "code",
   "execution_count": 14,
   "metadata": {},
   "outputs": [
    {
     "name": "stdout",
     "output_type": "stream",
     "text": [
      "Adding urls to Event_queue...\n",
      "Finish adding url to Event_queue...\n"
     ]
    }
   ],
   "source": [
    "print(\"Adding urls to Event_queue...\")\n",
    "for url in test_pages:\n",
    "    if validators.url(url):\n",
    "#         print(url)\n",
    "        event_queue.AddToQueue(EVENT_QUEUE, url)\n",
    "#         break\n",
    "#         pass\n",
    "    else:\n",
    "        print(url)\n",
    "print(\"Finish adding url to Event_queue...\")"
   ]
  },
  {
   "cell_type": "code",
   "execution_count": 19,
   "metadata": {},
   "outputs": [
    {
     "name": "stdout",
     "output_type": "stream",
     "text": [
      "Adding urls to Event_queue...\n",
      "Finish adding url to Event_queue...\n"
     ]
    }
   ],
   "source": [
    "print(\"Adding urls to Event_queue...\")\n",
    "for url in event_df[col].values.tolist():\n",
    "    if validators.url(url):\n",
    "#         print(url)\n",
    "        event_queue.AddToQueue(EVENT_QUEUE, url)\n",
    "#         break\n",
    "#         pass\n",
    "    else:\n",
    "        print(url)\n",
    "print(\"Finish adding url to Event_queue...\")"
   ]
  },
  {
   "cell_type": "code",
   "execution_count": 15,
   "metadata": {},
   "outputs": [
    {
     "data": {
      "text/plain": [
       "'2021-07-09T14:29:48.903329+00:00'"
      ]
     },
     "execution_count": 15,
     "metadata": {},
     "output_type": "execute_result"
    }
   ],
   "source": [
    "from datetime import datetime, tzinfo, timedelta\n",
    "class simple_utc(tzinfo):\n",
    "    def tzname(self,**kwargs):\n",
    "        return \"UTC\"\n",
    "    def utcoffset(self, dt):\n",
    "        return timedelta(0)\n",
    "datetime.utcnow().replace(tzinfo=simple_utc()).isoformat()"
   ]
  },
  {
   "cell_type": "code",
   "execution_count": null,
   "metadata": {},
   "outputs": [],
   "source": []
  }
 ],
 "metadata": {
  "kernelspec": {
   "display_name": "Python 3",
   "language": "python",
   "name": "python3"
  },
  "language_info": {
   "codemirror_mode": {
    "name": "ipython",
    "version": 3
   },
   "file_extension": ".py",
   "mimetype": "text/x-python",
   "name": "python",
   "nbconvert_exporter": "python",
   "pygments_lexer": "ipython3",
   "version": "3.6.9"
  }
 },
 "nbformat": 4,
 "nbformat_minor": 4
}
