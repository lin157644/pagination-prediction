{
 "cells": [
  {
   "cell_type": "raw",
   "metadata": {},
   "source": [
    "Data directory: ../autopager/data/"
   ]
  },
  {
   "cell_type": "code",
   "execution_count": 1,
   "metadata": {},
   "outputs": [
    {
     "name": "stdout",
     "output_type": "stream",
     "text": [
      "data_all.csv  html_all\tmulti_lingual_test  test_data  test_yuching\r\n"
     ]
    }
   ],
   "source": [
    "!ls ../autopager/data/"
   ]
  },
  {
   "cell_type": "code",
   "execution_count": 2,
   "metadata": {},
   "outputs": [],
   "source": [
    "import pandas as pd\n",
    "from os import listdir\n",
    "import sys\n",
    "from sklearn import preprocessing\n",
    "import numpy as np\n",
    "from urllib.parse import quote, unquote\n",
    "from parsel import Selector\n",
    "sys.path.insert(0, '..')"
   ]
  },
  {
   "cell_type": "raw",
   "metadata": {},
   "source": [
    "from autopager.parserutils import (TagParser, MyHTMLParser, draw_scaled_page, position_check, compare_tag)"
   ]
  },
  {
   "cell_type": "code",
   "execution_count": 1,
   "metadata": {},
   "outputs": [],
   "source": [
    "from html.parser import HTMLParser"
   ]
  },
  {
   "cell_type": "code",
   "execution_count": 4,
   "metadata": {},
   "outputs": [
    {
     "name": "stdout",
     "output_type": "stream",
     "text": [
      "de  en\tja  ko\tmlingual_data.xlsx  ru\tzh\r\n"
     ]
    }
   ],
   "source": [
    "!ls ../autopager/data/multi_lingual_test"
   ]
  },
  {
   "cell_type": "code",
   "execution_count": 87,
   "metadata": {},
   "outputs": [],
   "source": [
    "csv_dir = \"../autopager/data/\"\n",
    "html_dir = \"../autopager/data/html_all/\"\n",
    "data = pd.read_csv(csv_dir+'data_all.csv')"
   ]
  },
  {
   "cell_type": "code",
   "execution_count": 17,
   "metadata": {},
   "outputs": [],
   "source": [
    "csv_dir = \"../autopager/data/test_yuching/\"\n",
    "html_dir = \"../autopager/data/test_yuching/html/\"\n",
    "data = pd.read_csv(csv_dir+'test_data.csv')"
   ]
  },
  {
   "cell_type": "code",
   "execution_count": 11,
   "metadata": {},
   "outputs": [],
   "source": [
    "csv_dir = \"../autopager/data/test_data/\"\n",
    "html_dir = \"../autopager/data/test_data/html/\"\n",
    "data = pd.read_csv(csv_dir+'test_data.csv')"
   ]
  },
  {
   "cell_type": "code",
   "execution_count": 4,
   "metadata": {},
   "outputs": [],
   "source": [
    "__multi_pd = pd.read_excel(csv_dir, None, engine='openpyxl')\n",
    "language_keys = list(__multi_pd.keys())"
   ]
  },
  {
   "cell_type": "code",
   "execution_count": 5,
   "metadata": {},
   "outputs": [
    {
     "data": {
      "text/plain": [
       "['en', 'zh', 'ko', 'ja', 'de', 'ru']"
      ]
     },
     "execution_count": 5,
     "metadata": {},
     "output_type": "execute_result"
    }
   ],
   "source": [
    "language_keys"
   ]
  },
  {
   "cell_type": "code",
   "execution_count": 44,
   "metadata": {},
   "outputs": [],
   "source": [
    "target_language = 'ru'\n",
    "html_dir = f\"../autopager/data/multi_lingual_test/{target_language}/\"\n",
    "csv_dir = f\"../autopager/data/multi_lingual_test/mlingual_data.xlsx\"\n",
    "target_language_pd = pd.read_excel(csv_dir, sheet_name=target_language, engine='openpyxl')\n",
    "data = target_language_pd[target_language_pd['Checked'] == 'T']"
   ]
  },
  {
   "cell_type": "code",
   "execution_count": 18,
   "metadata": {},
   "outputs": [],
   "source": [
    "data = data.fillna('N/A')"
   ]
  },
  {
   "cell_type": "code",
   "execution_count": 19,
   "metadata": {},
   "outputs": [],
   "source": [
    "data = data[data['Checked']=='T']"
   ]
  },
  {
   "cell_type": "code",
   "execution_count": 20,
   "metadata": {},
   "outputs": [],
   "source": [
    "data['File Name'] = data['File Name'].astype(int)"
   ]
  },
  {
   "cell_type": "code",
   "execution_count": 21,
   "metadata": {
    "scrolled": true
   },
   "outputs": [],
   "source": [
    "data['File Name'] = data['File Name'].astype(str)"
   ]
  },
  {
   "cell_type": "code",
   "execution_count": 22,
   "metadata": {},
   "outputs": [
    {
     "data": {
      "text/html": [
       "<div>\n",
       "<style scoped>\n",
       "    .dataframe tbody tr th:only-of-type {\n",
       "        vertical-align: middle;\n",
       "    }\n",
       "\n",
       "    .dataframe tbody tr th {\n",
       "        vertical-align: top;\n",
       "    }\n",
       "\n",
       "    .dataframe thead th {\n",
       "        text-align: right;\n",
       "    }\n",
       "</style>\n",
       "<table border=\"1\" class=\"dataframe\">\n",
       "  <thead>\n",
       "    <tr style=\"text-align: right;\">\n",
       "      <th></th>\n",
       "      <th>Checked</th>\n",
       "      <th>File Name</th>\n",
       "      <th>Page URL</th>\n",
       "      <th>Page Type</th>\n",
       "      <th>Encoding</th>\n",
       "      <th>PREV</th>\n",
       "      <th>PAGE</th>\n",
       "      <th>NEXT</th>\n",
       "      <th>LAST</th>\n",
       "      <th>FIRST</th>\n",
       "      <th>failed</th>\n",
       "      <th># of non-label</th>\n",
       "    </tr>\n",
       "  </thead>\n",
       "  <tbody>\n",
       "    <tr>\n",
       "      <th>0</th>\n",
       "      <td>T</td>\n",
       "      <td>1</td>\n",
       "      <td>https://ysmb.wda.gov.tw/</td>\n",
       "      <td>n</td>\n",
       "      <td>UTF-8</td>\n",
       "      <td>N/A</td>\n",
       "      <td>N/A</td>\n",
       "      <td>N/A</td>\n",
       "      <td>N/A</td>\n",
       "      <td>N/A</td>\n",
       "      <td>N/A</td>\n",
       "      <td>N/A</td>\n",
       "    </tr>\n",
       "    <tr>\n",
       "      <th>1</th>\n",
       "      <td>T</td>\n",
       "      <td>2</td>\n",
       "      <td>https://ysmb.wda.gov.tw/about.php</td>\n",
       "      <td>n</td>\n",
       "      <td>UTF-8</td>\n",
       "      <td>N/A</td>\n",
       "      <td>N/A</td>\n",
       "      <td>N/A</td>\n",
       "      <td>N/A</td>\n",
       "      <td>N/A</td>\n",
       "      <td>N/A</td>\n",
       "      <td>N/A</td>\n",
       "    </tr>\n",
       "    <tr>\n",
       "      <th>2</th>\n",
       "      <td>T</td>\n",
       "      <td>3</td>\n",
       "      <td>https://ysmb.wda.gov.tw/news.php</td>\n",
       "      <td>a</td>\n",
       "      <td>UTF-8</td>\n",
       "      <td>N/A</td>\n",
       "      <td>.pagination li:nth-child(n):nth-last-child(n+3) a</td>\n",
       "      <td>.pagination li:nth-last-child(2) a</td>\n",
       "      <td>.pagination li:nth-last-child(1) a</td>\n",
       "      <td>N/A</td>\n",
       "      <td>N/A</td>\n",
       "      <td>N/A</td>\n",
       "    </tr>\n",
       "    <tr>\n",
       "      <th>3</th>\n",
       "      <td>T</td>\n",
       "      <td>4</td>\n",
       "      <td>https://ysmb.wda.gov.tw/news.php?page=4&amp;id=1</td>\n",
       "      <td>a</td>\n",
       "      <td>UTF-8</td>\n",
       "      <td>.pagination li:nth-child(2) a</td>\n",
       "      <td>.pagination li:nth-child(n+3):nth-last-child(n...</td>\n",
       "      <td>.pagination li:nth-last-child(2) a</td>\n",
       "      <td>.pagination li:nth-last-child(1) a</td>\n",
       "      <td>.pagination li:nth-child(1) a</td>\n",
       "      <td>N/A</td>\n",
       "      <td>N/A</td>\n",
       "    </tr>\n",
       "    <tr>\n",
       "      <th>4</th>\n",
       "      <td>T</td>\n",
       "      <td>5</td>\n",
       "      <td>https://ysmb.wda.gov.tw/activity_all.php</td>\n",
       "      <td>a</td>\n",
       "      <td>UTF-8</td>\n",
       "      <td>N/A</td>\n",
       "      <td>.pagination li:nth-child(n):nth-last-child(n+3) a</td>\n",
       "      <td>.pagination li:nth-last-child(2) a</td>\n",
       "      <td>.pagination li:nth-last-child(1) a</td>\n",
       "      <td>N/A</td>\n",
       "      <td>N/A</td>\n",
       "      <td>N/A</td>\n",
       "    </tr>\n",
       "  </tbody>\n",
       "</table>\n",
       "</div>"
      ],
      "text/plain": [
       "  Checked File Name                                      Page URL Page Type  \\\n",
       "0       T         1                      https://ysmb.wda.gov.tw/         n   \n",
       "1       T         2             https://ysmb.wda.gov.tw/about.php         n   \n",
       "2       T         3              https://ysmb.wda.gov.tw/news.php         a   \n",
       "3       T         4  https://ysmb.wda.gov.tw/news.php?page=4&id=1         a   \n",
       "4       T         5      https://ysmb.wda.gov.tw/activity_all.php         a   \n",
       "\n",
       "  Encoding                           PREV  \\\n",
       "0    UTF-8                            N/A   \n",
       "1    UTF-8                            N/A   \n",
       "2    UTF-8                            N/A   \n",
       "3    UTF-8  .pagination li:nth-child(2) a   \n",
       "4    UTF-8                            N/A   \n",
       "\n",
       "                                                PAGE  \\\n",
       "0                                                N/A   \n",
       "1                                                N/A   \n",
       "2  .pagination li:nth-child(n):nth-last-child(n+3) a   \n",
       "3  .pagination li:nth-child(n+3):nth-last-child(n...   \n",
       "4  .pagination li:nth-child(n):nth-last-child(n+3) a   \n",
       "\n",
       "                                 NEXT                                LAST  \\\n",
       "0                                 N/A                                 N/A   \n",
       "1                                 N/A                                 N/A   \n",
       "2  .pagination li:nth-last-child(2) a  .pagination li:nth-last-child(1) a   \n",
       "3  .pagination li:nth-last-child(2) a  .pagination li:nth-last-child(1) a   \n",
       "4  .pagination li:nth-last-child(2) a  .pagination li:nth-last-child(1) a   \n",
       "\n",
       "                           FIRST failed # of non-label  \n",
       "0                            N/A    N/A            N/A  \n",
       "1                            N/A    N/A            N/A  \n",
       "2                            N/A    N/A            N/A  \n",
       "3  .pagination li:nth-child(1) a    N/A            N/A  \n",
       "4                            N/A    N/A            N/A  "
      ]
     },
     "execution_count": 22,
     "metadata": {},
     "output_type": "execute_result"
    }
   ],
   "source": [
    "data.head()"
   ]
  },
  {
   "cell_type": "markdown",
   "metadata": {},
   "source": [
    "### Test tag parser"
   ]
  },
  {
   "cell_type": "code",
   "execution_count": 4,
   "metadata": {},
   "outputs": [],
   "source": [
    "def parseAttribute(html):\n",
    "    close_index = html.find('>')\n",
    "    open_text = html[:close_index]\n",
    "    open_text = open_text.replace('<a','')\n",
    "    open_text = open_text.replace('<button','')\n",
    "    print(open_text)"
   ]
  },
  {
   "cell_type": "code",
   "execution_count": 5,
   "metadata": {},
   "outputs": [
    {
     "name": "stdout",
     "output_type": "stream",
     "text": [
      " class='pagination' href='https://yahoo.com.tw' \n"
     ]
    }
   ],
   "source": [
    "parseAttribute(\"<a class='pagination' href='https://yahoo.com.tw' >\")"
   ]
  },
  {
   "cell_type": "markdown",
   "metadata": {},
   "source": [
    "## Block for testing selector via specific file"
   ]
  },
  {
   "cell_type": "code",
   "execution_count": 23,
   "metadata": {},
   "outputs": [],
   "source": [
    "tagParser = TagParser()\n",
    "parser = MyHTMLParser()"
   ]
  },
  {
   "cell_type": "code",
   "execution_count": 10,
   "metadata": {},
   "outputs": [],
   "source": [
    "f = open(html_dir+\"3\"+\".html\", \"r\", encoding=\"UTF-8\")\n",
    "file = f.read()"
   ]
  },
  {
   "cell_type": "code",
   "execution_count": 11,
   "metadata": {
    "scrolled": true
   },
   "outputs": [],
   "source": [
    "parser._reset()\n",
    "parser.feed(file)"
   ]
  },
  {
   "cell_type": "markdown",
   "metadata": {},
   "source": [
    "## Test selector get position"
   ]
  },
  {
   "cell_type": "code",
   "execution_count": 51,
   "metadata": {},
   "outputs": [],
   "source": [
    "f = open(html_dir+\"80\"+\".html\", \"r\", encoding=\"utf-8\")\n",
    "file = f.read()"
   ]
  },
  {
   "cell_type": "code",
   "execution_count": 52,
   "metadata": {},
   "outputs": [
    {
     "data": {
      "text/plain": [
       "'<!DOCTYPE html><!--[if lte IE 8]><html class=\"is-ie8\" lang=\"ja\" prefix=\"og: http://ogp.me/ns# fb: http://www.facebook.com/2008/fbml\"><![endif]--><!--[if IE 9]><html class=\"is-ie9\" lang=\"ja\" prefix=\"og: http://ogp.me/ns# fb: http://www.facebook.com/2008/fbml\"><![endif]--><!--[if gt IE 9]><!--><html lang=\"ja\" prefix=\"og: http://ogp.me/ns# fb: http://www.facebook.com/2008/fbml\"><!--<![endif]--><head><script type=\"text/javascript\" async=\"\" src=\"https://static.criteo.net/js/ld/publishertag.prebid.js\"></script><script type=\"text/javascript\" async=\"\" src=\"//www.googleadservices.com/pagead/conversion_async.js\"></script><script type=\"text/javascript\" async=\"\" src=\"//www.googleadservices.com/pagead/conversion_async.js\"></script><script src=\"https://www.googletagservices.com/activeview/js/current/osd.js?cb=%2Fr20100101\"></script><script type=\"text/javascript\" async=\"\" src=\"//sync.im-apps.net/imid/segment?token=dmJmXE6ihffGM09UZqwoBg&amp;callback=TDWrapper_9568.tdw_ejyhn9.dmpCb.list.im.onReceive\"></script><script type=\"text/javascript\" async=\"\" src=\"https://cdn.treasuredata.com/sdk/2.1/td.min.js\"></script><script src=\"https://connect.facebook.net/signals/config/473884813207552?v=2.9.33&amp;r=stable\" async=\"\"></script><script src=\"https://connect.facebook.net/signals/config/1599729173573538?v=2.9.33&amp;r=stable\" async=\"\"></script><script async=\"\" src=\"https://connect.facebook.net/en_US/fbevents.js\"></script><script async=\"\" src=\"//www.googletagmanager.com/gtm.js?id=GTM-WSR3CL\"></script><script>(function(w,d,s,l,i){w[l]=w[l]||[];w[l].push({\\'gtm.start\\': new Date().getTime(),event:\\'gtm.js\\'});var f=d.getElementsByTagName(s)[0], j=d.createElement(s),dl=l!=\\'dataLayer\\'?\\'&l=\\'+l:\\'\\';j.async=true;j.src= \\'//www.googletagmanager.com/gtm.js?id=\\'+i+dl;f.parentNode.insertBefore(j,f);})(window,document,\\'script\\',\\'dataLayer\\',\\'GTM-WSR3CL\\');</script><noscript>&lt;iframe src=\"//www.googletagmanager.com/ns.html?id=GTM-WSR3CL\" height=\"0\" width=\"0\" style=\"display:none;visibility:hidden\"&gt;&lt;/iframe&gt;</noscript><script type=\"text/javascript\" async=\"\" src=\"https://cdn.bigmining.com/js/k3c_bigmining.js\"></script>\\n<!--[if IE]>\\n<meta http-equiv=\"X-UA-Compatible\" content=\"IE=Edge,chrome=1\">\\n<![endif]-->\\n<meta charset=\"shift_jis\">\\n<title>【価格.com】家電 | 通販・価格比較・製品情報</title>\\n<meta name=\"description\" content=\"家電を買うなら、まずは価格.com家電をチェック！\\u3000全国の通販サイトの販売価格情報をはじめ、スペック検索、クチコミ情報、ランキングなど、さまざまな視点から商品を比較・検討できます！\">\\n<meta name=\"keywords\" content=\"家電,価格比較,通販,製品情報\">\\n<meta name=\"robots\" content=\"index,follow\">\\n<meta name=\"viewport\" content=\"width=1055\">\\n<meta name=\"Slurp\" content=\"NOYDIR\">\\n<link rel=\"SHORTCUT ICON\" href=\"https://img1.kakaku.k-img.com/images/kakaku_logo.ico\">\\n\\n<link rel=\"stylesheet\" type=\"text/css\" href=\"https://css1.kakaku.k-img.com/css/common.css?170927\" media=\"all\">\\n<link rel=\"stylesheet\" type=\"text/css\" href=\"https://css1.kakaku.k-img.com/css/category/top.css\" media=\"all\">\\n<link rel=\"alternate\" media=\"only screen and (max-width: 640px)\" href=\"https://s.kakaku.com/kaden/\"> \\n\\n<link rel=\"preload\" href=\"//rumcdn.geoedge.be/05814563-51c5-414e-a385-f7f2ed38328e/grumi.js\"><script async=\"\" src=\"//c.amazon-adsystem.com/aax2/apstag.js\"></script><script src=\"https://script1.kakaku.k-img.com/script/common.js\"></script>\\n<script src=\"https://script1.kakaku.k-img.com/script/search/functions_v2.js\"></script>\\n<script src=\"https://script1.kakaku.k-img.com/script/article/feed_kanren_kaden.js\"></script>\\n<script type=\"text/javascript\" src=\"https://script1.kakaku.k-img.com/script/push.js\"></script>\\n<!-- <script src=\"/script/maker/exposure.js\"></script> -->\\n\\n<link rel=\"canonical\" href=\"https://kakaku.com/kaden/\">\\n\\n\\n<!-- snsbtn -->\\n<meta property=\"og:title\" content=\"価格.com - 家電 | 通販・価格比較・製品情報\">\\n<meta property=\"og:type\" content=\"article\">\\n<meta property=\"og:url\" content=\"https://kakaku.com/kaden/\">\\n<meta property=\"og:image\" content=\"https://img1.kakaku.k-img.com/images/logo/ogimage.png\">\\n<meta property=\"og:site_name\" content=\"kakaku.com\">\\n<meta property=\"fb:admins\" content=\"100001677628430\">\\n<meta name=\"twitter:card\" content=\"summary_large_image\">\\n<meta name=\"twitter:site\" content=\"@kakakucom\">\\n<meta name=\"twitter:description\" content=\"家電を買うなら、まずは価格.com家電をチェック！\\u3000全国の通販サイトの販売価格情報をはじめ、スペック検索、クチコミ情報、ランキングなど、さまざまな視点から商品を比較・検討できます！\">\\n<script src=\"https://script1.kakaku.k-img.com/script/itemview/clip.js\"></script>\\n<script src=\"https://script1.kakaku.k-img.com/script/snsbutton.js\"></script>\\n<!-- /snsbtn -->\\n\\n<!--ad_start-->\\n<!--Geoedge-->\\n<script>\\n        window.grumi = {  \\n         cfg: { \\n                advs: { \\n                \"32148626\": true,\"32148866\": true,\"34370186\": true,\"43896146\": true,\"53230466\": true,\"55099106\": true,\"55782266\": true,\"56178266\": true,\"56721986\": true,\"56755586\": true,\"56755706\": true,\"58001426\": true,\"58360226\": true,\"59549306\": true,\"61257026\": true,\"4405549196\": true,\"4408203299\": true,\"4431326639\": true,\"4432999800\": true,\"4486756552\": true,\"4513783652\": true,\"4516158635\": true,\"4533800282\": true,\"4540986218\": true,\"4574259275\": true,\"4588395787\": true,\"4601311364\": true,\"4603732973\": true,\"4651130842\": true,\"4652320541\": true,\"4655370946\": true,\"4661301597\": true,\"4603732973\": true,\"4803603968\": true,\"4604246571\": true,\"4606374940\": true,\"4606374940\": true,\"4486756552\": true,\"4600251007\": true,\"4784061264\": true,\"4841433335\": true,\"4821338128\": true,\"4838987244\": true,\"31963346\": true,\"4699022531\": true,\"4556307520\": true,\"9625494599\": \\ntrue,\"57341306\": true,\"4829205770\": true,\"9385513290\": true,\"4873357430\": \\ntrue,\"4556307520\": true\\n\\n                }\\n         },      \\n         key: \\'05814563-51c5-414e-a385-f7f2ed38328e\\'\\n    };\\n</script>\\n<script src=\"//rumcdn.geoedge.be/05814563-51c5-414e-a385-f7f2ed38328e/grumi-ip.js\" async=\"\"></script>\\n\\n<!--Rubicon-->\\n<script async=\"async\" src=\"https://ads.rubiconproject.com/prebid/12154_k_prod.js\"></script>\\n<script type=\"text/javascript\">\\n    !function (a9, a, p, s, t, A, g) { if (a[a9]) return; function q(c, r) { a[a9]._Q.push([c, r]) } a[a9] = { init: function () { q(\\'i\\', arguments) }, fetchBids: function () { q(\\'f\\', arguments) }, setDisplayBids: function () { }, targetingKeys: function () { return [] }, _Q: [] }; A = p.createElement(s); A.async = !0; A.src = t; g = p.getElementsByTagName(s)[0]; g.parentNode.insertBefore(A, g) }(\\'apstag\\', window, document, \\'script\\', \\'//c.amazon-adsystem.com/aax2/apstag.js\\');\\n</script>\\n\\n<script type=\"text/javascript\">\\n    var pbjs = pbjs || {};\\n    pbjs.que = pbjs.que || [];\\n    var headerBiddingSlots = [];\\n    var nonHeaderBiddingSlots = [];\\n</script>\\n<script async=\"async\" src=\"https://securepubads.g.doubleclick.net/tag/js/gpt.js\"></script>\\n<script>\\n    var googletag = googletag || {};\\n    googletag.cmd = googletag.cmd || [];\\n</script>\\n<script type=\"text/javascript\">\\n  googletag.cmd.push(function() {\\n    var gptAdSlots=[];\\n    gptAdSlots[0] = googletag.defineSlot(\\'/116070306/k/categorytop/300x250\\', [300,250], \\'div-gpt-ad-k/categorytop/300x250\\').addService(googletag.pubads());\\ngptAdSlots[1] = googletag.defineSlot(\\'/116070306/k/header_text\\', [475,17], \\'div-gpt-ad-k/header_text\\').addService(googletag.pubads());\\ngptAdSlots[2] = googletag.defineSlot(\\'/116070306/k/categorytop/728x90\\', [[728,90],[970,90],[970,250]], \\'div-gpt-ad-k/categorytop/728x90\\').addService(googletag.pubads());\\ngptAdSlots[3] = googletag.defineSlot(\\'/116070306/k/categorytop/footer_left/300x250\\', [300,250], \\'div-gpt-ad-k/categorytop/footer_left/300x250\\').addService(googletag.pubads());\\ngptAdSlots[4] = googletag.defineSlot(\\'/116070306/k/categorytop/footer_right/300x250\\', [300,250], \\'div-gpt-ad-k/categorytop/footer_right/300x250\\').addService(googletag.pubads());\\n    \\n    headerBiddingSlots.push(gptAdSlots[0]);\\nheaderBiddingSlots.push(gptAdSlots[2]);\\nheaderBiddingSlots.push(gptAdSlots[3]);\\nheaderBiddingSlots.push(gptAdSlots[4]);\\n\\n    nonHeaderBiddingSlots.push(gptAdSlots[1]);\\n    \\n    googletag.pubads().disableInitialLoad();\\n    googletag.pubads().enableSingleRequest();\\n    googletag.pubads().setTargeting(\\'k_Top_Category\\', \\'kaden\\');\\n    googletag.enableServices();\\n\\n    if (nonHeaderBiddingSlots.length > 0) {\\n      googletag.pubads().refresh(nonHeaderBiddingSlots);\\n    }\\n  });\\n\\n  (function () {\\n    apstag.init({\\n      pubID: \\'3950\\',\\n      adServer: \\'googletag\\',\\n      bidTimeout: 2000\\n    });\\n\\n    var apstagSlots = [{\\n  slotID: \\'div-gpt-ad-k/categorytop/300x250\\',\\n  slotName: \\'/116070306/k/categorytop/300x250\\',\\n  sizes: [300,250]\\n}, {\\n  slotID: \\'div-gpt-ad-k/categorytop/728x90\\',\\n  slotName: \\'/116070306/k/categorytop/728x90\\',\\n  sizes: [728,90]\\n}, {\\n  slotID: \\'div-gpt-ad-k/categorytop/footer_left/300x250\\',\\n  slotName: \\'/116070306/k/categorytop/footer_left/300x250\\',\\n  sizes: [300,250]\\n}, {\\n  slotID: \\'div-gpt-ad-k/categorytop/footer_right/300x250\\',\\n  slotName: \\'/116070306/k/categorytop/footer_right/300x250\\',\\n  sizes: [300,250]\\n}];\\n    function fetchHeaderBids() {\\n      var bidders = [\\'a9\\', \\'prebid\\'];\\n\\n      var requestManager = {\\n        adserverRequestSent: false\\n      };\\n\\n      bidders.forEach(function (bidder) {\\n        requestManager[bidder] = false;\\n      })\\n\\n      function allBiddersBack() {\\n        var allBiddersBack = bidders\\n          .map(function (bidder) { return requestManager[bidder]; })\\n          .filter(function (bool) { return bool; })\\n          .length === bidders.length;\\n        return allBiddersBack;\\n      }\\n\\n      function headerBidderBack(bidder) {\\n        if (requestManager.adserverRequestSent === true) {\\n          return;\\n        }\\n        if (bidder === \\'a9\\') {\\n          googletag.cmd.push(function () {\\n            apstag.setDisplayBids();\\n          });\\n        } else if (bidder === \\'prebid\\') {\\n          // DO NOTHING\\n        }\\n\\n        requestManager[bidder] = true;\\n\\n        if (allBiddersBack()) {\\n          sendAdserverRequest();\\n        }\\n      }\\n\\n      function sendAdserverRequest() {\\n        if (requestManager.adserverRequestSent === true) {\\n          return;\\n        }\\n        requestManager.adserverRequestSent = true;\\n        googletag.cmd.push(function () {\\n          googletag.pubads().refresh(headerBiddingSlots);\\n        });\\n      }\\n\\n      function requestBids() {\\n        if (apstagSlots.length > 0) {\\n          apstag.fetchBids({\\n            slots: apstagSlots\\n          }, function(bids) {\\n            headerBidderBack(\\'a9\\');\\n          });\\n        }\\n\\n        googletag.cmd.push(function () {\\n          pbjs.que.push(function () {\\n            pbjs.rp.requestBids({\\n              callback: function (bidResponses) {\\n                headerBidderBack(\\'prebid\\');\\n              },\\n              gptSlotObjects: headerBiddingSlots\\n            });\\n          });\\n        });\\n      }\\n\\n      requestBids();\\n\\n      window.setTimeout(function () {\\n        sendAdserverRequest();\\n      }, 3000);\\n    }\\n\\n    fetchHeaderBids();\\n  })();\\n</script>\\n<!--ad_end-->\\n<script src=\"//assets.adobedtm.com/3687940b53f7a560587a33c8bb748b9253ff5ea9/satelliteLib-29577dfd7f420978cd93f3d1b2d6ee3a7d40cf53.js\"></script><script async=\"\" src=\"https://s.yimg.jp/images/listing/tool/cv/ytag.js\"></script>\\n<script>\\n\\nwindow.yjDataLayer = window.yjDataLayer || [];\\nfunction ytag() { yjDataLayer.push(arguments); }\\n\\nytag({\"type\":\"ycl_cookie\", \"config\":{\"ycl_use_non_cookie_storage\":true}});\\n</script>\\n\\n<meta http-equiv=\"origin-trial\" content=\"A2shzsdPO+RKe83bUqT9oVkYwGZN6j9O7nrcOASNFPuQz8HefgVYb9qAqn6coNCSDIRtXoi6ybCrjEsYh3caFgIAAAB7eyJvcmlnaW4iOiJodHRwczovL2RvdWJsZWNsaWNrLm5ldDo0NDMiLCJmZWF0dXJlIjoiVHJ1c3RUb2tlbnMiLCJleHBpcnkiOjE2MTM0OTU4NjgsImlzU3ViZG9tYWluIjp0cnVlLCJpc1RoaXJkUGFydHkiOnRydWV9\"><meta http-equiv=\"origin-trial\" content=\"AxL6K+7uLMunmYb1wpp/pnDPBsoQgMGPaTDkE6HIAKvHNoXilVyfzrIZM9q7OUqMUDJCYgIlFmJcvooS3kGjowMAAACOeyJvcmlnaW4iOiJodHRwczovL3d3dy5nb29nbGVhZHNlcnZpY2VzLmNvbTo0NDMiLCJmZWF0dXJlIjoiQ29udmVyc2lvbk1lYXN1cmVtZW50IiwiZXhwaXJ5IjoxNjE0MTI0Nzk5LCJpc1N1YmRvbWFpbiI6dHJ1ZSwiaXNUaGlyZFBhcnR5Ijp0cnVlfQ==\"><script src=\"https://securepubads.g.doubleclick.net/gpt/pubads_impl_2021012801.js?21069974\" async=\"\"></script><link rel=\"preload\" href=\"https://adservice.google.com.tw/adsid/integrator.js?domain=kakaku.com\"><script type=\"text/javascript\" src=\"https://adservice.google.com.tw/adsid/integrator.js?domain=kakaku.com\"></script><link rel=\"preload\" href=\"https://adservice.google.com/adsid/integrator.js?domain=kakaku.com\"><link rel=\"stylesheet\" type=\"text/css\" href=\"//css1.kakaku.k-img.com/css/push.css\" media=\"all\"><script type=\"text/javascript\" src=\"https://adservice.google.com/adsid/integrator.js?domain=kakaku.com\"></script><script src=\"https://www.googleadservices.com/pagead/conversion/1039335471/?random=1612087467357&amp;cv=9&amp;fst=1612087467357&amp;num=1&amp;value=0&amp;label=ED-6CNHMogIQr4DM7wM&amp;bg=666666&amp;hl=en&amp;guid=ON&amp;resp=GooglemKTybQhCsO&amp;u_h=768&amp;u_w=1024&amp;u_ah=768&amp;u_aw=1024&amp;u_cd=24&amp;u_his=1&amp;u_tz=0&amp;u_java=false&amp;u_nplug=1&amp;u_nmime=2&amp;ig=1&amp;frm=0&amp;url=https%3A%2F%2Fkakaku.com%2Fkaden%2F&amp;tiba=%E3%80%90%E4%BE%A1%E6%A0%BC.com%E3%80%91%E5%AE%B6%E9%9B%BB%20%7C%20%E9%80%9A%E8%B2%A9%E3%83%BB%E4%BE%A1%E6%A0%BC%E6%AF%94%E8%BC%83%E3%83%BB%E8%A3%BD%E5%93%81%E6%83%85%E5%A0%B1&amp;hn=www.googleadservices.com&amp;rfmt=3&amp;fmt=4\"></script><script src=\"https://googleads.g.doubleclick.net/pagead/viewthroughconversion/1039335471/?random=1612087467423&amp;cv=9&amp;fst=1612087467357&amp;num=2&amp;guid=ON&amp;resp=GooglemKTybQhCsO&amp;eid=376635471&amp;u_h=768&amp;u_w=1024&amp;u_ah=768&amp;u_aw=1024&amp;u_cd=24&amp;u_his=1&amp;u_tz=0&amp;u_java=false&amp;u_nplug=1&amp;u_nmime=2&amp;ig=1&amp;data=ecomm_prodid%3D%3Becomm_pagetype%3Dcategory%3Becomm_totalvalue%3D&amp;frm=0&amp;url=https%3A%2F%2Fkakaku.com%2Fkaden%2F&amp;tiba=%E3%80%90%E4%BE%A1%E6%A0%BC.com%E3%80%91%E5%AE%B6%E9%9B%BB%20%7C%20%E9%80%9A%E8%B2%A9%E3%83%BB%E4%BE%A1%E6%A0%BC%E6%AF%94%E8%BC%83%E3%83%BB%E8%A3%BD%E5%93%81%E6%83%85%E5%A0%B1&amp;hn=www.googleadservices.com&amp;rfmt=3&amp;fmt=4\"></script><script src=\"https://googleads.g.doubleclick.net/pagead/viewthroughconversion/859636895/?random=1612087467670&amp;cv=9&amp;fst=1612087467670&amp;num=1&amp;label=6bidCJ7Jka4BEJ-J9JkD&amp;guid=ON&amp;resp=GooglemKTybQhCsO&amp;eid=376635470&amp;u_h=768&amp;u_w=1024&amp;u_ah=768&amp;u_aw=1024&amp;u_cd=24&amp;u_his=1&amp;u_tz=0&amp;u_java=false&amp;u_nplug=1&amp;u_nmime=2&amp;gtm=2wg1k0&amp;ig=1&amp;frm=0&amp;url=https%3A%2F%2Fkakaku.com%2Fkaden%2F&amp;tiba=%E3%80%90%E4%BE%A1%E6%A0%BC.com%E3%80%91%E5%AE%B6%E9%9B%BB%20%7C%20%E9%80%9A%E8%B2%A9%E3%83%BB%E4%BE%A1%E6%A0%BC%E6%AF%94%E8%BC%83%E3%83%BB%E8%A3%BD%E5%93%81%E6%83%85%E5%A0%B1&amp;hn=www.googleadservices.com&amp;async=1&amp;rfmt=3&amp;fmt=4\"></script><script src=\"https://googleads.g.doubleclick.net/pagead/viewthroughconversion/859636895/?random=1612087467672&amp;cv=9&amp;fst=1612087467672&amp;num=1&amp;label=w2lUCLrG224Qn4n0mQM&amp;guid=ON&amp;resp=GooglemKTybQhCsO&amp;u_h=768&amp;u_w=1024&amp;u_ah=768&amp;u_aw=1024&amp;u_cd=24&amp;u_his=1&amp;u_tz=0&amp;u_java=false&amp;u_nplug=1&amp;u_nmime=2&amp;gtm=2wg1k0&amp;ig=1&amp;frm=0&amp;url=https%3A%2F%2Fkakaku.com%2Fkaden%2F&amp;tiba=%E3%80%90%E4%BE%A1%E6%A0%BC.com%E3%80%91%E5%AE%B6%E9%9B%BB%20%7C%20%E9%80%9A%E8%B2%A9%E3%83%BB%E4%BE%A1%E6%A0%BC%E6%AF%94%E8%BC%83%E3%83%BB%E8%A3%BD%E5%93%81%E6%83%85%E5%A0%B1&amp;hn=www.googleadservices.com&amp;async=1&amp;rfmt=3&amp;fmt=4\"></script></head>\\n\\n<body>\\n\\n<div class=\"c-jack\">\\n\\n<div class=\"l-wrap-top l-color-3\" id=\"kaden\">\\n\\n<div class=\"l-h\">\\n<div class=\"l-h_in l-h_in-1\">\\n<div class=\"l-h_in_cell l-h_in_cell-location\">\\n<p class=\"l-h_siteTtl\"><a href=\"/\"><img src=\"https://img1.kakaku.k-img.com/images/logo.png\" alt=\"価格.com\" width=\"144\" height=\"25\" class=\"l-h_siteTtl_entity\"></a></p>\\n<p class=\"l-h_catTtl\"><a href=\"/kaden/\"><img src=\"https://img1.kakaku.k-img.com/images/icon_kaden.gif\" alt=\"家電\" height=\"40\" class=\"l-h_catTtl_entity\"></a></p>\\n</div><!-- /l-h_in_cell -->\\n<div class=\"l-h_in_cell l-h_in_cell-service\">\\n<div class=\"l-h_ad\">\\n<div class=\"c-ad c-ad-size1\">\\n<div class=\"l-h_ad\">\\n    <div class=\"c-ad c-ad-size1\">\\n        <div class=\"prText b4\">\\n            \\n<div id=\"div-gpt-ad-k/header_text\" data-google-query-id=\"CPXb3eb1xe4CFRUZYAodPscHrA\">\\n    \\n<div id=\"google_ads_iframe_/116070306/k/header_text_0__container__\" style=\"border: 0pt none;\"><iframe id=\"google_ads_iframe_/116070306/k/header_text_0\" title=\"3rd party ad content\" name=\"google_ads_iframe_/116070306/k/header_text_0\" width=\"475\" height=\"17\" scrolling=\"no\" marginwidth=\"0\" marginheight=\"0\" frameborder=\"0\" srcdoc=\"\" data-google-container-id=\"1\" data-load-complete=\"true\" style=\"border: 0px; vertical-align: bottom;\"></iframe></div></div>\\n\\n        </div>\\n    </div><!-- /c-ad -->\\n</div><!-- /l-h_ad -->\\n</div><!-- /c-ad -->\\n</div><!-- /l-h_ad -->\\n<div class=\"l-h_usage\">\\n<iframe src=\"/auth/inc_idcore_top_v2.asp\" width=\"475\" height=\"23\" frameborder=\"0\" noresize=\"noresize\" scrolling=\"No\" class=\"c1\"></iframe>\\n</div><!-- /l-h_usage -->\\n</div><!-- /l-h_in_cell -->\\n</div><!-- /l-h_in -->\\n<div class=\"l-h_in l-h_in-2\">\\n<div class=\"l-h_in_cell l-h_in_cell-pageTtl\">\\n<h1 class=\"l-h_pageTtl\">家電 通販 価格比較</h1>\\n</div><!-- /l-h_in_cell -->\\n<div class=\"l-h_in_cell l-h_in_cell-property\">\\n<ul class=\"l-h_sns p-sns-1\">\\n<script>\\n<!--\\ndispBkmrkBtn(\\'https:\\\\/\\\\/kakaku.com\\\\/kaden\\\\/\\');\\n-->\\n</script><li class=\"bkmrkFacebook\"><iframe src=\"https://www.facebook.com/plugins/like.php?href=https%3A%2F%2Fkakaku.com%2Fkaden%2F&amp;layout=button_count&amp;show_faces=true&amp;width=121&amp;action=like&amp;colorscheme=light&amp;height=21\" scrolling=\"no\" frameborder=\"0\" style=\"border:none; overflow:hidden; width:121px; height:25px;\" allowtransparency=\"true\"></iframe></li><li class=\"bkmrkTwitter\"><a href=\"javascript:void(0)\" onclick=\"regClip(\\'twitter\\', \\'https:\\\\/\\\\/kakaku.com\\\\/kaden\\\\/\\',this); return false\" target=\"_blank\"></a></li>\\n</ul>\\n<p class=\"l-h_guide\"><a href=\"/help/guide_01_1.html\"><img src=\"https://img1.kakaku.k-img.com/images/category/icon_guide.png\" alt=\"\" width=\"24\" height=\"24\"></a></p>\\n</div><!-- /l-h_in_cell -->\\n</div><!-- /l-h_in -->\\n<div class=\"l-h_bread\">\\n<ul>\\n<li class=\"l-h_bread_drops\">\\n<span>\\n<a href=\"/\" class=\"l-h_bread_drops_link\"><span>ホーム</span></a>\\n</span>\\n</li>\\n<li class=\"l-h_bread_drops l-h_bread_current\">\\n<span>\\n<span><strong>家電</strong></span>\\n</span>\\n</li>\\n</ul>\\n</div><!-- /l-bread -->\\n</div><!-- /l-h -->\\n\\n<div class=\"l-c l-c-2column l-c-2column-reverse\">\\n\\n<div class=\"c-ad c-ad-size4\">\\n    <div class=\"bnSuper\">\\n        \\n<div id=\"div-gpt-ad-k/categorytop/728x90\" align=\"center\" data-google-query-id=\"CI6auuf1xe4CFc5CYAodmssDSw\">\\n    \\n<div id=\"google_ads_iframe_/116070306/k/categorytop/728x90_0__container__\" style=\"border: 0pt none; display: inline-block; width: 728px; height: 90px;\"><iframe frameborder=\"0\" src=\"https://6688305c97ca48b6af60c3e81e25065c.safeframe.googlesyndication.com/safeframe/1-0-37/html/container.html\" id=\"google_ads_iframe_/116070306/k/categorytop/728x90_0\" title=\"3rd party ad content\" name=\"\" scrolling=\"no\" marginwidth=\"0\" marginheight=\"0\" width=\"728\" height=\"90\" data-is-safeframe=\"true\" data-google-container-id=\"3\" data-load-complete=\"true\" style=\"border: 0px; vertical-align: bottom;\"></iframe></div></div>\\n\\n    </div>\\n</div>\\n\\n\\n<div class=\"l-c_side l-c-2column_side p-side\">\\n\\n<!-- 季節注目カテゴリ枠 ここから -->\\n<div class=\"c-box-menuBox p-ct_pickupRecommend\">\\n<div class=\"c-box-menuTtl c-box-menuTtl-icon-1 c-box-menuTtl-icon-1-1\">\\n<h2 class=\"c-box-menuTtl_lines\">家電ピックアップ</h2>\\n</div><!-- /c-box-menuTtl -->\\n<!-- ピックアップ特集枠 ここから -->\\n<div class=\"c-sTtl-1\">\\n<p class=\"c-sTtl-1_lines\">ピックアップ特集</p>\\n</div>\\n<ul class=\"c-list1 c-list1-1 c-list1-btm\">\\n\\n<li class=\"c-list1_cell s-biggerlink s-biggerlinkHover_bg-2 is-biggerlinkHot\" style=\"cursor: pointer;\">\\n<span class=\"p-ct_pickupRecommend_phrase\">2020年、家電製品の大賞は！？</span>\\n<a href=\"/productaward/?lid=award2020_catetop_kaden_leftmenu\" class=\"p-ct_pickupRecommend_lines s-biggerlinkHover_underline is-biggerlinkBigger\">価格.comプロダクトアワード</a>\\n</li>\\n<li class=\"c-list1_cell s-biggerlink s-biggerlinkHover_bg-2 is-biggerlinkHot\" style=\"cursor: pointer;\">\\n<span class=\"p-ct_pickupRecommend_phrase\">各分野のプロが指南！</span>\\n<a href=\"/kaden/article/newlife/?lid=pc_pickupleft_kaden03\" class=\"p-ct_pickupRecommend_lines s-biggerlinkHover_underline is-biggerlinkBigger\">一人暮らし、同棲・夫婦、家族暮らしの家電・家具選び</a>\\n</li>\\n<li class=\"c-list1_cell s-biggerlink s-biggerlinkHover_bg-2 is-biggerlinkHot\" style=\"cursor: pointer;\">\\n<span class=\"p-ct_pickupRecommend_phrase\">1月が「買い時」な製品は何？</span>\\n<a href=\"/calendar/?lid=pc_pickupleft_kaden07\" class=\"p-ct_pickupRecommend_lines s-biggerlinkHover_underline is-biggerlinkBigger\">旬のお買物情報1月号</a>\\n</li>\\n<li class=\"c-list1_cell s-biggerlink s-biggerlinkHover_bg-2 is-biggerlinkHot\" style=\"cursor: pointer;\">\\n<span class=\"p-ct_pickupRecommend_phrase\">2019年10月1日スタート！</span>\\n<a href=\"/article/sp/zeroemi/?lid=pickupleft_kaden04\" class=\"p-ct_pickupRecommend_lines s-biggerlinkHover_underline is-biggerlinkBigger\">東京ゼロエミポイント特集</a>\\n</li>\\n\\n</ul>\\n<!-- ピックアップ特集枠 ここまで -->\\n<div class=\"c-sTtl-1\">\\n<p class=\"c-sTtl-1_lines\">注目カテゴリ</p>\\n</div><!-- /c-sTtl-1 -->\\n<ul class=\"c-list1 c-list1-1\">\\n<li class=\"c-list1_cell s-biggerlink s-biggerlinkHover_bg-2 is-biggerlinkHot\" style=\"cursor: pointer;\">\\n<span class=\"p-ct_pickupRecommend_phrase\">最新式に買い替えよう</span>\\n<a href=\"/kaden/aircon/?lid=pc_hotcategory_kaden01\" class=\"p-ct_pickupRecommend_lines s-biggerlinkHover_underline is-biggerlinkBigger\">エアコン・クーラー</a></li>\\n<li class=\"c-list1_cell s-biggerlink s-biggerlinkHover_bg-2 is-biggerlinkHot\" style=\"cursor: pointer;\">\\n<span class=\"p-ct_pickupRecommend_phrase\">話題の新作をチェック</span>\\n<a href=\"/kaden/air-purifier/?lid=pc_hotcategory_kaden02\" class=\"p-ct_pickupRecommend_lines s-biggerlinkHover_underline is-biggerlinkBigger\">空気清浄機</a></li>\\n<li class=\"c-list1_cell s-biggerlink s-biggerlinkHover_bg-2 is-biggerlinkHot\" style=\"cursor: pointer;\">\\n<span class=\"p-ct_pickupRecommend_phrase\">人気の製品をチェックしよう</span>\\n<a href=\"/kaden/heater/?lid=pc_hotcategory_kaden03\" class=\"p-ct_pickupRecommend_lines s-biggerlinkHover_underline is-biggerlinkBigger\">ヒーター・ストーブ</a></li>\\n<li class=\"c-list1_cell s-biggerlink s-biggerlinkHover_bg-2 is-biggerlinkHot\" style=\"cursor: pointer;\">\\n<span class=\"p-ct_pickupRecommend_phrase\">乾燥知らずのお部屋にしよう</span>\\n<a href=\"/kaden/humidifier/?lid=pc_hotcategory_kaden04\" class=\"p-ct_pickupRecommend_lines s-biggerlinkHover_underline is-biggerlinkBigger\">加湿器</a></li>\\n</ul>\\n</div><!-- /p-ct_pickupRecommend -->\\n<!-- 季節注目カテゴリ枠 ここまで --> \\n\\n<!-- impression ここから -->\\n<link href=\"https://css1.kakaku.k-img.com/css/impression/module/pc/imp_ui_side.css\" rel=\"stylesheet\" type=\"text/css\">\\n<div class=\"imp_sideBox\">\\n\\t<div class=\"imp_sideBox_ttl\">価格.com インプレッション</div>\\n\\t<div class=\"imp_sideBox_inner\">\\n\\t\\t<p class=\"imp_sideBox_line\"><span class=\"imp_sideBox_label\">REPORT</span><a href=\"/kaden/rice-cooker/impression/?lid=kimp_impcatetop_catetop\" class=\"imp_sideBox_link\">注目の炊飯器を価格.comが使ってレポート</a></p>\\n\\t\\t<p class=\"imp_sideBox_line\"><span class=\"imp_sideBox_label\">Pro\\'s Choice</span><a href=\"/impression/pros_choice/vol_2/?lid=kimp_prosarticle_catetop_menu\" class=\"imp_sideBox_link\">プロのフードディレクターが選ぶキッチン家電＋調理器具</a></p>\\n\\t</div>\\n</div>\\n<!-- impression ここまで --> \\n\\n\\n<div class=\"c-box-menuBox\">\\n<div class=\"c-box-menuTtl c-box-menuTtl-icon-1 c-box-menuTtl-icon-1-1\">\\n<h2 class=\"c-box-menuTtl_lines\">AV・情報家電</h2>\\n</div><!-- /c-box-menuTtl -->\\n<div class=\"c-sTtl-1\">\\n<p class=\"c-sTtl-1_lines\">映像表示</p></div><!-- /c-sTtl-1 -->\\n<ul class=\"c-list1 c-list1-btm\">\\n<li class=\"c-list1_cell\"><a href=\"/kaden/lcd-tv/\" class=\"c-box-menuBox_blockLink\">薄型テレビ・液晶テレビ</a></li>\\n<li class=\"c-list1_cell\"><a href=\"/kaden/portable-tv/\" class=\"c-box-menuBox_blockLink\">携帯テレビ・ポータブルテレビ</a></li>\\n<li class=\"c-list1_cell\"><a href=\"/pc/projector/\" class=\"c-box-menuBox_blockLink\">プロジェクタ</a></li>\\n<li class=\"c-list1_cell\"><a href=\"/pc/projector-screen/\" class=\"c-box-menuBox_blockLink\">プロジェクタスクリーン</a></li>\\n</ul>\\n\\n<div class=\"c-sTtl-1 u-mTop20\">\\n<p class=\"c-sTtl-1_lines\">映像記録・再生</p></div><!-- /c-sTtl-1 -->\\n<ul class=\"c-list1 c-list1-btm\">\\n<li class=\"c-list1_cell\"><a href=\"/kaden/dvd-recorder/\" class=\"c-box-menuBox_blockLink\">ブルーレイ・DVDレコーダー</a></li>\\n<li class=\"c-list1_cell\"><a href=\"/pc/external-hdd/\" class=\"c-box-menuBox_blockLink\">外付け ハードディスク</a></li>\\n<li class=\"c-list1_cell c-box-menuBox_childItem\"><a href=\"/pc/portable-hdd/\" class=\"c-box-menuBox_blockLink\">ポータブルHDD</a></li>\\n<li class=\"c-list1_cell\"><a href=\"/kaden/blu-ray-player/\" class=\"c-box-menuBox_blockLink\">ブルーレイプレーヤー</a></li>\\n<li class=\"c-list1_cell\"><a href=\"/kaden/dvd-player/\" class=\"c-box-menuBox_blockLink\">DVDプレーヤー</a></li>\\n<li class=\"c-list1_cell\"><a href=\"/kaden/portable-dvd-player/\" class=\"c-box-menuBox_blockLink\">ポータブルブルーレイ・DVDプレーヤー</a></li>\\n</ul>\\n\\n<div class=\"c-sTtl-1 u-mTop20\">\\n<p class=\"c-sTtl-1_lines\">映像接続</p></div><!-- /c-sTtl-1 -->\\n<ul class=\"c-list1 c-list1-btm\">\\n<li class=\"c-list1_cell\"><a href=\"/kaden/digital-tv-tuner/\" class=\"c-box-menuBox_blockLink\">地デジ・デジタルテレビチューナー</a></li>\\n<li class=\"c-list1_cell\"><a href=\"/kaden/tv-antenna/\" class=\"c-box-menuBox_blockLink\">地デジアンテナ</a></li>\\n<li class=\"c-list1_cell\"><a href=\"/kaden/antenna-others/\" class=\"c-box-menuBox_blockLink\">BS・CSアンテナ</a></li>\\n<li class=\"c-list1_cell\"><a href=\"/kaden/tv-booster/\" class=\"c-box-menuBox_blockLink\">テレビブースター</a></li>\\n<li class=\"c-list1_cell\"><a href=\"/kaden/av-selector/\" class=\"c-box-menuBox_blockLink\">AVセレクター</a></li>\\n<li class=\"c-list1_cell\"><a href=\"/kaden/hdmi-cable/\" class=\"c-box-menuBox_blockLink\">HDMIケーブル</a></li>\\n<li class=\"c-list1_cell\"><a href=\"/kaden/av-cable/\" class=\"c-box-menuBox_blockLink\">AVケーブル</a></li>\\n<li class=\"c-list1_cell c-box-menuBox_childItem\"><a href=\"/kaden/optical-cable/\" class=\"c-box-menuBox_blockLink\">光デジタルケーブル(TOSLINK)</a></li>\\n<li class=\"c-list1_cell c-box-menuBox_childItem\"><a href=\"/kaden/pinplug-cable/\" class=\"c-box-menuBox_blockLink\">RCAケーブル(ピンプラグ)</a></li>\\n<li class=\"c-list1_cell\"><a href=\"/pc/lan-cable/\" class=\"c-box-menuBox_blockLink\">LANケーブル</a></li>\\n</ul>\\n\\n<div class=\"c-sTtl-1 u-mTop20\">\\n<p class=\"c-sTtl-1_lines\">リモコン・周辺機器</p></div><!-- /c-sTtl-1 -->\\n<ul class=\"c-list1 c-list1-btm\">\\n<li class=\"c-list1_cell\"><a href=\"/kaden/tv-controller/\" class=\"c-box-menuBox_blockLink\">テレビリモコン</a></li>\\n<li class=\"c-list1_cell c-box-menuBox_childItem\"><a href=\"/kaden/l-controller/\" class=\"c-box-menuBox_blockLink\">学習リモコン・スマートリモコン</a></li>\\n<li class=\"c-list1_cell\"><a href=\"/kaden/tv-others/\" class=\"c-box-menuBox_blockLink\">テレビオプション</a></li>\\n<li class=\"c-list1_cell\"><a href=\"/pc/wireless-router/\" class=\"c-box-menuBox_blockLink\">無線LANルーター(Wi-Fiルーター)</a></li>\\n<li class=\"c-list1_cell\"><a href=\"/pc/wireless-access-point/\" class=\"c-box-menuBox_blockLink\">無線LAN中継機・アクセスポイント</a></li>\\n<li class=\"c-list1_cell\"><a href=\"/pc/lcd-film/\" class=\"c-box-menuBox_blockLink\">液晶保護フィルム</a></li>\\n</ul>\\n\\n<div class=\"c-sTtl-1 u-mTop20\">\\n<p class=\"c-sTtl-1_lines\">オーディオ（ポータブル）</p></div><!-- /c-sTtl-1 -->\\n<ul class=\"c-list1 c-list1-btm\">\\n<li class=\"c-list1_cell\"><a href=\"/kaden/headphones/\" class=\"c-box-menuBox_blockLink\">イヤホン・ヘッドホン</a></li>\\n<li class=\"c-list1_cell c-box-menuBox_childItem\"><a href=\"/kaden/overhead/\" class=\"c-box-menuBox_blockLink\">オーバーヘッドヘッドホン</a></li>\\n<li class=\"c-list1_cell c-box-menuBox_childItem\"><a href=\"/kaden/canal-earphone/\" class=\"c-box-menuBox_blockLink\">カナル型イヤホン</a></li>\\n<li class=\"c-list1_cell c-box-menuBox_childItem\"><a href=\"/kaden/bt-earphone/\" class=\"c-box-menuBox_blockLink\">Bluetoothイヤホン</a></li>\\n<li class=\"c-list1_cell c-box-menuBox_childItem\"><a href=\"/kaden/bt-headphone/\" class=\"c-box-menuBox_blockLink\">Bluetoothヘッドホン</a></li>\\n<li class=\"c-list1_cell\"><a href=\"/kaden/recable/\" class=\"c-box-menuBox_blockLink\">イヤホン・ヘッドホン用リケーブル</a></li>\\n<li class=\"c-list1_cell\"><a href=\"/pc/headset/\" class=\"c-box-menuBox_blockLink\">ヘッドセット</a></li>\\n<li class=\"c-list1_cell\"><a href=\"/kaden/headphone-amp/\" class=\"c-box-menuBox_blockLink\">ヘッドホンアンプ・DAC</a></li>\\n<li class=\"c-list1_cell c-box-menuBox_childItem\"><a href=\"/kaden/deferment-amp/\" class=\"c-box-menuBox_blockLink\">据え置き型ヘッドホンアンプ</a></li>\\n<li class=\"c-list1_cell c-box-menuBox_childItem\"><a href=\"/kaden/p-headphone-amp/\" class=\"c-box-menuBox_blockLink\">ポータブルヘッドホンアンプ(ポタアン)</a></li>\\n<li class=\"c-list1_cell\"><a href=\"/pc/bluetooth-speaker/\" class=\"c-box-menuBox_blockLink\">Bluetoothスピーカー</a></li>\\n<li class=\"c-list1_cell\"><a href=\"/pc/mp3-player/\" class=\"c-box-menuBox_blockLink\">デジタルオーディオプレーヤー(DAP)</a></li>\\n<li class=\"c-list1_cell\"><a href=\"/pc/mp3-accessories/\" class=\"c-box-menuBox_blockLink\">デジタルオーディオプレーヤーアクセサリ</a></li>\\n<li class=\"c-list1_cell\"><a href=\"/kaden/portable-cd-player/\" class=\"c-box-menuBox_blockLink\">ポータブルCD</a></li>\\n<li class=\"c-list1_cell\"><a href=\"/kaden/boombox/\" class=\"c-box-menuBox_blockLink\">ラジカセ</a></li>\\n<li class=\"c-list1_cell\"><a href=\"/kaden/ic-recorder/\" class=\"c-box-menuBox_blockLink\">ICレコーダー</a></li>\\n</ul>\\n\\n<div class=\"c-sTtl-1 u-mTop20\">\\n<p class=\"c-sTtl-1_lines\">オーディオ（ホーム）</p></div><!-- /c-sTtl-1 -->\\n<ul class=\"c-list1 c-list1-btm\">\\n<li class=\"c-list1_cell\"><a href=\"/kaden/home-theater-speaker/\" class=\"c-box-menuBox_blockLink\">ホームシアター スピーカー</a></li>\\n<li class=\"c-list1_cell c-box-menuBox_childItem\"><a href=\"/kaden/home-soundbar-speaker/\" class=\"c-box-menuBox_blockLink\">サウンドバー(シアターバー)</a></li>\\n<li class=\"c-list1_cell\"><a href=\"/kaden/speaker/\" class=\"c-box-menuBox_blockLink\">スピーカー</a></li>\\n<li class=\"c-list1_cell c-box-menuBox_childItem\"><a href=\"/kaden/woofer/\" class=\"c-box-menuBox_blockLink\">ウーハー</a></li>\\n<li class=\"c-list1_cell c-box-menuBox_childItem\"><a href=\"/kaden/bookshelf/\" class=\"c-box-menuBox_blockLink\">ブックシェルフスピーカー</a></li>\\n<li class=\"c-list1_cell c-box-menuBox_childItem\"><a href=\"/kaden/tallboy/\" class=\"c-box-menuBox_blockLink\">トールボーイスピーカー</a></li>\\n<li class=\"c-list1_cell\"><a href=\"/kaden/speaker-stand/\" class=\"c-box-menuBox_blockLink\">スピーカースタンド</a></li>\\n<li class=\"c-list1_cell\"><a href=\"/kaden/ss_0002_0109/0001/\" class=\"c-box-menuBox_blockLink\">スピーカーアクセサリ</a></li>\\n<li class=\"c-list1_cell\"><a href=\"/kaden/av-amp/\" class=\"c-box-menuBox_blockLink\">AVアンプ</a></li>\\n<li class=\"c-list1_cell\"><a href=\"/kaden/integrated-amplifier/\" class=\"c-box-menuBox_blockLink\">プリメインアンプ</a></li>\\n<li class=\"c-list1_cell\"><a href=\"/kaden/mini-system/\" class=\"c-box-menuBox_blockLink\">ミニコンポ・セットコンポ</a></li>\\n<li class=\"c-list1_cell\"><a href=\"/kaden/cd-player/\" class=\"c-box-menuBox_blockLink\">CDプレーヤー</a></li>\\n<li class=\"c-list1_cell\"><a href=\"/pc/sound-card/\" class=\"c-box-menuBox_blockLink\">サウンドカード・ユニット</a></li>\\n<li class=\"c-list1_cell\"><a href=\"/kaden/audio-others/\" class=\"c-box-menuBox_blockLink\">その他オーディオ機器</a></li>\\n<li class=\"c-list1_cell\"><a href=\"/kaden/network_audio/\" class=\"c-box-menuBox_blockLink\">ネットワークオーディオプレーヤー</a></li>\\n<li class=\"c-list1_cell\"><a href=\"/kaden/record-player/\" class=\"c-box-menuBox_blockLink\">レコードプレーヤー</a></li>\\n<li class=\"c-list1_cell\"><a href=\"/kaden/ss_0002_0109/0004/\" class=\"c-box-menuBox_blockLink\">レコード針</a></li>\\n</ul>\\n\\n<div class=\"c-sTtl-1 u-mTop20\"><p class=\"c-sTtl-1_lines\">記録メディア</p></div><!-- /c-sTtl-1 -->\\n<ul class=\"c-list1 c-list1-btm\">\\n<li class=\"c-list1_cell\"><a href=\"/pc/blu-ray-media/\" class=\"c-box-menuBox_blockLink\">ブルーレイディスク・メディア</a></li>\\n<li class=\"c-list1_cell\"><a href=\"/pc/dvd-media/\" class=\"c-box-menuBox_blockLink\">DVDメディア</a></li>\\n<li class=\"c-list1_cell\"><a href=\"/kaden/ss_0002_0109/0003/\" class=\"c-box-menuBox_blockLink\">MD(ミニディスク)</a></li>\\n<li class=\"c-list1_cell\"><a href=\"/kaden/ss_0002_0109/0002/\" class=\"c-box-menuBox_blockLink\">カセットテープ</a></li>\\n<li class=\"c-list1_cell\"><a href=\"/kaden/ss_0002_0109/0005/\" class=\"c-box-menuBox_blockLink\">VHSテープ</a></li>\\n<li class=\"c-list1_cell\"><a href=\"/kaden/ss_0002_0109/0007/\" class=\"c-box-menuBox_blockLink\">その他のAVアクセサリ</a></li>\\n</ul>\\n\\n<div class=\"c-sTtl-1 u-mTop20\">\\n<p class=\"c-sTtl-1_lines\">情報家電</p></div><!-- /c-sTtl-1 -->\\n<ul class=\"c-list1 c-list1-btm\">\\n<li class=\"c-list1_cell\"><a href=\"/kaden/ic-dictionary/\" class=\"c-box-menuBox_blockLink\">電子辞書</a></li>\\n<li class=\"c-list1_cell\"><a href=\"/kaden/translator/\" class=\"c-box-menuBox_blockLink\">翻訳機・通訳機</a></li>\\n<li class=\"c-list1_cell\"><a href=\"/kaden/digital-memo/\" class=\"c-box-menuBox_blockLink\">電子メモ帳</a></li>\\n<li class=\"c-list1_cell\"><a href=\"/kaden/fax/\" class=\"c-box-menuBox_blockLink\">FAX</a></li>\\n<li class=\"c-list1_cell\"><a href=\"/kaden/telephone/\" class=\"c-box-menuBox_blockLink\">電話機</a></li>\\n<li class=\"c-list1_cell\"><a href=\"/kaden/radio/\" class=\"c-box-menuBox_blockLink\">ラジオ</a></li>\\n<li class=\"c-list1_cell\"><a href=\"/kaden/transceiver/\" class=\"c-box-menuBox_blockLink\">トランシーバー(無線機)</a></li>\\n<li class=\"c-list1_cell\"><a href=\"/stationery/register/\" class=\"c-box-menuBox_blockLink\">レジスター</a></li>\\n<li class=\"c-list1_cell\"><a href=\"/kaden/label-writer/\" class=\"c-box-menuBox_blockLink\">ラベルライター</a></li>\\n<li class=\"c-list1_cell\"><a href=\"/kaden/ss_0002_0109/0006/\" class=\"c-box-menuBox_blockLink\">ラベルライターテープ</a></li>\\n<li class=\"c-list1_cell\"><a href=\"/kaden/laminator/\" class=\"c-box-menuBox_blockLink\">ラミネーター</a></li>\\n</ul>\\n\\n<div class=\"c-sTtl-1 u-mTop20\">\\n<p class=\"c-sTtl-1_lines\">娯楽家電</p></div><!-- /c-sTtl-1 -->\\n<ul class=\"c-list1\">\\n<li class=\"c-list1_cell\"><a href=\"/kaden/planetarium/\" class=\"c-box-menuBox_blockLink\">家庭用プラネタリウム</a></li>\\n<li class=\"c-list1_cell\"><a href=\"/game/game-console/\" class=\"c-box-menuBox_blockLink\">ゲーム機本体</a></li>\\n</ul>\\n</div><!-- /c-box-menuBox -->\\n\\n<div class=\"c-box-menuBox\">\\n<div class=\"c-box-menuTtl c-box-menuTtl-icon-1 c-box-menuTtl-icon-1-1\">\\n<h2 class=\"c-box-menuTtl_lines\">お買い得！ アウトレット</h2>\\n</div><!-- /c-box-menuTtl -->\\n<ul class=\"c-list1\">\\n<li class=\"c-list1_cell\"><a href=\"/outlet/\" class=\"c-box-menuBox_blockLink\">アウトレット 家電</a></li>\\n</ul>\\n</div><!-- /c-box-menuBox -->\\n\\n<div class=\"c-box-menuBox\">\\n<div class=\"c-box-menuTtl c-box-menuTtl-icon-1 c-box-menuTtl-icon-1-1\">\\n<h2 class=\"c-box-menuTtl_lines\">調理・生活家電</h2>\\n</div><!-- /c-box-menuTtl -->\\n<div class=\"c-sTtl-1\">\\n<p class=\"c-sTtl-1_lines\">キッチン家電</p></div><!-- /c-sTtl-1 -->\\n<ul class=\"c-list1 c-list1-btm\">\\n<li class=\"c-list1_cell\"><a href=\"/kaden/freezer/\" class=\"c-box-menuBox_blockLink\">冷蔵庫・冷凍庫</a></li>\\n<li class=\"c-list1_cell\"><a href=\"/kaden/wine-cellar/\" class=\"c-box-menuBox_blockLink\">ワインセラー</a></li>\\n<li class=\"c-list1_cell\"><a href=\"/kaden/rice-cooker/\" class=\"c-box-menuBox_blockLink\">炊飯器</a></li>\\n<li class=\"c-list1_cell c-box-menuBox_childItem\"><a href=\"/kaden/ih-rice-cooker/\" class=\"c-box-menuBox_blockLink\">IH炊飯器</a></li>\\n<li class=\"c-list1_cell c-box-menuBox_childItem\"><a href=\"/kaden/com-rice-cooker/\" class=\"c-box-menuBox_blockLink\">マイコン炊飯器</a></li>\\n<li class=\"c-list1_cell c-box-menuBox_childItem\"><a href=\"/kaden/gas-rice-cooker/\" class=\"c-box-menuBox_blockLink\">ガス炊飯器</a></li>\\n<li class=\"c-list1_cell\"><a href=\"/kaden/ricemill/\" class=\"c-box-menuBox_blockLink\">精米機</a></li>\\n<li class=\"c-list1_cell\"><a href=\"/cookware/pressure-cooker/\" class=\"c-box-menuBox_blockLink\">圧力鍋</a></li>\\n<li class=\"c-list1_cell\"><a href=\"/kaden/electric-cooker/\" class=\"c-box-menuBox_blockLink\">電気調理鍋・スロークッカー</a></li>\\n<li class=\"c-list1_cell\"><a href=\"/kaden/microwave-oven/\" class=\"c-box-menuBox_blockLink\">電子レンジ・オーブンレンジ</a></li>\\n<li class=\"c-list1_cell c-box-menuBox_childItem\"><a href=\"/kaden/steam-oven-range/\" class=\"c-box-menuBox_blockLink\">スチームオーブンレンジ</a></li>\\n<li class=\"c-list1_cell\"><a href=\"/kaden/toaster/\" class=\"c-box-menuBox_blockLink\">トースター</a></li>\\n<li class=\"c-list1_cell c-box-menuBox_childItem\"><a href=\"/kaden/convection-oven/\" class=\"c-box-menuBox_blockLink\">コンベクションオーブン</a></li>\\n<li class=\"c-list1_cell\"><a href=\"/kaden/breadmaker/\" class=\"c-box-menuBox_blockLink\">ホームベーカリー</a></li>\\n<li class=\"c-list1_cell\"><a href=\"/kaden/rice-cake-maker/\" class=\"c-box-menuBox_blockLink\">餅つき機</a></li>\\n<li class=\"c-list1_cell\"><a href=\"/kaden/food-processor/\" class=\"c-box-menuBox_blockLink\">ミキサー・フードプロセッサー</a></li>\\n<li class=\"c-list1_cell\"><a href=\"/kaden/electric-kettle/\" class=\"c-box-menuBox_blockLink\">電気ポット・電気ケトル</a></li>\\n<li class=\"c-list1_cell\"><a href=\"/kaden/coffee-maker/\" class=\"c-box-menuBox_blockLink\">コーヒーメーカー</a></li>\\n<li class=\"c-list1_cell c-box-menuBox_childItem\"><a href=\"/kaden/espresso-maker/\" class=\"c-box-menuBox_blockLink\">エスプレッソメーカー</a></li>\\n<li class=\"c-list1_cell\"><a href=\"/kaden/dishwasher/\" class=\"c-box-menuBox_blockLink\">食器洗い機</a></li>\\n<li class=\"c-list1_cell\"><a href=\"/kaden/dish-dryer/\" class=\"c-box-menuBox_blockLink\">食器乾燥機</a></li>\\n<li class=\"c-list1_cell\"><a href=\"/kaden/electric-range/\" class=\"c-box-menuBox_blockLink\">IH クッキングヒーター</a></li>\\n<li class=\"c-list1_cell c-box-menuBox_childItem\"><a href=\"/kaden/built-in-ih/\" class=\"c-box-menuBox_blockLink\">ビルトインIHクッキングヒーター</a></li>\\n<li class=\"c-list1_cell c-box-menuBox_childItem\"><a href=\"/kaden/tabletop-ih/\" class=\"c-box-menuBox_blockLink\">卓上IHクッキングヒーター</a></li>\\n<li class=\"c-list1_cell\"><a href=\"/kaden/electronic-griddle/\" class=\"c-box-menuBox_blockLink\">ホットプレート</a></li>\\n<li class=\"c-list1_cell\"><a href=\"/kaden/fish-roaster/\" class=\"c-box-menuBox_blockLink\">フィッシュロースター</a></li>\\n<li class=\"c-list1_cell\"><a href=\"/kaden/disposer/\" class=\"c-box-menuBox_blockLink\">生ごみ処理機</a></li>\\n<li class=\"c-list1_cell\"><a href=\"/kaden/kitchen-others/\" class=\"c-box-menuBox_blockLink\">その他調理家電</a></li>\\n<li class=\"c-list1_cell c-box-menuBox_childItem\"><a href=\"/kaden/yogurt-maker/\" class=\"c-box-menuBox_blockLink\">ヨーグルトメーカー</a></li>\\n<li class=\"c-list1_cell c-box-menuBox_childItem\"><a href=\"/kaden/nonoil-flyer/\" class=\"c-box-menuBox_blockLink\">ノンオイルフライヤー</a></li>\\n</ul>\\n\\n<div class=\"c-sTtl-1 u-mTop20\">\\n<p class=\"c-sTtl-1_lines\">キッチン用具</p></div><!-- /c-sTtl-1 -->\\n<ul class=\"c-list1 c-list1-btm\">\\n<li class=\"c-list1_cell\"><a href=\"/cookware/microwave-ware/\" class=\"c-box-menuBox_blockLink\">電子レンジ用調理器具</a></li>\\n<li class=\"c-list1_cell\"><a href=\"/kaden/fire-alarm/\" class=\"c-box-menuBox_blockLink\">火災警報器</a></li>\\n<li class=\"c-list1_cell\"><a href=\"/kaden/digital-cooking-scale/\" class=\"c-box-menuBox_blockLink\">デジタルクッキングスケール</a></li>\\n<li class=\"c-list1_cell\"><a href=\"/kitchen-goods/kitchen-timer/\" class=\"c-box-menuBox_blockLink\">キッチンタイマー</a></li>\\n</ul>\\n\\n<div class=\"c-sTtl-1 u-mTop20\">\\n<p class=\"c-sTtl-1_lines\">生活家電</p></div><!-- /c-sTtl-1 -->\\n<ul class=\"c-list1 c-list1-btm\">\\n<li class=\"c-list1_cell\"><a href=\"/kaden/vacuum-cleaner/\" class=\"c-box-menuBox_blockLink\">掃除機</a></li>\\n<li class=\"c-list1_cell c-box-menuBox_childItem\"><a href=\"/kaden/handy-cleaner/\" class=\"c-box-menuBox_blockLink\">ハンディ掃除機</a></li>\\n<li class=\"c-list1_cell c-box-menuBox_childItem\"><a href=\"/kaden/futon-cleaner/\" class=\"c-box-menuBox_blockLink\">布団クリーナー</a></li>\\n<li class=\"c-list1_cell c-box-menuBox_childItem\"><a href=\"/kaden/robot-cleaner/\" class=\"c-box-menuBox_blockLink\">ロボット掃除機</a></li>\\n<li class=\"c-list1_cell c-box-menuBox_childItem\"><a href=\"/kaden/steam-cleaner/\" class=\"c-box-menuBox_blockLink\">スチームクリーナー</a></li>\\n<li class=\"c-list1_cell c-box-menuBox_childItem\"><a href=\"/kaden/cordless-cleaner/\" class=\"c-box-menuBox_blockLink\">コードレス掃除機</a></li>\\n<li class=\"c-list1_cell\"><a href=\"/electric-tools/high-pressure/\" class=\"c-box-menuBox_blockLink\">高圧洗浄機</a></li>\\n<li class=\"c-list1_cell\"><a href=\"/kaden/washing-machine/\" class=\"c-box-menuBox_blockLink\">洗濯機</a></li>\\n<li class=\"c-list1_cell c-box-menuBox_childItem\"><a href=\"/kaden/drum-washing/\" class=\"c-box-menuBox_blockLink\">ドラム式洗濯機</a></li>\\n<li class=\"c-list1_cell c-box-menuBox_childItem\"><a href=\"/kaden/vertical-washing/\" class=\"c-box-menuBox_blockLink\">縦型洗濯機</a></li>\\n<li class=\"c-list1_cell\"><a href=\"/kaden/cloth-dryer/\" class=\"c-box-menuBox_blockLink\">衣類乾燥機</a></li>\\n<li class=\"c-list1_cell\"><a href=\"/kaden/bedcloth-dryer/\" class=\"c-box-menuBox_blockLink\">布団乾燥機</a></li>\\n<li class=\"c-list1_cell\"><a href=\"/kaden/ironing/\" class=\"c-box-menuBox_blockLink\">アイロン</a></li>\\n<li class=\"c-list1_cell\"><a href=\"/kaden/pants-presser/\" class=\"c-box-menuBox_blockLink\">ズボンプレッサー</a></li>\\n<li class=\"c-list1_cell\"><a href=\"/kaden/sewing-machine/\" class=\"c-box-menuBox_blockLink\">ミシン</a></li>\\n<li class=\"c-list1_cell\"><a href=\"/pc/printer/\" class=\"c-box-menuBox_blockLink\">プリンタ</a></li>\\n<li class=\"c-list1_cell\"><a href=\"/kaden/shredder/\" class=\"c-box-menuBox_blockLink\">シュレッダー</a></li>\\n<li class=\"c-list1_cell\"><a href=\"/bicycle/electric-bicycle/\" class=\"c-box-menuBox_blockLink\">電動自転車</a></li>\\n</ul>\\n\\n<div class=\"c-sTtl-1 u-mTop20\"><p class=\"c-sTtl-1_lines\">空調家電</p></div><!-- /c-sTtl-1 -->\\n<ul class=\"c-list1 c-list1-btm\">\\n<li class=\"c-list1_cell\"><a href=\"/kaden/aircon/\" class=\"c-box-menuBox_blockLink\">エアコン・クーラー</a></li>\\n<li class=\"c-list1_cell c-box-menuBox_childItem\"><a href=\"/kaden/hanging-aircon/\" class=\"c-box-menuBox_blockLink\">壁掛けエアコン</a></li>\\n<li class=\"c-list1_cell c-box-menuBox_childItem\"><a href=\"/kaden/ceiling-aircon/\" class=\"c-box-menuBox_blockLink\">天井埋め込みエアコン</a></li>\\n<li class=\"c-list1_cell\"><a href=\"/kaden/business-aircon/\" class=\"c-box-menuBox_blockLink\">業務用エアコン</a></li>\\n<li class=\"c-list1_cell\"><a href=\"/kaden/air-purifier/\" class=\"c-box-menuBox_blockLink\">空気清浄機</a></li>\\n<li class=\"c-list1_cell\"><a href=\"/kaden/filter/\" class=\"c-box-menuBox_blockLink\">空調機器フィルター</a></li>\\n<li class=\"c-list1_cell\"><a href=\"/kaden/dehumidifier/\" class=\"c-box-menuBox_blockLink\">除湿機</a></li>\\n<li class=\"c-list1_cell\"><a href=\"/kaden/humidifier/\" class=\"c-box-menuBox_blockLink\">加湿器</a></li>\\n</ul>\\n\\n<div class=\"c-sTtl-1 u-mTop20\"><p class=\"c-sTtl-1_lines\">電源・電池</p>\\n</div><!-- /c-sTtl-1 -->\\n<ul class=\"c-list1\">\\n<li class=\"c-list1_cell\"><a href=\"/kaden/battery/\" class=\"c-box-menuBox_blockLink\">充電池・充電器</a></li>\\n<li class=\"c-list1_cell\"><a href=\"/kaden/mobile-battery/\" class=\"c-box-menuBox_blockLink\">モバイルバッテリー</a></li>\\n<li class=\"c-list1_cell\"><a href=\"/kaden/dry-battery/\" class=\"c-box-menuBox_blockLink\">乾電池</a></li>\\n<li class=\"c-list1_cell\"><a href=\"/kaden/oatap/\" class=\"c-box-menuBox_blockLink\">電源タップ</a></li>\\n<li class=\"c-list1_cell\"><a href=\"/kaden/power-transformer/\" class=\"c-box-menuBox_blockLink\">変圧器</a></li>\\n</ul>\\n</div><!-- /c-box-menuBox -->\\n<div class=\"c-box-menuBox\">\\n<div class=\"c-box-menuTtl c-box-menuTtl-icon-1 c-box-menuTtl-icon-1-1\">\\n<h2 class=\"c-box-menuTtl_lines\">健康・美容家電</h2>\\n</div><!-- /c-box-menuTtl -->\\n\\n<div class=\"c-sTtl-1\">\\n<p class=\"c-sTtl-1_lines\">健康家電</p></div><!-- /c-sTtl-1 -->\\n<ul class=\"c-list1 c-list1-btm\">\\n<li class=\"c-list1_cell\"><a href=\"/kaden/tooth-brush-electric/\" class=\"c-box-menuBox_blockLink\">電動歯ブラシ</a></li>\\n<li class=\"c-list1_cell c-box-menuBox_childItem\"><a href=\"/kaden/oral-irrigator/\" class=\"c-box-menuBox_blockLink\">口腔洗浄器</a></li>\\n<li class=\"c-list1_cell\"><a href=\"/kaden/toothbrush-spare/\" class=\"c-box-menuBox_blockLink\">電動歯ブラシ用替えブラシ</a></li>\\n<li class=\"c-list1_cell\"><a href=\"/kaden/massarger/\" class=\"c-box-menuBox_blockLink\">マッサージ器</a></li>\\n<li class=\"c-list1_cell c-box-menuBox_childItem\"><a href=\"/kaden/massage-cushion/\" class=\"c-box-menuBox_blockLink\">マッサージクッション</a></li>\\n<li class=\"c-list1_cell c-box-menuBox_childItem\"><a href=\"/kaden/foot-massager/\" class=\"c-box-menuBox_blockLink\">フットマッサージャー</a></li>\\n<li class=\"c-list1_cell\"><a href=\"/kaden/massage-chair/\" class=\"c-box-menuBox_blockLink\">マッサージチェア</a></li>\\n<li class=\"c-list1_cell\"><a href=\"/kaden/scales/\" class=\"c-box-menuBox_blockLink\">体脂肪計・体重計</a></li>\\n<li class=\"c-list1_cell\"><a href=\"/kaden/sphygmomanometer/\" class=\"c-box-menuBox_blockLink\">血圧計</a></li>\\n<li class=\"c-list1_cell\"><a href=\"/kaden/clinical-thermometer/\" class=\"c-box-menuBox_blockLink\">体温計</a></li>\\n<li class=\"c-list1_cell c-box-menuBox_childItem\"><a href=\"/kaden/basal_thermometer/\" class=\"c-box-menuBox_blockLink\">基礎体温計</a></li>\\n<li class=\"c-list1_cell\"><a href=\"/kaden/electric-therapy/\" class=\"c-box-menuBox_blockLink\">低周波治療器・電気治療器</a></li>\\n<li class=\"c-list1_cell\"><a href=\"/kaden/dosimeter/\" class=\"c-box-menuBox_blockLink\">放射線測定器・線量計</a></li>\\n<li class=\"c-list1_cell\"><a href=\"/kaden/medical-equipment/\" class=\"c-box-menuBox_blockLink\">その他健康器具・医療機器</a></li>\\n<li class=\"c-list1_cell c-box-menuBox_childItem\"><a href=\"/kaden/heatstroke/\" class=\"c-box-menuBox_blockLink\">熱中症計</a></li>\\n</ul>\\n\\n<div class=\"c-sTtl-1 u-mTop20\">\\n<p class=\"c-sTtl-1_lines\">美容家電</p></div><!-- /c-sTtl-1 -->\\n<ul class=\"c-list1\">\\n<li class=\"c-list1_cell\"><a href=\"/kaden/shaver/\" class=\"c-box-menuBox_blockLink\">シェーバー</a></li>\\n<li class=\"c-list1_cell\"><a href=\"/kaden/shaver-women/\" class=\"c-box-menuBox_blockLink\">女性用シェーバー・脱毛器</a></li>\\n<li class=\"c-list1_cell\"><a href=\"/kaden/shaver-spare/\" class=\"c-box-menuBox_blockLink\">シェーバー替え刃</a></li>\\n<li class=\"c-list1_cell\"><a href=\"/kaden/mens-grooming/\" class=\"c-box-menuBox_blockLink\">メンズグルーミング</a></li>\\n<li class=\"c-list1_cell c-box-menuBox_childItem\"><a href=\"/kaden/nose-hair-cutter/\" class=\"c-box-menuBox_blockLink\">鼻毛カッター</a></li>\\n<li class=\"c-list1_cell c-box-menuBox_childItem\"><a href=\"/kaden/clippers/\" class=\"c-box-menuBox_blockLink\">バリカン</a></li>\\n<li class=\"c-list1_cell\"><a href=\"/kaden/skincare-system/\" class=\"c-box-menuBox_blockLink\">美容器具</a></li>\\n<li class=\"c-list1_cell c-box-menuBox_childItem\"><a href=\"/kaden/facial-massager/\" class=\"c-box-menuBox_blockLink\">美顔器</a></li>\\n<li class=\"c-list1_cell c-box-menuBox_childItem\"><a href=\"/kaden/face-rollers/\" class=\"c-box-menuBox_blockLink\">美顔ローラー・小顔ローラー</a></li>\\n<li class=\"c-list1_cell\"><a href=\"/kaden/hair-dryer/\" class=\"c-box-menuBox_blockLink\">ヘアドライヤー</a></li>\\n<li class=\"c-list1_cell\"><a href=\"/kaden/hair-iron/\" class=\"c-box-menuBox_blockLink\">ヘアアイロン</a></li>\\n</ul>\\n</div><!-- /c-box-menuBox -->\\n\\n<div class=\"c-box-menuBox\">\\n<div class=\"c-box-menuTtl c-box-menuTtl-icon-1 c-box-menuTtl-icon-1-1\">\\n<h2 class=\"c-box-menuTtl_lines\">季節家電</h2>\\n</div><!-- /c-box-menuTtl -->\\n<ul class=\"c-list1\">\\n<li class=\"c-list1_cell\"><a href=\"https://kakaku.com/kaden/aircon/\" class=\"c-box-menuBox_blockLink\">エアコン・クーラー</a></li>\\n<li class=\"c-list1_cell c-box-menuBox_childItem\"><a href=\"/kaden/hanging-aircon/\" class=\"c-box-menuBox_blockLink\">壁掛けエアコン</a></li>\\n<li class=\"c-list1_cell c-box-menuBox_childItem\"><a href=\"/kaden/ceiling-aircon/\" class=\"c-box-menuBox_blockLink\">天井埋め込みエアコン</a></li>\\n<li class=\"c-list1_cell\"><a href=\"https://kakaku.com/kaden/fan/\" class=\"c-box-menuBox_blockLink\">扇風機・サーキュレーター</a></li>\\n<li class=\"c-list1_cell c-box-menuBox_childItem\"><a href=\"/kaden/cooler/\" class=\"c-box-menuBox_blockLink\">冷風機・冷風扇</a></li>\\n<li class=\"c-list1_cell c-box-menuBox_childItem\"><a href=\"/kaden/usb-fan/\" class=\"c-box-menuBox_blockLink\">USB扇風機</a></li>\\n<li class=\"c-list1_cell\"><a href=\"https://kakaku.com/kaden/dehumidifier/\" class=\"c-box-menuBox_blockLink\">除湿機</a></li>\\n<li class=\"c-list1_cell\"><a href=\"https://kakaku.com/kaden/humidifier/\" class=\"c-box-menuBox_blockLink\">加湿器</a></li>\\n<li class=\"c-list1_cell\"><a href=\"https://kakaku.com/kaden/heater/\" class=\"c-box-menuBox_blockLink\">ヒーター・ストーブ</a></li>\\n<li class=\"c-list1_cell c-box-menuBox_childItem\"><a href=\"/kaden/fan-heater/\" class=\"c-box-menuBox_blockLink\">ファンヒーター</a></li>\\n<li class=\"c-list1_cell\"><a href=\"https://kakaku.com/kaden/hot-carpet/\" class=\"c-box-menuBox_blockLink\">ホットカーペット</a></li>\\n<li class=\"c-list1_cell\"><a href=\"https://kakaku.com/kaden/kotatsu/\" class=\"c-box-menuBox_blockLink\">こたつ</a></li>\\n<li class=\"c-list1_cell\"><a href=\"https://kakaku.com/kaden/electric-blanket/\" class=\"c-box-menuBox_blockLink\">電気毛布・ひざ掛け</a></li>\\n</ul>\\n</div><!-- /c-box-menuBox -->\\n\\n<div class=\"c-box-menuBox\">\\n<div class=\"c-box-menuTtl c-box-menuTtl-icon-1 c-box-menuTtl-icon-1-1 s-biggerlink s-biggerlinkHover_bg-2 is-biggerlinkHot\" style=\"cursor: pointer;\">\\n<h2 class=\"c-box-menuTtl_lines\"><a href=\"/housing/\" class=\"c-box-menuTtl_lines_link s-biggerlinkHover_underline is-biggerlinkBigger\">住宅設備関連家電</a></h2>\\n</div><!-- /c-box-menuTtl -->\\n<ul class=\"c-list1\">\\n<li class=\"c-list1_cell\"><a href=\"/housing/water-filter/\" class=\"c-box-menuBox_blockLink\">浄水器・整水器</a></li>\\n<li class=\"c-list1_cell\"><a href=\"/housing/water-filter-cartridge/\" class=\"c-box-menuBox_blockLink\">浄水器カートリッジ</a></li>\\n<li class=\"c-list1_cell\"><a href=\"https://waterserver.kakaku.com/waterserver/\" class=\"c-box-menuBox_blockLink\">ウォーターサーバー</a></li>\\n<li class=\"c-list1_cell\"><a href=\"/housing/toilet-seat/\" class=\"c-box-menuBox_blockLink\">温水洗浄便座</a></li>\\n<li class=\"c-list1_cell\"><a href=\"/housing/cooktop/\" class=\"c-box-menuBox_blockLink\">ガスコンロ</a></li>\\n<li class=\"c-list1_cell c-box-menuBox_childItem\"><a href=\"/housing/gas-table/\" class=\"c-box-menuBox_blockLink\">ガステーブル(据え置きガスコンロ)</a></li>\\n<li class=\"c-list1_cell c-box-menuBox_childItem\"><a href=\"/housing/buildin-cooktop/\" class=\"c-box-menuBox_blockLink\">ビルトインコンロ</a></li>\\n<li class=\"c-list1_cell\"><a href=\"/housing/cassette-cooktop/\" class=\"c-box-menuBox_blockLink\">カセットコンロ</a></li>\\n<li class=\"c-list1_cell\"><a href=\"/housing/fire-alarm/\" class=\"c-box-menuBox_blockLink\">火災警報器</a></li>\\n<li class=\"c-list1_cell\"><a href=\"/housing/doorphone/\" class=\"c-box-menuBox_blockLink\">テレビドアホン・インターホン</a></li>\\n<li class=\"c-list1_cell\"><a href=\"/camera/network-camera/\" class=\"c-box-menuBox_blockLink\">ネットワークカメラ・防犯カメラ</a></li>\\n</ul>\\n</div><!-- /c-box-menuBox -->\\n\\n<div class=\"c-box-menuBox\">\\n<div class=\"c-box-menuTtl c-box-menuTtl-icon-1 c-box-menuTtl-icon-1-1 s-biggerlink s-biggerlinkHover_bg-2 is-biggerlinkHot\" style=\"cursor: pointer;\">\\n<h2 class=\"c-box-menuTtl_lines\"><a href=\"/lighting/\" class=\"c-box-menuTtl_lines_link s-biggerlinkHover_underline is-biggerlinkBigger\">照明器具・天井照明</a></h2>\\n</div><!-- /c-box-menuTtl -->\\n<ul class=\"c-list1\">\\n<li class=\"c-list1_cell\"><a href=\"/lighting/led-light/\" class=\"c-box-menuBox_blockLink\">LED電球・LED蛍光灯</a></li>\\n<li class=\"c-list1_cell\"><a href=\"/lighting/ss_0049_0010/0007/\" class=\"c-box-menuBox_blockLink\">電球・蛍光灯</a></li>\\n<li class=\"c-list1_cell\"><a href=\"/lighting/ceiling-light/\" class=\"c-box-menuBox_blockLink\">シーリングライト</a></li>\\n<li class=\"c-list1_cell c-box-menuBox_childItem\"><a href=\"/lighting/led-ceiling/\" class=\"c-box-menuBox_blockLink\">LEDシーリングライト</a></li>\\n<li class=\"c-list1_cell\"><a href=\"/lighting/ceiling-fanlight/\" class=\"c-box-menuBox_blockLink\">シーリングファンライト</a></li>\\n<li class=\"c-list1_cell\"><a href=\"/lighting/pendant-light/\" class=\"c-box-menuBox_blockLink\">ペンダントライト</a></li>\\n<li class=\"c-list1_cell\"><a href=\"/lighting/chandelier/\" class=\"c-box-menuBox_blockLink\">シャンデリア</a></li>\\n<li class=\"c-list1_cell\"><a href=\"/lighting/ss_0049_0010/0011/\" class=\"c-box-menuBox_blockLink\">ダウンライト</a></li>\\n<li class=\"c-list1_cell\"><a href=\"/lighting/ss_0049_0010/0009/\" class=\"c-box-menuBox_blockLink\">スポットライト</a></li>\\n<li class=\"c-list1_cell\"><a href=\"/lighting/ss_0049_0010/0012/\" class=\"c-box-menuBox_blockLink\">ブラケットライト</a></li>\\n<li class=\"c-list1_cell\"><a href=\"/lighting/stand-light/\" class=\"c-box-menuBox_blockLink\">スタンドライト・デスクライト</a></li>\\n<li class=\"c-list1_cell\"><a href=\"/lighting/ss_0049_0010/0014/\" class=\"c-box-menuBox_blockLink\">フロアライト・フロアスタンド</a></li>\\n<li class=\"c-list1_cell\"><a href=\"/lighting/ss_0049_0010/0010/\" class=\"c-box-menuBox_blockLink\">キッチンライト</a></li>\\n<li class=\"c-list1_cell\"><a href=\"/outdoor/lantern/\" class=\"c-box-menuBox_blockLink\">ランタン・ワークライト</a></li>\\n<li class=\"c-list1_cell\"><a href=\"/outdoor/flashlight/\" class=\"c-box-menuBox_blockLink\">懐中電灯・フラッシュライト</a></li>\\n<li class=\"c-list1_cell\"><a href=\"/lighting/ss_0049_0010/0013/\" class=\"c-box-menuBox_blockLink\">照明用部品</a></li>\\n<li class=\"c-list1_cell\"><a href=\"/lighting/ss_0049_0010/0008/\" class=\"c-box-menuBox_blockLink\">その他の照明器具・天井照明</a></li>\\n</ul>\\n</div><!-- /c-box-menuBox -->\\n\\n<div class=\"c-box-menuBox\">\\n<div class=\"c-box-menuTtl c-box-menuTtl-icon-1 c-box-menuTtl-icon-1-1\">\\n<h2 class=\"c-box-menuTtl_lines\">インターネット接続料金比較</h2>\\n</div><!-- /c-box-menuTtl -->\\n<ul class=\"c-list1\">\\n<li class=\"c-list1_cell\"><a href=\"https://kakaku.com/bb/?lid=bb_kkc_cttopsm_1\" class=\"c-box-menuBox_blockLink\">プロバイダ比較</a></li>\\n<li class=\"c-list1_cell\"><a href=\"/bb/hikari/?lid=bb_kkc_cttopsm_3\" class=\"c-box-menuBox_blockLink\">光回線比較</a></li>\\n<li class=\"c-list1_cell\"><a href=\"https://wimax.kakaku.com/wimax/?lid=bb_kkc_cttopsm_4\" class=\"c-box-menuBox_blockLink\">WiMAX比較</a></li>\\n</ul>\\n</div><!-- /c-box-menuBox -->\\n\\n<!-- kaden_menu_6 -->\\n<!-- kaden_menu_7 -->\\n\\n\\n\\n\\n</div><!-- /l-c_side -->\\n\\n<div class=\"s-feed\">\\n\\n<div class=\"l-c_cont l-c-2column_cont p-cont\">\\n\\n<div class=\"c-gSearch\">\\n<form action=\"/search_results/\" method=\"get\" id=\"FrmKeyword\" onsubmit=\"return search(\\'query\\',\\'02\\');\">\\n<div class=\"p-ct_gSearch\">\\n<div class=\"p-ct_gSearch_in\">\\n<p class=\"p-ct_gSearch_cell c-gSearch_text-1\"><input id=\"query\" name=\"query\" type=\"text\" autocomplete=\"off\" maxlength=\"100\" class=\"c-gSearch_text-1_input p-ct_gSearch_input\" placeholder=\"何をお探しですか？（メーカー、製品カテゴリ、製品名、型番...）\"><div class=\"p-sugest sugestCatetop\" id=\"suggestion\" style=\"display: none;\"></div></p>\\n<ul class=\"p-ct_gSearch_cell p-ct_gSearch_filter\">\\n<li class=\"p-ct_gSearch_filter_block\"><label class=\"p-ct_gSearch_filter_label\"><input id=\"01\" name=\"category\" type=\"radio\" class=\"p-ct_gSearch_filter_check\" value=\"\">すべて</label></li>\\n<li class=\"p-ct_gSearch_filter_block\"><label class=\"p-ct_gSearch_filter_label\"><input id=\"02\" name=\"category\" type=\"radio\" class=\"p-ct_gSearch_filter_check\" value=\"0002\" checked=\"\">このカテゴリ内で</label></li>\\n</ul>\\n<p class=\"p-ct_gSearch_cell\"><span class=\"p-ct_gSearch_submit\"><input name=\"search\" type=\"image\" value=\"\" alt=\"検索\" class=\"p-ct_gSearch_submit_btn\"></span></p>\\n</div><!-- /p-ct_gSearch_in -->\\n\\n</div><!-- /p-ct_gSearch -->\\n</form>\\n\\n</div><!-- /c-gSearch -->\\n\\n<div class=\"c-positioning\">\\n<div class=\"c-positioning_cell\">\\n<div class=\"c-box-regularBox p-ct_productsNews\">\\n<div class=\"c-box_regularTtl c-box_regularTtl-icon-1 c-box_regularTtl-icon-1-1\">\\n<h2 class=\"c-box_regularTtl_lines c-box_regularTtl_lines-1\">家電新製品ニュース</h2>\\n</div><!-- /c-box_regularTtl -->\\n<ul class=\"c-list1\">\\n<li class=\"c-list1_cell s-biggerlink s-biggerlinkHover_bg is-biggerlinkHot\" style=\"cursor: pointer;\">\\n<div class=\"c-positioning\">\\n<p class=\"c-positioning_cell p-ct_productsNews_visual s-biggerlinkHover_alpha\"><img src=\"https://img1.kakaku.k-img.com/Images/prdnews/2020102%2fT20201021102145_640_.jpg\" onerror=\"this.src=\\'https://img1.kakaku.k-img.com/images/news/noimage_s.png\\';this.onerror=null;\" alt=\"空気清浄機 A3B\" width=\"50\" height=\"50\" class=\"p-ct_productsNews_visual_entity\"></p>\\n<div class=\"c-positioning_cell p-ct_productsNews_lines\">\\n<p class=\"p-cat\">空気清浄機</p>\\n<p class=\"p-ct_productsNews_lines_ttl\"><a href=\"https://news.kakaku.com/prdnews/cd=kaden/ctcd=2160/id=102849/?lid=k_prdnews\" class=\"s-biggerlinkHover_underline is-biggerlinkBigger\">期間限定で半額に、「Elechomes空気清浄機 A3B」のセ...</a></p>\\n</div><!-- /c-positioning_cell -->\\n</div><!-- /c-positioning -->\\n</li>\\n<li class=\"c-list1_cell s-biggerlink s-biggerlinkHover_bg is-biggerlinkHot\" style=\"cursor: pointer;\">\\n<div class=\"c-positioning\">\\n<p class=\"c-positioning_cell p-ct_productsNews_visual s-biggerlinkHover_alpha\"><img src=\"https://img1.kakaku.k-img.com/Images/prdnews/2021012%2fT20210129113925_722_.jpg\" onerror=\"this.src=\\'https://img1.kakaku.k-img.com/images/news/noimage_s.png\\';this.onerror=null;\" alt=\"\" width=\"50\" height=\"50\" class=\"p-ct_productsNews_visual_entity\"></p>\\n<div class=\"c-positioning_cell p-ct_productsNews_lines\">\\n<p class=\"p-cat\">美容器具</p>\\n<p class=\"p-ct_productsNews_lines_ttl\"><a href=\"https://news.kakaku.com/prdnews/cd=kaden/ctcd=2180/id=102829/?lid=k_prdnews\" class=\"s-biggerlinkHover_underline is-biggerlinkBigger\">サンコー、泡・振動で頭皮や顔をすっきり洗うUSB充電式「電動も...</a></p>\\n</div><!-- /c-positioning_cell -->\\n</div><!-- /c-positioning -->\\n</li>\\n<li class=\"c-list1_cell s-biggerlink s-biggerlinkHover_bg is-biggerlinkHot\" style=\"cursor: pointer;\">\\n<div class=\"c-positioning\">\\n<p class=\"c-positioning_cell p-ct_productsNews_visual s-biggerlinkHover_alpha\"><img src=\"https://img1.kakaku.k-img.com/Images/prdnews/2021012%2fT20210129111452_149_.jpg\" onerror=\"this.src=\\'https://img1.kakaku.k-img.com/images/news/noimage_s.png\\';this.onerror=null;\" alt=\"ALBLO FC-1500\" width=\"50\" height=\"50\" class=\"p-ct_productsNews_visual_entity\"></p>\\n<div class=\"c-positioning_cell p-ct_productsNews_lines\">\\n<p class=\"p-cat\">その他健康器具・医療機器</p>\\n<p class=\"p-ct_productsNews_lines_ttl\"><a href=\"https://news.kakaku.com/prdnews/cd=kaden/ctcd=2182/id=102822/?lid=k_prdnews\" class=\"s-biggerlinkHover_underline is-biggerlinkBigger\">タニタ、「検知器認証」機能を備えたアルコール検知器「ALBLO...</a></p>\\n</div><!-- /c-positioning_cell -->\\n</div><!-- /c-positioning -->\\n</li>\\n</ul>\\n<div class=\"c-box-attachment c-box-attachment-2 s-biggerlink s-biggerlinkHover_bg is-biggerlinkHot\" style=\"cursor: pointer;\">\\n<p class=\"c-box-attachment_more\"><a href=\"https://news.kakaku.com/prdnews/cd=kaden/?lid=k_prdnews_top\" class=\"c-box-attachment_more_link s-biggerlinkHover_underline is-biggerlinkBigger\">家電 新製品ニュース一覧</a></p>\\n</div><!-- /c-box-attachment -->\\n</div><!-- /p-ct_productsNews -->\\n\\n</div><!-- /c-positioning_cell -->\\n<div class=\"c-positioning_cell\">\\n\\n<div class=\"c-ad c-ad-size3\">\\n    <div class=\"bnArea\">\\n        \\n<div id=\"div-gpt-ad-k/categorytop/300x250\" data-google-query-id=\"CI2auuf1xe4CFc5CYAodmssDSw\">\\n    \\n<div id=\"google_ads_iframe_/116070306/k/categorytop/300x250_0__container__\" style=\"border: 0pt none; display: inline-block; width: 300px; height: 250px;\"><iframe frameborder=\"0\" src=\"https://6688305c97ca48b6af60c3e81e25065c.safeframe.googlesyndication.com/safeframe/1-0-37/html/container.html\" id=\"google_ads_iframe_/116070306/k/categorytop/300x250_0\" title=\"3rd party ad content\" name=\"\" scrolling=\"no\" marginwidth=\"0\" marginheight=\"0\" width=\"300\" height=\"250\" data-is-safeframe=\"true\" data-google-container-id=\"2\" data-load-complete=\"true\" style=\"border: 0px; vertical-align: bottom;\"></iframe></div></div>\\n\\n    </div>\\n</div><!-- /c-ad-size3 -->\\n\\n\\n</div><!-- /c-positioning_cell -->\\n</div><!-- /c-positioning -->\\n\\n<div class=\"c-feed c-feed-col3\">\\n<div class=\"c-feed_in\">\\n\\n<div class=\"c-feed_row\">\\n<div class=\"c-feed_cell\">\\n<a href=\"https://kakakumag.com/seikatsu-kaden/?id=16523\" class=\"c-feed_item c-feed_item-magazine\" onclick=\"onclickcatalyst_togroupsite(\\'waku_categorytop_exp_E_84969_3160\\');\" target=\"_blank\" style=\"min-height: 220px; height: auto;\">\\n<div class=\"c-feed_visual\" data-original=\"https://img1.kakaku.k-img.com/images/maga/16523/250.jpg\" style=\"display: block; background-image: url(https://img1.kakaku.k-img.com/images/maga/16523/250.jpg);\"></div>\\n<div class=\"c-feed_lines\">\\n<p class=\"p-cat p-cat-magazine c-feed_lines_cat\">価格.comマガジン - 生活家電</p>\\n<p class=\"c-feed_lines_ttl c-feed_lines_ttl-icon-1\">電気圧力鍋のにおいを撃退！たまにはちゃんとお手入れしてみよう</p>\\n</div><!-- /c-feed_lines -->\\n</a><!-- /c-feed_item -->\\n</div><!-- /c-feed_cell -->\\n\\n\\n<script><!--\\nNAVI();\\n//--></script><div class=\"c-feed_cell\"><a href=\"https://kakaku.com/article/tieup/21/01_urusara/?lid=waku_categorytop_exp_E_84754_3158\" class=\"c-feed_item c-feed_item-kakaku\" style=\"min-height: 220px; height: auto;\"><div class=\"c-feed_visual c-feed_visual-pr\" data-original=\"https://img1.kakaku.k-img.com/images/article/tieup/21/01_urusara/250x130.jpg\" style=\"display: block; background-image: url(https://img1.kakaku.k-img.com/images/article/tieup/21/01_urusara/250x130.jpg);\"></div><div class=\"c-feed_lines\"><p class=\"p-cat p-cat-kakaku c-feed_lines_cat\">価格.com - 家電</p><p class=\"c-feed_lines_ttl\">ダイキン「うるるとさらら」の換気性能を徹底検証！</p></div><!-- /c-feed_lines --></a><!-- /c-feed_item --></div><!-- /c-feed_cell --><div class=\"c-feed_cell\"><a href=\"https://kakakumag.com/seikatsu-kaden/?id=14781\" class=\"c-feed_item c-feed_item-magazine\" onclick=\"onclickcatalyst_togroupsite(\\'waku_categorytop_exp_E_83608_3158\\');\" target=\"_blank\" style=\"min-height: 220px; height: auto;\"><div class=\"c-feed_visual\" data-original=\"https://img1.kakaku.k-img.com/images/maga/14781/250.jpg\" style=\"display: block; background-image: url(https://img1.kakaku.k-img.com/images/maga/14781/250.jpg);\"></div><div class=\"c-feed_lines\"><p class=\"p-cat p-cat-magazine c-feed_lines_cat\">価格.comマガジン - 生活家電</p><p class=\"c-feed_lines_ttl c-feed_lines_ttl-icon-1\">人気の電気圧力鍋おすすめ12選！ 安全・簡単・時短調理に便利</p></div><!-- /c-feed_lines --></a><!-- /c-feed_item --></div><!-- /c-feed_cell -->\\n</div><!-- /c-feed_row -->\\n\\n</div><!-- /c-feed_in -->\\n</div><!-- /c-feed -->\\n\\n<div class=\"c-feed c-feed-col3\">\\n<div class=\"c-feed_in\">\\n\\n<div class=\"c-feed_row\">\\n<div class=\"c-feed_cell\">\\n<a href=\"https://kakakumag.com/houseware/?id=16507\" class=\"c-feed_item c-feed_item-magazine\" onclick=\"onclickcatalyst_togroupsite(\\'waku_categorytop_exp_E_84885_3160\\');\" target=\"_blank\" style=\"min-height: 235px; height: auto;\">\\n<div class=\"c-feed_visual\" data-original=\"https://img1.kakaku.k-img.com/images/maga/16507/img250.jpg\" style=\"display: block; background-image: url(https://img1.kakaku.k-img.com/images/maga/16507/img250.jpg);\"></div>\\n<div class=\"c-feed_lines\">\\n<p class=\"p-cat p-cat-magazine c-feed_lines_cat\">価格.comマガジン - 生活雑貨</p>\\n<p class=\"c-feed_lines_ttl c-feed_lines_ttl-icon-1\">在宅ワークがはかどる! ｢書き消し無限のノート&amp;メモ｣プロ推奨3傑</p>\\n</div><!-- /c-feed_lines -->\\n</a><!-- /c-feed_item -->\\n</div><!-- /c-feed_cell -->\\n\\n<div class=\"c-feed_cell\">\\n<a href=\"https://bbs.kakaku.com/bbs/K0001229649/SortID=23929692/?lid=waku_categorytop_exp_E_84862_3160#tab\" class=\"c-feed_item c-feed_item-kuchikomi\" style=\"min-height: 235px; height: auto;\">\\n<div class=\"c-feed_visual\" data-original=\"https://img1.kakaku.k-img.com/images/productimage/ll/K0001229649.jpg\" style=\"display: block; background-image: url(https://img1.kakaku.k-img.com/images/productimage/ll/K0001229649.jpg);\"></div>\\n<div class=\"c-feed_lines\">\\n<div class=\"c-feed_lines_icons\"><img src=\"https://img1.kakaku.k-img.com/images/bbs/bbs_ques_s.gif\" alt=\"\" width=\"17\" height=\"17\" class=\"c-feed_lines_icons_entity\"></div><p class=\"p-cat p-cat-kuchikomi c-feed_lines_cat\">クチコミトピックス</p>\\n<p class=\"c-feed_lines_ttl\">YouTubeの視聴中にTVがブラックアウトする。原因は何でしょう</p>\\n<ul class=\"c-feed_lines_spec\"><li>薄型テレビ・液晶テレビ</li><li>REGZA 65Z740X [65イン…</li></ul>\\n</div><!-- /c-feed_lines -->\\n</a><!-- /c-feed_item -->\\n</div><!-- /c-feed_cell -->\\n\\n<div class=\"c-feed_cell\">\\n<a href=\"https://review.kakaku.com/review/K0001288728/ReviewCD=1413826/?lid=waku_categorytop_exp_E_84868_3160#tab\" class=\"c-feed_item c-feed_item-review\" style=\"min-height: 235px; height: auto;\">\\n<div class=\"c-feed_visual\" data-original=\"https://img1.kakaku.k-img.com/images/productimage/ll/K0001288728.jpg\" style=\"display: block; background-image: url(https://img1.kakaku.k-img.com/images/productimage/ll/K0001288728.jpg);\"></div>\\n<div class=\"c-feed_lines\">\\n<div class=\"c-feed_lines_star c-feed_lines_star-4\"></div><p class=\"p-cat p-cat-review c-feed_lines_cat\">レビュートピックス</p>\\n<p class=\"c-feed_lines_ttl\">乾燥機能に満足！タオルもふわふわに仕上がるドラム式洗濯乾燥機</p>\\n<ul class=\"c-feed_lines_spec\"><li>洗濯機</li><li>ZABOON TW-127X9L(T)…</li></ul>\\n</div><!-- /c-feed_lines -->\\n</a><!-- /c-feed_item -->\\n</div><!-- /c-feed_cell -->\\n\\n\\n</div><!-- /c-feed_row -->\\n\\n<div class=\"c-feed_row\">\\n<div class=\"c-feed_cell\">\\n<a href=\"https://kakakumag.com/av-kaden/?id=16008\" class=\"c-feed_item c-feed_item-magazine\" onclick=\"onclickcatalyst_togroupsite(\\'waku_categorytop_exp_E_82174_3160\\');\" target=\"_blank\" style=\"min-height: 235px; height: auto;\">\\n<div class=\"c-feed_visual\" data-original=\"https://img1.kakaku.k-img.com/images/maga/16008/250.jpg\"></div>\\n<div class=\"c-feed_lines\">\\n<p class=\"p-cat p-cat-magazine c-feed_lines_cat\">価格.comマガジン - AV家電</p>\\n<p class=\"c-feed_lines_ttl c-feed_lines_ttl-icon-1\">ヤマハ史上最小サウンドバー「SR-C20A」は小さいけどスゴいヤツ</p>\\n</div><!-- /c-feed_lines -->\\n</a><!-- /c-feed_item -->\\n</div><!-- /c-feed_cell -->\\n\\n<div class=\"c-feed_cell\">\\n<a href=\"https://kakakumag.com/av-kaden/?id=16230\" class=\"c-feed_item c-feed_item-magazine\" onclick=\"onclickcatalyst_togroupsite(\\'waku_categorytop_exp_E_83416_3160\\');\" target=\"_blank\" style=\"min-height: 235px; height: auto;\">\\n<div class=\"c-feed_visual\" data-original=\"https://img1.kakaku.k-img.com/images/maga/16230/250.jpg\"></div>\\n<div class=\"c-feed_lines\">\\n<p class=\"p-cat p-cat-magazine c-feed_lines_cat\">価格.comマガジン - AV家電</p>\\n<p class=\"c-feed_lines_ttl c-feed_lines_ttl-icon-1\">薄型テレビを高音質で楽しむための“テレビ用アンプ”の選び方</p>\\n</div><!-- /c-feed_lines -->\\n</a><!-- /c-feed_item -->\\n</div><!-- /c-feed_cell -->\\n\\n<div class=\"c-feed_cell\">\\n<a href=\"https://review.kakaku.com/review/K0001257479/ReviewCD=1413761/?lid=waku_categorytop_exp_E_84870_3160#tab\" class=\"c-feed_item c-feed_item-proReview\" style=\"min-height: 235px; height: auto;\">\\n<div class=\"c-feed_visual\" data-original=\"https://img1.kakaku.k-img.com/images/productimage/ll/K0001257479.jpg\"></div>\\n<div class=\"c-feed_lines\">\\n<div class=\"c-feed_lines_star c-feed_lines_star-4\"></div><p class=\"p-cat p-cat-proReview c-feed_lines_cat\">プロレビュー</p>\\n<p class=\"c-feed_lines_ttl\">高域楽器の凛とした音を楽しめる、軽快な装着感のイヤホン</p>\\n<ul class=\"c-feed_lines_spec\"><li>イヤホン・ヘッドホン</li><li>CX 150BT [BLACK]</li></ul>\\n</div><!-- /c-feed_lines -->\\n</a><!-- /c-feed_item -->\\n</div><!-- /c-feed_cell -->\\n\\n\\n</div><!-- /c-feed_row -->\\n\\n<div class=\"c-feed_row\">\\n<div class=\"c-feed_cell\">\\n<a href=\"https://kakakumag.com/av-kaden/?id=16528\" class=\"c-feed_item c-feed_item-magazine\" onclick=\"onclickcatalyst_togroupsite(\\'waku_categorytop_exp_E_84967_3160\\');\" target=\"_blank\" style=\"min-height: 220px; height: auto;\">\\n<div class=\"c-feed_visual\" data-original=\"https://img1.kakaku.k-img.com/images/maga/16528/250.jpg\"></div>\\n<div class=\"c-feed_lines\">\\n<p class=\"p-cat p-cat-magazine c-feed_lines_cat\">価格.comマガジン - AV家電</p>\\n<p class=\"c-feed_lines_ttl c-feed_lines_ttl-icon-1\">AVIOT完全ワイヤレスイヤホン 現行モデル全7機種を一気レビュー</p>\\n</div><!-- /c-feed_lines -->\\n</a><!-- /c-feed_item -->\\n</div><!-- /c-feed_cell -->\\n\\n<div class=\"c-feed_cell\">\\n<a href=\"https://kakakumag.com/seikatsu-kaden/?id=16514\" class=\"c-feed_item c-feed_item-magazine\" onclick=\"onclickcatalyst_togroupsite(\\'waku_categorytop_exp_E_84927_3160\\');\" target=\"_blank\" style=\"min-height: 220px; height: auto;\">\\n<div class=\"c-feed_visual\" data-original=\"https://img1.kakaku.k-img.com/images/maga/16514/250.jpg\"></div>\\n<div class=\"c-feed_lines\">\\n<p class=\"p-cat p-cat-magazine c-feed_lines_cat\">価格.comマガジン - 生活家電</p>\\n<p class=\"c-feed_lines_ttl c-feed_lines_ttl-icon-1\">自宅のスマートホーム化はココから！知っておくべき基本を解説</p>\\n</div><!-- /c-feed_lines -->\\n</a><!-- /c-feed_item -->\\n</div><!-- /c-feed_cell -->\\n\\n<div class=\"c-feed_cell\">\\n<a href=\"https://kakakumag.com/av-kaden/?id=16392\" class=\"c-feed_item c-feed_item-magazine\" onclick=\"onclickcatalyst_togroupsite(\\'waku_categorytop_exp_E_84311_3160\\');\" target=\"_blank\" style=\"min-height: 220px; height: auto;\">\\n<div class=\"c-feed_visual\" data-original=\"https://img1.kakaku.k-img.com/images/maga/16392/250.jpg\"></div>\\n<div class=\"c-feed_lines\">\\n<p class=\"p-cat p-cat-magazine c-feed_lines_cat\">価格.comマガジン - AV家電</p>\\n<p class=\"c-feed_lines_ttl c-feed_lines_ttl-icon-1\">今CDリッピングするならコレ！手法・必要機器など基本まとめ</p>\\n</div><!-- /c-feed_lines -->\\n</a><!-- /c-feed_item -->\\n</div><!-- /c-feed_cell -->\\n\\n\\n</div><!-- /c-feed_row -->\\n\\n<div class=\"c-feed_row\">\\n<div class=\"c-feed_cell\">\\n<a href=\"https://kakakumag.com/seikatsu-kaden/?id=16242\" class=\"c-feed_item c-feed_item-magazine\" onclick=\"onclickcatalyst_togroupsite(\\'waku_categorytop_exp_E_83494_3160\\');\" target=\"_blank\" style=\"min-height: 220px; height: auto;\">\\n<div class=\"c-feed_visual\" data-original=\"https://img1.kakaku.k-img.com/images/maga/16242/250b.jpg\"></div>\\n<div class=\"c-feed_lines\">\\n<p class=\"p-cat p-cat-magazine c-feed_lines_cat\">価格.comマガジン - 生活家電</p>\\n<p class=\"c-feed_lines_ttl c-feed_lines_ttl-icon-1\">パナソニックの新オーブントースター「ビストロ」を使ってみた！</p>\\n</div><!-- /c-feed_lines -->\\n</a><!-- /c-feed_item -->\\n</div><!-- /c-feed_cell -->\\n\\n<div class=\"c-feed_cell\">\\n<a href=\"https://kakakumag.com/av-kaden/?id=16330\" class=\"c-feed_item c-feed_item-magazine\" onclick=\"onclickcatalyst_togroupsite(\\'waku_categorytop_exp_E_83975_3160\\');\" target=\"_blank\" style=\"min-height: 220px; height: auto;\">\\n<div class=\"c-feed_visual\" data-original=\"https://img1.kakaku.k-img.com/images/maga/16330/250.jpg\"></div>\\n<div class=\"c-feed_lines\">\\n<p class=\"p-cat p-cat-magazine c-feed_lines_cat\">価格.comマガジン - AV家電</p>\\n<p class=\"c-feed_lines_ttl c-feed_lines_ttl-icon-1\">「ARC」「eARC」って何？ HDMIの重要キーワード解説</p>\\n</div><!-- /c-feed_lines -->\\n</a><!-- /c-feed_item -->\\n</div><!-- /c-feed_cell -->\\n\\n<div class=\"c-feed_cell\">\\n<a href=\"https://kakakumag.com/av-kaden/?id=16476\" class=\"c-feed_item c-feed_item-magazine\" onclick=\"onclickcatalyst_togroupsite(\\'waku_categorytop_exp_E_84713_3160\\');\" target=\"_blank\" style=\"min-height: 220px; height: auto;\">\\n<div class=\"c-feed_visual\" data-original=\"https://img1.kakaku.k-img.com/images/maga/16476/250.jpg\"></div>\\n<div class=\"c-feed_lines\">\\n<p class=\"p-cat p-cat-magazine c-feed_lines_cat\">価格.comマガジン - AV家電</p>\\n<p class=\"c-feed_lines_ttl c-feed_lines_ttl-icon-1\">テレビでサラウンド！リッチな音環境を構築する4つの選択肢</p>\\n</div><!-- /c-feed_lines -->\\n</a><!-- /c-feed_item -->\\n</div><!-- /c-feed_cell -->\\n\\n\\n</div><!-- /c-feed_row -->\\n\\n</div><!-- /c-feed_in -->\\n</div><!-- /c-feed -->\\n\\n<div class=\"c-box-regularBox p-ct_standard p-standard--kaden-\">\\n<div class=\"c-box_regularTtl c-box_regularTtl-icon-1 c-box_regularTtl-icon-1-14\">\\n<h2 class=\"c-box_regularTtl_lines c-box_regularTtl_lines-1\">定番の家電カテゴリ</h2>\\n</div><!-- /c-box_regularTtl -->\\n<div class=\"c-list2\">\\n<div class=\"c-list2_wrap\">\\n<ul class=\"c-list2_row\">\\n<li class=\"c-list2_cell p-ct_standard_cell p-ct_standard_cell-2 p-standard--kaden-_cell p-standard--kaden-_cell-1 s-biggerlink is-biggerlinkHot\" style=\"cursor: pointer;\">\\n<p class=\"p-ct_standard_visual\">\\n<img src=\"https://img1.kakaku.k-img.com/images/productimage/m/K0001247730.jpg\" alt=\"薄型テレビ・液晶テレビ\" width=\"68\" height=\"51\" class=\"p-ct_standard_visual_img\">\\n</p>\\n<p class=\"p-ct_standard_parent p-ct_standard_parent-1\">AV・情報家電</p>\\n<p class=\"p-ct_standard_ctg\"><a href=\"/kaden/lcd-tv/?lid=pc_categorytop_basiccategory\" class=\"p-ct_standard_ctg_link s-biggerlinkHover_underline is-biggerlinkBigger\">薄型テレビ・液晶テレビ</a></p>\\n</li>\\n<li class=\"c-list2_cell p-ct_standard_cell p-ct_standard_cell-2 p-standard--kaden-_cell p-standard--kaden-_cell-2 s-biggerlink is-biggerlinkHot\" style=\"cursor: pointer;\">\\n<p class=\"p-ct_standard_visual\">\\n<img src=\"https://img1.kakaku.k-img.com/images/productimage/m/K0001249933.jpg\" alt=\"ブルーレイ・DVDレコーダー\" width=\"68\" height=\"51\" class=\"p-ct_standard_visual_img\">\\n</p>\\n<p class=\"p-ct_standard_parent p-ct_standard_parent-1\">AV・情報家電</p>\\n<p class=\"p-ct_standard_ctg\"><a href=\"/kaden/dvd-recorder/?lid=pc_categorytop_basiccategory\" class=\"p-ct_standard_ctg_link s-biggerlinkHover_underline is-biggerlinkBigger\">ブルーレイ・<br>DVDレコーダー</a></p>\\n</li>\\n<li class=\"c-list2_cell p-ct_standard_cell p-ct_standard_cell-2 p-standard--kaden-_cell p-standard--kaden-_cell-3 s-biggerlink is-biggerlinkHot\" style=\"cursor: pointer;\">\\n<p class=\"p-ct_standard_visual\">\\n<img src=\"https://img1.kakaku.k-img.com/images/productimage/m/K0001253196.jpg\" alt=\"イヤホン・ヘッドホン\" width=\"68\" height=\"51\" class=\"p-ct_standard_visual_img\">\\n</p>\\n<p class=\"p-ct_standard_parent p-ct_standard_parent-1\">AV・情報家電</p>\\n<p class=\"p-ct_standard_ctg\"><a href=\"/kaden/headphones/?lid=pc_categorytop_basiccategory\" class=\"p-ct_standard_ctg_link s-biggerlinkHover_underline is-biggerlinkBigger\">イヤホン・ヘッドホン</a></p>\\n</li>\\n</ul>\\n<ul class=\"c-list2_row\">\\n<li class=\"c-list2_cell p-ct_standard_cell p-ct_standard_cell-2 p-standard--kaden-_cell p-standard--kaden-_cell-4 s-biggerlink is-biggerlinkHot\" style=\"cursor: pointer;\">\\n<p class=\"p-ct_standard_visual\">\\n<img src=\"https://img1.kakaku.k-img.com/images/productimage/m/K0001240522.jpg\" alt=\"スピーカー\" width=\"68\" height=\"51\" class=\"p-ct_standard_visual_img\">\\n</p>\\n<p class=\"p-ct_standard_parent p-ct_standard_parent-1\">AV・情報家電</p>\\n<p class=\"p-ct_standard_ctg\"><a href=\"/kaden/speaker/?lid=pc_categorytop_basiccategory\" class=\"p-ct_standard_ctg_link s-biggerlinkHover_underline is-biggerlinkBigger\">スピーカー</a></p>\\n</li>\\n<li class=\"c-list2_cell p-ct_standard_cell p-ct_standard_cell-2 p-standard--kaden-_cell p-standard--kaden-_cell-5 s-biggerlink is-biggerlinkHot\" style=\"cursor: pointer;\">\\n<p class=\"p-ct_standard_visual\">\\n<img src=\"https://img1.kakaku.k-img.com/images/productimage/m/J0000032332.jpg\" alt=\"冷蔵庫・冷凍庫\" width=\"68\" height=\"51\" class=\"p-ct_standard_visual_img\">\\n</p>\\n<p class=\"p-ct_standard_parent p-ct_standard_parent-2\">調理・生活家電</p>\\n<p class=\"p-ct_standard_ctg\"><a href=\"/kaden/freezer/?lid=pc_categorytop_basiccategory\" class=\"p-ct_standard_ctg_link s-biggerlinkHover_underline is-biggerlinkBigger\">冷蔵庫・冷凍庫</a></p>\\n</li>\\n<li class=\"c-list2_cell p-ct_standard_cell p-ct_standard_cell-2 p-standard--kaden-_cell p-standard--kaden-_cell-6 s-biggerlink is-biggerlinkHot\" style=\"cursor: pointer;\">\\n<p class=\"p-ct_standard_visual\">\\n<img src=\"https://img1.kakaku.k-img.com/images/productimage/m/K0001041626.jpg\" alt=\"掃除機\" width=\"68\" height=\"51\" class=\"p-ct_standard_visual_img\">\\n</p>\\n<p class=\"p-ct_standard_parent p-ct_standard_parent-2\">調理・生活家電</p>\\n<p class=\"p-ct_standard_ctg\"><a href=\"/kaden/vacuum-cleaner/?lid=pc_categorytop_basiccategory\" class=\"p-ct_standard_ctg_link s-biggerlinkHover_underline is-biggerlinkBigger\">掃除機</a></p>\\n</li>\\n</ul>\\n<ul class=\"c-list2_row\">\\n<li class=\"c-list2_cell p-ct_standard_cell p-ct_standard_cell-2 p-standard--kaden-_cell p-standard--kaden-_cell-7 s-biggerlink is-biggerlinkHot\" style=\"cursor: pointer;\">\\n<p class=\"p-ct_standard_visual\">\\n<img src=\"https://img1.kakaku.k-img.com/images/productimage/m/J0000033345.jpg\" alt=\"洗濯機\" width=\"68\" height=\"51\" class=\"p-ct_standard_visual_img\">\\n</p>\\n<p class=\"p-ct_standard_parent p-ct_standard_parent-2\">調理・生活家電</p>\\n<p class=\"p-ct_standard_ctg\"><a href=\"/kaden/washing-machine/?lid=pc_categorytop_basiccategory\" class=\"p-ct_standard_ctg_link s-biggerlinkHover_underline is-biggerlinkBigger\">洗濯機</a></p>\\n</li>\\n<li class=\"c-list2_cell p-ct_standard_cell p-ct_standard_cell-2 p-standard--kaden-_cell p-standard--kaden-_cell-8 s-biggerlink is-biggerlinkHot\" style=\"cursor: pointer;\">\\n<p class=\"p-ct_standard_visual\">\\n<img src=\"https://img1.kakaku.k-img.com/images/productimage/m/J0000033208.jpg\" alt=\"炊飯器\" width=\"68\" height=\"51\" class=\"p-ct_standard_visual_img\">\\n</p>\\n<p class=\"p-ct_standard_parent p-ct_standard_parent-2\">調理・生活家電</p>\\n<p class=\"p-ct_standard_ctg\"><a href=\"/kaden/rice-cooker/?lid=pc_categorytop_basiccategory\" class=\"p-ct_standard_ctg_link s-biggerlinkHover_underline is-biggerlinkBigger\">炊飯器</a></p>\\n</li>\\n<li class=\"c-list2_cell p-ct_standard_cell p-ct_standard_cell-2 p-standard--kaden-_cell p-standard--kaden-_cell-9 s-biggerlink is-biggerlinkHot\" style=\"cursor: pointer;\">\\n<p class=\"p-ct_standard_visual\">\\n<img src=\"https://img1.kakaku.k-img.com/images/productimage/m/K0001271533.jpg\" alt=\"電子レンジ・オーブンレンジ\" width=\"68\" height=\"51\" class=\"p-ct_standard_visual_img\">\\n</p>\\n<p class=\"p-ct_standard_parent p-ct_standard_parent-2\">調理・生活家電</p>\\n<p class=\"p-ct_standard_ctg\"><a href=\"/kaden/microwave-oven/?lid=pc_categorytop_basiccategory\" class=\"p-ct_standard_ctg_link s-biggerlinkHover_underline is-biggerlinkBigger\">電子レンジ・<br>オーブンレンジ</a></p>\\n</li>\\n</ul>\\n<ul class=\"c-list2_row\">\\n<li class=\"c-list2_cell p-ct_standard_cell p-ct_standard_cell-2 p-standard--kaden-_cell p-standard--kaden-_cell-10 s-biggerlink is-biggerlinkHot\" style=\"cursor: pointer;\">\\n<p class=\"p-ct_standard_visual\">\\n<img src=\"https://img1.kakaku.k-img.com/images/productimage/m/J0000034021.jpg\" alt=\"空気清浄機\" width=\"68\" height=\"51\" class=\"p-ct_standard_visual_img\">\\n</p>\\n<p class=\"p-ct_standard_parent p-ct_standard_parent-3\">健康・美容家電</p>\\n<p class=\"p-ct_standard_ctg\"><a href=\"/kaden/air-purifier/?lid=pc_categorytop_basiccategory\" class=\"p-ct_standard_ctg_link s-biggerlinkHover_underline is-biggerlinkBigger\">空気清浄機</a></p>\\n</li>\\n<li class=\"c-list2_cell p-ct_standard_cell p-ct_standard_cell-2 p-standard--kaden-_cell p-standard--kaden-_cell-11 s-biggerlink is-biggerlinkHot\" style=\"cursor: pointer;\">\\n<p class=\"p-ct_standard_visual\">\\n<img src=\"https://img1.kakaku.k-img.com/images/productimage/m/K0001229521.jpg\" alt=\"エアコン・クーラー\" width=\"68\" height=\"51\" class=\"p-ct_standard_visual_img\">\\n</p>\\n<p class=\"p-ct_standard_parent p-ct_standard_parent-4\">季節家電</p>\\n<p class=\"p-ct_standard_ctg\"><a href=\"/kaden/aircon/?lid=pc_categorytop_basiccategory\" class=\"p-ct_standard_ctg_link s-biggerlinkHover_underline is-biggerlinkBigger\">エアコン・クーラー</a></p>\\n</li>\\n<li class=\"c-list2_cell p-ct_standard_cell p-ct_standard_cell-2 p-standard--kaden-_cell p-standard--kaden-_cell-12 s-biggerlink is-biggerlinkHot\" style=\"cursor: pointer;\">\\n<p class=\"p-ct_standard_visual\">\\n<img src=\"https://img1.kakaku.k-img.com/images/productimage/m/K0000817705.jpg\" alt=\"ヒーター・ストーブ\" width=\"68\" height=\"51\" class=\"p-ct_standard_visual_img\">\\n</p>\\n<p class=\"p-ct_standard_parent p-ct_standard_parent-4\">季節家電</p>\\n<p class=\"p-ct_standard_ctg\"><a href=\"/kaden/heater/?lid=pc_categorytop_basiccategory\" class=\"p-ct_standard_ctg_link s-biggerlinkHover_underline is-biggerlinkBigger\">ヒーター・ストーブ</a></p>\\n</li>\\n</ul>\\n</div><!-- /c-list2_wrap -->\\n</div><!-- /c-list2 -->\\n</div><!-- /p-ct_standard--kaden- -->\\n\\n\\n<div class=\"c-feed c-feed-col3\">\\n<div class=\"c-feed_in\">\\n\\n<div class=\"c-feed_row\">\\n<div class=\"c-feed_cell\">\\n<a href=\"https://kakakumag.com/av-kaden/?id=16087\" class=\"c-feed_item c-feed_item-magazine\" onclick=\"onclickcatalyst_togroupsite(\\'waku_categorytop_exp_E_82557_3160\\');\" target=\"_blank\" style=\"min-height: 220px; height: auto;\">\\n<div class=\"c-feed_visual\" data-original=\"https://img1.kakaku.k-img.com/images/maga/16087/250.jpg\"></div>\\n<div class=\"c-feed_lines\">\\n<p class=\"p-cat p-cat-magazine c-feed_lines_cat\">価格.comマガジン - AV家電</p>\\n<p class=\"c-feed_lines_ttl c-feed_lines_ttl-icon-1\">今だからこそじっくり聴きたい定番ヘッドホン</p>\\n</div><!-- /c-feed_lines -->\\n</a><!-- /c-feed_item -->\\n</div><!-- /c-feed_cell -->\\n\\n<div class=\"c-feed_cell\">\\n<a href=\"https://kakakumag.com/seikatsu-kaden/?id=16499\" class=\"c-feed_item c-feed_item-magazine\" onclick=\"onclickcatalyst_togroupsite(\\'waku_categorytop_exp_E_84890_3160\\');\" target=\"_blank\" style=\"min-height: 220px; height: auto;\">\\n<div class=\"c-feed_visual\" data-original=\"https://img1.kakaku.k-img.com/images/maga/16499/250.jpg\"></div>\\n<div class=\"c-feed_lines\">\\n<p class=\"p-cat p-cat-magazine c-feed_lines_cat\">価格.comマガジン - 生活家電</p>\\n<p class=\"c-feed_lines_ttl c-feed_lines_ttl-icon-1\">専用袋不要、液体も対応の「真空パック器」で自家製ラーメン作り</p>\\n</div><!-- /c-feed_lines -->\\n</a><!-- /c-feed_item -->\\n</div><!-- /c-feed_cell -->\\n\\n<div class=\"c-feed_cell\">\\n<a href=\"https://kakakumag.com/av-kaden/?id=16490\" class=\"c-feed_item c-feed_item-magazine\" onclick=\"onclickcatalyst_togroupsite(\\'waku_categorytop_exp_E_84795_3160\\');\" target=\"_blank\" style=\"min-height: 220px; height: auto;\">\\n<div class=\"c-feed_visual\" data-original=\"https://img1.kakaku.k-img.com/images/maga/16490/250.jpg\"></div>\\n<div class=\"c-feed_lines\">\\n<p class=\"p-cat p-cat-magazine c-feed_lines_cat\">価格.comマガジン - AV家電</p>\\n<p class=\"c-feed_lines_ttl c-feed_lines_ttl-icon-1\">SonosのサウンドバーとWi-Fiスピーカーでテレビをサラウンド化！</p>\\n</div><!-- /c-feed_lines -->\\n</a><!-- /c-feed_item -->\\n</div><!-- /c-feed_cell -->\\n\\n\\n</div><!-- /c-feed_row -->\\n\\n<div class=\"c-feed_row\">\\n<div class=\"c-feed_cell\">\\n<a href=\"https://akiba-souken.com/article/49023/\" class=\"c-feed_item c-feed_item-akiba\" onclick=\"onclickcatalyst_togroupsite(\\'waku_categorytop_exp_E_84948_3160\\');\" target=\"_blank\" style=\"min-height: 220px; height: auto;\">\\n<div class=\"c-feed_visual\" data-original=\"https://akiba-souken.k-img.com/assets/images/article/000/891/t640_891724.jpg\"></div>\\n<div class=\"c-feed_lines\">\\n<p class=\"p-cat p-cat-akiba c-feed_lines_cat\">グループサイト情報 - アキバ総研</p>\\n<p class=\"c-feed_lines_ttl c-feed_lines_ttl-icon-1\">アキバ特価情報（2021年1月27日～1月31日)</p>\\n</div><!-- /c-feed_lines -->\\n</a><!-- /c-feed_item -->\\n</div><!-- /c-feed_cell -->\\n\\n<div class=\"c-feed_cell\">\\n<a href=\"https://kakakumag.com/seikatsu-kaden/?id=16083\" class=\"c-feed_item c-feed_item-magazine\" onclick=\"onclickcatalyst_togroupsite(\\'waku_categorytop_exp_E_82526_3160\\');\" target=\"_blank\" style=\"min-height: 220px; height: auto;\">\\n<div class=\"c-feed_visual\" data-original=\"https://img1.kakaku.k-img.com/images/maga/16083/img250.jpg\"></div>\\n<div class=\"c-feed_lines\">\\n<p class=\"p-cat p-cat-magazine c-feed_lines_cat\">価格.comマガジン - 生活家電</p>\\n<p class=\"c-feed_lines_ttl c-feed_lines_ttl-icon-1\">気持ちよ過ぎてバカになる? 話題の｢マッサージガン｣を使ってみた</p>\\n</div><!-- /c-feed_lines -->\\n</a><!-- /c-feed_item -->\\n</div><!-- /c-feed_cell -->\\n\\n<div class=\"c-feed_cell\">\\n<a href=\"https://kakakumag.com/av-kaden/?id=15909\" class=\"c-feed_item c-feed_item-magazine\" onclick=\"onclickcatalyst_togroupsite(\\'waku_categorytop_exp_E_81684_3160\\');\" target=\"_blank\" style=\"min-height: 220px; height: auto;\">\\n<div class=\"c-feed_visual\" data-original=\"https://img1.kakaku.k-img.com/images/maga/15909/250.jpg\"></div>\\n<div class=\"c-feed_lines\">\\n<p class=\"p-cat p-cat-magazine c-feed_lines_cat\">価格.comマガジン - AV家電</p>\\n<p class=\"c-feed_lines_ttl c-feed_lines_ttl-icon-1\">デノン110周年記念！4つのアニバーサリーモデル「A110」シリーズ</p>\\n</div><!-- /c-feed_lines -->\\n</a><!-- /c-feed_item -->\\n</div><!-- /c-feed_cell -->\\n\\n\\n</div><!-- /c-feed_row -->\\n\\n<div class=\"c-feed_row\">\\n<div class=\"c-feed_cell\">\\n<a href=\"https://kakakumag.com/av-kaden/?id=15633\" class=\"c-feed_item c-feed_item-magazine\" onclick=\"onclickcatalyst_togroupsite(\\'waku_categorytop_exp_E_80009_3160\\');\" target=\"_blank\" style=\"min-height: 220px; height: auto;\">\\n<div class=\"c-feed_visual\" data-original=\"https://img1.kakaku.k-img.com/images/maga/15633/250.jpg\"></div>\\n<div class=\"c-feed_lines\">\\n<p class=\"p-cat p-cat-magazine c-feed_lines_cat\">価格.comマガジン - AV家電</p>\\n<p class=\"c-feed_lines_ttl c-feed_lines_ttl-icon-1\">充電しながら音楽再生もOK！スマホと好相性なヤマハ「TSX-B237」</p>\\n</div><!-- /c-feed_lines -->\\n</a><!-- /c-feed_item -->\\n</div><!-- /c-feed_cell -->\\n\\n<div class=\"c-feed_cell\">\\n<a href=\"https://kakakumag.com/av-kaden/?id=16117\" class=\"c-feed_item c-feed_item-magazine\" onclick=\"onclickcatalyst_togroupsite(\\'waku_categorytop_exp_E_82772_3160\\');\" target=\"_blank\" style=\"min-height: 220px; height: auto;\">\\n<div class=\"c-feed_visual\" data-original=\"https://img1.kakaku.k-img.com/images/maga/16117/250.jpg\"></div>\\n<div class=\"c-feed_lines\">\\n<p class=\"p-cat p-cat-magazine c-feed_lines_cat\">価格.comマガジン - AV家電</p>\\n<p class=\"c-feed_lines_ttl c-feed_lines_ttl-icon-1\">サウンドバーの3Dサラウンドって実際どうなの？5機種でチェック</p>\\n</div><!-- /c-feed_lines -->\\n</a><!-- /c-feed_item -->\\n</div><!-- /c-feed_cell -->\\n\\n<div class=\"c-feed_cell\">\\n<a href=\"https://kakakumag.com/av-kaden/?id=15324\" class=\"c-feed_item c-feed_item-magazine\" onclick=\"onclickcatalyst_togroupsite(\\'waku_categorytop_exp_E_78190_3160\\');\" target=\"_blank\" style=\"min-height: 220px; height: auto;\">\\n<div class=\"c-feed_visual\" data-original=\"https://img1.kakaku.k-img.com/images/maga/15324/250.jpg\"></div>\\n<div class=\"c-feed_lines\">\\n<p class=\"p-cat p-cat-magazine c-feed_lines_cat\">価格.comマガジン - AV家電</p>\\n<p class=\"c-feed_lines_ttl c-feed_lines_ttl-icon-1\">AV家電のプロが60代の両親のためにガチで選んだ薄型テレビとは？</p>\\n</div><!-- /c-feed_lines -->\\n</a><!-- /c-feed_item -->\\n</div><!-- /c-feed_cell -->\\n\\n\\n</div><!-- /c-feed_row -->\\n\\n<div class=\"c-feed_row\">\\n<div class=\"c-feed_cell\">\\n<a href=\"https://kakakumag.com/seikatsu-kaden/?id=16512\" class=\"c-feed_item c-feed_item-magazine\" onclick=\"onclickcatalyst_togroupsite(\\'waku_categorytop_exp_E_84916_3160\\');\" target=\"_blank\" style=\"min-height: 220px; height: auto;\">\\n<div class=\"c-feed_visual\" data-original=\"https://img1.kakaku.k-img.com/images/maga/16512/250.jpg\"></div>\\n<div class=\"c-feed_lines\">\\n<p class=\"p-cat p-cat-magazine c-feed_lines_cat\">価格.comマガジン - 生活家電</p>\\n<p class=\"c-feed_lines_ttl c-feed_lines_ttl-icon-1\">ポスト甘酒？ 「発酵あんこ」をヨーグルトメーカーで作ってみた</p>\\n</div><!-- /c-feed_lines -->\\n</a><!-- /c-feed_item -->\\n</div><!-- /c-feed_cell -->\\n\\n<div class=\"c-feed_cell\">\\n<a href=\"https://kakakumag.com/seikatsu-kaden/?id=15928\" class=\"c-feed_item c-feed_item-magazine\" onclick=\"onclickcatalyst_togroupsite(\\'waku_categorytop_exp_E_81783_3160\\');\" target=\"_blank\" style=\"min-height: 220px; height: auto;\">\\n<div class=\"c-feed_visual\" data-original=\"https://img1.kakaku.k-img.com/images/maga/15928/250.jpg\"></div>\\n<div class=\"c-feed_lines\">\\n<p class=\"p-cat p-cat-magazine c-feed_lines_cat\">価格.comマガジン - 生活家電</p>\\n<p class=\"c-feed_lines_ttl c-feed_lines_ttl-icon-1\">大人気！アイリスオーヤマの電気圧力鍋は4Lタイプもやっぱり便利</p>\\n</div><!-- /c-feed_lines -->\\n</a><!-- /c-feed_item -->\\n</div><!-- /c-feed_cell -->\\n\\n<div class=\"c-feed_cell\">\\n<a href=\"https://kakakumag.com/seikatsu-kaden/?id=16467\" class=\"c-feed_item c-feed_item-magazine\" onclick=\"onclickcatalyst_togroupsite(\\'waku_categorytop_exp_E_84668_3160\\');\" target=\"_blank\" style=\"min-height: 220px; height: auto;\">\\n<div class=\"c-feed_visual\" data-original=\"https://img1.kakaku.k-img.com/images/maga/16467/250.jpg\"></div>\\n<div class=\"c-feed_lines\">\\n<p class=\"p-cat p-cat-magazine c-feed_lines_cat\">価格.comマガジン - 生活家電</p>\\n<p class=\"c-feed_lines_ttl c-feed_lines_ttl-icon-1\">卓上で完結！「せんべろメーカー」で家飲みをもっと楽しく</p>\\n</div><!-- /c-feed_lines -->\\n</a><!-- /c-feed_item -->\\n</div><!-- /c-feed_cell -->\\n\\n\\n</div><!-- /c-feed_row -->\\n\\n</div><!-- /c-feed_in -->\\n\\n</div><!-- /c-feed -->\\n\\n<div class=\"c-box-regularBox p-groupCatList p-groupCatList-feed\">\\n<div class=\"c-list2\">\\n<div class=\"c-list2_wrap\">\\n<ul class=\"c-list2_row\">\\n<li class=\"c-list2_cell s-biggerlink s-biggerlinkHover_bg is-biggerlinkHot\" style=\"cursor: pointer;\">\\n<div class=\"p-groupCatList_cell\">\\n<dl>\\n<dt class=\"p-groupCatList_name p-groupCatList_name-magazine\"><a href=\"https://kakakumag.com/seikatsu-kaden/\" class=\"is-biggerlinkBigger\">価格.com マガジン</a></dt>\\n<dd class=\"p-groupCatList_detail\">生活家電 トップへ</dd>\\n</dl>\\n</div><!-- /p-groupCatList_cell -->\\n</li>\\n<li class=\"c-list2_cell s-biggerlink s-biggerlinkHover_bg is-biggerlinkHot\" style=\"cursor: pointer;\">\\n<div class=\"p-groupCatList_cell\">\\n<dl>\\n<dt class=\"p-groupCatList_name p-groupCatList_name-magazine\"><a href=\"https://kakakumag.com/av-kaden/\" class=\"is-biggerlinkBigger\">価格.com マガジン</a></dt>\\n<dd class=\"p-groupCatList_detail\">AV家電 トップへ</dd>\\n</dl>\\n</div><!-- /p-groupCatList_cell -->\\n</li>\\n<li class=\"c-list2_cell s-biggerlink s-biggerlinkHover_bg is-biggerlinkHot\" style=\"cursor: pointer;\">\\n<div class=\"p-groupCatList_cell\">\\n<dl>\\n<dt class=\"p-groupCatList_name p-groupCatList_name-voice\"><a href=\"https://bbs.kakaku.com/bbs/-/BBSTabNo=2/\" class=\"is-biggerlinkBigger\">クチコミ</a></dt>\\n<dd class=\"p-groupCatList_detail\">家電 クチコミ一覧へ</dd>\\n</dl>\\n</div><!-- /p-groupCatList_cell -->\\n</li>\\n<li class=\"c-list2_cell s-biggerlink s-biggerlinkHover_bg is-biggerlinkHot\" style=\"cursor: pointer;\">\\n<div class=\"p-groupCatList_cell\">\\n<dl>\\n<dt class=\"p-groupCatList_name p-groupCatList_name-review\"><a href=\"https://review.kakaku.com/review/newreview/BBSTabNo=2/\" class=\"is-biggerlinkBigger\">レビュー</a></dt>\\n<dd class=\"p-groupCatList_detail\">家電 レビュー一覧へ</dd>\\n</dl>\\n</div><!-- /p-groupCatList_cell -->\\n</li>\\n</ul>\\n</div><!-- /c-list2_wrap -->\\n</div><!-- /c-list2 -->\\n</div><!-- /p-groupCatList -->\\n\\n<link href=\"https://css1.kakaku.k-img.com/css/impression/module/pc/imp_ui.css\" rel=\"stylesheet\" type=\"text/css\">\\n<div class=\"imp_mainBox\">\\n\\t<div class=\"imp_mainBox_ttl\">価格.com インプレッション Pro\\'s Choice</div>\\n\\t<div class=\"imp_mainBox_inner\">\\n\\t\\t<ul class=\"imp_mainBox_list\">\\n\\t\\t\\t<li class=\"imp_mainBox_item s-biggerlink is-biggerlinkHot\" style=\"cursor: pointer;\">\\n\\t\\t\\t\\t<div class=\"imp_mainBox_card\">\\n\\t\\t\\t\\t\\t<p class=\"imp_mainBox_card_ttl\"><a href=\"https://kakaku.com/impression/pros_choice/vol_2/?lid=kimp_prosarticle_catetop_main\" class=\"imp_mainBox_card_ttl_anchor js-targetLink_imp is-biggerlinkBigger\">プロのフードディレクターが選ぶキッチン家電＋調理器具</a></p>\\n\\t\\t\\t\\t\\t<div class=\"imp_mainBox_card_split\">\\n\\t\\t\\t\\t\\t\\t<img src=\"https://img1.kakaku.k-img.com/images/impression/pros_choice/vol_2/vol_2_1.jpg\" width=\"200\" height=\"133\" alt=\"\" class=\"imp_mainBox_card_split_img\">\\n\\t\\t\\t\\t\\t\\t<dl class=\"imp_mainBox_card_split_info\">\\n\\t\\t\\t\\t\\t\\t\\t<dt>林綾子さん<span>（フードディレクター / 料理家）</span></dt>\\n\\t\\t\\t\\t\\t\\t\\t<dd>道具選びのこだわりをプロに聞く「Pro\\'s Choice」。フードディレクター、林綾子氏の道具選びに通じる点として、3つのポイントがあるという。それが「料理の効率アップ」「デザイン」「用途に合う確かな性能」だ。</dd>\\n\\t\\t\\t\\t\\t\\t</dl>\\n\\t\\t\\t\\t\\t</div>\\n\\t\\t\\t\\t\\t<ul class=\"imp_mainBox_tagList\">\\n\\t\\t\\t\\t\\t\\t<li class=\"imp_mainBox_tagList_item\">\\n\\t\\t\\t\\t\\t\\t\\t<span class=\"imp_mainBox_tagList_label\">三菱電機</span>\\n\\t\\t\\t\\t\\t\\t\\t<span class=\"imp_mainBox_tagList_bame\">置けるスマート大容量 MXシリーズ MR-MX50F-W</span>\\n\\t\\t\\t\\t\\t\\t</li>\\n\\t\\t\\t\\t\\t\\t<li class=\"imp_mainBox_tagList_item\">\\n\\t\\t\\t\\t\\t\\t\\t<span class=\"imp_mainBox_tagList_label\">バルミューダ</span>\\n\\t\\t\\t\\t\\t\\t\\t<span class=\"imp_mainBox_tagList_bame\">The Toaster K05A-BK</span>\\n\\t\\t\\t\\t\\t\\t</li>\\n\\t\\t\\t\\t\\t\\t<li class=\"imp_mainBox_tagList_item\">\\n\\t\\t\\t\\t\\t\\t\\t<span class=\"imp_mainBox_tagList_label\">ラッセルホブス</span>\\n\\t\\t\\t\\t\\t\\t\\t<span class=\"imp_mainBox_tagList_bame\">コーヒーグラインダー 7660JP</span>\\n\\t\\t\\t\\t\\t\\t</li>\\n\\t\\t\\t\\t\\t\\t<li class=\"imp_mainBox_tagList_item\">\\n\\t\\t\\t\\t\\t\\t\\t<span class=\"imp_mainBox_tagList_label\">HARMAN(ハーマン)</span>\\n\\t\\t\\t\\t\\t\\t\\t<span class=\"imp_mainBox_tagList_bame\">プラス・ドゥ DW35F2JTKST</span>\\n\\t\\t\\t\\t\\t\\t</li>\\n\\t\\t\\t\\t\\t\\t<li class=\"imp_mainBox_tagList_item\">\\n\\t\\t\\t\\t\\t\\t\\t<span class=\"imp_mainBox_tagList_label\">aarke</span>\\n\\t\\t\\t\\t\\t\\t\\t<span class=\"imp_mainBox_tagList_bame\">カーボネーターII</span>\\n\\t\\t\\t\\t\\t\\t</li>\\n\\t\\t\\t\\t\\t\\t<li class=\"imp_mainBox_tagList_item\">\\n\\t\\t\\t\\t\\t\\t\\t<span class=\"imp_mainBox_tagList_label\">ストウブ</span>\\n\\t\\t\\t\\t\\t\\t\\t<span class=\"imp_mainBox_tagList_bame\">ピコ ココット ラウンド 22cm</span>\\n\\t\\t\\t\\t\\t\\t</li>\\n\\t\\t\\t\\t\\t</ul>\\n\\t\\t\\t\\t</div>\\n\\t\\t\\t</li>\\n\\t\\t</ul>\\n\\n\\t</div>\\n</div>\\n\\n<div class=\"c-box-regularBox p-topics\">\\n<div class=\"c-box_regularTtl c-box_regularTtl-icon-1 c-box_regularTtl-icon-1-5\">\\n<h2 class=\"c-box_regularTtl_lines c-box_regularTtl_lines-1\">家電トピックス</h2>\\n</div><!-- /c-box_regularTtl -->\\n\\n<div class=\"s-topicsSlide owl-carousel owl-theme owl-loaded owl-text-select-on\">\\n\\n<!-- スライド5ここから -->\\n<!-- /p-topics_slide -->\\n<!-- スライド5ここまで -->\\n\\n<!-- スライド1ここから -->\\n<!-- /p-topics_slide -->\\n<!-- スライド1ここまで -->\\n\\n<!-- スライド2ここから -->\\n<!-- /p-topics_slide -->\\n<!-- スライド2ここまで -->\\n\\n<!-- スライド3ここから -->\\n<!-- /p-topics_slide -->\\n<!-- スライド3ここまで -->\\n\\n<!-- スライド4ここから -->\\n<!-- /p-topics_slide -->\\n<!-- スライド4ここまで -->\\n\\n<div class=\"owl-stage-outer owl-height\" style=\"height: 249px;\"><div class=\"owl-stage\" style=\"transform: translate3d(0px, 0px, 0px); transition: 0s; -webkit-transition: 0s; width: 3890px;\"><div class=\"owl-item active\" style=\"width: 778px; margin-right: 0px;\"><div class=\"p-topics_slide\">\\n<div class=\"p-topics_slide_in\">\\n<h3 class=\"p-topics_ttl\">スチーム技術が向上した最新の衣類スチーマーに注目！</h3>\\n<p class=\"p-topics_outline\">お出かけ前に、手軽にシワのばしができる「衣類スチーマー」が人気だ。ハンガーに服をかけたままアイロンができるため、わざわざアイロンとアイロン台を出す必要がなく、忙しい社会人にもピッタリだ。軽量化が進み、スチーム技術が大幅に向上した最新の衣類スチーマーに注目だ。</p>\\n<div class=\"p-topics_items\">\\n<div class=\"p-topics_items_in\">\\n<div class=\"c-list2 c-list2-dot\">\\n<div class=\"c-list2_wrap\">\\n<div class=\"c-list2_row\">\\n<div class=\"c-list2_cell p-topics_item s-biggerlink is-biggerlinkHot\" style=\"cursor: pointer;\">\\n<p class=\"p-topics_maker\">ティファール</p>\\n<h4 class=\"p-topics_name\"><a href=\"/item/K0001230099/?lid=kaden_topics_product7\" class=\"s-biggerlinkHover_underline is-biggerlinkBigger\">アクセススチームポケット DT3030J0</a></h4>\\n<div class=\"c-positioning\">\\n<div class=\"c-positioning_cell p-topics_visual\"><img src=\"https://img1.kakaku.k-img.com/images/productimage/l/K0001230099.jpg\" alt=\"アクセススチームポケット DT3030J0\" class=\"p-topics_visual_entity s-biggerlinkHover_alpha\"></div>\\n<div class=\"c-positioning_cell\">\\n<p class=\"p-topics_detail\">ヘッド部分を2つに折りたたみでき、コンパクトに収納できる。立ち上がり時間は「ティファールの衣類スチーマーで最速」という15秒を実現。</p>\\n</div><!-- /c-positioning_cell -->\\n</div><!-- /c-positioning -->\\n</div><!-- /c-list2_cell -->\\n<div class=\"c-list2_cell p-topics_item s-biggerlink is-biggerlinkHot\" style=\"cursor: pointer;\">\\n<p class=\"p-topics_maker\">パナソニック</p>\\n<h4 class=\"p-topics_name\"><a href=\"/item/K0001203706/?lid=kaden_topics_product8\" class=\"s-biggerlinkHover_underline is-biggerlinkBigger\">NI-MS100</a></h4>\\n<div class=\"c-positioning\">\\n<div class=\"c-positioning_cell p-topics_visual\"><img src=\"https://img1.kakaku.k-img.com/images/productimage/l/K0001203706.jpg\" alt=\"NI-MS100\" class=\"p-topics_visual_entity s-biggerlinkHover_alpha\"></div>\\n<div class=\"c-positioning_cell\">\\n<p class=\"p-topics_detail\">アイロン台なしで衣類のシワ伸ばしができるスリムタイプの衣類スチーマー。ハンドルを折りたたんで付属のポーチにコンパクトに収納できる。</p>\\n</div><!-- /c-positioning_cell -->\\n</div><!-- /c-positioning -->\\n</div><!-- /c-list2_cell -->\\n</div><!-- /c-list2_row -->\\n</div><!-- /c-list2_wrap -->\\n</div><!-- /c-list2 -->\\n</div><!-- /p-topics_items_in -->\\n</div><!-- /p-topics_items -->\\n</div><!-- /p-topics_slide_in -->\\n<div class=\"c-box-relation\">\\n<ul class=\"c-box-relation_wrap\">\\n<li class=\"c-box-relation_item\"><a href=\"/kaden/ironing/itemlist.aspx?pdf_Spec010=1&amp;lid=kaden_topics_contents\" class=\"c-box-relation_link\">衣類スチーマーをもっと見る</a></li>\\n<li class=\"c-box-relation_item\"><a href=\"/kaden/topics/?lid=kaden_topics_list\" class=\"c-box-relation_link\">家電トピックスをもっと見る</a></li>\\n</ul>\\n</div><!-- /c-box-relation -->\\n</div></div><div class=\"owl-item\" style=\"width: 778px; margin-right: 0px;\"><div class=\"p-topics_slide\">\\n<div class=\"p-topics_slide_in\">\\n<h3 class=\"p-topics_ttl\">忙しい人必見！時短＆料理が苦手な人にもピッタリな自動調理鍋に注目！</h3>\\n<p class=\"p-topics_outline\">仕事や子育てで忙しく家事に長い時間を割けない人は多いだろう。そんな中、時間をかけずに安全かつ楽に自動調理が行える電気鍋が人気だ。具材を入れてタイマーをかけるだけで、食べたいタイミングに料理が完成する優れもの。時短家電としてだけでなく料理が苦手な人にも魅力的な自動調理鍋に注目したい。</p>\\n<div class=\"p-topics_items\">\\n<div class=\"p-topics_items_in\">\\n<div class=\"c-list2 c-list2-dot\">\\n<div class=\"c-list2_wrap\">\\n<div class=\"c-list2_row\">\\n<div class=\"c-list2_cell p-topics_item s-biggerlink is-biggerlinkHot\" style=\"cursor: pointer;\">\\n<p class=\"p-topics_maker\">シャープ</p>\\n<h4 class=\"p-topics_name\"><a href=\"/item/K0001211705/?lid=kaden_topics_product9\" class=\"s-biggerlinkHover_underline is-biggerlinkBigger\">ヘルシオ ホットクック KN-HW10E</a></h4>\\n<div class=\"c-positioning\">\\n<div class=\"c-positioning_cell p-topics_visual\"><img src=\"https://img1.kakaku.k-img.com/images/productimage/l/K0001211705.jpg\" alt=\"ヘルシオ ホットクック KN-HW10E\" class=\"p-topics_visual_entity s-biggerlinkHover_alpha\"></div>\\n<div class=\"c-positioning_cell\">\\n<p class=\"p-topics_detail\">新「まぜ技ユニット」とコンパクトモーターを採用した、容量1Lの1～2人用モデル。63種類の「自動調理メニュー」を搭載。</p>\\n</div><!-- /c-positioning_cell -->\\n</div><!-- /c-positioning -->\\n</div><!-- /c-list2_cell -->\\n<div class=\"c-list2_cell p-topics_item s-biggerlink is-biggerlinkHot\" style=\"cursor: pointer;\">\\n<p class=\"p-topics_maker\">ティファール</p>\\n<h4 class=\"p-topics_name\"><a href=\"/item/K0000991936/?lid=kaden_topics_product10\" class=\"s-biggerlinkHover_underline is-biggerlinkBigger\">クックフォーミー エクスプレス</a></h4>\\n<div class=\"c-positioning\">\\n<div class=\"c-positioning_cell p-topics_visual\"><img src=\"https://img1.kakaku.k-img.com/images/productimage/l/K0000991936.jpg\" alt=\"クックフォーミー エクスプレス\" class=\"p-topics_visual_entity s-biggerlinkHover_alpha\"></div>\\n<div class=\"c-positioning_cell\">\\n<p class=\"p-topics_detail\">ボタンひとつで料理の手順をナビしてくれる「Cook4me」の後継機種。内蔵レシピが従来の60レシピから150レシピに増加した。</p>\\n</div><!-- /c-positioning_cell -->\\n</div><!-- /c-positioning -->\\n</div><!-- /c-list2_cell -->\\n</div><!-- /c-list2_row -->\\n</div><!-- /c-list2_wrap -->\\n</div><!-- /c-list2 -->\\n</div><!-- /p-topics_items_in -->\\n</div><!-- /p-topics_items -->\\n</div><!-- /p-topics_slide_in -->\\n<div class=\"c-box-relation\">\\n<ul class=\"c-box-relation_wrap\">\\n<li class=\"c-box-relation_item\"><a href=\"/kaden/kitchen-others/?lid=kaden_topics_contents\" class=\"c-box-relation_link\">その他調理家電をもっと見る</a></li>\\n<li class=\"c-box-relation_item\"><a href=\"/kaden/topics/?lid=kaden_topics_list\" class=\"c-box-relation_link\">家電トピックスをもっと見る</a></li>\\n</ul>\\n</div><!-- /c-box-relation -->\\n</div></div><div class=\"owl-item\" style=\"width: 778px; margin-right: 0px;\"><div class=\"p-topics_slide\">\\n<div class=\"p-topics_slide_in\">\\n<h3 class=\"p-topics_ttl\">新世代の暖房器具「オイルレスヒーター」に注目！</h3>\\n<p class=\"p-topics_outline\">オイルヒーターの形状をしてはいるが、オイルを使わない「オイルレスヒーター」が各メーカーから続々と登場している。オイルヒーターの「空気が汚れない」「静か」「風がない」「安全性」といったメリットを活かしたまま「電気代が高い」「暖まりが遅い」「本体が重い」といったデメリットを解消。新世代の暖房器具「オイルレスヒーター」に注目だ。</p>\\n<div class=\"p-topics_items\">\\n<div class=\"p-topics_items_in\">\\n<div class=\"c-list2 c-list2-dot\">\\n<div class=\"c-list2_wrap\">\\n<div class=\"c-list2_row\">\\n<div class=\"c-list2_cell p-topics_item s-biggerlink is-biggerlinkHot\" style=\"cursor: pointer;\">\\n<p class=\"p-topics_maker\">デロンギ</p>\\n<h4 class=\"p-topics_name\"><a href=\"/item/K0001087130/&amp;lid=kaden_topics_product1\" class=\"s-biggerlinkHover_underline is-biggerlinkBigger\">マルチダイナミックヒーター MDHU15</a></h4>\\n<div class=\"c-positioning\">\\n<div class=\"c-positioning_cell p-topics_visual\"><img src=\"https://img1.kakaku.k-img.com/images/productimage/l/K0001087130.jpg\" alt=\"マルチダイナミックヒーター MDHU15\" class=\"p-topics_visual_entity s-biggerlinkHover_alpha\"></div>\\n<div class=\"c-positioning_cell\">\\n<p class=\"p-topics_detail\">触れてもやけどしにくい平均表面温度約60℃を実現。部屋を暖めすぎることがなく、電気代もしっかりセーブ。旧オイルヒーターと比べ、電気代を63％節約。</p>\\n</div><!-- /c-positioning_cell -->\\n</div><!-- /c-positioning -->\\n</div><!-- /c-list2_cell -->\\n<div class=\"c-list2_cell p-topics_item s-biggerlink is-biggerlinkHot\" style=\"cursor: pointer;\">\\n<p class=\"p-topics_maker\">コロナ</p>\\n<h4 class=\"p-topics_name\"><a href=\"/item/K0001185358/&amp;lid=kaden_topics_product2\" class=\"s-biggerlinkHover_underline is-biggerlinkBigger\">ノイルヒート DHS-1519</a></h4>\\n<div class=\"c-positioning\">\\n<div class=\"c-positioning_cell p-topics_visual\"><img src=\"https://img1.kakaku.k-img.com/images/productimage/l/K0001185358.jpg\" alt=\"ノイルヒート DHS-1519\" class=\"p-topics_visual_entity s-biggerlinkHover_alpha\"></div>\\n<div class=\"c-positioning_cell\">\\n<p class=\"p-topics_detail\">独自の高密着アルミダイキャスト式「FIXALヒーター」を搭載。独自のヒーターで空気を直接暖めることからオイルヒーターよりも立ち上がりが早いのが特徴。</p>\\n</div><!-- /c-positioning_cell -->\\n</div><!-- /c-positioning -->\\n</div><!-- /c-list2_cell -->\\n</div><!-- /c-list2_row -->\\n</div><!-- /c-list2_wrap -->\\n</div><!-- /c-list2 -->\\n</div><!-- /p-topics_items_in -->\\n</div><!-- /p-topics_items -->\\n</div><!-- /p-topics_slide_in -->\\n<div class=\"c-box-relation\">\\n<ul class=\"c-box-relation_wrap\">\\n<li class=\"c-box-relation_item\"><a href=\"/kaden/heater/?lid=kaden_topics_contents\" class=\"c-box-relation_link\">ヒーター・ストーブをもっと見る</a></li>\\n<li class=\"c-box-relation_item\"><a href=\"/kaden/topics/?lid=kaden_topics_list\" class=\"c-box-relation_link\">家電トピックスをもっと見る</a></li>\\n</ul>\\n</div><!-- /c-box-relation -->\\n</div></div><div class=\"owl-item\" style=\"width: 778px; margin-right: 0px;\"><div class=\"p-topics_slide\">\\n<div class=\"p-topics_slide_in\">\\n<h3 class=\"p-topics_ttl\">個性的なネックスピーカーが続々と登場！お気に入りの一台を見つけよう！</h3>\\n<p class=\"p-topics_outline\">肩に乗せる形で装着して、室内や外出先で気軽に音楽が聴けることで大人気の「ウェアラブルネックスピーカー」。各メーカーから新製品が続々と登場し、小型・軽量タイプから本格的なサウンドが楽しめるタイプまでラインアップが充実。ぜひ、お気に入りの一台を見つけてみてはいかがだろうか。</p>\\n<div class=\"p-topics_items\">\\n<div class=\"p-topics_items_in\">\\n<div class=\"c-list2 c-list2-dot\">\\n<div class=\"c-list2_wrap\">\\n<div class=\"c-list2_row\">\\n<div class=\"c-list2_cell p-topics_item s-biggerlink is-biggerlinkHot\" style=\"cursor: pointer;\">\\n<p class=\"p-topics_maker\">シャープ</p>\\n<h4 class=\"p-topics_name\"><a href=\"/item/K0001134018/?lid=kaden_topics_product3\" class=\"s-biggerlinkHover_underline is-biggerlinkBigger\">AQUOSサウンドパートナー AN-SX7A</a></h4>\\n<div class=\"c-positioning\">\\n<div class=\"c-positioning_cell p-topics_visual\"><img src=\"https://img1.kakaku.k-img.com/images/productimage/l/K0001134018.jpg\" alt=\"AQUOSサウンドパートナー AN-SX7A\" class=\"p-topics_visual_entity s-biggerlinkHover_alpha\"></div>\\n<div class=\"c-positioning_cell\">\\n<p class=\"p-topics_detail\">低音を増幅するバスレフ型構造と、振動による臨場感を生み出すパッシブラジエーター型振動ユニットを組み合わせた、独自のハイブリッド型スピーカーシステムを採用する。</p>\\n</div><!-- /c-positioning_cell -->\\n</div><!-- /c-positioning -->\\n</div><!-- /c-list2_cell -->\\n<div class=\"c-list2_cell p-topics_item s-biggerlink is-biggerlinkHot\" style=\"cursor: pointer;\">\\n<p class=\"p-topics_maker\">ケンウッド</p>\\n<h4 class=\"p-topics_name\"><a href=\"/item/J0000029484/?lid=kaden_topics_product4\" class=\"s-biggerlinkHover_underline is-biggerlinkBigger\">CAX-NS1BT</a></h4>\\n<div class=\"c-positioning\">\\n<div class=\"c-positioning_cell p-topics_visual\"><img src=\"https://img1.kakaku.k-img.com/images/productimage/l/J0000029484.jpg\" alt=\"CAX-NS1BT\" class=\"p-topics_visual_entity s-biggerlinkHover_alpha\"></div>\\n<div class=\"c-positioning_cell\">\\n<p class=\"p-topics_detail\">Bluetooth接続によるハンズフリー通話や「Siri」などの音声認識機能の起動にも対応。本体質量約88gの軽量設計と約20時間の長時間再生を実現する。</p>\\n</div><!-- /c-positioning_cell -->\\n</div><!-- /c-positioning -->\\n</div><!-- /c-list2_cell -->\\n</div><!-- /c-list2_row -->\\n</div><!-- /c-list2_wrap -->\\n</div><!-- /c-list2 -->\\n</div><!-- /p-topics_items_in -->\\n</div><!-- /p-topics_items -->\\n</div><!-- /p-topics_slide_in -->\\n<div class=\"c-box-relation\">\\n<ul class=\"c-box-relation_wrap\">\\n<li class=\"c-box-relation_item\"><a href=\"/pc/bluetooth-speaker/itemlist.aspx?pdf_Spec035=1&amp;lid=kaden_topics_contents\" class=\"c-box-relation_link\">首掛け・肩掛け Bluetoothスピーカーをもっと見る</a></li>\\n<li class=\"c-box-relation_item\"><a href=\"/kaden/topics/?lid=kaden_topics_list\" class=\"c-box-relation_link\">家電トピックスをもっと見る</a></li>\\n</ul>\\n</div><!-- /c-box-relation -->\\n</div></div><div class=\"owl-item\" style=\"width: 778px; margin-right: 0px;\"><div class=\"p-topics_slide\">\\n<div class=\"p-topics_slide_in\">\\n<h3 class=\"p-topics_ttl\">スマホやスマートスピーカーと連携できる、最新空気清浄機に注目！</h3>\\n<p class=\"p-topics_outline\">空気の状態をスマホアプリや音声で確認したり、離れた場所へ通知して運転切替えも可能。人工知能（AI）を利用したモデルでは、ユーザーにあわせて自動運転を学習するなど、賢さと便利さが進化しています。</p>\\n<div class=\"p-topics_items\">\\n<div class=\"p-topics_items_in\">\\n<div class=\"c-list2 c-list2-dot\">\\n<div class=\"c-list2_wrap\">\\n<div class=\"c-list2_row\">\\n<div class=\"c-list2_cell p-topics_item s-biggerlink is-biggerlinkHot\" style=\"cursor: pointer;\">\\n<p class=\"p-topics_maker\">ダイキン</p>\\n<h4 class=\"p-topics_name\"><a href=\"/item/J0000028423/?lid=kaden_topics_product5\" class=\"s-biggerlinkHover_underline is-biggerlinkBigger\">MCK70V</a></h4>\\n<div class=\"c-positioning\">\\n<div class=\"c-positioning_cell p-topics_visual\"><img src=\"https://img1.kakaku.k-img.com/images/productimage/l/J0000028423.jpg\" alt=\"MCK70V\" class=\"p-topics_visual_entity s-biggerlinkHover_alpha\"></div>\\n<div class=\"c-positioning_cell\">\\n<p class=\"p-topics_detail\">HEPAフィルターより集じん性能低下が少ない「TAFUフィルター」を搭載。新型ツインストリーマユニットで、汚れやニオイの分解スピードが2倍にアップ。</p>\\n</div><!-- /c-positioning_cell -->\\n</div><!-- /c-positioning -->\\n</div><!-- /c-list2_cell -->\\n<div class=\"c-list2_cell p-topics_item s-biggerlink is-biggerlinkHot\" style=\"cursor: pointer;\">\\n<p class=\"p-topics_maker\">シャープ</p>\\n<h4 class=\"p-topics_name\"><a href=\"/item/K0001096933/?lid=kaden_topics_product6\" class=\"s-biggerlinkHover_underline is-biggerlinkBigger\">KI-JP100</a></h4>\\n<div class=\"c-positioning\">\\n<div class=\"c-positioning_cell p-topics_visual\"><img src=\"https://img1.kakaku.k-img.com/images/productimage/l/K0001096933.jpg\" alt=\"KI-JP100\" class=\"p-topics_visual_entity s-biggerlinkHover_alpha\"></div>\\n<div class=\"c-positioning_cell\">\\n<p class=\"p-topics_detail\">AIで人の生活パターンを学習し先回り運転。ペット専用運転モードも搭載し、AIoTクラウドサービス「COCORO AIR」では、留守部屋の見守りにも対応。</p>\\n</div><!-- /c-positioning_cell -->\\n</div><!-- /c-positioning -->\\n</div><!-- /c-list2_cell -->\\n</div><!-- /c-list2_row -->\\n</div><!-- /c-list2_wrap -->\\n</div><!-- /c-list2 -->\\n</div><!-- /p-topics_items_in -->\\n</div><!-- /p-topics_items -->\\n</div><!-- /p-topics_slide_in -->\\n<div class=\"c-box-relation\">\\n<ul class=\"c-box-relation_wrap\">\\n<li class=\"c-box-relation_item\"><a href=\"/kaden/air-purifier/?lid=kaden_topics_contents\" class=\"c-box-relation_link\">空気清浄機をもっと見る</a></li>\\n<li class=\"c-box-relation_item\"><a href=\"/kaden/topics/?lid=kaden_topics_list\" class=\"c-box-relation_link\">家電トピックスをもっと見る</a></li>\\n</ul>\\n</div><!-- /c-box-relation -->\\n</div></div></div></div><div class=\"owl-controls\"><div class=\"owl-nav\"><div class=\"owl-prev disabled\" style=\"\"></div><div class=\"owl-next\" style=\"\"></div></div><div class=\"owl-dots\" style=\"display: none;\"></div></div><div class=\"disabledWrapPrev\" style=\"display: block;\"></div><div class=\"disabledWrapNext\" style=\"display: none;\"></div></div><!-- /s-topicsSlide -->\\n</div><!-- /p-topics -->\\n\\n<div class=\"c-box-regularBox p-ct_qa\">\\n<div class=\"c-box_regularTtl c-box_regularTtl-icon-1 c-box_regularTtl-icon-1-6\">\\n<h2 class=\"c-box_regularTtl_lines c-box_regularTtl_lines-1\">家電に関する質問</h2>\\n<p class=\"c-box_regularTtl_sub c-box_regularTtl_sub-1\">役立つ質問&amp;回答がたくさんあります</p>\\n</div>\\n<div class=\"c-box-regularBox_in-2\">\\n<ul class=\"c-list1 c-list1-dot\">\\n<li class=\"c-positioning c-list1_cell s-biggerlink p-ct_qa_cell is-biggerlinkHot\" style=\"cursor: pointer;\">\\n<p class=\"c-positioning_cell p-ct_qa_flag\"><img src=\"https://img1.kakaku.k-img.com/images/category/qa_unanswered.gif\" alt=\"未返信\" width=\"57\" height=\"19\"></p>\\n<div class=\"c-positioning_cell p-ct_qa_icon\"><img src=\"https://img1.kakaku.k-img.com/jpeg_gif/bbs/mam45_s.gif\" alt=\"\" width=\"17\" height=\"17\" class=\"p-ct_qa_icon_entity\">\\n</div>\\n<div class=\"c-positioning_cell p-ct_qa_lines\">\\n<p class=\"p-ct_qa_lines_ttl\">\\n<a href=\"https://bbs.kakaku.com/bbs/J0000032601/SortID=23938631/#tab\" class=\"s-biggerlinkHover_underline is-biggerlinkBigger\">\\nホワイトのデザインについて</a></p>\\n<p class=\"p-ct_qa_lines_detail\">見た目のデザインについて質問したいのですが、\\nNE-BS807のホワイトはブラックと同じようなマットな質感ですか？\\nそれともツヤツヤしている感じでしょうか？\\n近所の電気屋さんにはブラック…</p>\\n</div>\\n</li>\\n<li class=\"c-positioning c-list1_cell s-biggerlink p-ct_qa_cell is-biggerlinkHot\" style=\"cursor: pointer;\">\\n<p class=\"c-positioning_cell p-ct_qa_flag\"><img src=\"https://img1.kakaku.k-img.com/images/category/qa_unresolved.gif\" alt=\"未解決\" width=\"57\" height=\"19\"></p>\\n<div class=\"c-positioning_cell p-ct_qa_icon\"><img src=\"https://img1.kakaku.k-img.com/jpeg_gif/bbs/dad1_s.gif\" alt=\"\" width=\"17\" height=\"17\" class=\"p-ct_qa_icon_entity\">\\n</div>\\n<div class=\"c-positioning_cell p-ct_qa_lines\">\\n<p class=\"p-ct_qa_lines_ttl\">\\n<a href=\"https://bbs.kakaku.com/bbs/K0001254399/SortID=23938616/#tab\" class=\"s-biggerlinkHover_underline is-biggerlinkBigger\">\\neARCについて</a></p>\\n<p class=\"p-ct_qa_lines_detail\">この度、YAMAHA YSP-109を購入し当機種に接続して毎日、ネトフリ、アマプラ、DVD等を楽しんでおります。TVのスピーカーは悪くはないのですがやはり、スピーカーが下側を向いている事もあり音…</p>\\n</div>\\n</li>\\n<li class=\"c-positioning c-list1_cell s-biggerlink p-ct_qa_cell is-biggerlinkHot\" style=\"cursor: pointer;\">\\n<p class=\"c-positioning_cell p-ct_qa_flag\"><img src=\"https://img1.kakaku.k-img.com/images/category/qa_resolved.gif\" alt=\"解決済\" width=\"57\" height=\"19\"></p>\\n<div class=\"c-positioning_cell p-ct_qa_icon\"><img src=\"https://img1.kakaku.k-img.com/jpeg_gif/bbs/brother1_s.gif\" alt=\"\" width=\"17\" height=\"17\" class=\"p-ct_qa_icon_entity\">\\n<img src=\"https://img1.kakaku.k-img.com/images/bbs/icon_beginner_s.gif\" alt=\"\" width=\"17\" height=\"17\" class=\"p-ct_qa_icon_entity\">\\n</div>\\n<div class=\"c-positioning_cell p-ct_qa_lines\">\\n<p class=\"p-ct_qa_lines_ttl\">\\n<a href=\"https://bbs.kakaku.com/bbs/K0001142281/SortID=23937815/#tab\" class=\"s-biggerlinkHover_underline is-biggerlinkBigger\">\\n助言を頂けたらありがたいです</a></p>\\n<p class=\"p-ct_qa_lines_detail\">【考えている環境や用途】\\nこのマランツの製品に、テクニクスの古いスピーカーとソニーのサブウーファーSA-CS9と外付けHDD\\n【重視するポイント】\\nデジタル音源(mp3とflac)の再生がスマホか…</p>\\n</div>\\n</li>\\n</ul>\\n<div class=\"p-ct_qa_nav\">\\n<ul class=\"p-ct_qa_nav_set\">\\n<li class=\"p-ct_qa_nav_btn\">\\n<a href=\"https://kakaku.com/auth/bbsnew/Input.asp?BBSTabNo=2&amp;SortRule=1&amp;ClassCD=1&amp;Viewlimit=0&amp;Input=%90V%8BK%8F%91%82%AB%8D%9E%82%DD\" rel=\"nofollow\">\\n<img src=\"https://img1.kakaku.k-img.com/images/qa/qa_btn01.gif\" alt=\"新規書き込み\" class=\"imgover\" width=\"160\" height=\"38\" hsrc=\"https://img1.kakaku.k-img.com/images/qa/qa_btn01_over.gif\"></a></li>\\n<li class=\"p-ct_qa_nav_btn\">\\n<a href=\"https://kakaku.com/auth/bbsnew/Input.asp?BBSTabNo=2&amp;SortRule=1&amp;ClassCD=1&amp;Viewlimit=0&amp;Input=%90V%8BK%8F%91%82%AB%8D%9E%82%DD&amp;Beginner=1\" rel=\"nofollow\">\\n<img src=\"https://img1.kakaku.k-img.com/images/qa/qa_btn02.gif\" alt=\"ヘルプ付新規書き込み\" class=\"imgover\" width=\"170\" height=\"38\" hsrc=\"https://img1.kakaku.k-img.com/images/qa/qa_btn02_over.gif\"></a></li>\\n</ul>\\n<p class=\"p-ct_qa_nav_ask\">知りたいことや聞きたいことがあればクチコミ掲示板で質問してみましょう。</p>\\n</div>\\n</div>\\n<div class=\"c-box-relation\">\\n<ul class=\"c-box-relation_wrap\">\\n<li class=\"c-box-relation_item\"><a href=\"/qa/\" class=\"c-box-relation_link\">価格.com Q&amp;Aトップページ</a></li>\\n<li class=\"c-box-relation_item\">\\n<a href=\"https://bbs.kakaku.com/bbs/-/BBSTabNo=2/ClassCD=1/SortRule=1/\" class=\"c-box-relation_link\">「家電」カテゴリのすべての質問を見る</a></li>\\n</ul>\\n</div>\\n</div>\\n\\n\\n<!--history -->\\n<div id=\"ShowHistoryBox\"><iframe src=\"https://history.kakaku.com/history/parts.aspx?type=category1&amp;category=kaden&amp;version=v3\" name=\"cth\" frameborder=\"0\" noresize=\"noresize\" scrolling=\"no\" width=\"780\" height=\"265\"></iframe></div>\\n<!--/history -->\\n\\n<div class=\"c-box-regularBox p-ct_connect\">\\n<div class=\"c-box_regularTtl c-box_regularTtl-icon-1 c-box_regularTtl-icon-1-8\">\\n<h2 class=\"c-box_regularTtl_lines c-box_regularTtl_lines-1\">関連カテゴリ・関連リンク</h2>\\n</div><!-- /c-box_regularTtl -->\\n\\n<div class=\"c-list2\">\\n<div class=\"c-list2_wrap\">\\n<div class=\"c-list2_row\">\\n<div class=\"c-list2_cell\">\\n<div class=\"c-sTtl-1\">\\n<h3 class=\"c-sTtl-1_lines\">関連カテゴリ</h3>\\n</div><!-- /c-sTtl-1 -->\\n<div class=\"c-box-regularBox_in-3\">\\n<ul class=\"p-ct_connect_list\">\\n<li class=\"p-ct_connect_list_item\"><a href=\"/energy/\" class=\"p-ct_connect_list_item_link\">電気料金</a></li>\\n<li class=\"p-ct_connect_list_item\"><a href=\"/card/\" class=\"p-ct_connect_list_item_link\">クレジットカード</a></li>\\n<li class=\"p-ct_connect_list_item\"><a href=\"/card-loan/\" class=\"p-ct_connect_list_item_link\">カードローン</a></li>\\n<li class=\"p-ct_connect_list_item\"><a href=\"/interior/\" class=\"p-ct_connect_list_item_link\">インテリア・家具</a></li>\\n</ul>\\n</div><!-- /c-box-regularBox_in-3 -->\\n</div><!-- /c-list2_cell -->\\n<div class=\"c-list2_cell\">\\n<div class=\"c-sTtl-1\">\\n<h3 class=\"c-sTtl-1_lines\">ショップ関連リンク</h3>\\n</div><!-- /c-sTtl-1 -->\\n<div class=\"c-box-regularBox_in-3\">\\n<ul class=\"p-ct_connect_list\">\\n<li class=\"p-ct_connect_list_item\"><a href=\"/mapsearch/\" class=\"p-ct_connect_list_item_link\">店舗マップ検索</a></li>\\n<li class=\"p-ct_connect_list_item\"><a href=\"/ranking/shopview.htm\" class=\"p-ct_connect_list_item_link\">ショップランキング</a></li>\\n<li class=\"p-ct_connect_list_item\"><a href=\"/sku/shopsearch.asp\" class=\"p-ct_connect_list_item_link\">ショップ検索</a></li>\\n</ul>\\n</div><!-- /c-box-regularBox_in-3 -->\\n</div><!-- /c-list2_cell -->\\n</div><!-- /c-list2_row -->\\n</div><!-- /c-list2_wrap -->\\n</div><!-- /c-list2 -->\\n\\n</div><!-- /p-ct_connect -->\\n\\n<div class=\"c-ad c-ad-size3 c-ad-double\">\\n    <div class=\"sqTwo clearfix\">\\n        <div class=\"sqL\">\\n            \\n<div id=\"div-gpt-ad-k/categorytop/footer_left/300x250\" data-google-query-id=\"CI-auuf1xe4CFc5CYAodmssDSw\">\\n    \\n<div id=\"google_ads_iframe_/116070306/k/categorytop/footer_left/300x250_0__container__\" style=\"border: 0pt none;\"><iframe id=\"google_ads_iframe_/116070306/k/categorytop/footer_left/300x250_0\" title=\"3rd party ad content\" name=\"google_ads_iframe_/116070306/k/categorytop/footer_left/300x250_0\" width=\"300\" height=\"250\" scrolling=\"no\" marginwidth=\"0\" marginheight=\"0\" frameborder=\"0\" srcdoc=\"\" data-google-container-id=\"4\" data-load-complete=\"true\" style=\"border: 0px; vertical-align: bottom;\"></iframe></div></div>\\n\\n        </div>\\n        <div class=\"sqR\">\\n            \\n<div id=\"div-gpt-ad-k/categorytop/footer_right/300x250\" data-google-query-id=\"CJCauuf1xe4CFc5CYAodmssDSw\">\\n    \\n<div id=\"google_ads_iframe_/116070306/k/categorytop/footer_right/300x250_0__container__\" style=\"border: 0pt none;\"><iframe id=\"google_ads_iframe_/116070306/k/categorytop/footer_right/300x250_0\" title=\"3rd party ad content\" name=\"google_ads_iframe_/116070306/k/categorytop/footer_right/300x250_0\" width=\"300\" height=\"250\" scrolling=\"no\" marginwidth=\"0\" marginheight=\"0\" frameborder=\"0\" srcdoc=\"\" data-google-container-id=\"5\" data-load-complete=\"true\" style=\"border: 0px; vertical-align: bottom;\"></iframe></div></div>\\n\\n        </div>\\n    </div>\\n</div>\\n\\n\\n<div class=\"c-feed c-feed-col3 u-mTop30\">\\n<div class=\"c-feed_in\">\\n\\n<div class=\"c-feed_row\">\\n<div class=\"c-feed_cell\">\\n<a href=\"https://kakakumag.com/av-kaden/?id=15262\" class=\"c-feed_item c-feed_item-magazine\" onclick=\"onclickcatalyst_togroupsite(\\'waku_categorytop_exp_E_77747_3160\\');\" target=\"_blank\" style=\"min-height: 220px; height: auto;\">\\n<div class=\"c-feed_visual\" data-original=\"https://img1.kakaku.k-img.com/images/maga/15262/250.jpg\"></div>\\n<div class=\"c-feed_lines\">\\n<p class=\"p-cat p-cat-magazine c-feed_lines_cat\">価格.comマガジン - AV家電</p>\\n<p class=\"c-feed_lines_ttl c-feed_lines_ttl-icon-1\">75型/25万円の「X8000H」も！ 液晶BRAVIA 2020年最新モデル発表</p>\\n</div><!-- /c-feed_lines -->\\n</a><!-- /c-feed_item -->\\n</div><!-- /c-feed_cell -->\\n\\n<div class=\"c-feed_cell\">\\n<a href=\"https://kakakumag.com/seikatsu-kaden/?id=16354\" class=\"c-feed_item c-feed_item-magazine\" onclick=\"onclickcatalyst_togroupsite(\\'waku_categorytop_exp_E_84080_3160\\');\" target=\"_blank\" style=\"min-height: 220px; height: auto;\">\\n<div class=\"c-feed_visual\" data-original=\"https://img1.kakaku.k-img.com/images/maga/16354/250.jpg\"></div>\\n<div class=\"c-feed_lines\">\\n<p class=\"p-cat p-cat-magazine c-feed_lines_cat\">価格.comマガジン - 生活家電</p>\\n<p class=\"c-feed_lines_ttl c-feed_lines_ttl-icon-1\">バルミューダの掃除機「BALMUDA The Cleaner」で掃除が楽しい！</p>\\n</div><!-- /c-feed_lines -->\\n</a><!-- /c-feed_item -->\\n</div><!-- /c-feed_cell -->\\n\\n<div class=\"c-feed_cell\">\\n<a href=\"https://kakakumag.com/seikatsu-kaden/?id=15417\" class=\"c-feed_item c-feed_item-magazine\" onclick=\"onclickcatalyst_togroupsite(\\'waku_categorytop_exp_E_78713_3160\\');\" target=\"_blank\" style=\"min-height: 220px; height: auto;\">\\n<div class=\"c-feed_visual\" data-original=\"https://img1-kakaku.ssl.k-img.com/images/maga/icv/pc640/15417/250.jpg\"></div>\\n<div class=\"c-feed_lines\">\\n<p class=\"p-cat p-cat-magazine c-feed_lines_cat\">価格.comマガジン - 生活家電</p>\\n<p class=\"c-feed_lines_ttl c-feed_lines_ttl-icon-1\">ハイターですっきり！ ドラム式洗濯乾燥機の大掃除をしてみた</p>\\n</div><!-- /c-feed_lines -->\\n</a><!-- /c-feed_item -->\\n</div><!-- /c-feed_cell -->\\n\\n\\n</div><!-- /c-feed_row -->\\n\\n<div class=\"c-feed_row\">\\n<div class=\"c-feed_cell\">\\n<a href=\"https://kakakumag.com/av-kaden/?id=15263\" class=\"c-feed_item c-feed_item-magazine\" onclick=\"onclickcatalyst_togroupsite(\\'waku_categorytop_exp_E_77749_3160\\');\" target=\"_blank\" style=\"min-height: 220px; height: auto;\">\\n<div class=\"c-feed_visual\" data-original=\"https://img1.kakaku.k-img.com/images/maga/15263/250.jpg\"></div>\\n<div class=\"c-feed_lines\">\\n<p class=\"p-cat p-cat-magazine c-feed_lines_cat\">価格.comマガジン - AV家電</p>\\n<p class=\"c-feed_lines_ttl c-feed_lines_ttl-icon-1\">48型の小型モデルも！ ソニー有機EL BRAVIA最新モデル発表</p>\\n</div><!-- /c-feed_lines -->\\n</a><!-- /c-feed_item -->\\n</div><!-- /c-feed_cell -->\\n\\n<div class=\"c-feed_cell\">\\n<a href=\"https://kakakumag.com/av-kaden/?id=16294\" class=\"c-feed_item c-feed_item-magazine\" onclick=\"onclickcatalyst_togroupsite(\\'waku_categorytop_exp_E_83847_3160\\');\" target=\"_blank\" style=\"min-height: 220px; height: auto;\">\\n<div class=\"c-feed_visual\" data-original=\"https://img1.kakaku.k-img.com/images/maga/16294/250.jpg\"></div>\\n<div class=\"c-feed_lines\">\\n<p class=\"p-cat p-cat-magazine c-feed_lines_cat\">価格.comマガジン - AV家電</p>\\n<p class=\"c-feed_lines_ttl c-feed_lines_ttl-icon-1\">1万円前後で買えるノイキャン完全ワイヤレス4モデルを比べてみた</p>\\n</div><!-- /c-feed_lines -->\\n</a><!-- /c-feed_item -->\\n</div><!-- /c-feed_cell -->\\n\\n<div class=\"c-feed_cell\">\\n<a href=\"https://kakakumag.com/seikatsu-kaden/?id=15973\" class=\"c-feed_item c-feed_item-magazine\" onclick=\"onclickcatalyst_togroupsite(\\'waku_categorytop_exp_E_82003_3160\\');\" target=\"_blank\" style=\"min-height: 220px; height: auto;\">\\n<div class=\"c-feed_visual\" data-original=\"https://img1.kakaku.k-img.com/images/maga/15973/250b.jpg\"></div>\\n<div class=\"c-feed_lines\">\\n<p class=\"p-cat p-cat-magazine c-feed_lines_cat\">価格.comマガジン - 生活家電</p>\\n<p class=\"c-feed_lines_ttl c-feed_lines_ttl-icon-1\">こだわりは継承！新「BALMUDA The Toaster」はどこが変わった？</p>\\n</div><!-- /c-feed_lines -->\\n</a><!-- /c-feed_item -->\\n</div><!-- /c-feed_cell -->\\n\\n\\n</div><!-- /c-feed_row -->\\n\\n<div class=\"c-feed_row\">\\n<div class=\"c-feed_cell\">\\n<a href=\"https://kakakumag.com/av-kaden/?id=15845\" class=\"c-feed_item c-feed_item-magazine\" onclick=\"onclickcatalyst_togroupsite(\\'waku_categorytop_exp_E_81375_3160\\');\" target=\"_blank\" style=\"min-height: 220px; height: auto;\">\\n<div class=\"c-feed_visual\" data-original=\"https://img1.kakaku.k-img.com/images/maga/15845/250.jpg\"></div>\\n<div class=\"c-feed_lines\">\\n<p class=\"p-cat p-cat-magazine c-feed_lines_cat\">価格.comマガジン - AV家電</p>\\n<p class=\"c-feed_lines_ttl c-feed_lines_ttl-icon-1\">レコーダー選びは4K対応が常識！最新4Kレコーダー購入ガイド</p>\\n</div><!-- /c-feed_lines -->\\n</a><!-- /c-feed_item -->\\n</div><!-- /c-feed_cell -->\\n\\n<div class=\"c-feed_cell\">\\n<a href=\"https://kakakumag.com/sports/?id=15910\" class=\"c-feed_item c-feed_item-magazine\" onclick=\"onclickcatalyst_togroupsite(\\'waku_categorytop_exp_E_81695_3160\\');\" target=\"_blank\" style=\"min-height: 220px; height: auto;\">\\n<div class=\"c-feed_visual\" data-original=\"https://img1.kakaku.k-img.com/images/maga/15910/250b.jpg\"></div>\\n<div class=\"c-feed_lines\">\\n<p class=\"p-cat p-cat-magazine c-feed_lines_cat\">価格.comマガジン - スポーツ</p>\\n<p class=\"c-feed_lines_ttl c-feed_lines_ttl-icon-1\">スペシャライズドのロードバイクタイプのe-Bikeに試乗！</p>\\n</div><!-- /c-feed_lines -->\\n</a><!-- /c-feed_item -->\\n</div><!-- /c-feed_cell -->\\n\\n<div class=\"c-feed_cell\">\\n<a href=\"https://kakakumag.com/seikatsu-kaden/?id=16424\" class=\"c-feed_item c-feed_item-magazine\" onclick=\"onclickcatalyst_togroupsite(\\'waku_categorytop_exp_E_84493_3160\\');\" target=\"_blank\" style=\"min-height: 220px; height: auto;\">\\n<div class=\"c-feed_visual\" data-original=\"https://img1.kakaku.k-img.com/images/maga/16424/250.jpg\"></div>\\n<div class=\"c-feed_lines\">\\n<p class=\"p-cat p-cat-magazine c-feed_lines_cat\">価格.comマガジン - 生活家電</p>\\n<p class=\"c-feed_lines_ttl c-feed_lines_ttl-icon-1\">簡単すぎてウマすぎる。電気調理鍋で“ずぼら”パスタ【動画】</p>\\n</div><!-- /c-feed_lines -->\\n</a><!-- /c-feed_item -->\\n</div><!-- /c-feed_cell -->\\n\\n\\n</div><!-- /c-feed_row -->\\n\\n<div class=\"c-feed_row\">\\n<div class=\"c-feed_cell\">\\n<a href=\"https://kakakumag.com/av-kaden/?id=15462\" class=\"c-feed_item c-feed_item-magazine\" onclick=\"onclickcatalyst_togroupsite(\\'waku_categorytop_exp_E_79090_3160\\');\" target=\"_blank\" style=\"min-height: 220px; height: auto;\">\\n<div class=\"c-feed_visual\" data-original=\"https://img1.kakaku.k-img.com/images/maga/15462/250.jpg\"></div>\\n<div class=\"c-feed_lines\">\\n<p class=\"p-cat p-cat-magazine c-feed_lines_cat\">価格.comマガジン - AV家電</p>\\n<p class=\"c-feed_lines_ttl c-feed_lines_ttl-icon-1\">映像エンジンもサウンドシステムも刷新した最新4K有機ELレグザ</p>\\n</div><!-- /c-feed_lines -->\\n</a><!-- /c-feed_item -->\\n</div><!-- /c-feed_cell -->\\n\\n<div class=\"c-feed_cell\">\\n<a href=\"https://kakakumag.com/av-kaden/?id=16269\" class=\"c-feed_item c-feed_item-magazine\" onclick=\"onclickcatalyst_togroupsite(\\'waku_categorytop_exp_E_83764_3160\\');\" target=\"_blank\" style=\"min-height: 220px; height: auto;\">\\n<div class=\"c-feed_visual\" data-original=\"https://img1.kakaku.k-img.com/images/maga/16269/250.jpg\"></div>\\n<div class=\"c-feed_lines\">\\n<p class=\"p-cat p-cat-magazine c-feed_lines_cat\">価格.comマガジン - AV家電</p>\\n<p class=\"c-feed_lines_ttl c-feed_lines_ttl-icon-1\">ノイキャン完全ワイヤレスイヤホン6機種を電車と街中でガチ比較</p>\\n</div><!-- /c-feed_lines -->\\n</a><!-- /c-feed_item -->\\n</div><!-- /c-feed_cell -->\\n\\n<div class=\"c-feed_cell\">\\n<a href=\"https://kakakumag.com/seikatsu-kaden/?id=16308\" class=\"c-feed_item c-feed_item-magazine\" onclick=\"onclickcatalyst_togroupsite(\\'waku_categorytop_exp_E_83829_3160\\');\" target=\"_blank\" style=\"min-height: 220px; height: auto;\">\\n<div class=\"c-feed_visual\" data-original=\"https://img1.kakaku.k-img.com/images/maga/16308/250.jpg\"></div>\\n<div class=\"c-feed_lines\">\\n<p class=\"p-cat p-cat-magazine c-feed_lines_cat\">価格.comマガジン - 生活家電</p>\\n<p class=\"c-feed_lines_ttl c-feed_lines_ttl-icon-1\">電気調理鍋でオトコめし！辛ラーメンで作るピリ辛鍋がウマい</p>\\n</div><!-- /c-feed_lines -->\\n</a><!-- /c-feed_item -->\\n</div><!-- /c-feed_cell -->\\n\\n\\n</div><!-- /c-feed_row -->\\n\\n<div class=\"c-feed_row\">\\n<div class=\"c-feed_cell\">\\n<a href=\"https://kakakumag.com/seikatsu-kaden/?id=16002\" class=\"c-feed_item c-feed_item-magazine\" onclick=\"onclickcatalyst_togroupsite(\\'waku_categorytop_exp_E_82139_3160\\');\" target=\"_blank\" style=\"min-height: 220px; height: auto;\">\\n<div class=\"c-feed_visual\" data-original=\"https://img1.kakaku.k-img.com/images/maga/16002/250.jpg\"></div>\\n<div class=\"c-feed_lines\">\\n<p class=\"p-cat p-cat-magazine c-feed_lines_cat\">価格.comマガジン - 生活家電</p>\\n<p class=\"c-feed_lines_ttl c-feed_lines_ttl-icon-1\">小さいって便利！ヲタクが語る“持ち歩き小型軽量グッズ”の魅力</p>\\n</div><!-- /c-feed_lines -->\\n</a><!-- /c-feed_item -->\\n</div><!-- /c-feed_cell -->\\n\\n<div class=\"c-feed_cell\">\\n<a href=\"https://kakakumag.com/seikatsu-kaden/?id=16353\" class=\"c-feed_item c-feed_item-magazine\" onclick=\"onclickcatalyst_togroupsite(\\'waku_categorytop_exp_E_84103_3160\\');\" target=\"_blank\" style=\"min-height: 220px; height: auto;\">\\n<div class=\"c-feed_visual\" data-original=\"https://img1.kakaku.k-img.com/images/maga/16353/250.jpg\"></div>\\n<div class=\"c-feed_lines\">\\n<p class=\"p-cat p-cat-magazine c-feed_lines_cat\">価格.comマガジン - 生活家電</p>\\n<p class=\"c-feed_lines_ttl c-feed_lines_ttl-icon-1\">アイリスオーヤマの電気調理鍋で簡単＆安全あったか鍋物【動画】</p>\\n</div><!-- /c-feed_lines -->\\n</a><!-- /c-feed_item -->\\n</div><!-- /c-feed_cell -->\\n\\n<div class=\"c-feed_cell\">\\n<a href=\"https://kakakumag.com/sports/?id=15724\" class=\"c-feed_item c-feed_item-magazine\" onclick=\"onclickcatalyst_togroupsite(\\'waku_categorytop_exp_E_80633_3160\\');\" target=\"_blank\" style=\"min-height: 220px; height: auto;\">\\n<div class=\"c-feed_visual\" data-original=\"https://img1.kakaku.k-img.com/images/maga/15724/250b.jpg\"></div>\\n<div class=\"c-feed_lines\">\\n<p class=\"p-cat p-cat-magazine c-feed_lines_cat\">価格.comマガジン - スポーツ</p>\\n<p class=\"c-feed_lines_ttl c-feed_lines_ttl-icon-1\">見た目買いしても大正解！ベネリ「mini Fold16 Classic」に試乗</p>\\n</div><!-- /c-feed_lines -->\\n</a><!-- /c-feed_item -->\\n</div><!-- /c-feed_cell -->\\n\\n\\n</div><!-- /c-feed_row -->\\n\\n<div class=\"c-feed_row\">\\n<div class=\"c-feed_cell\">\\n<a href=\"https://kakakumag.com/seikatsu-kaden/?id=16416\" class=\"c-feed_item c-feed_item-magazine\" onclick=\"onclickcatalyst_togroupsite(\\'waku_categorytop_exp_E_84406_3160\\');\" target=\"_blank\" style=\"min-height: 220px; height: auto;\">\\n<div class=\"c-feed_visual\" data-original=\"https://img1.kakaku.k-img.com/images/maga/16416/img250.jpg\"></div>\\n<div class=\"c-feed_lines\">\\n<p class=\"p-cat p-cat-magazine c-feed_lines_cat\">価格.comマガジン - 生活家電</p>\\n<p class=\"c-feed_lines_ttl c-feed_lines_ttl-icon-1\">ペットボトルから熱湯噴出! ｢STAYこたつ｣を実現するお湯サーバー</p>\\n</div><!-- /c-feed_lines -->\\n</a><!-- /c-feed_item -->\\n</div><!-- /c-feed_cell -->\\n\\n<div class=\"c-feed_cell\">\\n<a href=\"https://kakakumag.com/av-kaden/?id=15994\" class=\"c-feed_item c-feed_item-magazine\" onclick=\"onclickcatalyst_togroupsite(\\'waku_categorytop_exp_E_82096_3160\\');\" target=\"_blank\" style=\"min-height: 220px; height: auto;\">\\n<div class=\"c-feed_visual\" data-original=\"https://img1.kakaku.k-img.com/images/maga/15994/250.jpg\"></div>\\n<div class=\"c-feed_lines\">\\n<p class=\"p-cat p-cat-magazine c-feed_lines_cat\">価格.comマガジン - AV家電</p>\\n<p class=\"c-feed_lines_ttl c-feed_lines_ttl-icon-1\">4K放送3番組同時録画モデルも！ 4Kディーガ2020年秋モデル解説</p>\\n</div><!-- /c-feed_lines -->\\n</a><!-- /c-feed_item -->\\n</div><!-- /c-feed_cell -->\\n\\n<div class=\"c-feed_cell\">\\n<a href=\"https://kakakumag.com/av-kaden/?id=15883\" class=\"c-feed_item c-feed_item-magazine\" onclick=\"onclickcatalyst_togroupsite(\\'waku_categorytop_exp_E_81528_3160\\');\" target=\"_blank\" style=\"min-height: 220px; height: auto;\">\\n<div class=\"c-feed_visual\" data-original=\"https://img1.kakaku.k-img.com/images/maga/15883/250.jpg\"></div>\\n<div class=\"c-feed_lines\">\\n<p class=\"p-cat p-cat-magazine c-feed_lines_cat\">価格.comマガジン - AV家電</p>\\n<p class=\"c-feed_lines_ttl c-feed_lines_ttl-icon-1\">“新世代マランツ”のHi-Fiコンポーネント「30」シリーズ誕生</p>\\n</div><!-- /c-feed_lines -->\\n</a><!-- /c-feed_item -->\\n</div><!-- /c-feed_cell -->\\n\\n\\n</div><!-- /c-feed_row -->\\n\\n<div class=\"c-feed_row\">\\n<div class=\"c-feed_cell\">\\n<a href=\"https://kakakumag.com/sports/?id=16121\" class=\"c-feed_item c-feed_item-magazine\" onclick=\"onclickcatalyst_togroupsite(\\'waku_categorytop_exp_E_82760_3160\\');\" target=\"_blank\" style=\"min-height: 220px; height: auto;\">\\n<div class=\"c-feed_visual\" data-original=\"https://img1.kakaku.k-img.com/images/maga/16121/250.jpg\"></div>\\n<div class=\"c-feed_lines\">\\n<p class=\"p-cat p-cat-magazine c-feed_lines_cat\">価格.comマガジン - スポーツ</p>\\n<p class=\"c-feed_lines_ttl c-feed_lines_ttl-icon-1\">見た目も機能もスマートでイケてるVanMoofの新型e-Bikeに試乗！</p>\\n</div><!-- /c-feed_lines -->\\n</a><!-- /c-feed_item -->\\n</div><!-- /c-feed_cell -->\\n\\n<div class=\"c-feed_cell\">\\n<a href=\"https://kakakumag.com/av-kaden/?id=15302\" class=\"c-feed_item c-feed_item-magazine\" onclick=\"onclickcatalyst_togroupsite(\\'waku_categorytop_exp_E_78095_3160\\');\" target=\"_blank\" style=\"min-height: 220px; height: auto;\">\\n<div class=\"c-feed_visual\" data-original=\"https://img1.kakaku.k-img.com/images/maga/15302/250.jpg\"></div>\\n<div class=\"c-feed_lines\">\\n<p class=\"p-cat p-cat-magazine c-feed_lines_cat\">価格.comマガジン - AV家電</p>\\n<p class=\"c-feed_lines_ttl c-feed_lines_ttl-icon-1\">Wi-Fi内蔵アンプとスピーカーで手軽に始めるHi-Fiオーディオ</p>\\n</div><!-- /c-feed_lines -->\\n</a><!-- /c-feed_item -->\\n</div><!-- /c-feed_cell -->\\n\\n<div class=\"c-feed_cell\">\\n<a href=\"https://kakakumag.com/av-kaden/?id=16395\" class=\"c-feed_item c-feed_item-magazine\" onclick=\"onclickcatalyst_togroupsite(\\'waku_categorytop_exp_E_84319_3160\\');\" target=\"_blank\" style=\"min-height: 220px; height: auto;\">\\n<div class=\"c-feed_visual\" data-original=\"https://img1.kakaku.k-img.com/images/maga/16395/250.jpg\"></div>\\n<div class=\"c-feed_lines\">\\n<p class=\"p-cat p-cat-magazine c-feed_lines_cat\">価格.comマガジン - AV家電</p>\\n<p class=\"c-feed_lines_ttl c-feed_lines_ttl-icon-1\">小さめ＆シンプル＆低価格！主婦目線で見る今どきのサウンドバー</p>\\n</div><!-- /c-feed_lines -->\\n</a><!-- /c-feed_item -->\\n</div><!-- /c-feed_cell -->\\n\\n\\n</div><!-- /c-feed_row -->\\n\\n<div class=\"c-feed_row\">\\n<div class=\"c-feed_cell\">\\n<a href=\"https://kakakumag.com/av-kaden/?id=16336\" class=\"c-feed_item c-feed_item-magazine\" onclick=\"onclickcatalyst_togroupsite(\\'waku_categorytop_exp_E_84003_3160\\');\" target=\"_blank\" style=\"min-height: 220px; height: auto;\">\\n<div class=\"c-feed_visual\" data-original=\"https://img1.kakaku.k-img.com/images/maga/16336/250.jpg\"></div>\\n<div class=\"c-feed_lines\">\\n<p class=\"p-cat p-cat-magazine c-feed_lines_cat\">価格.comマガジン - AV家電</p>\\n<p class=\"c-feed_lines_ttl c-feed_lines_ttl-icon-1\">レコードプレーヤー組み立て＆設置の基本ポイントを動画で解説</p>\\n</div><!-- /c-feed_lines -->\\n</a><!-- /c-feed_item -->\\n</div><!-- /c-feed_cell -->\\n\\n<div class=\"c-feed_cell\">\\n<a href=\"https://kakakumag.com/seikatsu-kaden/?id=16276\" class=\"c-feed_item c-feed_item-magazine\" onclick=\"onclickcatalyst_togroupsite(\\'waku_categorytop_exp_E_83657_3160\\');\" target=\"_blank\" style=\"min-height: 220px; height: auto;\">\\n<div class=\"c-feed_visual\" data-original=\"https://img1.kakaku.k-img.com/images/maga/16276/250b.jpg\"></div>\\n<div class=\"c-feed_lines\">\\n<p class=\"p-cat p-cat-magazine c-feed_lines_cat\">価格.comマガジン - 生活家電</p>\\n<p class=\"c-feed_lines_ttl c-feed_lines_ttl-icon-1\">0.03μmの超微粒子を99％以上除去！「Blueair Protect」シリーズ</p>\\n</div><!-- /c-feed_lines -->\\n</a><!-- /c-feed_item -->\\n</div><!-- /c-feed_cell -->\\n\\n<div class=\"c-feed_cell\">\\n<a href=\"https://kakakumag.com/seikatsu-kaden/?id=15827\" class=\"c-feed_item c-feed_item-magazine\" onclick=\"onclickcatalyst_togroupsite(\\'waku_categorytop_exp_E_81188_3160\\');\" target=\"_blank\" style=\"min-height: 220px; height: auto;\">\\n<div class=\"c-feed_visual\" data-original=\"https://img1.kakaku.k-img.com/images/maga/15827/250b.jpg\"></div>\\n<div class=\"c-feed_lines\">\\n<p class=\"p-cat p-cat-magazine c-feed_lines_cat\">価格.comマガジン - 生活家電</p>\\n<p class=\"c-feed_lines_ttl c-feed_lines_ttl-icon-1\">新型「ホットクック」の低温調理で作ったサラダチキンが激ウマ！</p>\\n</div><!-- /c-feed_lines -->\\n</a><!-- /c-feed_item -->\\n</div><!-- /c-feed_cell -->\\n\\n\\n</div><!-- /c-feed_row -->\\n\\n<div class=\"c-feed_row\">\\n<div class=\"c-feed_cell\">\\n<a href=\"https://kakakumag.com/av-kaden/?id=16368\" class=\"c-feed_item c-feed_item-magazine\" onclick=\"onclickcatalyst_togroupsite(\\'waku_categorytop_exp_E_84198_3160\\');\" target=\"_blank\" style=\"min-height: 220px; height: auto;\">\\n<div class=\"c-feed_visual\" data-original=\"https://img1.kakaku.k-img.com/images/maga/16368/250.jpg\"></div>\\n<div class=\"c-feed_lines\">\\n<p class=\"p-cat p-cat-magazine c-feed_lines_cat\">価格.comマガジン - AV家電</p>\\n<p class=\"c-feed_lines_ttl c-feed_lines_ttl-icon-1\">これからレコードを始める人にぴったりなレコードプレーヤー10選</p>\\n</div><!-- /c-feed_lines -->\\n</a><!-- /c-feed_item -->\\n</div><!-- /c-feed_cell -->\\n\\n<div class=\"c-feed_cell\">\\n<a href=\"https://kakakumag.com/av-kaden/?id=16281\" class=\"c-feed_item c-feed_item-magazine\" onclick=\"onclickcatalyst_togroupsite(\\'waku_categorytop_exp_E_83678_3160\\');\" target=\"_blank\" style=\"min-height: 220px; height: auto;\">\\n<div class=\"c-feed_visual\" data-original=\"https://img1.kakaku.k-img.com/images/maga/16281/250.jpg\"></div>\\n<div class=\"c-feed_lines\">\\n<p class=\"p-cat p-cat-magazine c-feed_lines_cat\">価格.comマガジン - AV家電</p>\\n<p class=\"c-feed_lines_ttl c-feed_lines_ttl-icon-1\">4K/120Hz出力や3Dオーディオは!? AVライター目線でPS5をチェック</p>\\n</div><!-- /c-feed_lines -->\\n</a><!-- /c-feed_item -->\\n</div><!-- /c-feed_cell -->\\n\\n<div class=\"c-feed_cell\">\\n<a href=\"https://kakakumag.com/seikatsu-kaden/?id=16164\" class=\"c-feed_item c-feed_item-magazine\" onclick=\"onclickcatalyst_togroupsite(\\'waku_categorytop_exp_E_82989_3160\\');\" target=\"_blank\" style=\"min-height: 220px; height: auto;\">\\n<div class=\"c-feed_visual\" data-original=\"https://img1.kakaku.k-img.com/images/maga/16164/img250.jpg\"></div>\\n<div class=\"c-feed_lines\">\\n<p class=\"p-cat p-cat-magazine c-feed_lines_cat\">価格.comマガジン - 生活家電</p>\\n<p class=\"c-feed_lines_ttl c-feed_lines_ttl-icon-1\">これを探してた! 安価な家庭用｢カーペットリンサー｣でお手軽掃除</p>\\n</div><!-- /c-feed_lines -->\\n</a><!-- /c-feed_item -->\\n</div><!-- /c-feed_cell -->\\n\\n\\n</div><!-- /c-feed_row -->\\n\\n<div class=\"c-feed_row\">\\n<div class=\"c-feed_cell\">\\n<a href=\"https://kakakumag.com/av-kaden/?id=15826\" class=\"c-feed_item c-feed_item-magazine\" onclick=\"onclickcatalyst_togroupsite(\\'waku_categorytop_exp_E_81186_3160\\');\" target=\"_blank\" style=\"min-height: 220px; height: auto;\">\\n<div class=\"c-feed_visual\" data-original=\"https://img1.kakaku.k-img.com/images/maga/15826/250.jpg\"></div>\\n<div class=\"c-feed_lines\">\\n<p class=\"p-cat p-cat-magazine c-feed_lines_cat\">価格.comマガジン - AV家電</p>\\n<p class=\"c-feed_lines_ttl c-feed_lines_ttl-icon-1\">マランツサウンドで映画・音楽・ゲームを楽しめる8K AVアンプ</p>\\n</div><!-- /c-feed_lines -->\\n</a><!-- /c-feed_item -->\\n</div><!-- /c-feed_cell -->\\n\\n<div class=\"c-feed_cell\">\\n<a href=\"https://kakakumag.com/av-kaden/?id=15798\" class=\"c-feed_item c-feed_item-magazine\" onclick=\"onclickcatalyst_togroupsite(\\'waku_categorytop_exp_E_81112_3160\\');\" target=\"_blank\" style=\"min-height: 220px; height: auto;\">\\n<div class=\"c-feed_visual\" data-original=\"https://img1.kakaku.k-img.com/images/maga/15798/250.jpg\"></div>\\n<div class=\"c-feed_lines\">\\n<p class=\"p-cat p-cat-magazine c-feed_lines_cat\">価格.comマガジン - AV家電</p>\\n<p class=\"c-feed_lines_ttl c-feed_lines_ttl-icon-1\">DACの違いによって音は変わる？ DAC違いのハイレゾDAPを聴き比べ</p>\\n</div><!-- /c-feed_lines -->\\n</a><!-- /c-feed_item -->\\n</div><!-- /c-feed_cell -->\\n\\n<div class=\"c-feed_cell\">\\n<a href=\"https://kakakumag.com/seikatsu-kaden/?id=15746\" class=\"c-feed_item c-feed_item-magazine\" onclick=\"onclickcatalyst_togroupsite(\\'waku_categorytop_exp_E_80812_3160\\');\" target=\"_blank\" style=\"min-height: 220px; height: auto;\">\\n<div class=\"c-feed_visual\" data-original=\"https://img1.kakaku.k-img.com/images/maga/15746/250b.jpg\"></div>\\n<div class=\"c-feed_lines\">\\n<p class=\"p-cat p-cat-magazine c-feed_lines_cat\">価格.comマガジン - 生活家電</p>\\n<p class=\"c-feed_lines_ttl c-feed_lines_ttl-icon-1\">アイスコーヒーも！世界的に珍しい構造のデロンギ「クレシドラ」</p>\\n</div><!-- /c-feed_lines -->\\n</a><!-- /c-feed_item -->\\n</div><!-- /c-feed_cell -->\\n\\n\\n</div><!-- /c-feed_row -->\\n\\n<div class=\"c-feed_row\">\\n<div class=\"c-feed_cell\">\\n<a href=\"https://kakakumag.com/seikatsu-kaden/?id=16077\" class=\"c-feed_item c-feed_item-magazine\" onclick=\"onclickcatalyst_togroupsite(\\'waku_categorytop_exp_E_82505_3160\\');\" target=\"_blank\" style=\"min-height: 220px; height: auto;\">\\n<div class=\"c-feed_visual\" data-original=\"https://img1.kakaku.k-img.com/images/maga/16077/250b.jpg\"></div>\\n<div class=\"c-feed_lines\">\\n<p class=\"p-cat p-cat-magazine c-feed_lines_cat\">価格.comマガジン - 生活家電</p>\\n<p class=\"c-feed_lines_ttl c-feed_lines_ttl-icon-1\">ダイキンの“換気ができる”エアコンがラインアップを拡充！</p>\\n</div><!-- /c-feed_lines -->\\n</a><!-- /c-feed_item -->\\n</div><!-- /c-feed_cell -->\\n\\n<div class=\"c-feed_cell\">\\n<a href=\"https://kakakumag.com/av-kaden/?id=16409\" class=\"c-feed_item c-feed_item-magazine\" onclick=\"onclickcatalyst_togroupsite(\\'waku_categorytop_exp_E_84379_3160\\');\" target=\"_blank\" style=\"min-height: 220px; height: auto;\">\\n<div class=\"c-feed_visual\" data-original=\"https://img1.kakaku.k-img.com/images/maga/16409/250.jpg\"></div>\\n<div class=\"c-feed_lines\">\\n<p class=\"p-cat p-cat-magazine c-feed_lines_cat\">価格.comマガジン - AV家電</p>\\n<p class=\"c-feed_lines_ttl c-feed_lines_ttl-icon-1\">高画質・高音質が揃うエプソンの一体型プロジェクター「EF-12」</p>\\n</div><!-- /c-feed_lines -->\\n</a><!-- /c-feed_item -->\\n</div><!-- /c-feed_cell -->\\n\\n<div class=\"c-feed_cell\">\\n<a href=\"https://kakakumag.com/av-kaden/?id=16435\" class=\"c-feed_item c-feed_item-magazine\" onclick=\"onclickcatalyst_togroupsite(\\'waku_categorytop_exp_E_84489_3160\\');\" target=\"_blank\" style=\"min-height: 220px; height: auto;\">\\n<div class=\"c-feed_visual\" data-original=\"https://img1.kakaku.k-img.com/images/maga/16435/250.jpg\"></div>\\n<div class=\"c-feed_lines\">\\n<p class=\"p-cat p-cat-magazine c-feed_lines_cat\">価格.comマガジン - AV家電</p>\\n<p class=\"c-feed_lines_ttl c-feed_lines_ttl-icon-1\">プロが選んだ1万円以下で買える良音質な有線イヤホン9選</p>\\n</div><!-- /c-feed_lines -->\\n</a><!-- /c-feed_item -->\\n</div><!-- /c-feed_cell -->\\n\\n\\n</div><!-- /c-feed_row -->\\n\\n<div class=\"c-feed_row\">\\n<div class=\"c-feed_cell\">\\n<a href=\"https://kakakumag.com/av-kaden/?id=15169\" class=\"c-feed_item c-feed_item-magazine\" onclick=\"onclickcatalyst_togroupsite(\\'waku_categorytop_exp_E_77306_3160\\');\" target=\"_blank\" style=\"min-height: 220px; height: auto;\">\\n<div class=\"c-feed_visual\" data-original=\"https://img1.kakaku.k-img.com/images/maga/15169/250.jpg\"></div>\\n<div class=\"c-feed_lines\">\\n<p class=\"p-cat p-cat-magazine c-feed_lines_cat\">価格.comマガジン - AV家電</p>\\n<p class=\"c-feed_lines_ttl c-feed_lines_ttl-icon-1\">全機種聴きました！ Bluetoothスピーカー全14機種をガチレビュー</p>\\n</div><!-- /c-feed_lines -->\\n</a><!-- /c-feed_item -->\\n</div><!-- /c-feed_cell -->\\n\\n<div class=\"c-feed_cell\">\\n<a href=\"https://kakakumag.com/seikatsu-kaden/?id=15963\" class=\"c-feed_item c-feed_item-magazine\" onclick=\"onclickcatalyst_togroupsite(\\'waku_categorytop_exp_E_81956_3160\\');\" target=\"_blank\" style=\"min-height: 220px; height: auto;\">\\n<div class=\"c-feed_visual\" data-original=\"https://img1.kakaku.k-img.com/images/maga/15963/250.jpg\"></div>\\n<div class=\"c-feed_lines\">\\n<p class=\"p-cat p-cat-magazine c-feed_lines_cat\">価格.comマガジン - 生活家電</p>\\n<p class=\"c-feed_lines_ttl c-feed_lines_ttl-icon-1\">男の情熱料理！人気のホットプレートで絶品パエリア作り【動画】</p>\\n</div><!-- /c-feed_lines -->\\n</a><!-- /c-feed_item -->\\n</div><!-- /c-feed_cell -->\\n\\n<div class=\"c-feed_cell\">\\n<a href=\"https://kakakumag.com/av-kaden/?id=15655\" class=\"c-feed_item c-feed_item-magazine\" onclick=\"onclickcatalyst_togroupsite(\\'waku_categorytop_exp_E_80493_3160\\');\" target=\"_blank\" style=\"min-height: 220px; height: auto;\">\\n<div class=\"c-feed_visual\" data-original=\"https://img1.kakaku.k-img.com/images/maga/15655/250.jpg\"></div>\\n<div class=\"c-feed_lines\">\\n<p class=\"p-cat p-cat-magazine c-feed_lines_cat\">価格.comマガジン - AV家電</p>\\n<p class=\"c-feed_lines_ttl c-feed_lines_ttl-icon-1\">ノイキャン搭載完全ワイヤレスイヤホン全10機種の実力をチェック</p>\\n</div><!-- /c-feed_lines -->\\n</a><!-- /c-feed_item -->\\n</div><!-- /c-feed_cell -->\\n\\n\\n</div><!-- /c-feed_row -->\\n\\n<div class=\"c-feed_row\">\\n<div class=\"c-feed_cell is-hide\">\\n<a href=\"https://kakakumag.com/seikatsu-kaden/?id=16147\" class=\"c-feed_item c-feed_item-magazine\" onclick=\"onclickcatalyst_togroupsite(\\'waku_categorytop_exp_E_82901_3160\\');\" target=\"_blank\" style=\"min-height: 0px; height: auto;\">\\n<div class=\"c-feed_visual\" data-original=\"https://img1.kakaku.k-img.com/images/maga/16147/250b.jpg\"></div>\\n<div class=\"c-feed_lines\">\\n<p class=\"p-cat p-cat-magazine c-feed_lines_cat\">価格.comマガジン - 生活家電</p>\\n<p class=\"c-feed_lines_ttl c-feed_lines_ttl-icon-1\">「野菜室が真ん中」冷蔵庫がパナソニックから登場！</p>\\n</div><!-- /c-feed_lines -->\\n</a><!-- /c-feed_item -->\\n</div><!-- /c-feed_cell -->\\n\\n<div class=\"c-feed_cell is-hide\">\\n<a href=\"https://kakakumag.com/seikatsu-kaden/?id=16023\" class=\"c-feed_item c-feed_item-magazine\" onclick=\"onclickcatalyst_togroupsite(\\'waku_categorytop_exp_E_82242_3160\\');\" target=\"_blank\" style=\"min-height: 0px; height: auto;\">\\n<div class=\"c-feed_visual\" data-original=\"https://img1.kakaku.k-img.com/images/maga/16023/250b.jpg\"></div>\\n<div class=\"c-feed_lines\">\\n<p class=\"p-cat p-cat-magazine c-feed_lines_cat\">価格.comマガジン - 生活家電</p>\\n<p class=\"c-feed_lines_ttl c-feed_lines_ttl-icon-1\">本格コーヒーやミルクメニューが手軽に！デロンギ「ディナミカ」</p>\\n</div><!-- /c-feed_lines -->\\n</a><!-- /c-feed_item -->\\n</div><!-- /c-feed_cell -->\\n\\n<div class=\"c-feed_cell is-hide\">\\n<a href=\"https://kakakumag.com/av-kaden/?id=15993\" class=\"c-feed_item c-feed_item-magazine\" onclick=\"onclickcatalyst_togroupsite(\\'waku_categorytop_exp_E_82095_3160\\');\" target=\"_blank\" style=\"min-height: 0px; height: auto;\">\\n<div class=\"c-feed_visual\" data-original=\"https://img1.kakaku.k-img.com/images/maga/15993/250.jpg\"></div>\\n<div class=\"c-feed_lines\">\\n<p class=\"p-cat p-cat-magazine c-feed_lines_cat\">価格.comマガジン - AV家電</p>\\n<p class=\"c-feed_lines_ttl c-feed_lines_ttl-icon-1\">明部の階調表現がアップ！4K有機ELビエラ最上位モデル「HZ2000」</p>\\n</div><!-- /c-feed_lines -->\\n</a><!-- /c-feed_item -->\\n</div><!-- /c-feed_cell -->\\n\\n\\n</div><!-- /c-feed_row -->\\n\\n<div class=\"c-feed_row\">\\n<div class=\"c-feed_cell is-hide\">\\n<a href=\"https://kakakumag.com/seikatsu-kaden/?id=15776\" class=\"c-feed_item c-feed_item-magazine\" onclick=\"onclickcatalyst_togroupsite(\\'waku_categorytop_exp_E_81025_3160\\');\" target=\"_blank\" style=\"min-height: 0px; height: auto;\">\\n<div class=\"c-feed_visual\" data-original=\"https://img1.kakaku.k-img.com/images/maga/15776/250b.jpg\"></div>\\n<div class=\"c-feed_lines\">\\n<p class=\"p-cat p-cat-magazine c-feed_lines_cat\">価格.comマガジン - 生活家電</p>\\n<p class=\"c-feed_lines_ttl c-feed_lines_ttl-icon-1\">掃除機で起こる毛がらみ問題が「からまないブラシ」で解決!?</p>\\n</div><!-- /c-feed_lines -->\\n</a><!-- /c-feed_item -->\\n</div><!-- /c-feed_cell -->\\n\\n<div class=\"c-feed_cell is-hide\">\\n<a href=\"https://kakakumag.com/av-kaden/?id=16371\" class=\"c-feed_item c-feed_item-magazine\" onclick=\"onclickcatalyst_togroupsite(\\'waku_categorytop_exp_E_84296_3160\\');\" target=\"_blank\" style=\"min-height: 0px; height: auto;\">\\n<div class=\"c-feed_visual\" data-original=\"https://img1.kakaku.k-img.com/images/maga/16371/250x130.jpg\"></div>\\n<div class=\"c-feed_lines\">\\n<p class=\"p-cat p-cat-magazine c-feed_lines_cat\">価格.comマガジン - AV家電</p>\\n<p class=\"c-feed_lines_ttl c-feed_lines_ttl-icon-1\">テレビ＆プロジェクター 2020年のトレンド&amp;ヒット商品を振り返る</p>\\n</div><!-- /c-feed_lines -->\\n</a><!-- /c-feed_item -->\\n</div><!-- /c-feed_cell -->\\n\\n<div class=\"c-feed_cell is-hide\">\\n<a href=\"https://kakakumag.com/av-kaden/?id=16293\" class=\"c-feed_item c-feed_item-magazine\" onclick=\"onclickcatalyst_togroupsite(\\'waku_categorytop_exp_E_84143_3160\\');\" target=\"_blank\" style=\"min-height: 0px; height: auto;\">\\n<div class=\"c-feed_visual\" data-original=\"https://img1.kakaku.k-img.com/images/maga/16293/250.jpg\"></div>\\n<div class=\"c-feed_lines\">\\n<p class=\"p-cat p-cat-magazine c-feed_lines_cat\">価格.comマガジン - AV家電</p>\\n<p class=\"c-feed_lines_ttl c-feed_lines_ttl-icon-1\">finalのエヴァコラボイヤホンをエヴァ大好き女子とチェック！</p>\\n</div><!-- /c-feed_lines -->\\n</a><!-- /c-feed_item -->\\n</div><!-- /c-feed_cell -->\\n\\n\\n</div><!-- /c-feed_row -->\\n\\n<div class=\"c-feed_row\">\\n<div class=\"c-feed_cell is-hide\">\\n<a href=\"https://kakakumag.com/av-kaden/?id=16292\" class=\"c-feed_item c-feed_item-magazine\" onclick=\"onclickcatalyst_togroupsite(\\'waku_categorytop_exp_E_83870_3160\\');\" target=\"_blank\" style=\"min-height: 0px; height: auto;\">\\n<div class=\"c-feed_visual\" data-original=\"https://img1.kakaku.k-img.com/images/maga/16292/250.jpg\"></div>\\n<div class=\"c-feed_lines\">\\n<p class=\"p-cat p-cat-magazine c-feed_lines_cat\">価格.comマガジン - AV家電</p>\\n<p class=\"c-feed_lines_ttl c-feed_lines_ttl-icon-1\">女子3人に完全ワイヤレスイヤホンをガチで選んでもらった！</p>\\n</div><!-- /c-feed_lines -->\\n</a><!-- /c-feed_item -->\\n</div><!-- /c-feed_cell -->\\n\\n<div class=\"c-feed_cell is-hide\">\\n<a href=\"https://kakakumag.com/av-kaden/?id=16113\" class=\"c-feed_item c-feed_item-magazine\" onclick=\"onclickcatalyst_togroupsite(\\'waku_categorytop_exp_E_82724_3160\\');\" target=\"_blank\" style=\"min-height: 0px; height: auto;\">\\n<div class=\"c-feed_visual\" data-original=\"https://img1.kakaku.k-img.com/images/maga/16113/250.jpg\"></div>\\n<div class=\"c-feed_lines\">\\n<p class=\"p-cat p-cat-magazine c-feed_lines_cat\">価格.comマガジン - AV家電</p>\\n<p class=\"c-feed_lines_ttl c-feed_lines_ttl-icon-1\">レコードカートリッジのグレードの違いで音はどう変わる？</p>\\n</div><!-- /c-feed_lines -->\\n</a><!-- /c-feed_item -->\\n</div><!-- /c-feed_cell -->\\n\\n<div class=\"c-feed_cell is-hide\">\\n<a href=\"https://kakakumag.com/seikatsu-kaden/?id=16433\" class=\"c-feed_item c-feed_item-magazine\" onclick=\"onclickcatalyst_togroupsite(\\'waku_categorytop_exp_E_84487_3160\\');\" target=\"_blank\" style=\"min-height: 0px; height: auto;\">\\n<div class=\"c-feed_visual\" data-original=\"https://img1.kakaku.k-img.com/images/maga/16433/250.jpg\"></div>\\n<div class=\"c-feed_lines\">\\n<p class=\"p-cat p-cat-magazine c-feed_lines_cat\">価格.comマガジン - 生活家電</p>\\n<p class=\"c-feed_lines_ttl c-feed_lines_ttl-icon-1\">パナソニック電動歯ブラシ「ドルツ」でやさしく歯周ケアを実践！</p>\\n</div><!-- /c-feed_lines -->\\n</a><!-- /c-feed_item -->\\n</div><!-- /c-feed_cell -->\\n\\n\\n</div><!-- /c-feed_row -->\\n\\n<div class=\"c-feed_row\">\\n<div class=\"c-feed_cell is-hide\">\\n<a href=\"https://kakakumag.com/seikatsu-kaden/?id=16297\" class=\"c-feed_item c-feed_item-magazine\" onclick=\"onclickcatalyst_togroupsite(\\'waku_categorytop_exp_E_83780_3160\\');\" target=\"_blank\" style=\"min-height: 0px; height: auto;\">\\n<div class=\"c-feed_visual\" data-original=\"https://img1.kakaku.k-img.com/images/maga/16297/250.jpg\"></div>\\n<div class=\"c-feed_lines\">\\n<p class=\"p-cat p-cat-magazine c-feed_lines_cat\">価格.comマガジン - 生活家電</p>\\n<p class=\"c-feed_lines_ttl c-feed_lines_ttl-icon-1\">1台200万円!!ブラザーの超高級ミシンは何でもできるすごいマシン</p>\\n</div><!-- /c-feed_lines -->\\n</a><!-- /c-feed_item -->\\n</div><!-- /c-feed_cell -->\\n\\n<div class=\"c-feed_cell is-hide\">\\n<a href=\"https://kakakumag.com/av-kaden/?id=16236\" class=\"c-feed_item c-feed_item-magazine\" onclick=\"onclickcatalyst_togroupsite(\\'waku_categorytop_exp_E_83455_3160\\');\" target=\"_blank\" style=\"min-height: 0px; height: auto;\">\\n<div class=\"c-feed_visual\" data-original=\"https://img1.kakaku.k-img.com/images/maga/16236/250.jpg\"></div>\\n<div class=\"c-feed_lines\">\\n<p class=\"p-cat p-cat-magazine c-feed_lines_cat\">価格.comマガジン - AV家電</p>\\n<p class=\"c-feed_lines_ttl c-feed_lines_ttl-icon-1\">自動で画質＆音質調整！アイリスオーヤマの「AIオート」4Kテレビ</p>\\n</div><!-- /c-feed_lines -->\\n</a><!-- /c-feed_item -->\\n</div><!-- /c-feed_cell -->\\n\\n<div class=\"c-feed_cell is-hide\">\\n<a href=\"https://kakakumag.com/seikatsu-kaden/?id=16202\" class=\"c-feed_item c-feed_item-magazine\" onclick=\"onclickcatalyst_togroupsite(\\'waku_categorytop_exp_E_83249_3160\\');\" target=\"_blank\" style=\"min-height: 0px; height: auto;\">\\n<div class=\"c-feed_visual\" data-original=\"https://img1.kakaku.k-img.com/images/maga/16202/250b.jpg\"></div>\\n<div class=\"c-feed_lines\">\\n<p class=\"p-cat p-cat-magazine c-feed_lines_cat\">価格.comマガジン - 生活家電</p>\\n<p class=\"c-feed_lines_ttl c-feed_lines_ttl-icon-1\">シャープから小型な空気清浄機と薄型の加湿空気清浄機が登場</p>\\n</div><!-- /c-feed_lines -->\\n</a><!-- /c-feed_item -->\\n</div><!-- /c-feed_cell -->\\n\\n\\n</div><!-- /c-feed_row -->\\n\\n<div class=\"c-feed_row\">\\n<div class=\"c-feed_cell is-hide\">\\n<a href=\"https://kakakumag.com/seikatsu-kaden/?id=16482\" class=\"c-feed_item c-feed_item-magazine\" onclick=\"onclickcatalyst_togroupsite(\\'waku_categorytop_exp_E_84748_3160\\');\" target=\"_blank\" style=\"min-height: 0px; height: auto;\">\\n<div class=\"c-feed_visual\" data-original=\"https://img1-kakaku.ssl.k-img.com/images/maga/16482/250.jpg\"></div>\\n<div class=\"c-feed_lines\">\\n<p class=\"p-cat p-cat-magazine c-feed_lines_cat\">価格.comマガジン - 生活雑貨</p>\\n<p class=\"c-feed_lines_ttl c-feed_lines_ttl-icon-1\">化粧水をミストで噴射 パナソニックスチーマー ナノケア EH-SA0B</p>\\n</div><!-- /c-feed_lines -->\\n</a><!-- /c-feed_item -->\\n</div><!-- /c-feed_cell -->\\n\\n<div class=\"c-feed_cell is-hide\">\\n<a href=\"https://kakakumag.com/seikatsu-kaden/?id=16445\" class=\"c-feed_item c-feed_item-magazine\" onclick=\"onclickcatalyst_togroupsite(\\'waku_categorytop_exp_E_84544_3160\\');\" target=\"_blank\" style=\"min-height: 0px; height: auto;\">\\n<div class=\"c-feed_visual\" data-original=\"https://img1-kakaku.ssl.k-img.com/images/maga/16445/250.jpg\"></div>\\n<div class=\"c-feed_lines\">\\n<p class=\"p-cat p-cat-magazine c-feed_lines_cat\">価格.comマガジン - 生活家電</p>\\n<p class=\"c-feed_lines_ttl c-feed_lines_ttl-icon-1\">忙しい朝のヘアセットが楽に? ニトリ「ブラシ型ヘアアイロン」</p>\\n</div><!-- /c-feed_lines -->\\n</a><!-- /c-feed_item -->\\n</div><!-- /c-feed_cell -->\\n\\n<div class=\"c-feed_cell is-hide\">\\n<a href=\"https://kakakumag.com/sports/?id=16259\" class=\"c-feed_item c-feed_item-magazine\" onclick=\"onclickcatalyst_togroupsite(\\'waku_categorytop_exp_E_83592_3160\\');\" target=\"_blank\" style=\"min-height: 0px; height: auto;\">\\n<div class=\"c-feed_visual\" data-original=\"https://img1.kakaku.k-img.com/images/maga/16259/250b.jpg\"></div>\\n<div class=\"c-feed_lines\">\\n<p class=\"p-cat p-cat-magazine c-feed_lines_cat\">価格.comマガジン - スポーツ</p>\\n<p class=\"c-feed_lines_ttl c-feed_lines_ttl-icon-1\">MTBコースでe-MTBを乗り比べ！推せるエントリークラスはこれだ!!</p>\\n</div><!-- /c-feed_lines -->\\n</a><!-- /c-feed_item -->\\n</div><!-- /c-feed_cell -->\\n\\n\\n</div><!-- /c-feed_row -->\\n\\n<div class=\"c-feed_row\">\\n<div class=\"c-feed_cell is-hide\">\\n<a href=\"https://kakakumag.com/av-kaden/?id=16397\" class=\"c-feed_item c-feed_item-magazine\" onclick=\"onclickcatalyst_togroupsite(\\'waku_categorytop_exp_E_84378_3160\\');\" target=\"_blank\" style=\"min-height: 0px; height: auto;\">\\n<div class=\"c-feed_visual\" data-original=\"https://img1.kakaku.k-img.com/images/maga/16397/250.jpg\"></div>\\n<div class=\"c-feed_lines\">\\n<p class=\"p-cat p-cat-magazine c-feed_lines_cat\">価格.comマガジン - AV家電</p>\\n<p class=\"c-feed_lines_ttl c-feed_lines_ttl-icon-1\">AirPods Maxの音質･ノイキャン性能をソニー、BOSEと比較してみた</p>\\n</div><!-- /c-feed_lines -->\\n</a><!-- /c-feed_item -->\\n</div><!-- /c-feed_cell -->\\n\\n<div class=\"c-feed_cell is-hide\">\\n<a href=\"https://kakakumag.com/seikatsu-kaden/?id=16359\" class=\"c-feed_item c-feed_item-magazine\" onclick=\"onclickcatalyst_togroupsite(\\'waku_categorytop_exp_E_84115_3160\\');\" target=\"_blank\" style=\"min-height: 0px; height: auto;\">\\n<div class=\"c-feed_visual\" data-original=\"https://img1.kakaku.k-img.com/images/maga/16359/250.jpg\"></div>\\n<div class=\"c-feed_lines\">\\n<p class=\"p-cat p-cat-magazine c-feed_lines_cat\">価格.comマガジン - 生活家電</p>\\n<p class=\"c-feed_lines_ttl c-feed_lines_ttl-icon-1\">レコルトの「ソイ＆スープブレンダー」で豆乳＆スープ三昧！</p>\\n</div><!-- /c-feed_lines -->\\n</a><!-- /c-feed_item -->\\n</div><!-- /c-feed_cell -->\\n\\n<div class=\"c-feed_cell is-hide\">\\n<a href=\"https://kakakumag.com/seikatsu-kaden/?id=16345\" class=\"c-feed_item c-feed_item-magazine\" onclick=\"onclickcatalyst_togroupsite(\\'waku_categorytop_exp_E_84036_3160\\');\" target=\"_blank\" style=\"min-height: 0px; height: auto;\">\\n<div class=\"c-feed_visual\" data-original=\"https://img1.kakaku.k-img.com/images/maga/16345/250b.jpg\"></div>\\n<div class=\"c-feed_lines\">\\n<p class=\"p-cat p-cat-magazine c-feed_lines_cat\">価格.comマガジン - 生活家電</p>\\n<p class=\"c-feed_lines_ttl c-feed_lines_ttl-icon-1\">壁にかけて使えるモデルも登場！エレクトロラックスの空気清浄機</p>\\n</div><!-- /c-feed_lines -->\\n</a><!-- /c-feed_item -->\\n</div><!-- /c-feed_cell -->\\n\\n\\n</div><!-- /c-feed_row -->\\n\\n</div><!-- /c-feed_in -->\\n\\n<div class=\"c-feed_btn is-show\">\\n<div class=\"c-feed_btn_more\"><span class=\"c-feed_btn_more_in\">次の18件を表示</span></div></div><!-- /c-feed_btn -->\\n<div class=\"c-feed_loading\">\\n</div><!-- /c-feed_loading -->\\n\\n</div><!-- /c-feed -->\\n\\n</div><!-- /s-feed -->\\n\\n</div><!-- /l-c_cont -->\\n\\n</div><!-- /l-c -->\\n<div class=\"l-f\">\\n\\n<p class=\"p-pagetop\"><a href=\"#\" class=\"p-pagetop_link\">このページの先頭へ</a></p>\\n\\n<div class=\"c-gSearch p-ct_fSearch\">\\n<form action=\"/search_results/\" method=\"get\" onsubmit=\"if(this.query.value==\\'\\'){return false;}\">\\n<div class=\"p-ct_fSearch_in\">\\n<p class=\"p-ct_fSearch_cell c-gSearch_text-1\"><input id=\"query2\" name=\"query\" type=\"text\" maxlength=\"100\" class=\"c-gSearch_text-1_input p-ct_fSearch_input\" placeholder=\"何をお探しですか？（メーカー、製品カテゴリ、製品名、型番...）\"></p>\\n<p class=\"p-ct_fSearch_cell\"><span class=\"p-ct_fSearch_submit\"><input type=\"submit\" value=\"\" width=\"82\" height=\"114\" class=\"p-ct_fSearch_submit_btn\"></span></p>\\n</div><!-- /p-ct_fSearch_in -->\\n</form>\\n</div><!-- /c-gSearch -->\\n\\n<ul class=\"l-f_catch l-f_catch-borderNone\">\\n<li class=\"l-f_catch_lines\">家電 の通販情報・価格比較<span class=\"l-f_catch_sign\">価格.com</span></li>\\n</ul>\\n\\n<p class=\"l-f_copy\">© Kakaku.com, Inc. All Rights Reserved. 無断転載禁止</p>\\n\\n</div><!-- /l-f -->\\n\\n<!--  Global banner ここから-->\\n<div id=\"global_bnr_wrap\" style=\"display: block; margin-left: 52px;\">\\n<div id=\"global_bnr\" style=\"position: fixed;bottom:0;align: center;z-index:10;\"><a target=\"_blank\" href=\"https://www.buysmartjapan.com/index.php/en-us/lp_buysmartjapan\" onclick=\"onclickcatalystdairikounyu(&quot;click&quot;); return true;\"><img src=\"https://img1.kakaku.k-img.com/images/buysmart/t0en.png\"></a></div>\\n<!--閉じるボタン-->\\n<div style=\"position:fixed; bottom:32px; z-index:11;\"><a href=\"javascript:void(0);\" onclick=\"onclosecatalystdairikounyu();return false;\"><img src=\"https://img1.kakaku.k-img.com/images/buysmart/close.png\" width=\"20\" height=\"20\" alt=\"close\"></a></div>\\n</div>\\n<!--  Global banner ここまで-->\\n\\n</div><!-- /l-wrap-top -->\\n\\n</div><!-- /c-jack -->\\n\\n\\n<script src=\"https://script1.kakaku.k-img.com/script/libs/jquery/1.11/jquery-1.11.1.min.js\"></script>\\n<!-- sys -->\\n<script>\\njQuery.noConflict();\\nvar j$ = jQuery;\\n</script>\\n<script src=\"https://script1.kakaku.k-img.com/script/imgswap.js\"></script>\\n<script src=\"https://script1.kakaku.k-img.com/script/search/ecl_new.js\"></script>\\n<script src=\"https://script1.kakaku.k-img.com/script/search/ecl_wrap.js\"></script>\\n<script src=\"https://script1.kakaku.k-img.com/script/search/new_search.js\"></script>\\n<script src=\"https://script1.kakaku.k-img.com/script/search/suggest/suggest_v2.js\"></script>\\n<script src=\"https://script1.kakaku.k-img.com/script/search/suggest/suggest_call_catetop_v2.js\"></script>\\n<script src=\"https://script1.kakaku.k-img.com/script/iteminfo.js\"></script>\\n<script src=\"https://script1.kakaku.k-img.com/script/keep/postmessage_parent.js\"></script>\\n\\n<!-- des -->\\n<script src=\"https://script1.kakaku.k-img.com/script/history/history_navi_v2.js\"></script><iframe src=\"https://tpc.googlesyndication.com/safeframe/1-0-37/html/container.html\" style=\"visibility: hidden; display: none;\"></iframe><iframe src=\"https://6688305c97ca48b6af60c3e81e25065c.safeframe.googlesyndication.com/safeframe/1-0-37/html/container.html\" style=\"visibility: hidden; display: none;\"></iframe>\\n<script src=\"https://script1.kakaku.k-img.com/script/category/top.js\"></script>\\n\\n\\n<div id=\"historyContainer\" style=\"display: none; width: 100%;\">\\n<div id=\"historyNavi\" style=\"right: 0px;\">\\n<div id=\"ShowShortcutBox\"><div id=\"historyFrame\" class=\"hf_v2\" style=\"width: 88px; padding: 0px 4px; margin: 0px; position: relative; background-image: url(https://img1.kakaku.k-img.com/images/history/bg_historyframe_v2.png); background-position: 0px 0px; background-repeat: no-repeat no-repeat;\"><iframe id=\"f_keep\" src=\"https://kakaku.com/keep/shortcutparts.aspx\" frameborder=\"0\" noresize=\"noresize\" allowtransparency=\"true\" scrolling=\"no\" width=\"96\" height=\"49\"></iframe><iframe id=\"f_history\" src=\"https://history.kakaku.com/history/shortcutpartsforkeep.aspx?type=category1&amp;category=kaden\" name=\"cts\" frameborder=\"0\" noresize=\"noresize\" scrolling=\"no\" width=\"96\" allowtransparency=\"true\"></iframe></div></div>\\n</div>\\n</div>\\n<script src=\"https://script1.kakaku.k-img.com/script/history/history_showparts.js\"></script> \\n<script>\\n<!--\\nShowHistoryCategoryTopV3(\"category1\", \"kaden\");\\nShowShortcutCategoryTop(\"category1\", \"kaden\");\\n//--></script>\\n\\n<script type=\"text/javascript\" src=\"https://script1.kakaku.k-img.com/script/search/malltag.js\"></script>\\n<script language=\"JavaScript\"><!--\\nif(malltag) { \\n malltag.val.base = \\'020000\\';\\n malltag.val.bbstabno = 2;\\n malltag.set(); \\n} \\n//--></script>\\n\\n<span style=\"display:none;\">\\n<!-- SiteCatalyst code version: H.8.\\nCopyright 1997-2006 Omniture, Inc. More info available at\\nhttp://www.omniture.com -->\\n<script src=\"/script/analytics/s_code.js\"></script>\\n<script><!--\\n/* You may give each page an identifying name, server, and channel on\\nthe next lines. */\\ns.pageName=\"[kaden]\"+ document.title;\\ns.server=\"kakaku.com\"\\ns.channel=\"家電\"\\ns.pageType=\"\"\\ns.prop1=\"[kaden]カテゴリトップ\"\\ns.prop20=\" \"\\ns.prop46 = s.channel+\"_\"+(window.location.search.search(/(\\\\?|&)cid=[^\\\\?&#]+/) > -1 ? \"campaign\" : \"organic\")\\ns.prop47 = s.prop1+\"_\"+(window.location.search.search(/(\\\\?|&)cid=[^\\\\?&#]+/) > -1 ? \"campaign\" : \"organic\")\\ns.eVar12=\"[test]\"+ document.referrer;\\ns.eVar50=\"\"\\ns.campaign=\"\"\\n/************* DO NOT ALTER ANYTHING BELOW THIS LINE ! **************/\\nvar s_code=s.t();if(s_code)document.write(s_code)//--></script>\\n<script><!--\\nif(navigator.appVersion.indexOf(\\'MSIE\\')>=0)document.write(unescape(\\'%3C\\')+\\'\\\\!-\\'+\\'-\\')\\n//--></script><!--/DO NOT REMOVE/-->\\n<!-- End SiteCatalyst code version: H.8. -->\\n\\n<script src=\"/script/buysmart/buysmartjapan_kakakutop_v2.js?20151216\"></script>\\n<script>\\nvar dairiKakakuCategory = \\'kaden\\'\\nvar dairiSubCategory = \\'\\'\\ngetClickCatalystLang();\\n</script>\\n<script language=\"JavaScript\"><!-- \\nfunction onclickcatalystdairikounyu(clicktype ){\\nvar s=s_gi(s_code_gi);\\ns.linkTrackVars=\"prop1,prop11,prop20,prop21,prop22,prop25,prop30\"\\ns.linkTrackEvents = \"None\";\\ns.prop1   = \"[dairikounyu]\"+clicktype;\\ns.prop11  = clickCatalystLang\\ns.prop20  = dairiSubCategory\\ns.prop21  =\"\"\\ns.prop22  =\"\"\\ns.prop25  =\"\"\\ns.prop30  =\"\"\\ns.tl(this,\\'o\\',s.prop1);\\n}\\n// --></script>\\n\\n<!-- Google Code for &#26469;&#35370;&#12518;&#12540;&#12470;&#12540;_1 Remarketing List -->\\n<script>\\n/* <![CDATA[ */\\nvar google_conversion_id = 1039335471;\\nvar google_conversion_language = \"en\";\\nvar google_conversion_format = \"3\";\\nvar google_conversion_color = \"666666\";\\nvar google_conversion_label = \"ED-6CNHMogIQr4DM7wM\";\\nvar google_conversion_value = 0;\\n/* ]]> */\\n</script>\\n<script src=\"//www.googleadservices.com/pagead/conversion.js\">\\n</script>\\n<noscript>\\n&lt;div style=\"display:inline;\"&gt;\\n&lt;img height=\"1\" width=\"1\" style=\"border-style:none;\" alt=\"\" src=\"//www.googleadservices.com/pagead/conversion/1039335471/?label=ED-6CNHMogIQr4DM7wM&amp;amp;guid=ON&amp;amp;script=0\"/&gt;\\n&lt;/div&gt;\\n</noscript>\\n<script src=\"/script/analytics/s_code_gi.js\"></script>\\n<script><!-- \\nfunction onclickcatalyst(clicktype){\\nvar s=s_gi(s_code_gi);\\ns.linkTrackVars=\"channel,prop1,prop2\"\\ns.channel =\"オール\"\\ns.prop1   =\"[ALL]\" + clicktype;\\ns.prop2   =\"[kaden]\"\\ns.tl(this,\\'o\\',clicktype);\\n}\\n// --></script>\\n<script><!--\\nfunction onclickcatalyst_togroupsite(wakuID){\\nvar s=s_gi(s_account);\\ns.usePlugins=false;\\ns.linkTrackVars=\"prop1,prop44,eVar48\";\\ns.linkTrackEvents=\"None\";\\ns.prop1 = \"[ALL]waku_click\";\\ns.prop44 = wakuID;\\ns.eVar48 = wakuID;\\ns.tl(this,\\'o\\',s.prop1);\\ns.usePlugins=true;\\n}\\n// --></script>\\n</span><img src=\"data:image/png;base64,iVBORw0KGgoAAAANSUhEUgAAAAEAAAABCAYAAAAfFcSJAAAADUlEQVR42mP8/5+hHgAHggJ/PchI7wAAAABJRU5ErkJggg==\" width=\"1\" height=\"1\" border=\"0\" class=\"bigmining_dmp_beacon\" style=\"display: none;\"><img src=\"data:image/png;base64,iVBORw0KGgoAAAANSUhEUgAAAAEAAAABCAYAAAAfFcSJAAAADUlEQVR42mP8/5+hHgAHggJ/PchI7wAAAABJRU5ErkJggg==\" width=\"1\" height=\"1\" border=\"0\" class=\"bigmining_dmp_beacon\" style=\"display: none;\"><img src=\"https://analytics.twitter.com/i/adsct?p_id=979&amp;p_user_id=cKPcUDwYobk_1612087467317\" width=\"1\" height=\"1\" border=\"0\" class=\"bigmining_dmp_beacon\" style=\"display: none;\"><script id=\"bigmining_dgads_sync\" src=\"//cdn.bigmining.com/js/dgads_sync/bigmining_dgads_sync.js?keyname=kakakuusr\"></script>\\n\\n\\n<!-- Google Code for Dynamic Remarketing Tag Custom Parameters -->\\n<script>\\n/* <![CDATA[ */\\nvar google_tag_params = {\\necomm_prodid: \"\",\\necomm_pagetype: \"category\",\\necomm_totalvalue: \"\"\\n};\\n/* ]]> */\\n</script>\\n<!-- Google Code for Remarketing Tag -->\\n<!--////////////////////////////////////////////////\\nRemarketing tags may not be associated with personally identifiable information or placed on pages related to sensitive categories. See more information and instructions on how to setup the tag on: http://google.com/ads/remarketingsetup\\n////////////////////////////////////////////////-->\\n<script>\\n/* <![CDATA[ */\\nvar google_conversion_id = 1039335471;\\nvar google_custom_params = window.google_tag_params;\\nvar google_remarketing_only = true;\\n/* ]]> */\\n</script>\\n<script src=\"//www.googleadservices.com/pagead/conversion.js\">\\n</script><img src=\"data:image/png;base64,iVBORw0KGgoAAAANSUhEUgAAAAEAAAABCAYAAAAfFcSJAAAADUlEQVR42mP8/5+hHgAHggJ/PchI7wAAAABJRU5ErkJggg==\" width=\"1\" height=\"1\" border=\"0\" class=\"bigmining_dmp_beacon\" style=\"display: none;\"><iframe name=\"google_cookie_match_frame\" title=\"Google cookie match frame\" width=\"1\" height=\"1\" src=\"https://bid.g.doubleclick.net/xbbe/pixel?d=KAE\" frameborder=\"0\" marginwidth=\"0\" marginheight=\"0\" vspace=\"0\" hspace=\"0\" allowtransparency=\"true\" style=\"display:none\" scrolling=\"no\"></iframe>\\n<noscript>\\n&lt;div style=\"display:inline;\"&gt;\\n&lt;img height=\"1\" width=\"1\" style=\"border-style:none;\" alt=\"\" src=\"//googleads.g.doubleclick.net/pagead/viewthroughconversion/1039335471/?value=0&amp;amp;guid=ON&amp;amp;script=0\"/&gt;\\n&lt;/div&gt;\\n</noscript>\\n\\n<span style=\"display:none;\">\\n<script>\\nvar axel = Math.random() + \\'\\';\\nvar a = axel * 10000000000000;\\ndocument.write(\\'<img src=\"https://pubads.g.doubleclick.net/activity;dc_iu=/116070306/k;k_Top_Category=kaden;k_Category=null;k_Maker=null;k_ProductID=null;ord=\\' + a + \\'?\" width=1 height=1 border=0/>\\');\\n</script><img src=\"https://pubads.g.doubleclick.net/activity;dc_iu=/116070306/k;k_Top_Category=kaden;k_Category=null;k_Maker=null;k_ProductID=null;ord=9170278426325.412?\" width=\"1\" height=\"1\" border=\"0/\">\\n<noscript>\\n&lt;img src=\"https://pubads.g.doubleclick.net/activity;dc_iu=/116070306/k;k_Top_Category=kaden;k_Category=null;k_Maker=null;k_ProductID=null?\" width=1 height=1 border=0/&gt;\\n</noscript>\\n</span>\\n\\n<!-- DTM Tag -->\\n<script type=\"text/javascript\">\\n    if(typeof _satellite !== \"undefined\"){\\n        _satellite.pageBottom();\\n    }\\n</script><!-- Treasure Data -->\\n<script type=\"text/javascript\">\\n!function(t,e){if(void 0===e[t]){e[t]=function(){e[t].clients.push(this),this._init=[Array.prototype.slice.call(arguments)]},e[t].clients=[];for(var r=function(t){return function(){return this[\"_\"+t]=this[\"_\"+t]||[],this[\"_\"+t].push(Array.prototype.slice.call(arguments)),this}},s=[\"blockEvents\",\"unblockEvents\",\"setSignedMode\",\"setAnonymousMode\",\"resetUUID\",\"addRecord\",\"fetchGlobalID\",\"set\",\"trackEvent\",\"trackPageview\",\"trackClicks\",\"ready\",\"fetchUserSegments\"],n=0;n<s.length;n++){var c=s[n];e[t].prototype[c]=r(c)}var o=document.createElement(\"script\");o.type=\"text/javascript\",o.async=!0,o.src=(\"https:\"===document.location.protocol?\"https:\":\"http:\")+\"//cdn.treasuredata.com/sdk/2.1/td.min.js\";var a=document.getElementsByTagName(\"script\")[0];a.parentNode.insertBefore(o,a)}}(\"Treasure\",this);\\n!function(t,e,i,n){\"use strict\";var s=function(t){this.version=\"0.1.5\",this.customParam=t.customParam||{},this.idSyncList=t.idSyncList||[],this.success=this._prepareSuccessCallback(t.successCallback||[]),this.fail=t.errorCallback||void 0,this.table=t.table,this.trackClicks=t.trackClicks||!1,this.trackCrossDomain=t.trackCrossDomain||!1,this.trackFingerprint=t.trackFingerprint||!1,this.trackMetaDescription=t.trackMetaDescription||!1,this.trackCookies=t.trackCookies||{},this.id=\"tdw_\"+Math.random().toString(36).substring(7),this.sent=!1,this.tokenIntimateMerger=t.tokenIntimateMerger||void 0,this.tokenAudienceOne=t.tokenAudienceOne||void 0,this.dmpCb={list:{},funcs:[],cnt:0},this.ac=this._getAccountInfo(t.initParams);var s=new e.Treasure(t.initParams);if(s.set(this.table,this.customParam),this.trackClicks&&s.trackClicks(),this.trackCrossDomain&&s.set(\"$global\",\"td_global_id\",\"td_global_id\"),this.trackMetaDescription&&s.set(this.table,\"td_description\",this._getDescription(i)),Object.keys(this.trackCookies).length>0){var o=this;Object.keys(this.trackCookies).forEach(function(t){var e=o._getCookie(t.toString());s.set(o.table,o.trackCookies[t.toString()],e)})}return this.trackTealiumId&&s.set(this.table,\"tealium_id\",this._getTealiumId()),this.td=s,e[n][this.id]=this,this};s.prototype._getAccountInfo=function(t){var e=t.writeKey.split(\"/\")[0];return(\"in\"===t.host.split(\".\")[0]?\"aws\":t.host.split(\".\")[0])+\"-\"+e},s.prototype._setDmpCallbacks=function(){var t=this;if(void 0!==t.tokenIntimateMerger){var e={parent:t,onReceive:function(t){var e={};void 0!==t.imid&&(e.imid=t.imid),void 0!==t.segment_eids&&(e.im_segmentids=t.segment_eids),this.parent._onDmpCallback(e)}},i=\"//sync.im-apps.net/imid/segment?token=\"+t.tokenIntimateMerger+\"&callback=\"+encodeURIComponent(n+\".\"+t.id+\".dmpCb.list.im.onReceive\");t.dmpCb.list.im=e,t.dmpCb.funcs.push(t._buildCreateScriptFunc(i))}if(void 0!==t.tokenAudienceOne){var s={parent:t,onReceive:function(t){var e={};void 0!==t.aoneuid&&(e.aoneuid=t.aoneuid),void 0!==t.segmentIds&&(e.aone_segmentids=t.segmentIds),void 0!==t.aonesegments&&(void 0!==t.aonesegments.demographic&&(e.aone_demographic=t.aonesegments.demographic),void 0!==t.aonesegments.interest&&(e.aone_interest=t.aonesegments.interest),void 0!==t.aonesegments.zipcode&&(e.aone_zipcode_home=t.aonesegments.zipcode.home,e.aone_zipcode_work=t.aonesegments.zipcode.work)),this.parent._onDmpCallback(e)}};i=\"//penta.a.one.impact-ad.jp/dd?oid=\"+t.tokenAudienceOne+\"&rft=k&jsonp=\"+n+\".\"+t.id+\".dmpCb.list.aone.onReceive&tgsrc=td\";t.dmpCb.list.aone=s,t.dmpCb.funcs.push(t._buildCreateScriptFunc(i))}},s.prototype._onDmpCallback=function(t){this.td.set(this.table,t),window.intemateMerger = {sids: t.im_segmentids},this.dmpCb.cnt++,Object.keys(this.dmpCb.list).length===this.dmpCb.cnt&&this.sendRequest()},s.prototype._getDescription=function(t){for(var e=t.head.children,i=e.length,n=0;n<i;n++){if(\"description\"===e[n].getAttribute(\"name\"))return e[n].content}return\"\"},s.prototype._getCookie=function(t){var e,i,n,s=document.cookie.split(\";\");for(e=0;e<s.length;e++)if(i=s[e].substr(0,s[e].indexOf(\"=\")),n=s[e].substr(s[e].indexOf(\"=\")+1),(i=i.replace(/^\\\\s+|\\\\s+$/g,\"\"))===t)return unescape(n);return\"\"},s.prototype._prepareSuccessCallback=function(t){var e=[];if(void 0!==typeof t&&\"function\"==typeof t&&e.push(t),0!==this.idSyncList.length){var i=function(t){var e=document.createElement(\"img\");e.src=(\"https:\"===document.location.protocol?\"https://\":\"http://\")+t,e.width=1,e.height=1,e.style.display=\"none\",document.body.appendChild(e)};if(this.idSyncList.indexOf(\"google\")>=0){var n=this;e.push(function(){var t=\"&td_client_id=\"+n.td.client.track.uuid+\"&td_host=\"+document.location.host+\"&account=\"+n.ac;i(\"cm.g.doubleclick.net/pixel?google_nid=treasuredata_dmp&google_cm&td_write_key=8151/fcd628065149d648b80f11448b4083528c0d8a91&td_global_id=td_global_id\"+t)})}if(this.idSyncList.indexOf(\"digi\")>=0){n=this;var s=function(t){i(\"bigmining.com/pixel/treasuredata2big.png?uid=\"+t)};e.push(function(){n.td.fetchGlobalID(s)})}if(this.idSyncList.indexOf(\"tapad\")>=0){n=this;var o=function(t){i(\"pixel.tapad.com/idsync/ex/receive?partner_id=2766&partner_device_id=\"+t)};e.push(function(){n.td.fetchGlobalID(o)})}if(this.idSyncList.indexOf(\"ttd\")>=0){n=this;e.push(function(){i(\"match.adsrvr.org/track/cmf/generic?ttd_pid=vbyog0i&ttd_tpi=1\")})}}return function(){e.forEach(function(t){t()})}},s.prototype._buildCreateScriptFunc=function(t){return function(){var e=t,n=i.createElement(\"script\");n.type=\"text/javascript\",n.async=!0,n.src=e;var s=i.getElementsByTagName(\"script\")[0];s.parentNode.insertBefore(n,s)}},s.prototype._getTealiumId=function(){var t=this._getCookie(\"utag_main\").match(/^v_id\\\\:(.*)\\\\$_sn/);return null===t?\"\":t[1]},s.prototype.sendRequest=function(){if(!this.sent){if(this.trackFingerprint&&e.Fingerprint2){var t=this;(new Fingerprint2).get(function(e){t.td.set(\"$global\",\"td_fingerprint_id\",e),t.td.trackEvent(t.table,{},t.success,t.fail)})}else this.td.trackEvent(this.table,{},this.success,this.fail);this.sent=!0}},s.prototype.boot=function(){this._setDmpCallbacks(),0!==this.dmpCb.funcs.length?this.dmpCb.funcs.forEach(function(t){t()}):this.sendRequest()},e[n]=s}(0,window,document,\"TDWrapper_9568\");\\n\\nfunction getmetacontent(name){\\n    name = document.getElementsByTagName(\\'meta\\')[name];\\n    if(name != undefined){\\n        name = name.getAttribute(\"content\");\\n        if(name != undefined){\\n            return name;\\n        }\\n    }\\n    return \\'\\';\\n};\\n\\nvar _opts = {\\n  initParams : {\\n    host: \\'in.treasuredata.com\\',\\n    writeKey: \\'9568/5dcc3283eeda12fc5c72d56dee268bf40a593246\\',\\n    database: \\'kakaku_master\\',\\n    startInSignedMode: true\\n  },\\n  table : \\'td_js_pc\\',\\n  tokenIntimateMerger : \\'dmJmXE6ihffGM09UZqwoBg\\',\\n  customParam : {\\'keywords\\': getmetacontent(\\'keywords\\')},\\n  trackCrossDomain : true,\\n  trackCookies: {\\n    \\'s_vi\\': \\'s_vi\\',\\n    \\'s_fid\\': \\'s_fid\\',\\n  },\\n  idSyncList : [\\'google\\']\\n};\\nvar tdw_9568 = new TDWrapper_9568(_opts);\\ntdw_9568.boot();\\n</script><img src=\"//tg.socdm.com/aux/idsync?proto=treasuredata_global\" width=\"1\" height=\"1\" style=\"display:none;position:absolute;border:none;padding:0;margin:0;\"><!-- Facebook Pixel Code -->\\n<script>\\n  !function(f,b,e,v,n,t,s)\\n  {if(f.fbq)return;n=f.fbq=function(){n.callMethod?\\n  n.callMethod.apply(n,arguments):n.queue.push(arguments)};\\n  if(!f._fbq)f._fbq=n;n.push=n;n.loaded=!0;n.version=\\'2.0\\';\\n  n.queue=[];t=b.createElement(e);t.async=!0;\\n  t.src=v;s=b.getElementsByTagName(e)[0];\\n  s.parentNode.insertBefore(t,s)}(window, document,\\'script\\',\\n  \\'https://connect.facebook.net/en_US/fbevents.js\\');\\n  fbq(\\'set\\', \\'autoConfig\\', false, \\'473884813207552\\');\\n  fbq(\\'init\\', \\'473884813207552\\');\\n  fbq(\\'track\\',\\xa0\\'PageView\\'\\xa0,\\xa0{\\n\\xa0\\xa0\\xa0\\xa0scfb_campaign:_satellite.getVar(\"SC_campaign\"),\\n\\xa0\\xa0\\xa0\\xa0scfb_eVar48:_satellite.getVar(\"SC_eVar48\"),\\n\\xa0\\xa0\\xa0\\xa0scfb_events:_satellite.getVar(\"SC_events\"),\\n\\xa0\\xa0\\xa0\\xa0scfb_pageName:_satellite.getVar(\"SC_pageName\"),\\n\\xa0\\xa0\\xa0\\xa0scfb_channel:_satellite.getVar(\"SC_channel\"),\\n\\xa0\\xa0\\xa0\\xa0scfb_prop1:\\xa0_satellite.getVar(\"SC_prop1\"),\\n\\xa0\\xa0\\xa0\\xa0scfb_prop2:\\xa0_satellite.getVar(\"SC_prop2\"),\\n\\xa0\\xa0\\xa0\\xa0scfb_prop3:\\xa0_satellite.getVar(\"SC_prop3\"),\\n\\xa0\\xa0\\xa0\\xa0scfb_prop4:\\xa0_satellite.getVar(\"SC_prop4\"),\\n\\xa0\\xa0\\xa0\\xa0scfb_prop6:\\xa0_satellite.getVar(\"SC_prop6\"),\\n\\xa0\\xa0\\xa0\\xa0scfb_prop11:\\xa0_satellite.getVar(\"SC_prop11\"),\\n\\xa0\\xa0\\xa0\\xa0scfb_prop12:\\xa0_satellite.getVar(\"SC_prop12\"),\\n\\xa0\\xa0\\xa0\\xa0scfb_prop20:\\xa0_satellite.getVar(\"SC_prop20\"),\\n\\xa0\\xa0\\xa0\\xa0scfb_prop21:\\xa0_satellite.getVar(\"SC_prop21\"),\\n\\xa0\\xa0\\xa0\\xa0scfb_prop22:\\xa0_satellite.getVar(\"SC_prop22\"),\\n\\xa0\\xa0\\xa0\\xa0scfb_prop23:\\xa0_satellite.getVar(\"SC_prop23\"),\\n\\xa0\\xa0\\xa0\\xa0scfb_prop24:\\xa0_satellite.getVar(\"SC_prop24\"),\\n\\xa0\\xa0\\xa0\\xa0scfb_prop25:\\xa0_satellite.getVar(\"SC_prop25\"),\\n\\xa0\\xa0\\xa0\\xa0scfb_prop26:\\xa0_satellite.getVar(\"SC_prop26\"),\\n\\xa0\\xa0\\xa0\\xa0scfb_prop29:\\xa0_satellite.getVar(\"SC_prop29\"),\\n\\xa0\\xa0\\xa0\\xa0scfb_prop30:\\xa0_satellite.getVar(\"SC_prop30\"),\\n\\xa0\\xa0\\xa0\\xa0scfb_prop31:\\xa0_satellite.getVar(\"SC_prop31\"),\\n\\xa0\\xa0\\xa0\\xa0scfb_prop32:\\xa0_satellite.getVar(\"SC_prop32\"),\\n\\xa0\\xa0\\xa0\\xa0scfb_prop33:\\xa0_satellite.getVar(\"SC_prop33\"),\\n\\xa0\\xa0\\xa0\\xa0scfb_prop34:\\xa0_satellite.getVar(\"SC_prop34\"),\\n\\xa0\\xa0\\xa0\\xa0scfb_prop43:\\xa0_satellite.getVar(\"SC_prop43\"),\\n\\xa0\\xa0\\xa0\\xa0scfb_prop56:\\xa0_satellite.getVar(\"SC_prop56\"),\\n\\xa0\\xa0\\xa0\\xa0scfb_prop57:\\xa0_satellite.getVar(\"SC_prop57\"),\\n\\xa0\\xa0\\xa0\\xa0scfb_prop58:\\xa0_satellite.getVar(\"SC_prop58\"),\\n\\xa0\\xa0\\xa0\\xa0scfb_prop59:\\xa0_satellite.getVar(\"SC_prop59\"),\\n\\xa0\\xa0\\xa0\\xa0scfb_eVar1:\\xa0_satellite.getVar(\"SC_eVar1\"),\\n\\xa0\\xa0\\xa0\\xa0scfb_eVar41:\\xa0_satellite.getVar(\"SC_eVar41\")\\n\\xa0\\xa0\\xa0\\xa0});\\n</script>\\n<noscript>&lt;img height=\"1\" width=\"1\" style=\"display:none\"\\n  src=\"https://www.facebook.com/tr?id=473884813207552&amp;ev=PageView&amp;noscript=1\"\\n/&gt;</noscript>\\n<!-- End Facebook Pixel Code --><img src=\"https://x.bidswitch.net/sync?ssp=dgarage\" height=\"1\" width=\"1\" style=\"display:none\">\\n<!-- DTM Tag -->\\n\\n\\n<script type=\"application/ld+json\">\\n[\\n\\t{\\n\\t\\t\"@context\": \"https://schema.org\",\\n\\t\\t\"@type\": \"WebSite\",\\n\\t\\t\"name\": \"価格.com\",\\n\\t\\t\"url\": \"https://kakaku.com/\"\\n\\t},\\n\\t{\\n\\t\\t\"@context\": \"https://schema.org\",\\n\\t\\t\"@type\": \"BreadcrumbList\",\\n\\t\\t\"itemListElement\": [\\n\\t\\t{\\n\\t\\t\\t\"@type\": \"ListItem\",\\n\\t\\t\\t\"position\": 1,\\n\\t\\t\\t\"item\": {\\n\\t\\t\\t\\t\"@id\": \"https://kakaku.com/\",\\n\\t\\t\\t\\t\"name\": \"ホーム\"\\n\\t\\t\\t}\\n\\t\\t},\\n\\t\\t{\\n\\t\\t\\t\"@type\": \"ListItem\",\\n\\t\\t\\t\"position\": 2,\\n\\t\\t\\t\"item\": {\\n\\t\\t\\t\\t\"@id\": \"https://kakaku.com/kaden/\",\\n\\t\\t\\t\\t\"name\": \"家電\"\\n\\t\\t\\t}\\n\\t\\t}\\n\\t\\t]\\n\\t}\\n]\\n</script>\\n\\n\\n\\n<iframe id=\"google_osd_static_frame_9305846906524\" name=\"google_osd_static_frame\" style=\"display: none; width: 0px; height: 0px;\"></iframe><iframe src=\"https://s.amazon-adsystem.com/iu3?cm3ppd=1&amp;d=dtb-pub&amp;csif=t&amp;dl=ss_yj_p1_n-index_pm-db5_rbd_n-vmg_ox-db5\" style=\"display: none;\"></iframe><img src=\"data:image/png;base64,iVBORw0KGgoAAAANSUhEUgAAAAEAAAABCAYAAAAfFcSJAAAADUlEQVR42mP8/5+hHgAHggJ/PchI7wAAAABJRU5ErkJggg==\" width=\"1\" height=\"1\" border=\"0\" class=\"bigmining_dgads_beacon\" style=\"display: none;\"><img src=\"https://cm.g.doubleclick.net/pixel?google_nid=treasuredata_dmp&amp;google_cm&amp;td_write_key=8151/fcd628065149d648b80f11448b4083528c0d8a91&amp;td_global_id=td_global_id&amp;td_client_id=c3178a4f-3e16-4663-ac4b-8eecf9614402&amp;td_host=kakaku.com&amp;account=aws-9568\" width=\"1\" height=\"1\" style=\"display: none;\"><iframe src=\"https://gum.criteo.com/syncframe?topUrl=kakaku.com#{&quot;optout&quot;:{&quot;value&quot;:false,&quot;origin&quot;:0},&quot;uid&quot;:{&quot;origin&quot;:0},&quot;sid&quot;:{&quot;origin&quot;:0},&quot;origin&quot;:&quot;publishertag&quot;,&quot;version&quot;:103,&quot;lwid&quot;:{&quot;origin&quot;:0},&quot;tld&quot;:&quot;kakaku.com&quot;,&quot;bundle&quot;:{&quot;origin&quot;:0},&quot;topUrl&quot;:&quot;kakaku.com&quot;,&quot;cw&quot;:true,&quot;ifa&quot;:{&quot;origin&quot;:0},&quot;lsw&quot;:false}\" id=\"criteo-syncframe\" style=\"display: none;\"></iframe></body></html>'"
      ]
     },
     "execution_count": 52,
     "metadata": {},
     "output_type": "execute_result"
    }
   ],
   "source": [
    "file"
   ]
  },
  {
   "cell_type": "code",
   "execution_count": 42,
   "metadata": {
    "scrolled": true
   },
   "outputs": [],
   "source": [
    "selector = Selector(text=file)\n",
    "extracted_data = selector.css(\".text a:nth-child(2)\")"
   ]
  },
  {
   "cell_type": "code",
   "execution_count": 43,
   "metadata": {},
   "outputs": [
    {
     "data": {
      "text/plain": [
       "[]"
      ]
     },
     "execution_count": 43,
     "metadata": {},
     "output_type": "execute_result"
    }
   ],
   "source": [
    "extracted_data.extract()"
   ]
  },
  {
   "cell_type": "code",
   "execution_count": 74,
   "metadata": {},
   "outputs": [],
   "source": [
    "parser._reset()\n",
    "parser.feed(file)"
   ]
  },
  {
   "cell_type": "code",
   "execution_count": 77,
   "metadata": {},
   "outputs": [
    {
     "name": "stdout",
     "output_type": "stream",
     "text": [
      "Now finding: ('a', [('disabled', None), ('style', 'margin-right:10px;')])\n",
      "-------------------------\n",
      "Not found\n",
      "-------------------------\n"
     ]
    }
   ],
   "source": [
    "for extract_data in extracted_data:\n",
    "    tagParser.feed(extract_data.extract())\n",
    "    tag_info = tagParser.pop_first_and_reset()\n",
    "    print(f\"Now finding: {tag_info}\")\n",
    "    print(\"-------------------------\")\n",
    "    is_find = False\n",
    "    for node in parser.start_tags:\n",
    "        node_tag = node[0]\n",
    "        node_attr = node[2]\n",
    "        if node_tag == tag_info[0]:\n",
    "            if node_attr == tag_info[1]:\n",
    "#                 print(node)\n",
    "                is_find = True\n",
    "    if not is_find:\n",
    "        print(\"Not found\")\n",
    "    else:\n",
    "        print(\"found\")\n",
    "    print(\"-------------------------\")"
   ]
  },
  {
   "cell_type": "code",
   "execution_count": 48,
   "metadata": {},
   "outputs": [
    {
     "name": "stdout",
     "output_type": "stream",
     "text": [
      "('a', (288, 331), [('href', '/en/discussions'), ('class', ' Pager-p p-1 FirstPage'), ('aria-label', 'Page 1'), ('tabindex', '0')])\n",
      "('a', (1037, 276), [('href', '/en/discussions'), ('class', ' Pager-p p-1 FirstPage'), ('aria-label', 'Page 1'), ('tabindex', '0')])\n"
     ]
    }
   ],
   "source": [
    "for node in parser.start_tags:\n",
    "    node_tag = node[0]\n",
    "    node_attr = node[2]\n",
    "    if node_tag == tag_info[0]:\n",
    "        if node_attr == tag_info[1]:\n",
    "            print(node)"
   ]
  },
  {
   "cell_type": "markdown",
   "metadata": {},
   "source": [
    "## Mapping html to parser"
   ]
  },
  {
   "cell_type": "code",
   "execution_count": 39,
   "metadata": {},
   "outputs": [],
   "source": [
    "f = open(html_dir+\"80\"+\".html\", \"r\", encoding=\"UTF-8\")\n",
    "file = f.read()"
   ]
  },
  {
   "cell_type": "code",
   "execution_count": 34,
   "metadata": {},
   "outputs": [],
   "source": [
    "selector = Selector(text=file)\n",
    "x_seq = selector.xpath(\".//a|.//button\").extract()"
   ]
  },
  {
   "cell_type": "code",
   "execution_count": 35,
   "metadata": {},
   "outputs": [],
   "source": [
    "parser._reset()\n",
    "parser.feed(file)"
   ]
  },
  {
   "cell_type": "code",
   "execution_count": 39,
   "metadata": {},
   "outputs": [],
   "source": [
    "just_a_button = [data for data in parser.start_tags if data[0] == 'a' or data[0] == 'button']"
   ]
  },
  {
   "cell_type": "code",
   "execution_count": 45,
   "metadata": {},
   "outputs": [],
   "source": [
    "tag_positions = parser.get_scaled_page()"
   ]
  },
  {
   "cell_type": "code",
   "execution_count": 46,
   "metadata": {},
   "outputs": [
    {
     "data": {
      "text/plain": [
       "797"
      ]
     },
     "execution_count": 46,
     "metadata": {},
     "output_type": "execute_result"
    }
   ],
   "source": [
    "len(tag_positions)"
   ]
  },
  {
   "cell_type": "code",
   "execution_count": 47,
   "metadata": {},
   "outputs": [
    {
     "data": {
      "text/plain": [
       "797"
      ]
     },
     "execution_count": 47,
     "metadata": {},
     "output_type": "execute_result"
    }
   ],
   "source": [
    "len(x_seq)"
   ]
  },
  {
   "cell_type": "code",
   "execution_count": 44,
   "metadata": {},
   "outputs": [
    {
     "data": {
      "image/png": "[encoded data removed]",
      "text/plain": [
       "<Figure size 432x288 with 1 Axes>"
      ]
     },
     "metadata": {
      "needs_background": "light"
     },
     "output_type": "display_data"
    }
   ],
   "source": [
    "draw_scaled_page(tag_positions)"
   ]
  },
  {
   "cell_type": "code",
   "execution_count": 20,
   "metadata": {},
   "outputs": [
    {
     "data": {
      "image/png": "[encoded data removed]",
      "text/plain": [
       "<Figure size 432x288 with 1 Axes>"
      ]
     },
     "metadata": {
      "needs_background": "light"
     },
     "output_type": "display_data"
    }
   ],
   "source": [
    "draw_scaled_page(tag_positions)"
   ]
  },
  {
   "cell_type": "code",
   "execution_count": 28,
   "metadata": {},
   "outputs": [
    {
     "name": "stdout",
     "output_type": "stream",
     "text": [
      "len x_seq: 678, i: 678\n"
     ]
    }
   ],
   "source": [
    "i = 0\n",
    "while i < len(x_seq):\n",
    "    tagParser.feed(x_seq[i])\n",
    "    tag_info = tagParser.pop_first_and_reset()\n",
    "    parsed_node = just_a_button[i]\n",
    "    if not compare_tag(tag_info, parsed_node):\n",
    "        print(i, tag_info, parsed_node)\n",
    "    i+=1\n",
    "print(f\"len x_seq: {len(x_seq)}, i: {i}\")"
   ]
  },
  {
   "cell_type": "code",
   "execution_count": 29,
   "metadata": {},
   "outputs": [
    {
     "name": "stdout",
     "output_type": "stream",
     "text": [
      "('a', [('href', '/')])\n"
     ]
    }
   ],
   "source": [
    "tagParser.feed(x_seq[0])\n",
    "tag_info = tagParser.pop_first_and_reset()\n",
    "print(tag_info)"
   ]
  },
  {
   "cell_type": "code",
   "execution_count": 30,
   "metadata": {},
   "outputs": [
    {
     "name": "stdout",
     "output_type": "stream",
     "text": [
      "('a', (304, 16), [('href', '/')])\n"
     ]
    }
   ],
   "source": [
    "test_jb = just_a_button[0]\n",
    "print(test_jb)"
   ]
  },
  {
   "cell_type": "code",
   "execution_count": 31,
   "metadata": {},
   "outputs": [
    {
     "data": {
      "text/plain": [
       "True"
      ]
     },
     "execution_count": 31,
     "metadata": {},
     "output_type": "execute_result"
    }
   ],
   "source": [
    "compare_tag(tag_info, test_jb)"
   ]
  },
  {
   "cell_type": "code",
   "execution_count": 10,
   "metadata": {},
   "outputs": [],
   "source": [
    "def compare_tag(tag_info, parsed_node):\n",
    "    if tag_info[0] == parsed_node[0]:\n",
    "        if len(tag_info[1]) == len(parsed_node[2]):\n",
    "            if len(tag_info[1]) == 0:\n",
    "                return True\n",
    "            for attr_a, attr_b in zip(tag_info[1], parsed_node[2]):\n",
    "                if attr_a[0] == attr_b[0]:\n",
    "                    if attr_a[0] == 'href':\n",
    "#                         if attr_a[1] == attr_b[1].replace(\" \",\"%20\") or attr_a[1] == attr_b[1].replace(\" \",\"\"):\n",
    "                        if unquote(attr_a[1]) == unquote(attr_b[1]):\n",
    "                            return True\n",
    "                    else:\n",
    "                        return True\n",
    "    else:\n",
    "        return False"
   ]
  },
  {
   "cell_type": "code",
   "execution_count": 11,
   "metadata": {},
   "outputs": [],
   "source": [
    "def position_check(file, parser, tagParser):\n",
    "    selector = Selector(text=file)\n",
    "    x_seq = selector.xpath(\".//a|.//button\").extract()\n",
    "    parser._reset()\n",
    "    parser.feed(file)\n",
    "    just_a_button = [data for data in parser.start_tags if data[0] == 'a' or data[0] == 'button']\n",
    "    if len(x_seq) == len(just_a_button):\n",
    "        return True\n",
    "    if len(x_seq) > len(just_a_button):\n",
    "        print(f\"Size of x_seq({len(x_seq)}) smaller than just_a_button({len(just_a_button)})!\")\n",
    "        return False\n",
    "    i = 0\n",
    "    i = 0\n",
    "    while i < len(x_seq):\n",
    "        tagParser.feed(x_seq[i])\n",
    "        tag_info = tagParser.pop_first_and_reset()\n",
    "        parsed_node = just_a_button[i]\n",
    "        if not compare_tag(tag_info, parsed_node):\n",
    "            return False\n",
    "        i+=1\n",
    "    return True"
   ]
  },
  {
   "cell_type": "markdown",
   "metadata": {},
   "source": [
    "## Test Some Selector"
   ]
  },
  {
   "cell_type": "code",
   "execution_count": 25,
   "metadata": {},
   "outputs": [
    {
     "ename": "NameError",
     "evalue": "name 'selector' is not defined",
     "output_type": "error",
     "traceback": [
      "\u001b[0;31m---------------------------------------------------------------------------\u001b[0m",
      "\u001b[0;31mNameError\u001b[0m                                 Traceback (most recent call last)",
      "\u001b[0;32m<ipython-input-25-14a2a9f9c8ea>\u001b[0m in \u001b[0;36m<module>\u001b[0;34m\u001b[0m\n\u001b[1;32m      2\u001b[0m \u001b[0;31m# selector = selector.xpath(\".//button\")\u001b[0m\u001b[0;34m\u001b[0m\u001b[0;34m\u001b[0m\u001b[0;34m\u001b[0m\u001b[0m\n\u001b[1;32m      3\u001b[0m \u001b[0;31m# print(selector.extract())\u001b[0m\u001b[0;34m\u001b[0m\u001b[0;34m\u001b[0m\u001b[0;34m\u001b[0m\u001b[0m\n\u001b[0;32m----> 4\u001b[0;31m \u001b[0mextracted_data\u001b[0m \u001b[0;34m=\u001b[0m \u001b[0mselector\u001b[0m\u001b[0;34m.\u001b[0m\u001b[0mcss\u001b[0m\u001b[0;34m(\u001b[0m\u001b[0;34m\".thisclass+ li a\"\u001b[0m\u001b[0;34m)\u001b[0m\u001b[0;34m.\u001b[0m\u001b[0mextract\u001b[0m\u001b[0;34m(\u001b[0m\u001b[0;34m)\u001b[0m\u001b[0;34m\u001b[0m\u001b[0;34m\u001b[0m\u001b[0m\n\u001b[0m\u001b[1;32m      5\u001b[0m \u001b[0mprint\u001b[0m\u001b[0;34m(\u001b[0m\u001b[0mextracted_data\u001b[0m\u001b[0;34m)\u001b[0m\u001b[0;34m\u001b[0m\u001b[0;34m\u001b[0m\u001b[0m\n",
      "\u001b[0;31mNameError\u001b[0m: name 'selector' is not defined"
     ]
    }
   ],
   "source": [
    "root = Selector(file)\n",
    "# selector = selector.xpath(\".//button\")\n",
    "# print(selector.extract())\n",
    "extracted_data = selector.css(\".thisclass+ li a\").extract()\n",
    "print(extracted_data)"
   ]
  },
  {
   "cell_type": "code",
   "execution_count": 139,
   "metadata": {},
   "outputs": [
    {
     "name": "stdout",
     "output_type": "stream",
     "text": [
      "<a class=\"ct-overlay-a\" target=\"_blank\" href=\"https://cuttime.net/?utm_source=jwpepperbanner&amp;utm_medium=internal&amp;utm_campaign=your-complete-solution\"></a>\n",
      "<button class=\"close-ct\">✕</button>\n",
      "<a href=\"/sheet-music/services-cares.jsp\">Need Help? 1-800-345-6296</a>\n",
      "<a href=\"/sheet-music/events\">Events</a>\n",
      "<a href=\"/sheet-music/regional/local-connections.jsp\">Local Connections</a>\n",
      "<a href=\"/sheet-music/accounts/cart-history.jsp?link=header\" class=\"loginRequired mainmenuitem\">My Account</a>\n",
      "<a href=\"/sheet-music/accounts/cart-history.jsp?link=menu\" class=\"loginRequired subcategoryofmain\">Orders and Tracking</a>\n",
      "<a href=\"/sheet-music/carts/saved-carts.jsp\" class=\"loginRequired subcategoryofmain\">Saved Web Carts</a>\n",
      "<a href=\"/sheet-music/accounts/payment.jsp?link=header&amp;currentAccount=\" class=\"myaccount-login subcategoryofmain\">Make a Payment</a>\n",
      "<a href=\"/sheet-music/services-bookkeeper.jsp\" class=\"myaccount-links mainmenuitem\">Bookkeeper Account</a>\n",
      "<a href=\"https://jwpepper1876.freshdesk.com/support/home\" class=\"myaccount-links mainmenuitem\" target=\"_blank\">FAQs</a>\n",
      "<a href=\"https://jwpepper1876.freshdesk.com/support/solutions/folders/61000180768\" target=\"_blank\" class=\"myaccount-links subcategoryofmain\">Account Services</a>\n",
      "<a href=\"https://jwpepper1876.freshdesk.com/support/solutions/folders/61000180764\" target=\"_blank\" class=\"myaccount-links subcategoryofmain\">Downloads and ePrint</a>\n",
      "<a href=\"https://jwpepper1876.freshdesk.com/support/solutions/folders/61000180697\" target=\"_blank\" class=\"myaccount-links subcategoryofmain\">Orders</a>\n",
      "<a href=\"https://jwpepper1876.freshdesk.com/support/home\" target=\"_blank\" class=\"myaccount-links subcategoryofmain\">More FAQs</a>\n",
      "<a class=\"ct-overlay-a\" target=\"_blank\" href=\"https://cuttime.net/?utm_source=jwpepperbanner&amp;utm_medium=internal&amp;utm_campaign=your-complete-solution\"></a>\n",
      "<button class=\"close-ct\">✕</button>\n",
      "<a href=\"/sheet-music/services-cares.jsp\">Need Help? 1-800-345-6296</a>\n",
      "<a href=\"/sheet-music/events\">Events</a>\n",
      "<a href=\"/sheet-music/regional/local-connections.jsp\">Local Connections</a>\n",
      "<a class=\"noUnderline myaccount-text\" href=\"#\">My Account</a>\n",
      "<a href=\"/sheet-music/accounts/cart-history.jsp?link=header\" class=\"myaccount-login mainmenuitem\">My Account</a>\n",
      "<a href=\"/sheet-music/accounts/cart-history.jsp?link=header\" class=\"myaccount-login subcategoryofmain\">My Orders and Tracking</a>\n",
      "<a href=\"/sheet-music/carts/saved-carts.jsp\" class=\"myaccount-login subcategoryofmain\">Saved Web Carts</a>\n",
      "<a href=\"/sheet-music/accounts/payment.jsp?link=header&amp;currentAccount=\" class=\"myaccount-login subcategoryofmain\">Make a Payment</a>\n",
      "<a href=\"/sheet-music/services-bookkeeper.jsp\" class=\"myaccount-links mainmenuitem\">Bookkeeper Account</a>\n",
      "<a href=\"https://jwpepper1876.freshdesk.com/support/home\" class=\"myaccount-links mainmenuitem\" target=\"_blank\">FAQs</a>\n",
      "<a href=\"https://jwpepper1876.freshdesk.com/support/solutions/folders/61000180768\" target=\"_blank\" class=\"myaccount-links subcategoryofmain\">Account Services</a>\n",
      "<a href=\"https://jwpepper1876.freshdesk.com/support/solutions/folders/61000180764\" target=\"_blank\" class=\"myaccount-links subcategoryofmain\">Downloads and ePrint</a>\n",
      "<a href=\"https://jwpepper1876.freshdesk.com/support/solutions/folders/61000180697\" target=\"_blank\" class=\"myaccount-links subcategoryofmain\">Orders</a>\n",
      "<a href=\"https://jwpepper1876.freshdesk.com/support/home\" target=\"_blank\" class=\"myaccount-links subcategoryofmain\">More FAQs</a>\n",
      "<a class=\"main-menu-link-a-sub\" href=\"/sheet-music/school-choir-music.jsp\">School</a>\n",
      "<a class=\"main-menu-link-a-sub\" href=\"/sheet-music/community-choir-music.jsp\">Community &amp; Collegiate</a>\n",
      "<a class=\"main-menu-link-a-sub\" href=\"/sheet-music/church-music.jsp\">Church</a>\n",
      "<a class=\"main-menu-link-a-sub\" href=\"/sheet-music/vocal-music.jsp\">Vocal</a>\n",
      "<a class=\"main-menu-link-a-sub\" href=\"/sheet-music/concert-band-music.jsp\">Concert</a>\n",
      "<a class=\"main-menu-link-a-sub\" href=\"/sheet-music/marching-band-music.jsp\">Marching</a>\n",
      "<a class=\"main-menu-link-a-sub\" href=\"/sheet-music/jazz-sheet-music.jsp\">Jazz</a>\n",
      "<a class=\"main-menu-link-a-category\" href=\"/sheet-music/orchestra-music.jsp\">Orchestra</a>\n",
      "<a class=\"main-menu-link-a-sub\" href=\"/sheet-music/piano-sheet-music.jsp\">Piano</a>\n",
      "<a class=\"main-menu-link-a-sub\" href=\"/sheet-music/vocal-music.jsp\">Vocal</a>\n",
      "<a class=\"main-menu-link-a-sub\" href=\"/sheet-music/guitar-music.jsp\">Guitar &amp; Fretted</a>\n",
      "<a class=\"main-menu-link-a-sub\" href=\"/sheet-music/woodwind-music.jsp\">Woodwind</a>\n",
      "<a class=\"main-menu-link-a-sub\" href=\"/sheet-music/brass-music.jsp\">Brass</a>\n",
      "<a class=\"main-menu-link-a-sub\" href=\"/sheet-music/string-music.jsp\">String</a>\n",
      "<a class=\"main-menu-link-a-sub\" href=\"/sheet-music/percussion-music.jsp\">Percussion</a>\n",
      "<a class=\"main-menu-link-a-sub\" href=\"/sheet-music/classroom-music.jsp\">Elementary General Music</a>\n",
      "<a class=\"main-menu-link-a-sub\" href=\"/sheet-music/classroom-secondary-music.jsp\">Secondary General Music</a>\n",
      "<a class=\"main-menu-link-a-category\" href=\"/sheet-music/church-music.jsp\">Church</a>\n",
      "<a class=\"main-menu-link-a-category\" href=\"/sheet-music/handbell.jsp\">Handbell</a>\n",
      "<a class=\"main-menu-link-a-category\" href=\"/sheet-music/accessories.jsp\">Accessories</a>\n",
      "<a class=\"main-menu-link-a-category\" href=\"/sheet-music/pro-audio.jsp\">Pro Audio &amp; Software</a>\n",
      "<a class=\"main-menu-link-a-category\" href=\"/sheet-music/music-books.jsp\">Music Books</a>\n",
      "<a class=\"main-menu-link-a-category\" href=\"/sheet-music/library.jsp\">Library Editions</a>\n",
      "<a class=\"main-menu-link-a-category\" href=\"/sheet-music/myScore.jsp\">My Score Compositions</a>\n",
      "<a class=\"main-menu-link-a-category\" href=\"/sheet-music/sharemusic/\">Share Music</a>\n",
      "<a class=\"main-menu-link-a-category\" href=\"/sheet-music/teaching-music-online.jsp\">Teaching Music Online</a>\n",
      "<a class=\"main-menu-link-a-category\" href=\"/sheet-music/eprint-digital-sheet-music.jsp\">ePrint Music</a>\n",
      "<a class=\"main-menu-link-a-category\" href=\"/sheet-music/services-downloads.jsp\">Downloads / MP3s</a>\n",
      "<a class=\"main-menu-link-a-sub\" href=\"https://itunes.apple.com/us/app/eprintgo/id1226461120?mt=8\" target=\"_blank\">iOS</a>\n",
      "<a class=\"main-menu-link-a-sub\" href=\"https://play.google.com/store/apps/details?id=com.jwpepper.eprintgo\" target=\"_blank\">Android</a>\n",
      "<a class=\"main-menu-link-a-sub\" href=\"/sheet-music/eprint-digital-sheet-music.jsp#ePrintGo\">Learn More</a>\n",
      "<a class=\"main-menu-link-a-category\" href=\"/sheet-music/music-insight-technology-system.jsp\" target=\"_blank\">MINTS</a>\n",
      "<a class=\"main-menu-link-a-category\" href=\"/ec/login.jsp?link=header\" target=\"_blank\">Editors' Choice</a>\n",
      "<a class=\"main-menu-link-a-category\" href=\"/sheet-music/services-folder.jsp\">Folder Imprinting</a>\n",
      "<a class=\"main-menu-link-a-category\" href=\"/sheet-music/large-print-edition-choral-music.jsp\">Large Print Editions</a>\n",
      "<a class=\"main-menu-link-a-category\" href=\"/sheet-music/services-worship-planning.jsp\">Worship Planning</a>\n",
      "<a class=\"main-menu-link-a-category\" href=\"/sheet-music/services-state-festival.jsp\">State &amp; Festivals Lists</a>\n",
      "<a class=\"main-menu-link-a-category\" href=\"/UIL\">Texas UIL &amp; PML</a>\n",
      "<a class=\"main-menu-link-a-category\" href=\"/myscore\">My Score</a>\n",
      "<a class=\"main-menu-link-a-category\" href=\"/sheet-music/services-catalogs.jsp\">Digital Catalogs</a>\n",
      "<a class=\"main-menu-link-a-sub\" href=\"https://blogs.jwpepper.com/\" target=\"_blank\">Cued In</a>\n",
      "<a href=\"#\" onclick=\"showWhatIsMyLibrary()\" class=\"mainmenuitem \">What is my library?</a>\n",
      "<a href=\"/mylibrary-home\" class=\"library-login mainmenuitem\">Go to my library</a>\n",
      "<a href=\"/mylibrary-eprint\" class=\"library-login subcategoryofmain\">ePrint</a>\n",
      "<a href=\"/mylibrary-downloads\" class=\"library-login subcategoryofmain\">Downloads</a>\n",
      "<a href=\"/mylibrary-planner\" class=\"library-login subcategoryofmain\">Program Planner</a>\n",
      "<a href=\"/sheet-music/concert-band-music.jsp\">Concert Band</a>\n",
      "<a href=\"/sheet-music/search.jsp?pageview=list-view&amp;perPage=12&amp;perPage=12&amp;perPage=12&amp;redirect=pop-concert-band-music&amp;departmentDescriptions=Concert%20Band\">Concert Band (977)</a>\n",
      "<a href=\"/sheet-music/search.jsp?pageview=list-view&amp;perPage=12&amp;perPage=12&amp;perPage=12&amp;redirect=pop-concert-band-music&amp;departmentDescriptions=Percussion\">Percussion (12)</a>\n",
      "<a href=\"/sheet-music/search.jsp?pageview=list-view&amp;perPage=12&amp;perPage=12&amp;perPage=12&amp;redirect=pop-concert-band-music&amp;departmentDescriptions=Orchestra\">Orchestra (5)</a>\n",
      "<a href=\"/sheet-music/search.jsp?pageview=list-view&amp;perPage=12&amp;perPage=12&amp;perPage=12&amp;redirect=pop-concert-band-music&amp;departmentDescriptions=Choral\">Choral (4)</a>\n",
      "<a href=\"/sheet-music/search.jsp?pageview=list-view&amp;perPage=12&amp;perPage=12&amp;perPage=12&amp;redirect=pop-concert-band-music&amp;facetVoiceGroups=SAB/Three-Part%20Mixed\">SAB/Three-Part Mixed (4)</a>\n",
      "<a href=\"/sheet-music/search.jsp?pageview=list-view&amp;perPage=12&amp;perPage=12&amp;perPage=12&amp;redirect=pop-concert-band-music&amp;facetVoiceGroups=Unison%20or%20Two-Part\">Unison or Two-Part (4)</a>\n",
      "<a href=\"/sheet-music/search.jsp?pageview=list-view&amp;perPage=12&amp;perPage=12&amp;perPage=12&amp;redirect=pop-concert-band-music&amp;facetVoiceGroups=SATB\">SATB (3)</a>\n",
      "<a href=\"/sheet-music/search.jsp?pageview=list-view&amp;perPage=12&amp;perPage=12&amp;perPage=12&amp;redirect=pop-concert-band-music&amp;facetVoiceGroups=Tenor-Bass%20Choir\">Tenor-Bass Choir (1)</a>\n",
      "<a href=\"/sheet-music/search.jsp?pageview=list-view&amp;perPage=12&amp;perPage=12&amp;perPage=12&amp;redirect=pop-concert-band-music&amp;facetGrades=Medium%20Easy\">Medium Easy (343)</a>\n",
      "<a href=\"/sheet-music/search.jsp?pageview=list-view&amp;perPage=12&amp;perPage=12&amp;perPage=12&amp;redirect=pop-concert-band-music&amp;facetGrades=Easy\">Easy (320)</a>\n",
      "<a href=\"/sheet-music/search.jsp?pageview=list-view&amp;perPage=12&amp;perPage=12&amp;perPage=12&amp;redirect=pop-concert-band-music&amp;facetGrades=Medium\">Medium (178)</a>\n",
      "<a href=\"/sheet-music/search.jsp?pageview=list-view&amp;perPage=12&amp;perPage=12&amp;perPage=12&amp;redirect=pop-concert-band-music&amp;facetGrades=Very%20Easy\">Very Easy (133)</a>\n",
      "<a href=\"/sheet-music/search.jsp?pageview=list-view&amp;perPage=12&amp;perPage=12&amp;perPage=12&amp;redirect=pop-concert-band-music&amp;facetGrades=Medium-Advanced\">Medium-Advanced (20)</a>\n",
      "<a id=\"facetGradesmore\" href=\"\" class=\"more facet-hide hidefacetGrades\" alt=\"facetGrades\">(3) more...</a>\n",
      "<a href=\"/sheet-music/search.jsp?pageview=list-view&amp;perPage=12&amp;perPage=12&amp;perPage=12&amp;redirect=pop-concert-band-music&amp;facetGrades=Beginning\">Beginning (11)</a>\n",
      "<a href=\"/sheet-music/search.jsp?pageview=list-view&amp;perPage=12&amp;perPage=12&amp;perPage=12&amp;redirect=pop-concert-band-music&amp;facetGrades=Advanced\">Advanced (4)</a>\n",
      "<a href=\"/sheet-music/search.jsp?pageview=list-view&amp;perPage=12&amp;perPage=12&amp;perPage=12&amp;redirect=pop-concert-band-music&amp;facetGrades=Collegiate%20Repertoire\">Collegiate Repertoire (4)</a>\n",
      "<a id=\"facetGradesless\" href=\"#\" class=\"less\" alt=\"facetGrades\">...less</a>\n",
      "<a href=\"/sheet-music/search.jsp?pageview=list-view&amp;perPage=12&amp;perPage=12&amp;perPage=12&amp;redirect=pop-concert-band-music&amp;facetInstrumentGroups=Multiple%20Percussion\">Multiple Percussion (12)</a>\n",
      "<a href=\"/sheet-music/search.jsp?pageview=list-view&amp;perPage=12&amp;perPage=12&amp;perPage=12&amp;redirect=pop-concert-band-music&amp;facetInstrumentGroups=Mallet%20Percussion\">Mallet Percussion (1)</a>\n",
      "<a href=\"/sheet-music/search.jsp?pageview=list-view&amp;perPage=12&amp;perPage=12&amp;perPage=12&amp;redirect=pop-concert-band-music&amp;facetFormatGroups=Larger%20Ensembles\">Larger Ensembles (10)</a>\n",
      "<a href=\"/sheet-music/search.jsp?pageview=list-view&amp;perPage=12&amp;perPage=12&amp;perPage=12&amp;redirect=pop-concert-band-music&amp;facetFormatGroups=Quartet\">Quartet (2)</a>\n",
      "<a href=\"/sheet-music/search.jsp?pageview=list-view&amp;perPage=12&amp;perPage=12&amp;perPage=12&amp;redirect=pop-concert-band-music&amp;facetFormatGroups=Sextet\">Sextet (1)</a>\n",
      "<a href=\"/sheet-music/search.jsp?pageview=list-view&amp;perPage=12&amp;perPage=12&amp;perPage=12&amp;redirect=pop-concert-band-music&amp;facetFormatGroups=Solo\">Solo (1)</a>\n",
      "<a href=\"/sheet-music/search.jsp?pageview=list-view&amp;perPage=12&amp;perPage=12&amp;perPage=12&amp;redirect=pop-concert-band-music&amp;facetAccompaniments=CD\">CD (4)</a>\n",
      "<a href=\"/sheet-music/search.jsp?pageview=list-view&amp;perPage=12&amp;perPage=12&amp;perPage=12&amp;redirect=pop-concert-band-music&amp;facetAccompaniments=P/A%20CD\">P/A CD (4)</a>\n",
      "<a href=\"/sheet-music/search.jsp?pageview=list-view&amp;perPage=12&amp;perPage=12&amp;perPage=12&amp;redirect=pop-concert-band-music&amp;facetAccompaniments=Instrumental%20Parts\">Instrumental Parts (2)</a>\n",
      "<a href=\"/sheet-music/search.jsp?pageview=list-view&amp;perPage=12&amp;perPage=12&amp;perPage=12&amp;redirect=pop-concert-band-music&amp;facetCategories=Popular%20Music\">Popular Music (977)</a>\n",
      "<a href=\"/sheet-music/search.jsp?pageview=list-view&amp;perPage=12&amp;perPage=12&amp;perPage=12&amp;redirect=pop-concert-band-music&amp;facetCategories=Flexible%20Instrumentation\">Flexible Instrumentation (82)</a>\n",
      "<a href=\"/sheet-music/search.jsp?pageview=list-view&amp;perPage=12&amp;perPage=12&amp;perPage=12&amp;redirect=pop-concert-band-music&amp;facetCategories=Broadway\">Broadway (74)</a>\n",
      "<a href=\"/sheet-music/search.jsp?pageview=list-view&amp;perPage=12&amp;perPage=12&amp;perPage=12&amp;redirect=pop-concert-band-music&amp;facetCategories=Other\">Other (54)</a>\n",
      "<a href=\"/sheet-music/search.jsp?pageview=list-view&amp;perPage=12&amp;perPage=12&amp;perPage=12&amp;redirect=pop-concert-band-music&amp;facetCategories=Halloween\">Halloween (33)</a>\n",
      "<a id=\"facetCategoriesmore\" href=\"\" class=\"more facet-hide hidefacetCategories\" alt=\"facetCategories\">(22) more...</a>\n",
      "<a href=\"/sheet-music/search.jsp?pageview=list-view&amp;perPage=12&amp;perPage=12&amp;perPage=12&amp;redirect=pop-concert-band-music&amp;facetCategories=Band%20Solo%20_AND_%20Section%20Features\">Band Solo &amp; Section Features (29)</a>\n",
      "<a href=\"/sheet-music/search.jsp?pageview=list-view&amp;perPage=12&amp;perPage=12&amp;perPage=12&amp;redirect=pop-concert-band-music&amp;facetCategories=Lighter%20Selections\">Lighter Selections (22)</a>\n",
      "<a href=\"/sheet-music/search.jsp?pageview=list-view&amp;perPage=12&amp;perPage=12&amp;perPage=12&amp;redirect=pop-concert-band-music&amp;facetCategories=Concert,%20Contest%20_AND_%20Classical\">Concert, Contest &amp; Classical (21)</a>\n",
      "<a href=\"/sheet-music/search.jsp?pageview=list-view&amp;perPage=12&amp;perPage=12&amp;perPage=12&amp;redirect=pop-concert-band-music&amp;facetCategories=Video%20Game%20Music\">Video Game Music (21)</a>\n",
      "<a href=\"/sheet-music/search.jsp?pageview=list-view&amp;perPage=12&amp;perPage=12&amp;perPage=12&amp;redirect=pop-concert-band-music&amp;facetCategories=Christmas%20_AND_%20Holiday\">Christmas &amp; Holiday (12)</a>\n",
      "<a href=\"/sheet-music/search.jsp?pageview=list-view&amp;perPage=12&amp;perPage=12&amp;perPage=12&amp;redirect=pop-concert-band-music&amp;facetCategories=Concert%20Marches\">Concert Marches (10)</a>\n",
      "<a href=\"/sheet-music/search.jsp?pageview=list-view&amp;perPage=12&amp;perPage=12&amp;perPage=12&amp;redirect=pop-concert-band-music&amp;facetCategories=For%20Smaller%20Bands\">For Smaller Bands (10)</a>\n",
      "<a href=\"/sheet-music/search.jsp?pageview=list-view&amp;perPage=12&amp;perPage=12&amp;perPage=12&amp;redirect=pop-concert-band-music&amp;facetCategories=Olympics\">Olympics (8)</a>\n",
      "<a href=\"/sheet-music/search.jsp?pageview=list-view&amp;perPage=12&amp;perPage=12&amp;perPage=12&amp;redirect=pop-concert-band-music&amp;facetCategories=Choir%20with%20Band/Orchestra\">Choir with Band/Orchestra (7)</a>\n",
      "<a href=\"/sheet-music/search.jsp?pageview=list-view&amp;perPage=12&amp;perPage=12&amp;perPage=12&amp;redirect=pop-concert-band-music&amp;facetCategories=Classic%20Reprints\">Classic Reprints (6)</a>\n",
      "<a href=\"/sheet-music/search.jsp?pageview=list-view&amp;perPage=12&amp;perPage=12&amp;perPage=12&amp;redirect=pop-concert-band-music&amp;facetCategories=Latin\">Latin (4)</a>\n",
      "<a href=\"/sheet-music/search.jsp?pageview=list-view&amp;perPage=12&amp;perPage=12&amp;perPage=12&amp;redirect=pop-concert-band-music&amp;facetCategories=Patriotic\">Patriotic (4)</a>\n",
      "<a href=\"/sheet-music/search.jsp?pageview=list-view&amp;perPage=12&amp;perPage=12&amp;perPage=12&amp;redirect=pop-concert-band-music&amp;facetCategories=Budget%20Stretchers\">Budget Stretchers (3)</a>\n",
      "<a href=\"/sheet-music/search.jsp?pageview=list-view&amp;perPage=12&amp;perPage=12&amp;perPage=12&amp;redirect=pop-concert-band-music&amp;facetCategories=Community%20Choir%20Adult\">Community Choir Adult (3)</a>\n",
      "<a href=\"/sheet-music/search.jsp?pageview=list-view&amp;perPage=12&amp;perPage=12&amp;perPage=12&amp;redirect=pop-concert-band-music&amp;facetCategories=Multicultural\">Multicultural (3)</a>\n",
      "<a href=\"/sheet-music/search.jsp?pageview=list-view&amp;perPage=12&amp;perPage=12&amp;perPage=12&amp;redirect=pop-concert-band-music&amp;facetCategories=Concert%20Openers\">Concert Openers (2)</a>\n",
      "<a href=\"/sheet-music/search.jsp?pageview=list-view&amp;perPage=12&amp;perPage=12&amp;perPage=12&amp;redirect=pop-concert-band-music&amp;facetCategories=Show%20Choir\">Show Choir (2)</a>\n",
      "<a href=\"/sheet-music/search.jsp?pageview=list-view&amp;perPage=12&amp;perPage=12&amp;perPage=12&amp;redirect=pop-concert-band-music&amp;facetCategories=Elementary%20Choir\">Elementary Choir (1)</a>\n",
      "<a href=\"/sheet-music/search.jsp?pageview=list-view&amp;perPage=12&amp;perPage=12&amp;perPage=12&amp;redirect=pop-concert-band-music&amp;facetCategories=Folk%20Music\">Folk Music (1)</a>\n",
      "<a href=\"/sheet-music/search.jsp?pageview=list-view&amp;perPage=12&amp;perPage=12&amp;perPage=12&amp;redirect=pop-concert-band-music&amp;facetCategories=Middle%20School%20Chorus\">Middle School Chorus (1)</a>\n",
      "<a href=\"/sheet-music/search.jsp?pageview=list-view&amp;perPage=12&amp;perPage=12&amp;perPage=12&amp;redirect=pop-concert-band-music&amp;facetCategories=Sacred\">Sacred (1)</a>\n",
      "<a href=\"/sheet-music/search.jsp?pageview=list-view&amp;perPage=12&amp;perPage=12&amp;perPage=12&amp;redirect=pop-concert-band-music&amp;facetCategories=Standards\">Standards (1)</a>\n",
      "<a id=\"facetCategoriesless\" href=\"#\" class=\"less\" alt=\"facetCategories\">...less</a>\n",
      "<a href=\"/sheet-music/search.jsp?pageview=list-view&amp;perPage=12&amp;perPage=12&amp;perPage=12&amp;redirect=pop-concert-band-music&amp;facetSubCategories=Movie%20_AND_%20TV%20Music\">Movie &amp; TV Music (340)</a>\n",
      "<a href=\"/sheet-music/search.jsp?pageview=list-view&amp;perPage=12&amp;perPage=12&amp;perPage=12&amp;redirect=pop-concert-band-music&amp;facetSubCategories=Rock\">Rock (20)</a>\n",
      "<a href=\"/sheet-music/search.jsp?pageview=list-view&amp;perPage=12&amp;perPage=12&amp;perPage=12&amp;redirect=pop-concert-band-music&amp;facetSubCategories=Saxophone\">Saxophone (15)</a>\n",
      "<a href=\"/sheet-music/search.jsp?pageview=list-view&amp;perPage=12&amp;perPage=12&amp;perPage=12&amp;redirect=pop-concert-band-music&amp;facetSubCategories=Misc%20Solo%20or%20Ensemble\">Misc Solo or Ensemble (11)</a>\n",
      "<a href=\"/sheet-music/search.jsp?pageview=list-view&amp;perPage=12&amp;perPage=12&amp;perPage=12&amp;redirect=pop-concert-band-music&amp;facetSubCategories=Clarinet\">Clarinet (10)</a>\n",
      "<a id=\"facetSubCategoriesmore\" href=\"\" class=\"more facet-hide hidefacetSubCategories\" alt=\"facetSubCategories\">(9) more...</a>\n",
      "<a href=\"/sheet-music/search.jsp?pageview=list-view&amp;perPage=12&amp;perPage=12&amp;perPage=12&amp;redirect=pop-concert-band-music&amp;facetSubCategories=Trumpet\">Trumpet (8)</a>\n",
      "<a href=\"/sheet-music/search.jsp?pageview=list-view&amp;perPage=12&amp;perPage=12&amp;perPage=12&amp;redirect=pop-concert-band-music&amp;facetSubCategories=Flute\">Flute (6)</a>\n",
      "<a href=\"/sheet-music/search.jsp?pageview=list-view&amp;perPage=12&amp;perPage=12&amp;perPage=12&amp;redirect=pop-concert-band-music&amp;facetSubCategories=Percussion\">Percussion (4)</a>\n",
      "<a href=\"/sheet-music/search.jsp?pageview=list-view&amp;perPage=12&amp;perPage=12&amp;perPage=12&amp;redirect=pop-concert-band-music&amp;facetSubCategories=Oboe\">Oboe (3)</a>\n",
      "<a href=\"/sheet-music/search.jsp?pageview=list-view&amp;perPage=12&amp;perPage=12&amp;perPage=12&amp;redirect=pop-concert-band-music&amp;facetSubCategories=Horn\">Horn (2)</a>\n",
      "<a href=\"/sheet-music/search.jsp?pageview=list-view&amp;perPage=12&amp;perPage=12&amp;perPage=12&amp;redirect=pop-concert-band-music&amp;facetSubCategories=Mallets\">Mallets (2)</a>\n",
      "<a href=\"/sheet-music/search.jsp?pageview=list-view&amp;perPage=12&amp;perPage=12&amp;perPage=12&amp;redirect=pop-concert-band-music&amp;facetSubCategories=Trombone\">Trombone (2)</a>\n",
      "<a href=\"/sheet-music/search.jsp?pageview=list-view&amp;perPage=12&amp;perPage=12&amp;perPage=12&amp;redirect=pop-concert-band-music&amp;facetSubCategories=Drum%20Set\">Drum Set (1)</a>\n",
      "<a href=\"/sheet-music/search.jsp?pageview=list-view&amp;perPage=12&amp;perPage=12&amp;perPage=12&amp;redirect=pop-concert-band-music&amp;facetSubCategories=Woodwind%20Ensemble%20with%20Band\">Woodwind Ensemble with Band (1)</a>\n",
      "<a id=\"facetSubCategoriesless\" href=\"#\" class=\"less\" alt=\"facetSubCategories\">...less</a>\n",
      "<a href=\"/sheet-music/search.jsp?pageview=list-view&amp;perPage=12&amp;perPage=12&amp;perPage=12&amp;redirect=pop-concert-band-music&amp;facetStyleGroups=Community%20Choir%20Adult\">Community Choir Adult (3)</a>\n",
      "<a href=\"/sheet-music/search.jsp?pageview=list-view&amp;perPage=12&amp;perPage=12&amp;perPage=12&amp;redirect=pop-concert-band-music&amp;facetStyleGroups=Funeral%20and%20Memorials\">Funeral and Memorials (1)</a>\n",
      "<a href=\"/sheet-music/search.jsp?pageview=list-view&amp;perPage=12&amp;perPage=12&amp;perPage=12&amp;redirect=pop-concert-band-music&amp;facetStyleGroups=Middle%20School%20Music\">Middle School Music (1)</a>\n",
      "<a href=\"/sheet-music/search.jsp?pageview=list-view&amp;perPage=12&amp;perPage=12&amp;perPage=12&amp;redirect=pop-concert-band-music&amp;facetGenres=Pop\">Pop (960)</a>\n",
      "<a href=\"/sheet-music/search.jsp?pageview=list-view&amp;perPage=12&amp;perPage=12&amp;perPage=12&amp;redirect=pop-concert-band-music&amp;brandNames=Hal%20Leonard%20Corporation\">Hal Leonard Corporation (651)</a>\n",
      "<a href=\"/sheet-music/search.jsp?pageview=list-view&amp;perPage=12&amp;perPage=12&amp;perPage=12&amp;redirect=pop-concert-band-music&amp;brandNames=Alfred%20Publishing%20Belwin%20Division\">Alfred Publishing Belwin Division (218)</a>\n",
      "<a href=\"/sheet-music/search.jsp?pageview=list-view&amp;perPage=12&amp;perPage=12&amp;perPage=12&amp;redirect=pop-concert-band-music&amp;brandNames=Alfred%20Music%20Publishing\">Alfred Music Publishing (160)</a>\n",
      "<a href=\"/sheet-music/search.jsp?pageview=list-view&amp;perPage=12&amp;perPage=12&amp;perPage=12&amp;redirect=pop-concert-band-music&amp;brandNames=Alfred%20Publishing%20Co.,%20Inc.\">Alfred Publishing Co., Inc. (61)</a>\n",
      "<a href=\"/sheet-music/search.jsp?pageview=list-view&amp;perPage=12&amp;perPage=12&amp;perPage=12&amp;redirect=pop-concert-band-music&amp;brandNames=Carl%20Fischer%20LLC\">Carl Fischer LLC (7)</a>\n",
      "<a id=\"brandNamesmore\" href=\"\" class=\"more facet-hide hidebrandNames\" alt=\"brandNames\">(17) more...</a>\n",
      "<a href=\"/sheet-music/search.jsp?pageview=list-view&amp;perPage=12&amp;perPage=12&amp;perPage=12&amp;redirect=pop-concert-band-music&amp;brandNames=Boosey%20_AND_%20Hawkes,%20Inc\">Boosey &amp; Hawkes, Inc (6)</a>\n",
      "<a href=\"/sheet-music/search.jsp?pageview=list-view&amp;perPage=12&amp;perPage=12&amp;perPage=12&amp;redirect=pop-concert-band-music&amp;brandNames=C%20L%20Barnhouse%20Company\">C L Barnhouse Company (6)</a>\n",
      "<a href=\"/sheet-music/search.jsp?pageview=list-view&amp;perPage=12&amp;perPage=12&amp;perPage=12&amp;redirect=pop-concert-band-music&amp;brandNames=Southern%20Music%20Company\">Southern Music Company (5)</a>\n",
      "<a href=\"/sheet-music/search.jsp?pageview=list-view&amp;perPage=12&amp;perPage=12&amp;perPage=12&amp;redirect=pop-concert-band-music&amp;brandNames=Print%20Music%20Source\">Print Music Source (3)</a>\n",
      "<a href=\"/sheet-music/search.jsp?pageview=list-view&amp;perPage=12&amp;perPage=12&amp;perPage=12&amp;redirect=pop-concert-band-music&amp;brandNames=Magnolia%20Music%20Publications,%20LLC\">Magnolia Music Publications, LLC (2)</a>\n",
      "<a href=\"/sheet-music/search.jsp?pageview=list-view&amp;perPage=12&amp;perPage=12&amp;perPage=12&amp;redirect=pop-concert-band-music&amp;brandNames=RWS%20Music%20Company\">RWS Music Company (2)</a>\n",
      "<a href=\"/sheet-music/search.jsp?pageview=list-view&amp;perPage=12&amp;perPage=12&amp;perPage=12&amp;redirect=pop-concert-band-music&amp;brandNames=Wingert-Jones%20Publications\">Wingert-Jones Publications (2)</a>\n",
      "<a href=\"/sheet-music/search.jsp?pageview=list-view&amp;perPage=12&amp;perPage=12&amp;perPage=12&amp;redirect=pop-concert-band-music&amp;brandNames=Anglo%20Music\">Anglo Music (1)</a>\n",
      "<a href=\"/sheet-music/search.jsp?pageview=list-view&amp;perPage=12&amp;perPage=12&amp;perPage=12&amp;redirect=pop-concert-band-music&amp;brandNames=Arrangers%20Publishing%20Company\">Arrangers Publishing Company (1)</a>\n",
      "<a href=\"/sheet-music/search.jsp?pageview=list-view&amp;perPage=12&amp;perPage=12&amp;perPage=12&amp;redirect=pop-concert-band-music&amp;brandNames=Beriato%20Music\">Beriato Music (1)</a>\n",
      "<a href=\"/sheet-music/search.jsp?pageview=list-view&amp;perPage=12&amp;perPage=12&amp;perPage=12&amp;redirect=pop-concert-band-music&amp;brandNames=Chappell%20Music%20Company\">Chappell Music Company (1)</a>\n",
      "<a href=\"/sheet-music/search.jsp?pageview=list-view&amp;perPage=12&amp;perPage=12&amp;perPage=12&amp;redirect=pop-concert-band-music&amp;brandNames=Daehn%20Publications\">Daehn Publications (1)</a>\n",
      "<a href=\"/sheet-music/search.jsp?pageview=list-view&amp;perPage=12&amp;perPage=12&amp;perPage=12&amp;redirect=pop-concert-band-music&amp;brandNames=Dehaske\">Dehaske (1)</a>\n",
      "<a href=\"/sheet-music/search.jsp?pageview=list-view&amp;perPage=12&amp;perPage=12&amp;perPage=12&amp;redirect=pop-concert-band-music&amp;brandNames=FJH%20Music%20Company%20Inc\">FJH Music Company Inc (1)</a>\n",
      "<a href=\"/sheet-music/search.jsp?pageview=list-view&amp;perPage=12&amp;perPage=12&amp;perPage=12&amp;redirect=pop-concert-band-music&amp;brandNames=G.%20Schirmer,%20Inc.\">G. Schirmer, Inc. (1)</a>\n",
      "<a href=\"/sheet-music/search.jsp?pageview=list-view&amp;perPage=12&amp;perPage=12&amp;perPage=12&amp;redirect=pop-concert-band-music&amp;brandNames=Shawnee%20Press\">Shawnee Press (1)</a>\n",
      "<a href=\"/sheet-music/search.jsp?pageview=list-view&amp;perPage=12&amp;perPage=12&amp;perPage=12&amp;redirect=pop-concert-band-music&amp;brandNames=Willow%20Blossom%20Music\">Willow Blossom Music (1)</a>\n",
      "<a id=\"brandNamesless\" href=\"#\" class=\"less\" alt=\"brandNames\">...less</a>\n",
      "<a class=\"pagin-progress-arrow\" href=\"/sheet-music/search.jsp?pageview=list-view&amp;perPage=12&amp;perPage=12&amp;perPage=12&amp;redirect=pop-concert-band-music&amp;startIndex=12&amp;perPage=12\">‹</a>\n",
      "<a href=\"/sheet-music/search.jsp?pageview=list-view&amp;perPage=12&amp;perPage=12&amp;perPage=12&amp;redirect=pop-concert-band-music&amp;startIndex=0&amp;perPage=12\">1</a>\n",
      "<a href=\"/sheet-music/search.jsp?pageview=list-view&amp;perPage=12&amp;perPage=12&amp;perPage=12&amp;redirect=pop-concert-band-music&amp;startIndex=12&amp;perPage=12\">2 </a>\n",
      "<a href=\"/sheet-music/search.jsp?pageview=list-view&amp;perPage=12&amp;perPage=12&amp;perPage=12&amp;redirect=pop-concert-band-music&amp;startIndex=36&amp;perPage=12\"> 4</a>\n",
      "<a href=\"/sheet-music/search.jsp?pageview=list-view&amp;perPage=12&amp;perPage=12&amp;perPage=12&amp;redirect=pop-concert-band-music&amp;startIndex=972&amp;perPage=12\">82</a>\n",
      "<a class=\"pagin-progress-arrow\" href=\"/sheet-music/search.jsp?pageview=list-view&amp;perPage=12&amp;perPage=12&amp;perPage=12&amp;redirect=pop-concert-band-music&amp;startIndex=36&amp;perPage=12\">›</a>\n",
      "<a href=\"/Raiders-March/10053498.item\" class=\"titlelink\">Raiders March</a>\n",
      "<a href=\"/Raiders-March/10053498.item\">John Williams/arr. Jack Bullock</a>\n",
      "<a href=\"/Raiders-March/10053498.item\">Alfred Publishing Belwin Division</a>\n",
      "<a href=\"/Raiders-March/10053498.item\" class=\"view-details hide-650\">view details</a>\n",
      "<a href=\"/Raiders-March/10053498.item\" class=\"view-details show-650\">view details</a>\n",
      "<a href=\"/Raiders-March/10053498.item\">10053498</a>\n",
      "<a class=\"gaDetail10053498\" href=\"/sheet-music/score-preview.jsp?pepnum=10053498E\">10053498E</a>\n",
      "<a href=\"/Bohemian-Rhapsody/10061637.item\" class=\"titlelink\">Bohemian Rhapsody</a>\n",
      "<a href=\"/Bohemian-Rhapsody/10061637.item\">arr. Paul Murtha </a>\n",
      "<a href=\"/Bohemian-Rhapsody/10061637.item\">Hal Leonard Corporation</a>\n",
      "<a href=\"/Bohemian-Rhapsody/10061637.item\" class=\"view-details hide-650\">view details</a>\n",
      "<a href=\"/Bohemian-Rhapsody/10061637.item\" class=\"view-details show-650\">view details</a>\n",
      "<a href=\"/Bohemian-Rhapsody/10061637.item\">10061637</a>\n",
      "<a class=\"gaDetail10061637\" href=\"/sheet-music/score-preview.jsp?pepnum=10061637E\">10061637E</a>\n",
      "<a href=\"/Bohemian-Rhapsody/10067483.item\">10067483</a>\n",
      "<a href=\"/The-Polar-Express/2479942.item\" class=\"titlelink\">The Polar Express</a>\n",
      "<a href=\"/The-Polar-Express/2479942.item\">arr. Mike Story</a>\n",
      "<a href=\"/The-Polar-Express/2479942.item\">Alfred Publishing Co., Inc.</a>\n",
      "<a href=\"/The-Polar-Express/2479942.item\" class=\"view-details hide-650\">view details</a>\n",
      "<a href=\"/The-Polar-Express/2479942.item\" class=\"view-details show-650\">view details</a>\n",
      "<a href=\"/The-Polar-Express/2479942.item\">2479942</a>\n",
      "<a class=\"gaDetail2479942\" href=\"/sheet-music/score-preview.jsp?pepnum=2479942E\">2479942E</a>\n",
      "<a href=\"/The-Polar-Express/2479943.item\">2479943</a>\n",
      "<a href=\"/Mission%3A-Impossible-Theme/10016749.item\" class=\"titlelink\">Mission: Impossible Theme</a>\n",
      "<a href=\"/Mission%3A-Impossible-Theme/10016749.item\">arr. Paul Lavender</a>\n",
      "<a href=\"/Mission%3A-Impossible-Theme/10016749.item\">Hal Leonard Corporation</a>\n",
      "<a href=\"/Mission%3A-Impossible-Theme/10016749.item\" class=\"view-details hide-650\">view details</a>\n",
      "<a href=\"/Mission%3A-Impossible-Theme/10016749.item\" class=\"view-details show-650\">view details</a>\n",
      "<a href=\"/Mission%3A-Impossible-Theme/10016749.item\">10016749</a>\n",
      "<a class=\"gaDetail10016749\" href=\"/sheet-music/score-preview.jsp?pepnum=10016749E\">10016749E</a>\n",
      "<a href=\"/Mission%3A-Impossible-Theme/10031688.item\">10031688</a>\n",
      "<a href=\"/Harry-Potter/2471336.item\" class=\"titlelink\">Harry Potter</a>\n",
      "<a href=\"/Harry-Potter/2471336.item\">John Williams/arr. Cook</a>\n",
      "<a href=\"/Harry-Potter/2471336.item\">Alfred Publishing Co., Inc.</a>\n",
      "<a href=\"/Harry-Potter/2471336.item\" class=\"view-details hide-650\">view details</a>\n",
      "<a href=\"/Harry-Potter/2471336.item\" class=\"view-details show-650\">view details</a>\n",
      "<a href=\"/Harry-Potter/2471336.item\">2471336</a>\n",
      "<a class=\"gaDetail2471336\" href=\"/sheet-music/score-preview.jsp?pepnum=2471336E\">2471336E</a>\n",
      "<a href=\"/Harry-Potter/2471577.item\">2471577</a>\n",
      "<a href=\"/The-Magic-of-Harry-Potter/10348618.item\" class=\"titlelink\">The Magic of Harry Potter</a>\n",
      "<a href=\"/The-Magic-of-Harry-Potter/10348618.item\">arr. Michael Story</a>\n",
      "<a href=\"/The-Magic-of-Harry-Potter/10348618.item\">Alfred Publishing Belwin Division</a>\n",
      "<a href=\"/The-Magic-of-Harry-Potter/10348618.item\" class=\"view-details hide-650\">view details</a>\n",
      "<a href=\"/The-Magic-of-Harry-Potter/10348618.item\" class=\"view-details show-650\">view details</a>\n",
      "<a href=\"/The-Magic-of-Harry-Potter/10348618.item\">10348618</a>\n",
      "<a class=\"gaDetail10348618\" href=\"/sheet-music/score-preview.jsp?pepnum=10348618E\">10348618E</a>\n",
      "<a href=\"/The-Magic-of-Harry-Potter/10348619.item\">10348619</a>\n",
      "<a href=\"/Old-Town-Road/11172281.item\" class=\"titlelink\">Old Town Road</a>\n",
      "<a href=\"/Old-Town-Road/11172281.item\">arr. Johnnie Vinson</a>\n",
      "<a href=\"/Old-Town-Road/11172281.item\">Hal Leonard Corporation</a>\n",
      "<a href=\"/Old-Town-Road/11172281.item\" class=\"view-details hide-650\">view details</a>\n",
      "<a href=\"/Old-Town-Road/11172281.item\" class=\"view-details show-650\">view details</a>\n",
      "<a href=\"/Old-Town-Road/11172281.item\">11172281</a>\n",
      "<a class=\"gaDetail11172281\" href=\"/sheet-music/score-preview.jsp?pepnum=11172281E\">11172281E</a>\n",
      "<a href=\"/Old-Town-Road/11172282.item\">11172282</a>\n",
      "<a href=\"/Music-from-Aladdin/11105342.item\" class=\"titlelink\">Music from Aladdin</a>\n",
      "<a href=\"/Music-from-Aladdin/11105342.item\">Johnnie Vinson</a>\n",
      "<a href=\"/Music-from-Aladdin/11105342.item\">Hal Leonard Corporation</a>\n",
      "<a href=\"/Music-from-Aladdin/11105342.item\" class=\"view-details hide-650\">view details</a>\n",
      "<a href=\"/Music-from-Aladdin/11105342.item\" class=\"view-details show-650\">view details</a>\n",
      "<a href=\"/Music-from-Aladdin/11105342.item\">11105342</a>\n",
      "<a class=\"gaDetail11105342\" href=\"/sheet-music/score-preview.jsp?pepnum=11105342E\">11105342E</a>\n",
      "<a href=\"/Music-from-Aladdin/11105343.item\">11105343</a>\n",
      "<a href=\"/Feel-It-Still/10844288.item\" class=\"titlelink\">Feel It Still</a>\n",
      "<a href=\"/Feel-It-Still/10844288.item\">arr. Michael Kamuf</a>\n",
      "<a href=\"/Feel-It-Still/10844288.item\">Alfred Publishing Belwin Division</a>\n",
      "<a href=\"/Feel-It-Still/10844288.item\" class=\"view-details hide-650\">view details</a>\n",
      "<a href=\"/Feel-It-Still/10844288.item\" class=\"view-details show-650\">view details</a>\n",
      "<a href=\"/Feel-It-Still/10844288.item\">10844288</a>\n",
      "<a class=\"gaDetail10844288\" href=\"/sheet-music/score-preview.jsp?pepnum=10844288E\">10844288E</a>\n",
      "<a href=\"/The-Incredibles/10034377.item\" class=\"titlelink\">The Incredibles</a>\n",
      "<a href=\"/The-Incredibles/10034377.item\">arr. Paul Murtha</a>\n",
      "<a href=\"/The-Incredibles/10034377.item\">Hal Leonard Corporation</a>\n",
      "<a href=\"/The-Incredibles/10034377.item\" class=\"view-details hide-650\">view details</a>\n",
      "<a href=\"/The-Incredibles/10034377.item\" class=\"view-details show-650\">view details</a>\n",
      "<a href=\"/The-Incredibles/10034377.item\">10034377</a>\n",
      "<a class=\"gaDetail10034377\" href=\"/sheet-music/score-preview.jsp?pepnum=10034377E\">10034377E</a>\n",
      "<a href=\"/The-Incredibles/10043972.item\">10043972</a>\n",
      "<a href=\"/Star-Wars%3A-The-Force-Awakens/10567881.item\" class=\"titlelink\">Star Wars: The Force Awakens</a>\n",
      "<a href=\"/Star-Wars%3A-The-Force-Awakens/10567881.item\">John Williams/arr. Robert Longfield</a>\n",
      "<a href=\"/Star-Wars%3A-The-Force-Awakens/10567881.item\">Hal Leonard Corporation</a>\n",
      "<a href=\"/Star-Wars%3A-The-Force-Awakens/10567881.item\" class=\"view-details hide-650\">view details</a>\n",
      "<a href=\"/Star-Wars%3A-The-Force-Awakens/10567881.item\" class=\"view-details show-650\">view details</a>\n",
      "<a href=\"/Star-Wars%3A-The-Force-Awakens/10567881.item\">10567881</a>\n",
      "<a class=\"gaDetail10567881\" href=\"/sheet-music/score-preview.jsp?pepnum=10567881E\">10567881E</a>\n",
      "<a href=\"/Star-Wars%3A-The-Force-Awakens/10590175.item\">10590175</a>\n",
      "<a href=\"/Mah-na%2C-Mah-na/10839656.item\" class=\"titlelink\">Mah-na, Mah-na</a>\n",
      "<a href=\"/Mah-na%2C-Mah-na/10839656.item\">arr. Johnnie Vinson</a>\n",
      "<a href=\"/Mah-na%2C-Mah-na/10839656.item\">Hal Leonard Corporation</a>\n",
      "<a href=\"/Mah-na%2C-Mah-na/10839656.item\" class=\"view-details hide-650\">view details</a>\n",
      "<a href=\"/Mah-na%2C-Mah-na/10839656.item\" class=\"view-details show-650\">view details</a>\n",
      "<a href=\"/Mah-na%2C-Mah-na/10839656.item\">10839656</a>\n",
      "<a class=\"gaDetail10839656\" href=\"/sheet-music/score-preview.jsp?pepnum=10839656E\">10839656E</a>\n",
      "<a href=\"/sheet-music/services-guarantee.jsp?link=footer\">The Pepper Guarantee</a>\n",
      "<a href=\"/sheet-music/services-folder.jsp?link=footer\">Folder Imprinting</a>\n",
      "<a href=\"/sheet-music/accounts/cart-history.jsp?link=footer\" class=\"loginRequired footerloginRequired\">Track\n",
      "Your Order</a>\n",
      "<a href=\"/sheet-music/services-shipping-info.jsp?link=footer\">Shipping Info</a>\n",
      "<a href=\"/sheet-music/services-approval.jsp?link=footer\">Music on Approval</a>\n",
      "<a href=\"/sheet-music/services-returns.jsp?link=footer\">Returns</a>\n",
      "<a href=\"/sheet-music/services-tech-support.jsp?link=footer\">Technical Support</a>\n",
      "<a href=\"/sheet-music/services-contact.jsp?link=footer\">Contact Us</a>\n",
      "<a href=\"/sheet-music/music-insight-technology-system.jsp\" target=\"_blank\">MINTS</a>\n",
      "<a href=\"/ec/login.jsp\" target=\"_blank\">Editors' Choice</a>\n",
      "<a href=\"/sheet-music/services-basic-library.jsp?link=footer\">Basic Library</a>\n",
      "<a href=\"/sheet-music/services-worship-planning.jsp?link=footer\">Worship Planning</a>\n",
      "<a href=\"/sheet-music/services-state-festival.jsp?link=footer\">State &amp; Festival Lists</a>\n",
      "<a href=\"/sheet-music/mylibrary.jsp?link=footer\">My Library</a>\n",
      "<a href=\"/sheet-music/eprint-digital-sheet-music.jsp?link=footer\">ePrint</a>\n",
      "<a href=\"/sheet-music/large-print-edition-choral-music.jsp?link=footer\">Large Print Editions</a>\n",
      "<a href=\"/sheet-music/services-downloads.jsp?link=footer\">Downloads / MP3s</a>\n",
      "<a href=\"/sheet-music/pepnum.jsp?link=footer\">Order by Pepper #</a>\n",
      "<a href=\"/sheet-music/shop-by-publisher.jsp?link=footer\">Shop by Publisher</a>\n",
      "<a href=\"/sheet-music/services-catalogs.jsp?link=footer\">Catalogs</a>\n",
      "<a href=\"/sheet-music/services-gift-cards.jsp?link=footer\">Gift Cards</a>\n",
      "<a href=\"/since1876?link=footer\">Since 1876</a>\n",
      "<a href=\"http://blogs.jwpepper.com/\" target=\"_blank\">Our Blog</a>\n",
      "<a href=\"/sheet-music/regional/local-connections.jsp\">Local Connections</a>\n",
      "<a href=\"/sheet-music/careers.jsp\">Careers</a>\n",
      "<a href=\"http://www.wjpublications.com/wj/\" target=\"_blank\">Wingert-Jones Publications</a>\n",
      "<a href=\"/myscore?link=footer\">My Score</a>\n",
      "<a href=\"https://cuttime.net?utm_campaign=cuttimelaunch&amp;utm_medium=internal&amp;utm_source=jwpepperfooter\">Cut\n",
      "Time</a>\n",
      "<a href=\"/sheet-music/eprint-digital-sheet-music.jsp?link=footer#ePrintGo\">ePrintGo</a>\n",
      "<a href=\"/sheet-music/services-legal.jsp\">Terms of Service</a>\n",
      "<a href=\"/sheet-music/services-privacy.jsp\">Privacy</a>\n",
      "<a href=\"/sheet-music/services-accessibility-statement.jsp\">Accessibility Statement</a>\n",
      "<a href=\"/sheet-music/sitemap_jwp.jsp\">Site Map</a>\n"
     ]
    }
   ],
   "source": [
    "for el in selector.xpath(\".//*[not(child::*)]\"):\n",
    "    links_parent = el.xpath('ancestor::a|ancestor::button')\n",
    "    if links_parent:\n",
    "        continue\n",
    "        for link in links_parent:\n",
    "            print(link.extract())\n",
    "    else:\n",
    "        for link in el.css('a'):\n",
    "            print(link.extract())\n",
    "        for link in el.css('button'):\n",
    "            print(link.extract())"
   ]
  },
  {
   "cell_type": "markdown",
   "metadata": {},
   "source": [
    "## Function to loop file for testing"
   ]
  },
  {
   "cell_type": "code",
   "execution_count": 24,
   "metadata": {},
   "outputs": [],
   "source": [
    "def check_file_wellDownloaded(data, parser):\n",
    "    for idx,row in data.iterrows():\n",
    "        index = row['File Name']\n",
    "        page_selector = row['PREV']\n",
    "        encoding = row['Encoding']\n",
    "        f = open(html_dir+index+\".html\", \"r\", encoding=encoding)\n",
    "        file = f.read()\n",
    "        parser.feed(file)\n",
    "        print(f\"Index: {index}, Tag size: {len(parser.start_tags)}, Well Download: {parser.wellDownloaded}\")\n",
    "        parser._reset()"
   ]
  },
  {
   "cell_type": "code",
   "execution_count": 25,
   "metadata": {
    "scrolled": true
   },
   "outputs": [
    {
     "name": "stdout",
     "output_type": "stream",
     "text": [
      "Index: 1, Tag size: 189, Well Download: True\n",
      "Index: 2, Tag size: 188, Well Download: True\n",
      "Index: 3, Tag size: 301, Well Download: True\n",
      "Index: 4, Tag size: 308, Well Download: True\n",
      "Index: 5, Tag size: 562, Well Download: True\n",
      "Index: 6, Tag size: 567, Well Download: True\n",
      "Index: 7, Tag size: 620, Well Download: True\n",
      "Index: 8, Tag size: 696, Well Download: True\n",
      "Index: 9, Tag size: 520, Well Download: True\n",
      "Index: 10, Tag size: 2692, Well Download: True\n",
      "Index: 11, Tag size: 1750, Well Download: True\n",
      "Index: 12, Tag size: 1839, Well Download: True\n",
      "Index: 13, Tag size: 258, Well Download: True\n",
      "Index: 14, Tag size: 287, Well Download: True\n",
      "Index: 15, Tag size: 518, Well Download: True\n",
      "Index: 16, Tag size: 512, Well Download: True\n",
      "Index: 17, Tag size: 672, Well Download: True\n",
      "Index: 18, Tag size: 459, Well Download: True\n",
      "Index: 19, Tag size: 707, Well Download: True\n",
      "Index: 20, Tag size: 437, Well Download: True\n",
      "Index: 21, Tag size: 447, Well Download: True\n",
      "Index: 22, Tag size: 614, Well Download: True\n",
      "Index: 23, Tag size: 625, Well Download: True\n",
      "Index: 24, Tag size: 909, Well Download: True\n",
      "Index: 25, Tag size: 600, Well Download: True\n",
      "Index: 26, Tag size: 581, Well Download: True\n",
      "Index: 27, Tag size: 643, Well Download: True\n",
      "Index: 28, Tag size: 740, Well Download: True\n",
      "Index: 29, Tag size: 687, Well Download: True\n",
      "Index: 30, Tag size: 432, Well Download: True\n",
      "Index: 31, Tag size: 257, Well Download: True\n",
      "Index: 32, Tag size: 286, Well Download: True\n",
      "Index: 33, Tag size: 379, Well Download: True\n",
      "Index: 34, Tag size: 488, Well Download: True\n",
      "Index: 35, Tag size: 1257, Well Download: True\n",
      "Index: 36, Tag size: 409, Well Download: True\n",
      "Index: 37, Tag size: 532, Well Download: True\n",
      "Index: 38, Tag size: 447, Well Download: True\n",
      "Index: 39, Tag size: 778, Well Download: True\n",
      "Index: 40, Tag size: 533, Well Download: True\n",
      "Index: 41, Tag size: 538, Well Download: True\n",
      "Index: 42, Tag size: 544, Well Download: True\n",
      "Index: 43, Tag size: 533, Well Download: True\n",
      "Index: 44, Tag size: 778, Well Download: True\n",
      "Index: 45, Tag size: 784, Well Download: True\n",
      "Index: 46, Tag size: 849, Well Download: True\n",
      "Index: 47, Tag size: 701, Well Download: True\n",
      "Index: 48, Tag size: 701, Well Download: True\n",
      "Index: 49, Tag size: 701, Well Download: True\n",
      "Index: 50, Tag size: 701, Well Download: True\n",
      "Index: 51, Tag size: 1772, Well Download: True\n",
      "Index: 52, Tag size: 645, Well Download: True\n",
      "Index: 53, Tag size: 874, Well Download: True\n",
      "Index: 54, Tag size: 424, Well Download: True\n",
      "Index: 55, Tag size: 464, Well Download: True\n",
      "Index: 56, Tag size: 427, Well Download: True\n",
      "Index: 57, Tag size: 358, Well Download: True\n",
      "Index: 58, Tag size: 609, Well Download: True\n",
      "Index: 59, Tag size: 508, Well Download: True\n",
      "Index: 60, Tag size: 250, Well Download: True\n",
      "Index: 61, Tag size: 342, Well Download: True\n",
      "Index: 62, Tag size: 1636, Well Download: True\n",
      "Index: 63, Tag size: 517, Well Download: True\n",
      "Index: 64, Tag size: 855, Well Download: True\n",
      "Index: 65, Tag size: 318, Well Download: True\n",
      "Index: 66, Tag size: 786, Well Download: True\n",
      "Index: 67, Tag size: 964, Well Download: True\n",
      "Index: 68, Tag size: 610, Well Download: True\n",
      "Index: 69, Tag size: 1053, Well Download: True\n",
      "Index: 70, Tag size: 435, Well Download: True\n",
      "Index: 71, Tag size: 370, Well Download: True\n",
      "Index: 72, Tag size: 3, Well Download: True\n",
      "Index: 73, Tag size: 390, Well Download: True\n",
      "Index: 74, Tag size: 609, Well Download: True\n",
      "Index: 75, Tag size: 721, Well Download: True\n",
      "Index: 76, Tag size: 733, Well Download: True\n",
      "Index: 77, Tag size: 963, Well Download: True\n",
      "Index: 78, Tag size: 720, Well Download: True\n",
      "Index: 79, Tag size: 2307, Well Download: True\n",
      "Index: 80, Tag size: 489, Well Download: True\n",
      "Index: 81, Tag size: 341, Well Download: True\n",
      "Index: 82, Tag size: 413, Well Download: True\n",
      "Index: 83, Tag size: 779, Well Download: True\n",
      "Index: 84, Tag size: 1125, Well Download: True\n",
      "Index: 85, Tag size: 1157, Well Download: True\n",
      "Index: 86, Tag size: 365, Well Download: True\n",
      "Index: 87, Tag size: 667, Well Download: True\n",
      "Index: 88, Tag size: 71, Well Download: True\n",
      "Index: 89, Tag size: 501, Well Download: True\n",
      "Index: 90, Tag size: 693, Well Download: True\n",
      "Index: 91, Tag size: 338, Well Download: True\n",
      "Index: 92, Tag size: 377, Well Download: True\n",
      "Index: 93, Tag size: 4874, Well Download: True\n",
      "Index: 94, Tag size: 613, Well Download: True\n",
      "Index: 95, Tag size: 2328, Well Download: True\n",
      "Index: 96, Tag size: 448, Well Download: True\n",
      "Index: 97, Tag size: 348, Well Download: True\n",
      "Index: 98, Tag size: 964, Well Download: True\n",
      "Index: 99, Tag size: 330, Well Download: True\n",
      "Index: 100, Tag size: 536, Well Download: True\n"
     ]
    }
   ],
   "source": [
    "check_file_wellDownloaded(data, parser)"
   ]
  },
  {
   "cell_type": "code",
   "execution_count": 79,
   "metadata": {},
   "outputs": [],
   "source": [
    "def check_for_position_mapping(data, parser, tagParser):\n",
    "    print(\"Error List: \")\n",
    "    for idx,row in data.iterrows():\n",
    "        index = row['File Name']\n",
    "        encoding = row['Encoding']\n",
    "        f = open(html_dir+index+\".html\", \"r\", encoding=encoding)\n",
    "        file = f.read()\n",
    "        if position_check(file, parser, tagParser) != True:\n",
    "            print(f\"Index: {index}, Encoding: {encoding}\")\n",
    "    return"
   ]
  },
  {
   "cell_type": "code",
   "execution_count": 80,
   "metadata": {},
   "outputs": [
    {
     "name": "stdout",
     "output_type": "stream",
     "text": [
      "Error List: \n"
     ]
    }
   ],
   "source": [
    "check_for_position_mapping(data, parser, tagParser)"
   ]
  },
  {
   "cell_type": "code",
   "execution_count": 26,
   "metadata": {},
   "outputs": [],
   "source": [
    "def extract_data(index, selector_list, encoding):\n",
    "    has_wa = False\n",
    "    f = open(html_dir+index+\".html\", \"r\", encoding=encoding)\n",
    "    file = f.read()\n",
    "    selector = Selector(text=file)\n",
    "    data_list = []\n",
    "    for css_selector in selector_list:\n",
    "        extracted_data = selector.css(css_selector).extract()\n",
    "        if len(extracted_data) == 0:\n",
    "            has_wa = True\n",
    "        data_list.append(extracted_data)\n",
    "    if has_wa:\n",
    "        return []\n",
    "    else:\n",
    "        return data_list"
   ]
  },
  {
   "cell_type": "code",
   "execution_count": 27,
   "metadata": {},
   "outputs": [
    {
     "name": "stdout",
     "output_type": "stream",
     "text": [
      "Failed: []\n",
      "Page_failed: []\n"
     ]
    }
   ],
   "source": [
    "# Prev\n",
    "Failed = []\n",
    "Page_failed = []\n",
    "for idx,row in data.iterrows():\n",
    "    index = row['File Name']\n",
    "    page_selector = row['PREV']\n",
    "    encoding = row['Encoding']\n",
    "    if page_selector == 'N/A':\n",
    "        continue\n",
    "    else:\n",
    "        page_selector = page_selector.split(',')\n",
    "    try:\n",
    "        data_list = extract_data(index, page_selector, encoding)\n",
    "    except Exception as e:\n",
    "        Failed.append(index)\n",
    "        print(e)\n",
    "        continue\n",
    "    if len(data_list)==0:\n",
    "        Page_failed.append(index)\n",
    "print(f\"Failed: {Failed}\")\n",
    "print(f\"Page_failed: {Page_failed}\")"
   ]
  },
  {
   "cell_type": "code",
   "execution_count": 28,
   "metadata": {},
   "outputs": [
    {
     "name": "stdout",
     "output_type": "stream",
     "text": [
      "Failed: []\n",
      "Page_failed: []\n"
     ]
    }
   ],
   "source": [
    "# Page\n",
    "Failed = []\n",
    "Page_failed = []\n",
    "for idx,row in data.iterrows():\n",
    "    index = row['File Name']\n",
    "    page_selector = row['PAGE']\n",
    "    encoding = row['Encoding']\n",
    "    if page_selector == 'N/A':\n",
    "        continue\n",
    "    else:\n",
    "        page_selector = page_selector.split(',')\n",
    "    try:\n",
    "        data_list = extract_data(index, page_selector, encoding)\n",
    "    except:\n",
    "        Failed.append(index)\n",
    "        continue\n",
    "    if len(data_list)==0:\n",
    "        Page_failed.append(index)\n",
    "print(f\"Failed: {Failed}\")\n",
    "print(f\"Page_failed: {Page_failed}\")"
   ]
  },
  {
   "cell_type": "code",
   "execution_count": 29,
   "metadata": {},
   "outputs": [
    {
     "name": "stdout",
     "output_type": "stream",
     "text": [
      "Failed: []\n",
      "Page_failed: []\n"
     ]
    }
   ],
   "source": [
    "# Next\n",
    "Failed = []\n",
    "Page_failed = []\n",
    "for idx,row in data.iterrows():\n",
    "    index = row['File Name']\n",
    "    page_selector = row['NEXT']\n",
    "    encoding = row['Encoding']\n",
    "    if page_selector == 'N/A':\n",
    "        continue\n",
    "    else:\n",
    "        page_selector = page_selector.split(',')\n",
    "    try:\n",
    "        data_list = extract_data(index, page_selector, encoding)\n",
    "    except:\n",
    "        Failed.append(index)\n",
    "        continue\n",
    "    if len(data_list)==0:\n",
    "        Page_failed.append(index)\n",
    "print(f\"Failed: {Failed}\")\n",
    "print(f\"Page_failed: {Page_failed}\")"
   ]
  },
  {
   "cell_type": "code",
   "execution_count": 30,
   "metadata": {},
   "outputs": [
    {
     "name": "stdout",
     "output_type": "stream",
     "text": [
      "Failed: []\n",
      "Page_failed: []\n"
     ]
    }
   ],
   "source": [
    "# Last\n",
    "Failed = []\n",
    "Page_failed = []\n",
    "for idx,row in data.iterrows():\n",
    "    index = row['File Name']\n",
    "    page_selector = row['LAST']\n",
    "    encoding = row['Encoding']\n",
    "    if page_selector == 'N/A':\n",
    "        continue\n",
    "    else:\n",
    "        page_selector = page_selector.split(',')\n",
    "    try:\n",
    "        data_list = extract_data(index, page_selector, encoding)\n",
    "    except:\n",
    "        Failed.append(index)\n",
    "        continue\n",
    "    if len(data_list)==0:\n",
    "        Page_failed.append(index)\n",
    "print(f\"Failed: {Failed}\")\n",
    "print(f\"Page_failed: {Page_failed}\")"
   ]
  },
  {
   "cell_type": "code",
   "execution_count": 31,
   "metadata": {},
   "outputs": [
    {
     "name": "stdout",
     "output_type": "stream",
     "text": [
      "Failed: []\n",
      "Page_failed: []\n"
     ]
    }
   ],
   "source": [
    "# First\n",
    "Failed = []\n",
    "Page_failed = []\n",
    "for idx,row in data.iterrows():\n",
    "    index = row['File Name']\n",
    "    page_selector = row['FIRST']\n",
    "    encoding = row['Encoding']\n",
    "    if page_selector == 'N/A':\n",
    "        continue\n",
    "    else:\n",
    "        page_selector = page_selector.split(',')\n",
    "    try:\n",
    "        data_list = extract_data(index, page_selector, encoding)\n",
    "    except:\n",
    "        Failed.append(index)\n",
    "        continue\n",
    "    if len(data_list)==0:\n",
    "        Page_failed.append(index)\n",
    "print(f\"Failed: {Failed}\")\n",
    "print(f\"Page_failed: {Page_failed}\")"
   ]
  },
  {
   "cell_type": "code",
   "execution_count": null,
   "metadata": {},
   "outputs": [],
   "source": []
  }
 ],
 "metadata": {
  "kernelspec": {
   "display_name": "Python 3",
   "language": "python",
   "name": "python3"
  },
  "language_info": {
   "codemirror_mode": {
    "name": "ipython",
    "version": 3
   },
   "file_extension": ".py",
   "mimetype": "text/x-python",
   "name": "python",
   "nbconvert_exporter": "python",
   "pygments_lexer": "ipython3",
   "version": "3.6.9"
  }
 },
 "nbformat": 4,
 "nbformat_minor": 4
}
